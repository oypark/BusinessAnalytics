{
 "cells": [
  {
   "cell_type": "markdown",
   "metadata": {},
   "source": [
    "## 파이썬 스타일 코드1 - 연습해보기\n",
    "\n",
    "## 일반문제"
   ]
  },
  {
   "cell_type": "markdown",
   "metadata": {},
   "source": [
    "### 1. Css Selector 수정\n",
    "\n",
    "Css Selector는 웹 페이지에서 특정 요소를 선택하기 위해 해당 요소까지 찾아갈 수 있도록 해주는 주소와 같은 것이다. 대부분의 웹브라우져에서는 해당 요소에 대한 css selector 값을 쉬비게 얻어올 수 있다 (F12 > Select an Element). 다음과 같은 selector가 있다고 한다."
   ]
  },
  {
   "cell_type": "markdown",
   "metadata": {},
   "source": [
    "    #today_main_news > div.hdline_news > ul > li:nth-child(1)"
   ]
  },
  {
   "cell_type": "markdown",
   "metadata": {},
   "source": [
    "이러한 selector를 웹크롤링에서 사용하기 위해서는 :nth-child라는 부분을 제거하는 작업이 필요한데, 이를 자동화 해보자.\n",
    "\n",
    "> **Q**: 해당 Selector를 문자열로 표시하고, split과 join 함수를 활용하여 다음 예시와 같은 selector를 출력하시오.\n",
    "    \n",
    "### 출력결과 예시"
   ]
  },
  {
   "cell_type": "markdown",
   "metadata": {},
   "source": [
    "```python\n",
    "selector = \"#today_main_news > div.hdline_news > ul > li:nth-child(1)\"\n",
    "\n",
    "\n",
    "## CODE\n",
    "\n",
    "## '#today_main_news > div.hdline_news > ul > li'\n",
    "```"
   ]
  },
  {
   "cell_type": "markdown",
   "metadata": {},
   "source": [
    "### HINT\n",
    "\n",
    " 1. 특정 구분자(seperator)를 통해 구분된 리스트를 만든다.\n",
    " 2. 구분된 리스트에서 해당 부분을 선택하고 1과는 다른 특정 구분자로 나눠준다.\n",
    " 3. 2의 리스트에서 필요한 부분만 선택하여 기존 리스트에 할당한다.\n",
    " 4. 구분자를 기준으로 리스트를 문자열로 합쳐준다."
   ]
  },
  {
   "cell_type": "code",
   "execution_count": 4,
   "metadata": {},
   "outputs": [
    {
     "data": {
      "text/plain": [
       "'#today_main_news  >  div.hdline_news  >  ul  >  li'"
      ]
     },
     "execution_count": 4,
     "metadata": {},
     "output_type": "execute_result"
    }
   ],
   "source": [
    "selector = \"#today_main_news > div.hdline_news > ul > li:nth-child(1)\"   #selector에 문자열을 할당\n",
    "\n",
    "selector_list = selector.split(\">\")    #.split() 함수를 이용해 \">\"를 기준으로 구분하기\n",
    "selector_list[-1] = selector_list[-1].split(\":\")[0]\n",
    "#.split(\":\")을 이용해 \":\"를 기준으로 리스트를 구분하여 가장 처음 값('li')을 마지막에 넣어주기\n",
    "\n",
    "\" > \".join(selector_list)    #.join() 함수를 이용해 \" > \"를 기준으로 리스트를 문자열로 합치기"
   ]
  },
  {
   "cell_type": "markdown",
   "metadata": {},
   "source": [
    "## 2. list comprehension으로 만드는 구구단\n",
    "\n",
    "PR5 문제 3번에서 만들었던 구구단 계산기를 list comprehension으로 구현해보고자 한다.\n",
    "    \n",
    "> **Q**: list comprehension을 사용하여 구구단을 연산하는 함수 gugu_com을 작성하고 구구단 **2**단을 출력하시오.\n",
    "\n",
    "### 출력 결과 예시"
   ]
  },
  {
   "cell_type": "markdown",
   "metadata": {},
   "source": [
    "```python\n",
    "gugu_com(x=2)\n",
    "\n",
    "# 2 x 1 = 2\n",
    "# 2 x 2 = 4\n",
    "# 2 x 3 = 6\n",
    "# 2 x 4 = 8\n",
    "# 2 x 5 = 10\n",
    "# 2 x 6 = 12\n",
    "# 2 x 7 = 14\n",
    "# 2 x 8 = 16\n",
    "# 2 x 9 = 18\n",
    "```"
   ]
  },
  {
   "cell_type": "code",
   "execution_count": 5,
   "metadata": {
    "scrolled": true
   },
   "outputs": [
    {
     "name": "stdout",
     "output_type": "stream",
     "text": [
      "2 x 1 = 2\n",
      "2 x 2 = 4\n",
      "2 x 3 = 6\n",
      "2 x 4 = 8\n",
      "2 x 5 = 10\n",
      "2 x 6 = 12\n",
      "2 x 7 = 14\n",
      "2 x 8 = 16\n",
      "2 x 9 = 18\n"
     ]
    }
   ],
   "source": [
    "def gugu_com(x=2) :    #def를 이용해 gugu_com() 함수 만들기\n",
    "    [print(f\"{x} x {i} = {x*i}\") for i in range(1, 10)]\n",
    "    #f\"{변수명}\"를 이용해 문자열 포맷팅, i를 1부터 9까지 넣어 프린트하기 \n",
    "    \n",
    "gugu_com(2)    #x값으로 2할당하여 보여주기"
   ]
  },
  {
   "cell_type": "markdown",
   "metadata": {},
   "source": [
    "## 3. 두 주사위의 곱\n",
    "\n",
    "두 주사위의 곱은 다음과 같은 결과를 가진다.\n",
    "\n",
    "| X | 1 | 2  | 3  | 4  | 5  | 6  |\n",
    "|---|---|----|----|----|----|----|\n",
    "| 1 | 1 | 2  | 3  | 4  | 5  | 6  |\n",
    "| 2 | 2 | 4  | 6  | 8  | 10 | 12 |\n",
    "| 3 | 3 | 6  | 9  | 12 | 15 | 18 |\n",
    "| 4 | 4 | 8  | 12 | 16 | 20 | 24 |\n",
    "| 5 | 5 | 10 | 15 | 20 | 25 | 30 |\n",
    "| 6 | 6 | 12 | 18 | 24 | 30 | 36 |"
   ]
  },
  {
   "cell_type": "markdown",
   "metadata": {},
   "source": [
    "> **Q**: list comprehension을 사용하여, 힌트를 제외하고는 한줄의 코드로 해당 결과를 가지는 이차원 리스트를 만드시오.\n",
    "    \n",
    "### 출력결과 예시"
   ]
  },
  {
   "cell_type": "markdown",
   "metadata": {},
   "source": [
    "```python\n",
    "## CODE\n",
    "\n",
    "## [[1, 2, 3, 4, 5, 6],\n",
    "## [2, 4, 6, 8, 10, 12],\n",
    "## [3, 6, 9, 12, 15, 18],\n",
    "## [4, 8, 12, 16, 20, 24],\n",
    "## [5, 10, 15, 20, 25, 30],\n",
    "## [6, 12, 18, 24, 30, 36]]\n",
    "```"
   ]
  },
  {
   "cell_type": "markdown",
   "metadata": {},
   "source": [
    "### HINT\n",
    " \n",
    " 1. 한개의 주사위는 다음과 같이 표현할 수 있습니다.\n",
    "     \n",
    "     die = [i for i in range(1,7)]"
   ]
  },
  {
   "cell_type": "code",
   "execution_count": 6,
   "metadata": {},
   "outputs": [
    {
     "data": {
      "text/plain": [
       "[[1, 2, 3, 4, 5, 6],\n",
       " [2, 4, 6, 8, 10, 12],\n",
       " [3, 6, 9, 12, 15, 18],\n",
       " [4, 8, 12, 16, 20, 24],\n",
       " [5, 10, 15, 20, 25, 30],\n",
       " [6, 12, 18, 24, 30, 36]]"
      ]
     },
     "execution_count": 6,
     "metadata": {},
     "output_type": "execute_result"
    }
   ],
   "source": [
    "die = [i for i  in range(1,7)]    #die는 i에 1부터 6까지를 대입\n",
    "\n",
    "[[j*i for i in die] for j in die]\n",
    "#j가 i가 die에서 돌아가는 동안, j와 i의 곱셈값 리스트로 출력하기"
   ]
  },
  {
   "cell_type": "markdown",
   "metadata": {},
   "source": [
    "## 4. 두 주사위의 합\n",
    "\n",
    "간단한 테이블 형태의 데이터를 2차원 리스트로 표현해보자. 2개의 주사위를 굴리면 다음 표와 같이 36가지의 결과가 나온다.\n",
    "\n",
    "| + | 1 | 2 | 3 | 4  | 5  | 6  |\n",
    "|---|---|---|---|----|----|----|\n",
    "| 1 | 2 | 3 | 4 | 5  | 6  | 7  |\n",
    "| 2 | 3 | 4 | 5 | 6  | 7  | 8  |\n",
    "| 3 | 4 | 5 | 6 | 7  | 8  | 9  |\n",
    "| 4 | 5 | 6 | 7 | 8  | 9  | 10 |\n",
    "| 5 | 6 | 7 | 8 | 9  | 10 | 11 |\n",
    "| 6 | 7 | 8 | 9 | 10 | 11 | 12 |"
   ]
  },
  {
   "cell_type": "markdown",
   "metadata": {},
   "source": [
    "> **Q**: 이것을 6x6 크기의 2차원 리스트로 생성하고, 인덱싱을 통해 2 + 6의 값을 2가지 방법으로 나타내시오.(2차원 리스트 생성시 방법의 제한은 없습니다.)"
   ]
  },
  {
   "cell_type": "code",
   "execution_count": 7,
   "metadata": {},
   "outputs": [
    {
     "name": "stdout",
     "output_type": "stream",
     "text": [
      "8\n",
      "8\n"
     ]
    }
   ],
   "source": [
    "dice_sum = [[2, 3, 4, 5, 6, 7],\n",
    "            [3, 4, 5, 6, 7, 8],\n",
    "            [4, 5, 6, 7, 8, 9],\n",
    "            [5, 6, 7, 8, 9, 10],\n",
    "            [6, 7, 8, 9, 10, 11],\n",
    "            [7, 8, 9, 10, 11, 12]]\n",
    "            #dice_sum에 두 주사위의 합 리스트로 입력\n",
    "\n",
    "print(dice_sum[1][5]) #dice_sum에서 세로인덱스(row)가 1, 가로인덱스(column)가 5인 요소 출력\n",
    "print(dice_sum[5][1]) #dice_sum에서 세로인덱스가 5, 가로인덱스가 1인 요소 출력"
   ]
  },
  {
   "cell_type": "code",
   "execution_count": 8,
   "metadata": {},
   "outputs": [
    {
     "name": "stdout",
     "output_type": "stream",
     "text": [
      "8\n",
      "8\n"
     ]
    }
   ],
   "source": [
    "die = [i for i in range(1,7)]    #die는 i가 1부터 6까지 할당될 때 i값\n",
    "\n",
    "dice_sum = [[j+i for i in die] for j in die ]\n",
    "#dice_sum은 j와 i가 die에서 돌아가는 동안 j+i의 값\n",
    "\n",
    "print(dice_sum[1][5])\n",
    "print(dice_sum[5][1])"
   ]
  },
  {
   "cell_type": "markdown",
   "metadata": {},
   "source": [
    "## 도전문제\n",
    "***\n",
    "____\n",
    "\n",
    " \n",
    "  \n",
    "\n",
    "### 표절 검사 프로그램\n",
    "#### 강의노트 07 자료구조 collections 설명 참고\n",
    "\n",
    "아주대학교 글로벌 경영학과의 한 교수님은 과제의 표절 검사를 쉽게 하기 위해 Python을 통한 간단한 표절 검사 프로그램을 작성 해보고자 한다.\n",
    "\n",
    "현재 구상 중인 프로그램은 복잡한 알고리즘을 필요로하지 않고, 간단하게 단어 빈도를 기반으로 하여, 그 유사도를 측정하고자한다."
   ]
  },
  {
   "cell_type": "code",
   "execution_count": 11,
   "metadata": {
    "scrolled": true
   },
   "outputs": [],
   "source": [
    "from collections import defaultdict, Counter\n",
    "#collections 모듈에서 defaultdic, Counter 가져오기\n",
    "\n",
    "text = \"\"\"Python is a very simple programming language so even if you are new to programming, you can learn python without facing any issues.\"\"\"\n",
    "\n",
    "text2 = \"\"\"C is a very difficult programming language so even if you are good at programming, you can learn C with facing any issues.\"\"\"\n",
    "\n",
    "text3 = \"\"\"R Programming is good at statistical analysis. you can learn easily.\"\"\"\n",
    "#text, text2, text3에 각각 값 입력해주기\n",
    "#\"\"\" \"\"\"은 여러 단어를 입력할 때 사용"
   ]
  },
  {
   "cell_type": "markdown",
   "metadata": {},
   "source": [
    "### 문제1\n",
    "\n",
    "> Q: defaultdict를 활용하여 text를 입력받으면 단어별 빈도를 측정하여 반환하는 함수 word_counter를 만드시오.\n",
    "\n",
    "### HINT\n",
    "\n",
    " 1. collections 모듈의 defaultdict는 단순한 dict와 다르게, 인덱싱에서 key 값이 없으면 오류가 아닌 0을 기본 값으로 가지게 한다.\n",
    "\n",
    "```python\n",
    "word_dict = dict()\n",
    "word_dict[\"key\"]\n",
    "\n",
    "## KeyError\n",
    "\n",
    "word_dict = defaultdict(lambda: 0)\n",
    "word_dict[\"key\"]\n",
    "## 0\n",
    "\n",
    "word_dict[\"key\"] += 1\n",
    "word_dict[\"key\"]\n",
    "## 1\n",
    "```"
   ]
  },
  {
   "cell_type": "markdown",
   "metadata": {},
   "source": [
    " 1. 유사도 측정을 위해 문장을 단어별로 분할해야하며, 편의를 위해 모두 소문자로 바꿔준다.\n",
    "  - split\n",
    "  - lower"
   ]
  },
  {
   "cell_type": "code",
   "execution_count": 12,
   "metadata": {},
   "outputs": [],
   "source": [
    "def word_counter(text):    #word_counter 함수 만들기\n",
    "    word_count = defaultdict(lambda: 0)    #lambda를 0으로 해서 값이 없으면 0이 출력되게 함\n",
    "    for word in text.lower().split():\n",
    "            #text를 .split()으로 띄어쓰기를 기준으로 단어별로 분할,\n",
    "            #.lower()로 모두 소문자로 바꿔주어 word로 할당\n",
    "        word_count[word] += 1    #word_count는 word에 1 더하기\n",
    "        \n",
    "    return word_count    #word_count 값 가져오기"
   ]
  },
  {
   "cell_type": "code",
   "execution_count": 13,
   "metadata": {},
   "outputs": [
    {
     "data": {
      "text/plain": [
       "defaultdict(<function __main__.word_counter.<locals>.<lambda>()>,\n",
       "            {'python': 2,\n",
       "             'is': 1,\n",
       "             'a': 1,\n",
       "             'very': 1,\n",
       "             'simple': 1,\n",
       "             'programming': 1,\n",
       "             'language': 1,\n",
       "             'so': 1,\n",
       "             'even': 1,\n",
       "             'if': 1,\n",
       "             'you': 2,\n",
       "             'are': 1,\n",
       "             'new': 1,\n",
       "             'to': 1,\n",
       "             'programming,': 1,\n",
       "             'can': 1,\n",
       "             'learn': 1,\n",
       "             'without': 1,\n",
       "             'facing': 1,\n",
       "             'any': 1,\n",
       "             'issues.': 1})"
      ]
     },
     "execution_count": 13,
     "metadata": {},
     "output_type": "execute_result"
    }
   ],
   "source": [
    "word_counter(text)    #word_counter로 text의 단어별 빈도 측정"
   ]
  },
  {
   "cell_type": "markdown",
   "metadata": {},
   "source": [
    "### 문제2\n",
    "\n",
    "> **Q**: 도전문제 1의 word_counter 활용하여 text와 text2의 유사도와 text와 text3의 유사도를 구하시오.\n",
    "\n",
    "### HINT\n",
    "\n",
    " 1. collections 모듈의 Counter는 dict의 형태이지만 Counter들 간의 덧셈, 뺄셈 연산이 가능하며 defaultdict를 Counter로 변환할 수 있다.\n",
    "\n",
    "```python\n",
    "\n",
    "Counter({\"a\": 1, \"b\":2, \"c\": 3}) - Counter({\"a\": 1, \"b\":1, \"c\": 1})\n",
    "\n",
    "## Counter({\"b\":1, \"c\": 2})\n",
    "```\n",
    " 2. dictionary 형태의 모든 자료구조는 .values()를 통해 value 값만 추출할 수 있다.\n",
    " \n",
    "```python\n",
    "sum(Counter({\"a\": 1, \"b\":2, \"c\": 3}).values())\n",
    "# 전체 단어수 합\n",
    "\n",
    "## 6\n",
    "```\n",
    "\n",
    " 3. Counter(A)가 Counter(B)와 얼마나 유사한지는 다음과 같은 공식을 따른다고 한다.(시그마는 해당 Counter dict 안의 value 값을 모두 합하라는 의미)\n",
    " \n",
    " $$ \\left( 1 - \\frac{\\sum(Counter(A) - Counter(B))}{\\sum Counter(A)} \\right) \\times 100 $$"
   ]
  },
  {
   "cell_type": "code",
   "execution_count": 14,
   "metadata": {},
   "outputs": [],
   "source": [
    "def text_similarity(text_count_1, text_count_2):    \n",
    "                    #두 변수를 넣는 text_similarity 함수 만들기\n",
    "    text1_count = Counter(text_count_1)\n",
    "    text2_count = Counter(text_count_2)\n",
    "                    #text_count_1, 2에 받아온 값을 Counter()로 셀 수 있게 바꿔주기\n",
    "    \n",
    "    word_total = sum(text1_count.values())\n",
    "                    #첫번째 변수 값들만 모두 더하기\n",
    "    word_diff = sum((text1_count - text2_count).values())\n",
    "                    #첫번째 변수 값 - 두번째 변수 값을 모두 더하기\n",
    "    \n",
    "    return (1 - word_diff / word_total) * 100\n",
    "                    #유사성 구하는 공식 적용해서 가져오기\n"
   ]
  },
  {
   "cell_type": "code",
   "execution_count": 15,
   "metadata": {},
   "outputs": [
    {
     "data": {
      "text/plain": [
       "73.91304347826086"
      ]
     },
     "execution_count": 15,
     "metadata": {},
     "output_type": "execute_result"
    }
   ],
   "source": [
    "text_similarity(word_counter(text), word_counter(text2))\n",
    "#두 변수의 유사성 출력"
   ]
  },
  {
   "cell_type": "code",
   "execution_count": 16,
   "metadata": {},
   "outputs": [
    {
     "data": {
      "text/plain": [
       "21.739130434782606"
      ]
     },
     "execution_count": 16,
     "metadata": {},
     "output_type": "execute_result"
    }
   ],
   "source": [
    "text_similarity(word_counter(text), word_counter(text3))"
   ]
  },
  {
   "cell_type": "markdown",
   "metadata": {},
   "source": [
    "# 파이썬 스타일 코드2 - 연습해보기\n",
    "\n",
    "--\n",
    "\n",
    "# 실습코드\n",
    "\n",
    "***\n",
    "\n",
    "\n",
    "## 1. 람다함수\n",
    "\n",
    "  - 람다(lambda)함수는 함수의 이름 없이, 함수처럼 사용할 수 있는 익명의 함수를 말한다. 선형대수나 미적분 등의 과목을 수강하다 보면, 한 번쯤 람다 대수라는 표현을 들어 보았을 것이다. 람다 함수의 '람다'는 바로 이 람다 대수에서 유래하였다. 일반적으로 람다 함수는 이름을 지정하지 않아도 사용할 수 있다.\n",
    "  \n",
    "### 1.1. 기존 함수"
   ]
  },
  {
   "cell_type": "code",
   "execution_count": 17,
   "metadata": {},
   "outputs": [
    {
     "name": "stdout",
     "output_type": "stream",
     "text": [
      "5\n"
     ]
    }
   ],
   "source": [
    "def f(x,y):    #함수 f 만들기\n",
    "    return x + y    #x + y 값 가져오기\n",
    "\n",
    "print(f(1,4))"
   ]
  },
  {
   "cell_type": "markdown",
   "metadata": {},
   "source": [
    "### 1.2. lambda 함수 할당"
   ]
  },
  {
   "cell_type": "code",
   "execution_count": 18,
   "metadata": {},
   "outputs": [
    {
     "name": "stdout",
     "output_type": "stream",
     "text": [
      "5\n"
     ]
    }
   ],
   "source": [
    "f=lambda x,y: x + y    #함수 f에 lambda 함수 할당\n",
    "\n",
    "print(f(1,4))"
   ]
  },
  {
   "cell_type": "markdown",
   "metadata": {},
   "source": [
    "### 1.3. 익명의 lambda 함수"
   ]
  },
  {
   "cell_type": "code",
   "execution_count": 19,
   "metadata": {},
   "outputs": [
    {
     "name": "stdout",
     "output_type": "stream",
     "text": [
      "5\n"
     ]
    }
   ],
   "source": [
    "print((lambda x,y: x + y)(1, 4))    #함수 이름이 없음"
   ]
  },
  {
   "cell_type": "markdown",
   "metadata": {},
   "source": [
    "## 2. 맵리듀스\n",
    "\n",
    "## 2.1. map 함수\n",
    "\n",
    "연속 데이터를 저장하는 시퀀스 자료형에서 요소마다 같은 기능을 적용할 때 사용한다. 일반적으로 리스트나 튜플처럼 요소가 있는 시퀀스 자료형에 사용된다. 다음의 사용 예제를 보자."
   ]
  },
  {
   "cell_type": "code",
   "execution_count": 20,
   "metadata": {},
   "outputs": [
    {
     "name": "stdout",
     "output_type": "stream",
     "text": [
      "[1, 4, 9, 16, 25]\n"
     ]
    }
   ],
   "source": [
    "ex = [1,2,3,4,5]\n",
    "f = lambda x: x**2    #함수 f는 x의 제곱값\n",
    "\n",
    "print(list(map(f, ex)))"
   ]
  },
  {
   "cell_type": "markdown",
   "metadata": {},
   "source": [
    "  - 코드 설명\n",
    "   - 위 코드에서는 먼저 ex라는 이름의 리스트를 만들고, 입력된 값을 제곱하는 람다함수 f를 생성하였다. 그리고 'map(함수이름, 리스트 데이터)'의 구조에서 map(f,ex)코드를 실행한다. 이는 해당 코드로 **함수 f를 ex의 각 요소에 매핑하라는 뜻이다.**\n",
    "   - 파이썬 2.x와 3.x의 차이는 제너레이터의 사용인데 3.x 부터는 map()함수의 기본 반환이 제너레이터이므로 **list() 함수를 사용해야 리스트로 반환된다.**\n",
    "   - 제너레이터(generator)는 시퀀스 자료형의 데이터를 처리할 때, **실행 시점의 값을 생성하여 효율적으로 메모리를 관리**할 수 있다는 장점이 있다.\n",
    "   - 만일 list를 붙이지 않는다면, 다음 코드처럼 코딩할 수도 있다. 여기서 함수는 반드시 람다함수일 필요는 없고, **일반 함수를 만들어 사용해도 문제 없다.**"
   ]
  },
  {
   "cell_type": "code",
   "execution_count": 21,
   "metadata": {},
   "outputs": [
    {
     "name": "stdout",
     "output_type": "stream",
     "text": [
      "1\n",
      "4\n",
      "9\n",
      "16\n",
      "25\n"
     ]
    }
   ],
   "source": [
    "ex = [1,2,3,4,5]\n",
    "f=lambda x: x**2    #함수 f는 x의 제곱값\n",
    "for value in map(f,ex):    #value는 ex(1부터 5까지)의 제곱값일 때\n",
    "    print(value)"
   ]
  },
  {
   "cell_type": "markdown",
   "metadata": {},
   "source": [
    "  - 리스트 컴프리헨션과 비교\n",
    "\n",
    "**최근에는 람다함수나 map() 함수를 프로그램 개발에 사용하는 것을 권장하지 않는다.** 굳이 두 함수를 쓰지 않더라도 리스트 컴프리헨션 기법으로 얼마든지 같은 효과를 낼 수 있기 때문이다. **만약 위 코드를 리스트 컴프리헨션으로 변경하고자 한다면, 다음처럼 코딩하면 된다.**"
   ]
  },
  {
   "cell_type": "code",
   "execution_count": 22,
   "metadata": {},
   "outputs": [
    {
     "data": {
      "text/plain": [
       "[1, 4, 9, 16, 25]"
      ]
     },
     "execution_count": 22,
     "metadata": {},
     "output_type": "execute_result"
    }
   ],
   "source": [
    "ex = [1,2,3,4,5]\n",
    "[x**2 for x in ex]    #x가 1부터 5까지 일때, x의 2제곱 각각 구하기"
   ]
  },
  {
   "cell_type": "markdown",
   "metadata": {},
   "source": [
    "  - 한 개 이상의 시퀀스 자료형 데이터의 처리\n",
    "  \n",
    "map()함수는 2개 이상의 시퀀스 자료형 데이터를 처리하는 데도 문제가 없다."
   ]
  },
  {
   "cell_type": "code",
   "execution_count": 23,
   "metadata": {},
   "outputs": [
    {
     "data": {
      "text/plain": [
       "[2, 4, 6, 8, 10]"
      ]
     },
     "execution_count": 23,
     "metadata": {},
     "output_type": "execute_result"
    }
   ],
   "source": [
    "ex = [1,2,3,4,5]\n",
    "f=lambda x,y: x+y    #함수 f는 x,y값 더하기\n",
    "list(map(f,ex,ex))    #ex와 ex 더하여 리스트로 묶기"
   ]
  },
  {
   "cell_type": "code",
   "execution_count": 24,
   "metadata": {},
   "outputs": [
    {
     "data": {
      "text/plain": [
       "[2, 4, 6, 8, 10]"
      ]
     },
     "execution_count": 24,
     "metadata": {},
     "output_type": "execute_result"
    }
   ],
   "source": [
    "[x+y for x,y in zip(ex,ex)]    #리스트 컴프리헨션 용법"
   ]
  },
  {
   "cell_type": "markdown",
   "metadata": {},
   "source": [
    "### 2.2. reduce 함수\n",
    "\n",
    "  - map() 함수와 다르지만 형제처럼 사용하는 함수로 리스트와 같은 시퀀스 자료형에 차례대로 함수를 적용하여 모든 값을 통합하는 함수이다.\n",
    "  - lambda 함수와 함께 쓰여 좀 복잡해 보여 예전에는 많이 쓰였으나 최근 버전에서는 사용을 권장하지 않는다. 그러나 많은 코드들이 여전히 사용하고 있어 이해차원에서 배울 필요가 있다."
   ]
  },
  {
   "cell_type": "code",
   "execution_count": 25,
   "metadata": {},
   "outputs": [
    {
     "name": "stdout",
     "output_type": "stream",
     "text": [
      "15\n"
     ]
    }
   ],
   "source": [
    "from functools import reduce\n",
    "print(reduce(lambda x,y: x+y, [1,2,3,4,5]))"
   ]
  },
  {
   "cell_type": "markdown",
   "metadata": {},
   "source": [
    "  - 비교코드"
   ]
  },
  {
   "cell_type": "code",
   "execution_count": 26,
   "metadata": {},
   "outputs": [
    {
     "name": "stdout",
     "output_type": "stream",
     "text": [
      "15\n"
     ]
    }
   ],
   "source": [
    "x=0    #x는 0을 할당\n",
    "for y in [1,2,3,4,5]:\n",
    "    x += y    #x는 y가 1부터 5까지 일때, y를 모두 더한 값\n",
    "\n",
    "print(x)"
   ]
  },
  {
   "cell_type": "markdown",
   "metadata": {},
   "source": [
    "## 3. 별표의 활용\n",
    "\n",
    "### 3.1. 가변 인수로 활용\n",
    "\n",
    "  - 가변 인수"
   ]
  },
  {
   "cell_type": "code",
   "execution_count": 27,
   "metadata": {},
   "outputs": [
    {
     "name": "stdout",
     "output_type": "stream",
     "text": [
      "1 (2, 3, 4, 5, 6)\n",
      "<class 'tuple'>\n"
     ]
    }
   ],
   "source": [
    "def asterisk_test(a, *args):    \n",
    "    print(a, args)\n",
    "    print(type(args))    #가변 인수는 tuple 형태의 변수로 저장\n",
    "    \n",
    "asterisk_test(1,2,3,4,5,6)"
   ]
  },
  {
   "cell_type": "markdown",
   "metadata": {},
   "source": [
    "  - 키워드 가변 인수"
   ]
  },
  {
   "cell_type": "code",
   "execution_count": 28,
   "metadata": {},
   "outputs": [
    {
     "name": "stdout",
     "output_type": "stream",
     "text": [
      "1 {'b': 2, 'c': 3, 'd': 4, 'e': 5, 'f': 6}\n",
      "<class 'dict'>\n"
     ]
    }
   ],
   "source": [
    "def asterisk_test(a, **kargs):\n",
    "    print(a,kargs)\n",
    "    print(type(kargs))    #키워드 가변 인수는 dict 형태의 변수로 저장\n",
    "    \n",
    "asterisk_test(1,b=2, c=3, d=4, e=5, f=6)"
   ]
  },
  {
   "cell_type": "markdown",
   "metadata": {},
   "source": [
    "### 3.2. 별표의 언패킹 기능\n",
    "\n",
    "  - 함수에서의 사용"
   ]
  },
  {
   "cell_type": "code",
   "execution_count": 29,
   "metadata": {},
   "outputs": [
    {
     "name": "stdout",
     "output_type": "stream",
     "text": [
      "1 2 3 4 5 6\n",
      "<class 'tuple'>\n"
     ]
    }
   ],
   "source": [
    "def asterisk_test(a,args):\n",
    "    print(a,*args)    #args 언패킹해서 출력\n",
    "    print(type(args))\n",
    "    \n",
    "asterisk_test(1,(2,3,4,5,6))    #packing된 args 입력"
   ]
  },
  {
   "cell_type": "code",
   "execution_count": 30,
   "metadata": {},
   "outputs": [
    {
     "name": "stdout",
     "output_type": "stream",
     "text": [
      "1 (2, 3, 4, 5, 6)\n",
      "<class 'tuple'>\n"
     ]
    }
   ],
   "source": [
    "def asterisk_test(a,args):\n",
    "    print(a,args)    #args 그대로 출력\n",
    "    print(type(args))\n",
    "    \n",
    "asterisk_test(1,(2,3,4,5,6))    #packing된 args 입력"
   ]
  },
  {
   "cell_type": "markdown",
   "metadata": {},
   "source": [
    "  - 일반 자료형에서의 사용"
   ]
  },
  {
   "cell_type": "code",
   "execution_count": 31,
   "metadata": {},
   "outputs": [
    {
     "name": "stdout",
     "output_type": "stream",
     "text": [
      "[1, 2] [3, 4] [5, 6]\n",
      "[1, 2] [3, 4] [5, 6]\n"
     ]
    }
   ],
   "source": [
    "a,b,c=([1,2], [3,4], [5,6])    #a,b,c는 list 자료형\n",
    "print(a,b,c)\n",
    "\n",
    "data=([1,2], [3,4], [5,6])    #data는 tuple 자료형\n",
    "print(*data)"
   ]
  },
  {
   "cell_type": "markdown",
   "metadata": {},
   "source": [
    "  - zip 함수와의 응용"
   ]
  },
  {
   "cell_type": "code",
   "execution_count": 32,
   "metadata": {},
   "outputs": [
    {
     "name": "stdout",
     "output_type": "stream",
     "text": [
      "(1, 3, 5)\n",
      "<class 'tuple'>\n",
      "(2, 4, 6)\n",
      "<class 'tuple'>\n"
     ]
    }
   ],
   "source": [
    "for data in zip(*[[1,2], [3,4], [5, 6]]):\n",
    "                    #zip으로 동일한 개수로 이루어진 자료형 묶기\n",
    "    print(data)\n",
    "    print(type(data))"
   ]
  },
  {
   "cell_type": "markdown",
   "metadata": {},
   "source": [
    "  - 키워드 가변 인수 응용"
   ]
  },
  {
   "cell_type": "code",
   "execution_count": 33,
   "metadata": {},
   "outputs": [
    {
     "name": "stdout",
     "output_type": "stream",
     "text": [
      "10 1 2 3\n"
     ]
    }
   ],
   "source": [
    "def asterisk_test(a,b,c,d):\n",
    "    print(a,b,c,d)\n",
    "    \n",
    "data={\"b\":1, \"c\":2, \"d\":3}   #dict 형태로 data 저장\n",
    "asterisk_test(10, **data)    #data 언패킹해서 함수 적용"
   ]
  },
  {
   "cell_type": "markdown",
   "metadata": {},
   "source": [
    "## 4. 선형대수학\n",
    "\n",
    "### 4.1. 파이썬 스타일 코드로 표현한 벡터"
   ]
  },
  {
   "cell_type": "code",
   "execution_count": 34,
   "metadata": {},
   "outputs": [],
   "source": [
    "vector_a=[1,2,10]    #리스트로 표현한 경우\n",
    "vector_b=(1,2,10)    #튜플로 표현한 경우\n",
    "vector_c={'x':1, 'y':2, 'z':10}    #딕셔너리로 표현한 경우"
   ]
  },
  {
   "cell_type": "markdown",
   "metadata": {},
   "source": [
    "  - 벡터의 연산: 벡터합\n",
    "  \n",
    "        [2,2] + [2,3] + [3,5] = [7,10]"
   ]
  },
  {
   "cell_type": "code",
   "execution_count": 35,
   "metadata": {},
   "outputs": [
    {
     "name": "stdout",
     "output_type": "stream",
     "text": [
      "[7, 10]\n"
     ]
    }
   ],
   "source": [
    "u=[2,2]\n",
    "v=[2,3]\n",
    "z=[3,5]\n",
    "result=[]   #비어있는 리스트\n",
    "\n",
    "for i in range(len(u)):    #리스트 u의 길이는 2, i는 1부터 2까지\n",
    "    result.append(u[i]+v[i]+z[i])\n",
    "            #.append()를 이용하여 리스트 result에 요소추가\n",
    "print(result)\n"
   ]
  },
  {
   "cell_type": "code",
   "execution_count": 36,
   "metadata": {},
   "outputs": [
    {
     "name": "stdout",
     "output_type": "stream",
     "text": [
      "[7, 10]\n"
     ]
    }
   ],
   "source": [
    "u=[2,2]\n",
    "v=[2,3]\n",
    "z=[3,5]\n",
    "result=[sum(t) for t in zip(u,v,z)]\n",
    "                #zip으로 u,v,z를 묶어 같은 위치끼리 sum으로 더하기\n",
    "\n",
    "print(result)"
   ]
  },
  {
   "cell_type": "markdown",
   "metadata": {},
   "source": [
    "  - 별표를 사용한 함수화"
   ]
  },
  {
   "cell_type": "code",
   "execution_count": 37,
   "metadata": {},
   "outputs": [
    {
     "data": {
      "text/plain": [
       "[7, 10]"
      ]
     },
     "execution_count": 37,
     "metadata": {},
     "output_type": "execute_result"
    }
   ],
   "source": [
    "def vector_addition(*args):\n",
    "    return [sum(t) for t in zip(*args)]\n",
    "                    #unpacking을 통해 zip(u,v,z) 효과를 낼 수 있음\n",
    "    \n",
    "vector_addition(u,v,z)"
   ]
  },
  {
   "cell_type": "markdown",
   "metadata": {},
   "source": [
    "  - 간단한 두 벡터의 합"
   ]
  },
  {
   "cell_type": "code",
   "execution_count": 38,
   "metadata": {},
   "outputs": [
    {
     "data": {
      "text/plain": [
       "[3, 3]"
      ]
     },
     "execution_count": 38,
     "metadata": {},
     "output_type": "execute_result"
    }
   ],
   "source": [
    "a = [1, 1]\n",
    "b = [2, 2]\n",
    "\n",
    "[x + y for x, y in zip(a, b)]"
   ]
  },
  {
   "cell_type": "markdown",
   "metadata": {},
   "source": [
    "  - 벡터의 연산: 스칼라곱\n",
    "        \n",
    "        2([1,2,3] + [4,4,4]) = 2[5,6,7] = [10,12,14]"
   ]
  },
  {
   "cell_type": "code",
   "execution_count": 39,
   "metadata": {},
   "outputs": [
    {
     "data": {
      "text/plain": [
       "[10, 12, 14]"
      ]
     },
     "execution_count": 39,
     "metadata": {},
     "output_type": "execute_result"
    }
   ],
   "source": [
    "u=[1,2,3]\n",
    "v=[4,4,4]\n",
    "\n",
    "alpha=2\n",
    "\n",
    "result=[alpha*sum(t) for t in zip(u,v)]\n",
    "result"
   ]
  },
  {
   "cell_type": "markdown",
   "metadata": {},
   "source": [
    "### 4.2. 파이썬 스타일 코드로 표현한 행렬\n",
    "\n",
    "  - 딕셔너리로 표현하는 경우 좌표정보나 이름정보를 넣을 수 있으나 복잡함"
   ]
  },
  {
   "cell_type": "code",
   "execution_count": 40,
   "metadata": {},
   "outputs": [],
   "source": [
    "matrix_a=[[3,6], [4,5]]    #리스트로 표현한 경우\n",
    "matrix_b=[(3,6), (4,5)]    #튜플로 표현한 경우\n",
    "matrix_c={(0,0):3, (0,1):6, (1,0):4, (1,1):5}\n",
    "                            #딕셔너리로 표현한 경우"
   ]
  },
  {
   "cell_type": "markdown",
   "metadata": {},
   "source": [
    "  - 행렬의 연산: 행렬의 element-wise의 합"
   ]
  },
  {
   "cell_type": "code",
   "execution_count": 41,
   "metadata": {},
   "outputs": [
    {
     "name": "stdout",
     "output_type": "stream",
     "text": [
      "[[8, 14], [10, 12]]\n"
     ]
    }
   ],
   "source": [
    "matrix_a=[[3,6], [4,5]]\n",
    "matrix_b=[[5,8], [6,7]]\n",
    "\n",
    "result = [[sum(row) for row in zip(*t)] for t in zip(matrix_a, matrix_b)]\n",
    "print(result)\n",
    "\n",
    "#zip(matrix_a, matrix_b) == [([3,6], [5,8]), ([4,5], [6,7])]"
   ]
  },
  {
   "cell_type": "markdown",
   "metadata": {},
   "source": [
    "# 일반문제\n",
    "\n",
    "---\n",
    "\n",
    "## 주민등록번호로 성별 찾기 with map\n",
    "\n",
    "PR6에서 split을 활용하여 주민등록번호 뒷자리의 맨 첫 번째 숫자를 추출하여 성별을 알아내는 과정을 구현하였다. 이번에는 여러개의 요소를 가지는 다음과 같은 리스트에서 성별을 찾는 과정을 맵리듀스를 이용해 간단하게 구현해보자.\n",
    "\n",
    "```python\n",
    "pins = [\"891120-12334567\", \"931120-2335567\", \"911120-1234234\", \"961120-1234567\"]\n",
    "```\n",
    "> **Q**: lambda와 map을 사용하여 위의 리스트에서 출력결과 예시와 같이 성별을 나타내는 값을 추출하시오.\n",
    "\n",
    "### 출력결과 예시\n",
    "\n",
    "```python\n",
    "## CODE\n",
    "\n",
    "## ['1', '2', '1', '1']\n",
    "```\n",
    "\n",
    "### HINT\n",
    "\n",
    " 1. lambda 함수로 주민등록번호 문자열에서 성별을 추출하는 과정을 구현한다.\n",
    " 2. map 함수에 해당 lambda함수와 주민등록번호 리스트를 입력한다.\n",
    " 3. 실습코드 2.1.에서 map과 lambda를 어떻게 함께 사용하는지와 결과를 list로 출력하는 과정을 참고하세요."
   ]
  },
  {
   "cell_type": "code",
   "execution_count": 42,
   "metadata": {},
   "outputs": [
    {
     "data": {
      "text/plain": [
       "['1', '2', '1', '1']"
      ]
     },
     "execution_count": 42,
     "metadata": {},
     "output_type": "execute_result"
    }
   ],
   "source": [
    "pins = [\"891120-12334567\", \"931120-2335567\", \"911120-1234234\", \"961120-1234567\"]\n",
    "\n",
    "list(map(lambda x: x.split(\"-\")[1][0], pins))\n",
    "#pins를 \"-\"로 구분한 두번째 값의 첫번째 숫자들을 모두 가져와 묶기"
   ]
  },
  {
   "cell_type": "markdown",
   "metadata": {},
   "source": [
    "# 도전문제\n",
    "---\n",
    "\n",
    "## 벡터의 내적\n",
    "\n",
    "크기가 같은 두 벡터의 내적은 벡터의 각 성분별 곱한 값을 더해준 값이다.\n",
    "\n",
    "                V1 * W1 + ... + Vn * Wn\n",
    "        \n",
    "> **Q**: 크기가 같은 두 벡터 (list 형태)를 받으면 이를 내적한 값을 도출하는 함수 dot을 구현하고, 이를 활용하여 a=[1,2], b=[3,4]를 내적한 값을 구하시오.\n",
    "\n",
    "### HINT\n",
    "\n",
    " 1. **실습코드 4.1.** 에서는 벡터의 합과 곱에 대한 연산만을 다루고 있습니다. 이중 **간단한 벡터의 합** 에서 리스트 컴프리헨션을 사용한 방법에서 연산을 바꾸면 각 벡터별 곱을 간단히 구할 수 있습니다."
   ]
  },
  {
   "cell_type": "code",
   "execution_count": 43,
   "metadata": {},
   "outputs": [
    {
     "data": {
      "text/plain": [
       "11"
      ]
     },
     "execution_count": 43,
     "metadata": {},
     "output_type": "execute_result"
    }
   ],
   "source": [
    "a = [1, 2]\n",
    "b = [3, 4]\n",
    "\n",
    "dot = lambda a,b : sum([x*y for x, y in zip(a, b)])\n",
    "                    #a,b 벡터의 각 성분별 곱을 구한 후 더하기\n",
    "\n",
    "dot(a, b)"
   ]
  }
 ],
 "metadata": {
  "kernelspec": {
   "display_name": "Python 3",
   "language": "python",
   "name": "python3"
  },
  "language_info": {
   "codemirror_mode": {
    "name": "ipython",
    "version": 3
   },
   "file_extension": ".py",
   "mimetype": "text/x-python",
   "name": "python",
   "nbconvert_exporter": "python",
   "pygments_lexer": "ipython3",
   "version": "3.8.3"
  }
 },
 "nbformat": 4,
 "nbformat_minor": 4
}
