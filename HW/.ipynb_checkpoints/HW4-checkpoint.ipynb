{
 "cells": [
  {
   "cell_type": "markdown",
   "metadata": {},
   "source": [
    "# 4강. Numpy, Pandas\n",
    "\n",
    "#### 머신러닝을 위한 numpy와 pandas의 중요성\n",
    "\n",
    "## 1. Numpy\n",
    "\n",
    "### 1) Numpy\n",
    "* Numerical Python, 파이썬의 고성능 과학 계산용 패키지\n",
    "* Matrix와 Vector와 같은 Array 연산의 사실상 표준\n",
    "* 일반 List에 비해 빠르고, 메모리 효율적\n",
    "* 반복문 없이 데이터 배열에 대한 처리지원\n",
    "* 선형대수 관련 다양한 기능제공\n",
    "* C, C++, 포트란 등 언어와 통합가능\n",
    "\n",
    "### 2) 넘파이 ndarray\n",
    "* **ndarray** : N차원(Demension) 배열(Array) 객체\n",
    "    <img src=\"4-1.png\">\n",
    "    \n",
    "#### ① ndarray 생성\n",
    "* numpy 모듈의 array() 함수로 생성\n",
    "* 인자로 주로 파이썬 list 또는 ndarray 입력"
   ]
  },
  {
   "cell_type": "code",
   "execution_count": 3,
   "metadata": {},
   "outputs": [
    {
     "name": "stdout",
     "output_type": "stream",
     "text": [
      "[1 2 3]\n",
      "[[1 2 3]\n",
      " [4 5 6]]\n"
     ]
    }
   ],
   "source": [
    "#numpy 불러오기\n",
    "import numpy as np\n",
    "\n",
    "array1 = np.array([1,2,3])    #1차원 배열\n",
    "array2 = np.array([[1,2,3],   #2차원 배열\n",
    "                  [4,5,6]])\n",
    "\n",
    "print(array1)\n",
    "print(array2)"
   ]
  },
  {
   "cell_type": "markdown",
   "metadata": {},
   "source": [
    "#### ② ndarray 차원과 형태(shape)\n",
    "* ndarray의 형태(shape)은 ndarray.shape의 속성으로, 차원은 ndarray.ndim 속성으로 알 수 있음"
   ]
  },
  {
   "cell_type": "code",
   "execution_count": 4,
   "metadata": {},
   "outputs": [
    {
     "name": "stdout",
     "output_type": "stream",
     "text": [
      "(3,)\n",
      "(2, 3)\n",
      "1\n",
      "2\n"
     ]
    }
   ],
   "source": [
    "print(array1.shape)    #1차원 배열은 (x,)형식 = 열 자리를 비워놓음\n",
    "print(array2.shape)\n",
    "\n",
    "print(array1.ndim)\n",
    "print(array2.ndim)"
   ]
  },
  {
   "cell_type": "markdown",
   "metadata": {},
   "source": [
    "#### ③ ndarray 타입(type)\n",
    "* ndarray 내의 데이터값은 숫자, 문자열, 불 값 모두 가능\n",
    "* 숫자형의 경우 int형(8,16,32bit), unsigned int형(8,16,32bit), float형(16,32,64,128bit), 그리고 더 큰 숫자값이나 정밀도를 위해 complex 타입도 제공\n",
    "* **ndarray 내의 데이터 타입은 그 연산의 특성상 같은 데이터 타입만 가능. 즉, 한개의 ndarray 객체에 int와 float이 함께 있을 수 없음.**\n",
    "* ndarray 내의 데이터 타입은 ndarray.dtype 속성으로 확인가능"
   ]
  },
  {
   "cell_type": "code",
   "execution_count": 5,
   "metadata": {},
   "outputs": [
    {
     "name": "stdout",
     "output_type": "stream",
     "text": [
      "[1 2 3]\n",
      "[1.1 2.1 3.1]\n",
      "['홍길동' ' 임꺽정']\n",
      "[ True False  True]\n",
      "[1.  2.  3.5]\n",
      "float64\n",
      "['1' '정수']\n",
      "<U11\n",
      "[1.5 1. ]\n",
      "float64\n",
      "[1 1]\n",
      "int32\n",
      "['False' '정수']\n",
      "<U5\n"
     ]
    }
   ],
   "source": [
    "int_ar = np.array([1,2,3])\n",
    "float_ar = np.array([1.1, 2.1, 3.1])\n",
    "string_ar = np.array(['홍길동', ' 임꺽정'])\n",
    "logic_ar = np.array([True, False, True])\n",
    "\n",
    "print(int_ar)\n",
    "print(float_ar)\n",
    "print(string_ar)\n",
    "print(logic_ar)\n",
    "\n",
    "int_float_ar = np.array([1,2,3.5])  #정수, 실수의 데이터가 함께 들어간 경우\n",
    "print(int_float_ar)   #정수 데이터도 실수로 바뀜\n",
    "print(int_float_ar.dtype)\n",
    "\n",
    "int_string_ar = np.array([1, '정수'])  #정수, 문자열 데이터가 함께 들어간 경우\n",
    "print(int_string_ar)   #정수 데이터가 문자열로 바뀜\n",
    "print(int_string_ar.dtype)\n",
    "\n",
    "float_logic_ar = np.array([1.5, True])  #실수, 불 값이 같이 들어간 경우\n",
    "print(float_logic_ar)    #불 값이 실수로 바뀜\n",
    "print(float_logic_ar.dtype)\n",
    "\n",
    "int_logic_ar = np.array([1, True])  #정수, 불 값이 같이 들어간 경우\n",
    "print(int_logic_ar)    #불 값이 정수로 바뀜\n",
    "print(int_logic_ar.dtype)\n",
    "\n",
    "logic_string_ar = np.array([False, '정수'])  #불 값, 문자열 데이터가 함께 들어간 경우\n",
    "print(logic_string_ar)   #불 값이 문자열로 바뀜\n",
    "print(logic_string_ar.dtype)"
   ]
  },
  {
   "cell_type": "markdown",
   "metadata": {},
   "source": [
    "* **ndarray type을 변환하기: astype() 함수에 변경 원하는 타입을 인자로 입력하면 가능**\n",
    "* 대용량 데이터를 ndarray로 만들 때 메모리를 절약하기 위해 자주 사용. 0,1,2와 같이 크지 않은 범위의 숫자를 위해 float64보다는 int8 또는 16으로 변환하는 것이 훨씬 많은 메모리 절약."
   ]
  },
  {
   "cell_type": "code",
   "execution_count": 6,
   "metadata": {},
   "outputs": [
    {
     "name": "stdout",
     "output_type": "stream",
     "text": [
      "float64\n",
      "int32\n"
     ]
    }
   ],
   "source": [
    "array_type = np.array([0,1,2], dtype = np.float64)   #dtype으로 데이터 타입을 지정해줌\n",
    "print(array_type.dtype)\n",
    "\n",
    "array_type = array_type.astype('int')   #astype() 함수로 데이터 타입 정수로 변환\n",
    "print(array_type.dtype)"
   ]
  },
  {
   "cell_type": "markdown",
   "metadata": {},
   "source": [
    "#### ④ ndarray의 aixs(축)\n",
    "* ndarray의 shape은 행,열,높이 단위가 아니라 axis0, axis1, axis2와 같이 aixs 단위로 부여됨\n",
    "    <img src=\"4-2.png\">\n",
    "    \n",
    "#### ⑤ ndarray 편리하게 생성하기: arange, zeros, ones\n",
    "* 특정 크기와 차원을 가진 ndarray를 연속값, 0 또는 1로 초기화 생성해야할 경우 arange(), zeros(), ones() 함수를 이용할 수 있음\n",
    "* 주로 테스트용으로 데이터를 만들거나 대규모의 데이터를 일괄적으로 초기화할 경우에 사용"
   ]
  },
  {
   "cell_type": "code",
   "execution_count": 7,
   "metadata": {},
   "outputs": [
    {
     "name": "stdout",
     "output_type": "stream",
     "text": [
      "[0 1 2 3 4 5 6 7 8 9]\n",
      "[[0 0]\n",
      " [0 0]\n",
      " [0 0]]\n",
      "[[1 1]\n",
      " [1 1]\n",
      " [1 1]]\n"
     ]
    }
   ],
   "source": [
    "a1 = np.arange(10)   #0부터 9까지 10개 벡터 만들기\n",
    "a2 = np.zeros((3,2), dtype='int32')\n",
    "a3 = np.ones((3,2), dtype='int')\n",
    "#zeros()와 ones()모두 dtype 지정안해주면 float가 기본\n",
    "\n",
    "print(a1)\n",
    "print(a2)\n",
    "print(a3)"
   ]
  },
  {
   "cell_type": "markdown",
   "metadata": {},
   "source": [
    "#### ⑥ ndarray 차원의 크기를 변경하는 reshape()\n",
    "* reshape()는 ndarray를 특정 차원 및 형태로 변환하며 변환 형태를 인자로 부여하면 됨."
   ]
  },
  {
   "cell_type": "code",
   "execution_count": 8,
   "metadata": {},
   "outputs": [
    {
     "name": "stdout",
     "output_type": "stream",
     "text": [
      "[0 1 2 3 4 5 6 7 8 9]\n",
      "[[0 1 2 3 4]\n",
      " [5 6 7 8 9]]\n"
     ]
    }
   ],
   "source": [
    "print(a1)   #a1의 shape은 (10,)\n",
    "\n",
    "print(a1.reshape(2,5))   #(2,5)로 변환"
   ]
  },
  {
   "cell_type": "markdown",
   "metadata": {},
   "source": [
    "* reshape(-1,5)와 같이 인자에 -1을 부여하면 -1에 해당하는 axis의 크기는 가변적으로, 나머지 인자는 해당 크기로 고정하여 shape을 반환하게 됨."
   ]
  },
  {
   "cell_type": "code",
   "execution_count": 9,
   "metadata": {},
   "outputs": [
    {
     "name": "stdout",
     "output_type": "stream",
     "text": [
      "[0 1 2 3 4 5 6 7 8 9]\n",
      "[[0 1 2 3 4]\n",
      " [5 6 7 8 9]]\n",
      "[[0 1 2 3 4]\n",
      " [5 6 7 8 9]]\n"
     ]
    }
   ],
   "source": [
    "print(a1)\n",
    "\n",
    "print(a1.reshape(-1,5))   #두 방법 모두 같은 결과\n",
    "print(a1.reshape(2,-1))\n",
    "#2차원 배열에서는 한 인자의 값이 정해지면 나머지 인자는 무조건 다른 하나의 값을 가질 수 밖에 없음"
   ]
  },
  {
   "cell_type": "markdown",
   "metadata": {},
   "source": [
    "* reshape()은 reshape(-1,1), reshape(-1,)과 같은 형식으로 변환이 요구되는 경우가 많음\n",
    "* 주로 머신러닝 API의 인자로 1차원 ndarray 내의 데이터 값을 모두 2차원 ndarray로 변환하거나, 반대의 경우가 있을 경우 reshape()을 이용하여 형태를 변환시켜줌"
   ]
  },
  {
   "cell_type": "code",
   "execution_count": 10,
   "metadata": {},
   "outputs": [
    {
     "name": "stdout",
     "output_type": "stream",
     "text": [
      "[0 1 2 3 4]\n",
      "[[0]\n",
      " [1]\n",
      " [2]\n",
      " [3]\n",
      " [4]]\n",
      "[[0]\n",
      " [1]\n",
      " [2]\n",
      " [3]\n",
      " [4]]\n",
      "[0 1 2 3 4]\n"
     ]
    }
   ],
   "source": [
    "array1d = np.array([0,1,2,3,4])  #1차원 배열\n",
    "print(array1d)\n",
    "print(array1d.reshape(-1,1))  #컬럼 aixs 크기가 1로 고정된 2차원 배열로 형태 변환\n",
    "\n",
    "array2d = np.array([[0], [1], [2], [3], [4]])\n",
    "print(array2d)\n",
    "print(array2d.reshape(-1,))"
   ]
  },
  {
   "cell_type": "markdown",
   "metadata": {},
   "source": [
    "### 3) ndarray의 데이터셋 선택하기: 인덱싱(indexing)\n",
    "|          인덱싱 유형          |                                                                                               설명                                                                                              |\n",
    "|:-----------------------------:|:-----------------------------------------------------------------------------------------------------------------------------------------------------------------------------------------------:|\n",
    "|    특정 위치 단일값 추출    |                                                            원하는 위치의 인덱스 값을 []안에 넣어 지정하면 해당 위치의 데이터가 반환됨                                                           |\n",
    "|       슬라이싱(slicing)       | 연속된 인덱스의 ndarray를 추출하는 방식. '시작인덱스:종료인덱스'의 형식으로 표시하면 시작위치부터 종료위치-1 까지의 ndarray를 반환함. 예를 들어 1:5는 1부터 4(5-1)까지에 해당하는 ndarray 반환. |\n",
    "|  팬시 인덱싱(Fancy indexing)  |                                                일정한 인덱싱 집합을 리스트 또는 ndarray 형태로 지정하고, 해당 위치에 있는 ndarray를 반환하는 방식                                               |\n",
    "| 불린 인덱싱(Boolean indexing) |                                      특정 조건을 입력하면 해당 조건의 True/False 값을 인덱싱 집합으로 만들어 True에 해당하는 인덱스 위치의 ndarray를 반환함                                     |"
   ]
  },
  {
   "cell_type": "markdown",
   "metadata": {},
   "source": [
    "#### ① 단일 값 추출 - 1차원 ndarray\n",
    "* ndarray는 aixs를 기준으로 0부터 시작하는 위치 인덱스 값을 가지고 있음. 해당 인덱스 값을 []에 명시하여 단일 값을 추출할 수 있음.\n",
    "* 마이너스가 인덱스 값으로 사용되면 맨 뒤에서 부터 위치를 지정함. 맨뒤는 array[-1], 그 다음은 array[-2], ...\n",
    "    <img src=\"4-3.png\">"
   ]
  },
  {
   "cell_type": "code",
   "execution_count": 11,
   "metadata": {},
   "outputs": [
    {
     "name": "stdout",
     "output_type": "stream",
     "text": [
      "[1 2 3 4 5 6 7 8 9]\n",
      "1\n",
      "4\n",
      "9\n",
      "9\n"
     ]
    }
   ],
   "source": [
    "array1 = np.array([1,2,3,4,5,6,7,8,9])\n",
    "print(array1)\n",
    "\n",
    "print(array1[0])   #1\n",
    "print(array1[3])   #4\n",
    "print(array1[8])   #9\n",
    "print(array1[-1])  #위와 같이 9"
   ]
  },
  {
   "cell_type": "markdown",
   "metadata": {},
   "source": [
    "#### ① 단일 값 추출 - 2차원 ndarray"
   ]
  },
  {
   "cell_type": "code",
   "execution_count": 12,
   "metadata": {},
   "outputs": [
    {
     "name": "stdout",
     "output_type": "stream",
     "text": [
      "[[1 2 3]\n",
      " [4 5 6]\n",
      " [7 8 9]]\n",
      "1\n",
      "2\n",
      "4\n",
      "9\n",
      "9\n"
     ]
    }
   ],
   "source": [
    "array2d = np.array([[1,2,3], [4,5,6], [7,8,9]])\n",
    "print(array2d)\n",
    "\n",
    "print(array2d[0,0])   #1\n",
    "print(array2d[0,1])   #2\n",
    "print(array2d[1,0])   #4\n",
    "print(array2d[2,2])   #9\n",
    "print(array2d[2,-1])  #위와 같은 결과"
   ]
  },
  {
   "cell_type": "markdown",
   "metadata": {},
   "source": [
    "#### ② 슬라이싱(Slicing) - 1차원 ndarray\n",
    "* 시작인덱싱:종료인덱싱-1(=종료위치)"
   ]
  },
  {
   "cell_type": "code",
   "execution_count": 13,
   "metadata": {},
   "outputs": [
    {
     "name": "stdout",
     "output_type": "stream",
     "text": [
      "[1 2 3]\n",
      "[1 2 3]\n",
      "[5 6 7 8 9]\n",
      "[1 2 3 4 5 6 7 8 9]\n"
     ]
    }
   ],
   "source": [
    "print(array1[0:3])   #인덱싱 0부터 2까지 추출\n",
    "print(array1[:3])    #위와 같은 결과\n",
    "print(array1[4:9])   #인덱싱 4부터 8까지 추출\n",
    "print(array1[:])     #모두 추출"
   ]
  },
  {
   "cell_type": "markdown",
   "metadata": {},
   "source": [
    "#### ② 슬라이싱(Slicing) - 2차원 ndarray"
   ]
  },
  {
   "cell_type": "code",
   "execution_count": 14,
   "metadata": {},
   "outputs": [
    {
     "name": "stdout",
     "output_type": "stream",
     "text": [
      "[[1 2]\n",
      " [4 5]]\n",
      "[[4 5 6]\n",
      " [7 8 9]]\n",
      "[[4 5 6]\n",
      " [7 8 9]]\n",
      "[[1 2 3]\n",
      " [4 5 6]\n",
      " [7 8 9]]\n",
      "[[2 3]\n",
      " [5 6]]\n",
      "[1 4]\n"
     ]
    }
   ],
   "source": [
    "print(array2d[0:2, 0:2])   #인덱싱 0,1행 0,1열 추출\n",
    "print(array2d[1:3, 0:3])   #인덱싱 1,2행 0,1,2열 추출\n",
    "print(array2d[1:3, :])     #위와 같은 결과\n",
    "print(array2d[:, :])       #모두 추출\n",
    "print(array2d[:2, 1:])     #인덱싱 0,1행 1,2열 추출\n",
    "print(array2d[:2, 0])      #인덱싱 0,1행 0열 추출"
   ]
  },
  {
   "cell_type": "markdown",
   "metadata": {},
   "source": [
    "#### ③ 팬시 인덱싱 - 1차원 ndarray\n",
    "* 리스트나 ndarray로 인덱스 집합을 지정하면, 해당 위치의 인덱스에 해당하는 ndarray를 반환하는 방식\n",
    " <img src=\"4-4.png\">"
   ]
  },
  {
   "cell_type": "code",
   "execution_count": 15,
   "metadata": {},
   "outputs": [
    {
     "name": "stdout",
     "output_type": "stream",
     "text": [
      "[1 2 3 4 5 6 7 8 9]\n",
      "[3 5 8]\n",
      "[3 5 8]\n"
     ]
    }
   ],
   "source": [
    "print(array1)\n",
    "\n",
    "#print(array1[2,4,7])     #에러남\n",
    "\n",
    "index = np.array([2,4,7]) #index를 ndarray로 지정하고\n",
    "print(array1[index])      #array1에서 index로 사용\n",
    "\n",
    "print(array1[[2,4,7]])   #위와 같은 결과"
   ]
  },
  {
   "cell_type": "code",
   "execution_count": 16,
   "metadata": {},
   "outputs": [],
   "source": [
    "#### ③ 팬시 인덱싱 - 2차원 ndarray"
   ]
  },
  {
   "cell_type": "code",
   "execution_count": 17,
   "metadata": {},
   "outputs": [
    {
     "name": "stdout",
     "output_type": "stream",
     "text": [
      "[[1 2 3]\n",
      " [4 5 6]\n",
      " [7 8 9]]\n",
      "[3 6]\n",
      "[[3]\n",
      " [6]]\n",
      "[[1 2]\n",
      " [4 5]]\n",
      "[[1 2 3]\n",
      " [4 5 6]]\n",
      "[[1 2 3]\n",
      " [4 5 6]]\n",
      "[[1 2]\n",
      " [4 5]\n",
      " [7 8]]\n"
     ]
    }
   ],
   "source": [
    "print(array2d)\n",
    "\n",
    "print(array2d[[0,1],2])     #차원 깨짐 주의!\n",
    "print(array2d[[0,1],2:])    #이렇게 해야 2차원 배열 유지\n",
    "\n",
    "print(array2d[[0,1],0:2])   #행0,1, 열0,1 추출\n",
    "\n",
    "print(array2d[[0,1]])       #행0,1, 열은 전체 추출\n",
    "print(array2d[[0,1],])      #위와 같은 결과\n",
    "\n",
    "#print(array2d[,[0,1]])     #에러남.. 행은 무적권 적어야 하나봄\n",
    "print(array2d[:,[0,1]])     #이건 원하는대로 출력됨"
   ]
  },
  {
   "cell_type": "markdown",
   "metadata": {},
   "source": [
    "#### ④ 불린 인덱싱\n",
    "* 불린 인덱싱은 조건 필터링과 검색을 동시에 할 수 있어 매우 자주 사용되는 방식\n",
    "> Q. ndarray 내 값이 5보다 큰 ndarray를 추출하고자 한다면?"
   ]
  },
  {
   "cell_type": "code",
   "execution_count": 18,
   "metadata": {},
   "outputs": [
    {
     "name": "stdout",
     "output_type": "stream",
     "text": [
      "[6 7 8 9]\n",
      "[6 7 8 9]\n"
     ]
    }
   ],
   "source": [
    "#불린 인덱싱을 사용하지 않은 경우\n",
    "array1d = np.arange(start=1, stop=10)\n",
    "target=[]\n",
    "\n",
    "for i in range(0,9):    #0부터 9까지 10번 반복\n",
    "    if array1d[i]>5:    #array1d에서 5보다 크면\n",
    "        target.append(array1d[i])    #target에 붙이기\n",
    "        \n",
    "array_selected = np.array(target)   #target으로 ndarray만들기\n",
    "print(array_selected)   #출력\n",
    "\n",
    "#불린 인덱싱을 사용한 경우\n",
    "print(array1[array1>5])   #한 줄로 가능"
   ]
  },
  {
   "cell_type": "markdown",
   "metadata": {},
   "source": [
    "* **불린 인덱싱의 메커니즘**\n",
    "<img src=\"4-5.png\">\n",
    "    \n",
    "### 4) 배열의 정렬: sort(), argsort()\n",
    "\n",
    "#### ① sort()\n",
    "* Numpy sort() 유형\n",
    "  * **np.sort(): 원 행렬은 유지, 정렬된 행렬을 새로 만들어서 반환\n",
    "  * **ndarray.sort(): 원 행렬 자체를 정렬한 형태로 변환, 반환 값은 None\n",
    "  * np.sort(), ndarray.sort() 모두 기본적으로 오름차순으로 행렬 내 원소를 정렬.\n",
    "  * **내림차순**으로 정렬하려면 **np.sort() 뒤에 '[::-1]'** 을 붙이면 됨. **ndarray.sort()는** 반환 값이 없으므로 **'[::-1]' 사용불가.**\n",
    "\n",
    "* 1차원 배열에서의 sort()"
   ]
  },
  {
   "cell_type": "code",
   "execution_count": 19,
   "metadata": {},
   "outputs": [
    {
     "name": "stdout",
     "output_type": "stream",
     "text": [
      "[1 2 3 4 5 6 7 8 9]\n",
      "[1 2 3 4 5 6 7 8 9]\n",
      "[9 8 7 6 5 4 3 2 1]\n",
      "[1 2 3 4 5 6 7 8 9]\n"
     ]
    }
   ],
   "source": [
    "#np.sort()\n",
    "print(array1)  #array1은 오름차순 정렬\n",
    "print(np.sort(array1))  #오름차순 정렬 -> 변화 없음\n",
    "array1 = np.sort(array1)[::-1]   #내림차순 정렬\n",
    "print(array1)   # -> 9부터 1까지로 정렬됨\n",
    "\n",
    "#.sort()\n",
    "array1.sort()   # 오름차순으로 정렬\n",
    "print(array1)   # -> 1부터 9까지로 정렬됨"
   ]
  },
  {
   "cell_type": "markdown",
   "metadata": {},
   "source": [
    "* 2차원 배열에서 axis 기반의 sort()\n",
    "<img src=\"4-6.png\">"
   ]
  },
  {
   "cell_type": "code",
   "execution_count": 20,
   "metadata": {},
   "outputs": [
    {
     "name": "stdout",
     "output_type": "stream",
     "text": [
      "[[ 8 12]\n",
      " [ 7 13]]\n",
      "[[ 7 12]\n",
      " [ 8 13]]\n",
      "[[ 8 12]\n",
      " [ 7 13]]\n",
      "[[ 8 13]\n",
      " [ 7 12]]\n",
      "[[ 7 13]\n",
      " [ 8 12]]\n"
     ]
    }
   ],
   "source": [
    "#2차원 배열A 생성\n",
    "A = np.array([[8,12],\n",
    "             [7,13]])\n",
    "print(A)\n",
    "\n",
    "print(np.sort(A, axis=0)) #axis=0, 행을 기준으로 위에서 아래로 오름차순 정렬\n",
    "print(np.sort(A, axis=1)) #axis=1, 열을 기준으로 왼쪽에서 오른쪽으로 오름차순 정렬\n",
    "\n",
    "print(np.sort(A, axis=0)[::-1])  #axis=0, 행을 기준으로 위에서 아래로 내림차순 정렬\n",
    "print(np.sort(A, axis=1)[::-1])  #axis=1, 얘는 행의 위치를 바꾸고 왼쪽에서 오른쪽으로 오름차순 정렬(주의!!)"
   ]
  },
  {
   "cell_type": "code",
   "execution_count": 21,
   "metadata": {},
   "outputs": [
    {
     "name": "stdout",
     "output_type": "stream",
     "text": [
      "[[15 10  5]\n",
      " [ 9  6  3]\n",
      " [ 8  4  2]]\n",
      "[[ 8  4  2]\n",
      " [ 9  6  3]\n",
      " [15 10  5]]\n",
      "[[ 5 10 15]\n",
      " [ 3  6  9]\n",
      " [ 2  4  8]]\n",
      "[[15 10  5]\n",
      " [ 9  6  3]\n",
      " [ 8  4  2]]\n",
      "[[ 2  4  8]\n",
      " [ 3  6  9]\n",
      " [ 5 10 15]]\n"
     ]
    }
   ],
   "source": [
    "B = np.array([[15,10,5],\n",
    "             [9,6,3],\n",
    "             [8,4,2]])\n",
    "print(B)\n",
    "\n",
    "print(np.sort(B, axis=0)) #axis=0, 행을 기준으로 위에서 아래로 오름차순 정렬\n",
    "print(np.sort(B, axis=1)) #axis=1, 열을 기준으로 왼쪽에서 오른쪽으로 오름차순 정렬\n",
    "\n",
    "print(np.sort(B, axis=0)[::-1])  #axis=0, 행을 기준으로 위에서 아래로 내림차순 정렬\n",
    "print(np.sort(B, axis=1)[::-1])  #axis=1, 얘는 행의 위치를 바꾸고 왼쪽에서 오른쪽으로 오름차순 정렬"
   ]
  },
  {
   "cell_type": "markdown",
   "metadata": {},
   "source": [
    "#### ② argsort()\n",
    "* 원본 행렬 정렬 시, 정렬된 행렬의 원래 인덱스를 필요로 할 때 np.argsort()를 이용\n",
    "* np.argsort()는 정렬 행렬의 **원본 행렬 인덱스를 ndarray형으로 반환**\n",
    "<img src=\"4-7.png\">"
   ]
  },
  {
   "cell_type": "code",
   "execution_count": 22,
   "metadata": {},
   "outputs": [
    {
     "name": "stdout",
     "output_type": "stream",
     "text": [
      "[3 1 9 5]\n",
      "[1 0 3 2]\n"
     ]
    }
   ],
   "source": [
    "C = np.array([3,1,9,5])\n",
    "print(C)\n",
    "\n",
    "print(C.argsort())"
   ]
  },
  {
   "cell_type": "markdown",
   "metadata": {},
   "source": [
    "### 5) 선형대수 연산\n",
    "\n",
    "#### ① 행렬 내적 - np.dot(A,B)\n",
    "<img src=\"4-8.png\">"
   ]
  },
  {
   "cell_type": "code",
   "execution_count": 23,
   "metadata": {},
   "outputs": [
    {
     "data": {
      "text/plain": [
       "array([[ 58,  64],\n",
       "       [139, 154]])"
      ]
     },
     "execution_count": 23,
     "metadata": {},
     "output_type": "execute_result"
    }
   ],
   "source": [
    "A = np.array([[1,2,3],\n",
    "             [4,5,6]])\n",
    "B = np.array([[7,8],\n",
    "             [9,10],\n",
    "             [11,12]])\n",
    "np.dot(A,B)"
   ]
  },
  {
   "cell_type": "markdown",
   "metadata": {},
   "source": [
    "#### ② 전치 행렬 - np.transpose(C)\n",
    "* 원본 행렬 내 원소의 행과 열의 위치를 모두 바꾼 행렬: (x,y) -> (y,x)\n",
    "<img src=\"4-9.png\">"
   ]
  },
  {
   "cell_type": "code",
   "execution_count": 24,
   "metadata": {},
   "outputs": [
    {
     "name": "stdout",
     "output_type": "stream",
     "text": [
      "[[1 2]\n",
      " [3 4]]\n",
      "[[1 3]\n",
      " [2 4]]\n",
      "[[1 2]\n",
      " [3 4]\n",
      " [5 6]]\n",
      "[[1 3 5]\n",
      " [2 4 6]]\n"
     ]
    }
   ],
   "source": [
    "C = np.array([[1,2],\n",
    "              [3,4]])\n",
    "print(C)\n",
    "print(np.transpose(C))\n",
    "\n",
    "D = np.array([[1,2],\n",
    "             [3,4],\n",
    "             [5,6]])\n",
    "print(D)\n",
    "print(np.transpose(D))"
   ]
  },
  {
   "cell_type": "markdown",
   "metadata": {},
   "source": [
    "### 넘파이 Summary\n",
    "* **넘파이는 파이썬 머신러닝을 구성하는 핵심 기반, 반드시 이해가 필요함**\n",
    "* 넘파이 API는 매우 넓은 범위를 다루고 있으므로 머신러닝 어플리케이션 작성시에 중요하게 활용되는 **핵심 개념 위주로 숙지**하는 것이 좋음\n",
    "* 넘파이는 판다스에 비해 친절한 API를 제공하지 않으므로 **2차원 데이터의 경우 판다스를 이용하는 것이 효율적임**"
   ]
  },
  {
   "cell_type": "markdown",
   "metadata": {},
   "source": [
    "## 2. Pandas\n",
    "\n",
    "### 1) Pandas\n",
    "* Panel data analysis 혹은 Python data analysis의 약자\n",
    "* '관계형' 혹은 '테이블형' 데이터를 만들고 조작하기 위한 파이썬 라이브러리\n",
    "* NumPy 라이브러리 기반으로 구축\n",
    "* 오픈소스(<http://pnadas.pydata.org>)\n",
    "* 판다스는 파이썬에서 데이터 처리를 위한 가장 인기있는 라이브러리임\n",
    "  * 일반적으로 대부분의 데이터셋은 2차원 데이터로 엑셀 시트나 RDBMS의 Table 형태임\n",
    "  * 행과 열의 2차원 데이터가 인기 있는 이유는 인간이 가장 이해하기 쉬운 데이터 구조이면서도, 효과적으로 데이터를 담을 수 있는 구조이기 때문임\n",
    "  * 판다스는 행과 열로 이루어진 2차원 데이터를 효율적으로 가공/처리할 수 있는 다양하고 훌륭한 기능을 제공함\n",
    "* Pandas의 장점\n",
    ">* CSV, EXCEL, Database(SQL), Json 등 다양한 소스에서 데이터를 가져오고 또한 해당 형식으로 데이터를 내보낼 수 있는 **입출력 기능**이 있음\n",
    ">* 데이터의 삽입, 삭제, 병합, 결합, 슬라이싱, 인덱싱 등 **데이터를 필요한 대로 조작(manipulation)할 수 있음**\n",
    ">* **누락 데이터 처리가 용이**함(무시, 0으로 변환, 평균값으로 변환 등)\n",
    ">* **통계분석이나 머신러닝분석이 가능하도록 연구모델을 설정**할 수 있음\n",
    ">* Statsmodel, SciPy 등 **다양한 데이터 분석 패키지와 쉽게 연동**되어 사용할 수 있음\n",
    ">* NumPy처럼 **빠른 속도로 데이터를 처리**할 수 있음."
   ]
  },
  {
   "cell_type": "code",
   "execution_count": 25,
   "metadata": {},
   "outputs": [],
   "source": [
    "#Pandas 불러오기\n",
    "import pandas as pd"
   ]
  },
  {
   "cell_type": "markdown",
   "metadata": {},
   "source": [
    "### 2) Pandas의 주요 구성요소 - DataFrame, Series, Index\n",
    "<img src=\"4-9.png\">\n",
    "\n",
    "### 3) 기본 API\n",
    "* read_csv(): csv 파일 읽기 - pd.read_csv(\"파일이름.csv\")\n",
    "* head(): 상위 5줄 내용 출력 - df.head()\n",
    "* shape: 행과 열의 수 - df.shape\n",
    "* info(): **data frame의 전반적인 정보**, df을 구성하는 행과 열의 크기, 컬럼명, 컬럼을 구성하는 값의 자료형 등 - df.info()\n",
    "* describe(): 평균, 최대값, 최소값 등 **통계량** 출력 - df.describe()\n",
    "* value_counts(): **개별 컬럼 내에 각각의 값이 나온 횟수를 출력** - df['변수명'].value_counts()\n",
    "* sort_values(): **컬럼 기준으로 정렬 \n",
    "* unique(): **유일한 값 출력"
   ]
  },
  {
   "cell_type": "code",
   "execution_count": 38,
   "metadata": {},
   "outputs": [
    {
     "data": {
      "text/html": [
       "<div>\n",
       "<style scoped>\n",
       "    .dataframe tbody tr th:only-of-type {\n",
       "        vertical-align: middle;\n",
       "    }\n",
       "\n",
       "    .dataframe tbody tr th {\n",
       "        vertical-align: top;\n",
       "    }\n",
       "\n",
       "    .dataframe thead th {\n",
       "        text-align: right;\n",
       "    }\n",
       "</style>\n",
       "<table border=\"1\" class=\"dataframe\">\n",
       "  <thead>\n",
       "    <tr style=\"text-align: right;\">\n",
       "      <th></th>\n",
       "      <th>PassengerId</th>\n",
       "      <th>Survived</th>\n",
       "      <th>Pclass</th>\n",
       "      <th>Name</th>\n",
       "      <th>Sex</th>\n",
       "      <th>Age</th>\n",
       "      <th>SibSp</th>\n",
       "      <th>Parch</th>\n",
       "      <th>Ticket</th>\n",
       "      <th>Fare</th>\n",
       "      <th>Cabin</th>\n",
       "      <th>Embarked</th>\n",
       "    </tr>\n",
       "  </thead>\n",
       "  <tbody>\n",
       "    <tr>\n",
       "      <th>0</th>\n",
       "      <td>1</td>\n",
       "      <td>0</td>\n",
       "      <td>3</td>\n",
       "      <td>Braund, Mr. Owen Harris</td>\n",
       "      <td>male</td>\n",
       "      <td>22.0</td>\n",
       "      <td>1</td>\n",
       "      <td>0</td>\n",
       "      <td>A/5 21171</td>\n",
       "      <td>7.2500</td>\n",
       "      <td>NaN</td>\n",
       "      <td>S</td>\n",
       "    </tr>\n",
       "    <tr>\n",
       "      <th>1</th>\n",
       "      <td>2</td>\n",
       "      <td>1</td>\n",
       "      <td>1</td>\n",
       "      <td>Cumings, Mrs. John Bradley (Florence Briggs Th...</td>\n",
       "      <td>female</td>\n",
       "      <td>38.0</td>\n",
       "      <td>1</td>\n",
       "      <td>0</td>\n",
       "      <td>PC 17599</td>\n",
       "      <td>71.2833</td>\n",
       "      <td>C85</td>\n",
       "      <td>C</td>\n",
       "    </tr>\n",
       "    <tr>\n",
       "      <th>2</th>\n",
       "      <td>3</td>\n",
       "      <td>1</td>\n",
       "      <td>3</td>\n",
       "      <td>Heikkinen, Miss. Laina</td>\n",
       "      <td>female</td>\n",
       "      <td>26.0</td>\n",
       "      <td>0</td>\n",
       "      <td>0</td>\n",
       "      <td>STON/O2. 3101282</td>\n",
       "      <td>7.9250</td>\n",
       "      <td>NaN</td>\n",
       "      <td>S</td>\n",
       "    </tr>\n",
       "    <tr>\n",
       "      <th>3</th>\n",
       "      <td>4</td>\n",
       "      <td>1</td>\n",
       "      <td>1</td>\n",
       "      <td>Futrelle, Mrs. Jacques Heath (Lily May Peel)</td>\n",
       "      <td>female</td>\n",
       "      <td>35.0</td>\n",
       "      <td>1</td>\n",
       "      <td>0</td>\n",
       "      <td>113803</td>\n",
       "      <td>53.1000</td>\n",
       "      <td>C123</td>\n",
       "      <td>S</td>\n",
       "    </tr>\n",
       "    <tr>\n",
       "      <th>4</th>\n",
       "      <td>5</td>\n",
       "      <td>0</td>\n",
       "      <td>3</td>\n",
       "      <td>Allen, Mr. William Henry</td>\n",
       "      <td>male</td>\n",
       "      <td>35.0</td>\n",
       "      <td>0</td>\n",
       "      <td>0</td>\n",
       "      <td>373450</td>\n",
       "      <td>8.0500</td>\n",
       "      <td>NaN</td>\n",
       "      <td>S</td>\n",
       "    </tr>\n",
       "  </tbody>\n",
       "</table>\n",
       "</div>"
      ],
      "text/plain": [
       "   PassengerId  Survived  Pclass  \\\n",
       "0            1         0       3   \n",
       "1            2         1       1   \n",
       "2            3         1       3   \n",
       "3            4         1       1   \n",
       "4            5         0       3   \n",
       "\n",
       "                                                Name     Sex   Age  SibSp  \\\n",
       "0                            Braund, Mr. Owen Harris    male  22.0      1   \n",
       "1  Cumings, Mrs. John Bradley (Florence Briggs Th...  female  38.0      1   \n",
       "2                             Heikkinen, Miss. Laina  female  26.0      0   \n",
       "3       Futrelle, Mrs. Jacques Heath (Lily May Peel)  female  35.0      1   \n",
       "4                           Allen, Mr. William Henry    male  35.0      0   \n",
       "\n",
       "   Parch            Ticket     Fare Cabin Embarked  \n",
       "0      0         A/5 21171   7.2500   NaN        S  \n",
       "1      0          PC 17599  71.2833   C85        C  \n",
       "2      0  STON/O2. 3101282   7.9250   NaN        S  \n",
       "3      0            113803  53.1000  C123        S  \n",
       "4      0            373450   8.0500   NaN        S  "
      ]
     },
     "execution_count": 38,
     "metadata": {},
     "output_type": "execute_result"
    }
   ],
   "source": [
    "#read_csv() 함수로 파일 불러오기\n",
    "titanic = pd.read_csv(\"titanic_train.csv\")\n",
    "\n",
    "#.head() 함수로 처음 5줄 확인하기\n",
    "titanic.head()"
   ]
  },
  {
   "cell_type": "code",
   "execution_count": 27,
   "metadata": {},
   "outputs": [
    {
     "name": "stdout",
     "output_type": "stream",
     "text": [
      "(891, 12)\n",
      "Index(['PassengerId', 'Survived', 'Pclass', 'Name', 'Sex', 'Age', 'SibSp',\n",
      "       'Parch', 'Ticket', 'Fare', 'Cabin', 'Embarked'],\n",
      "      dtype='object')\n"
     ]
    }
   ],
   "source": [
    "#.shape 속성으로 행, 열 개수 확인하기\n",
    "print(titanic.shape)\n",
    "\n",
    "#.columns 속성으로 컬럼명 확인하기\n",
    "print(titanic.columns)"
   ]
  },
  {
   "cell_type": "code",
   "execution_count": 28,
   "metadata": {
    "scrolled": true
   },
   "outputs": [
    {
     "name": "stdout",
     "output_type": "stream",
     "text": [
      "<class 'pandas.core.frame.DataFrame'>\n",
      "RangeIndex: 891 entries, 0 to 890\n",
      "Data columns (total 12 columns):\n",
      " #   Column       Non-Null Count  Dtype  \n",
      "---  ------       --------------  -----  \n",
      " 0   PassengerId  891 non-null    int64  \n",
      " 1   Survived     891 non-null    int64  \n",
      " 2   Pclass       891 non-null    int64  \n",
      " 3   Name         891 non-null    object \n",
      " 4   Sex          891 non-null    object \n",
      " 5   Age          714 non-null    float64\n",
      " 6   SibSp        891 non-null    int64  \n",
      " 7   Parch        891 non-null    int64  \n",
      " 8   Ticket       891 non-null    object \n",
      " 9   Fare         891 non-null    float64\n",
      " 10  Cabin        204 non-null    object \n",
      " 11  Embarked     889 non-null    object \n",
      "dtypes: float64(2), int64(5), object(5)\n",
      "memory usage: 83.7+ KB\n",
      "None\n"
     ]
    }
   ],
   "source": [
    "#.info() 함수로 df 정보 출력하기\n",
    "print(titanic.info())"
   ]
  },
  {
   "cell_type": "code",
   "execution_count": 29,
   "metadata": {
    "scrolled": false
   },
   "outputs": [
    {
     "data": {
      "text/html": [
       "<div>\n",
       "<style scoped>\n",
       "    .dataframe tbody tr th:only-of-type {\n",
       "        vertical-align: middle;\n",
       "    }\n",
       "\n",
       "    .dataframe tbody tr th {\n",
       "        vertical-align: top;\n",
       "    }\n",
       "\n",
       "    .dataframe thead th {\n",
       "        text-align: right;\n",
       "    }\n",
       "</style>\n",
       "<table border=\"1\" class=\"dataframe\">\n",
       "  <thead>\n",
       "    <tr style=\"text-align: right;\">\n",
       "      <th></th>\n",
       "      <th>PassengerId</th>\n",
       "      <th>Survived</th>\n",
       "      <th>Pclass</th>\n",
       "      <th>Age</th>\n",
       "      <th>SibSp</th>\n",
       "      <th>Parch</th>\n",
       "      <th>Fare</th>\n",
       "    </tr>\n",
       "  </thead>\n",
       "  <tbody>\n",
       "    <tr>\n",
       "      <th>count</th>\n",
       "      <td>891.000000</td>\n",
       "      <td>891.000000</td>\n",
       "      <td>891.000000</td>\n",
       "      <td>714.000000</td>\n",
       "      <td>891.000000</td>\n",
       "      <td>891.000000</td>\n",
       "      <td>891.000000</td>\n",
       "    </tr>\n",
       "    <tr>\n",
       "      <th>mean</th>\n",
       "      <td>446.000000</td>\n",
       "      <td>0.383838</td>\n",
       "      <td>2.308642</td>\n",
       "      <td>29.699118</td>\n",
       "      <td>0.523008</td>\n",
       "      <td>0.381594</td>\n",
       "      <td>32.204208</td>\n",
       "    </tr>\n",
       "    <tr>\n",
       "      <th>std</th>\n",
       "      <td>257.353842</td>\n",
       "      <td>0.486592</td>\n",
       "      <td>0.836071</td>\n",
       "      <td>14.526497</td>\n",
       "      <td>1.102743</td>\n",
       "      <td>0.806057</td>\n",
       "      <td>49.693429</td>\n",
       "    </tr>\n",
       "    <tr>\n",
       "      <th>min</th>\n",
       "      <td>1.000000</td>\n",
       "      <td>0.000000</td>\n",
       "      <td>1.000000</td>\n",
       "      <td>0.420000</td>\n",
       "      <td>0.000000</td>\n",
       "      <td>0.000000</td>\n",
       "      <td>0.000000</td>\n",
       "    </tr>\n",
       "    <tr>\n",
       "      <th>25%</th>\n",
       "      <td>223.500000</td>\n",
       "      <td>0.000000</td>\n",
       "      <td>2.000000</td>\n",
       "      <td>20.125000</td>\n",
       "      <td>0.000000</td>\n",
       "      <td>0.000000</td>\n",
       "      <td>7.910400</td>\n",
       "    </tr>\n",
       "    <tr>\n",
       "      <th>50%</th>\n",
       "      <td>446.000000</td>\n",
       "      <td>0.000000</td>\n",
       "      <td>3.000000</td>\n",
       "      <td>28.000000</td>\n",
       "      <td>0.000000</td>\n",
       "      <td>0.000000</td>\n",
       "      <td>14.454200</td>\n",
       "    </tr>\n",
       "    <tr>\n",
       "      <th>75%</th>\n",
       "      <td>668.500000</td>\n",
       "      <td>1.000000</td>\n",
       "      <td>3.000000</td>\n",
       "      <td>38.000000</td>\n",
       "      <td>1.000000</td>\n",
       "      <td>0.000000</td>\n",
       "      <td>31.000000</td>\n",
       "    </tr>\n",
       "    <tr>\n",
       "      <th>max</th>\n",
       "      <td>891.000000</td>\n",
       "      <td>1.000000</td>\n",
       "      <td>3.000000</td>\n",
       "      <td>80.000000</td>\n",
       "      <td>8.000000</td>\n",
       "      <td>6.000000</td>\n",
       "      <td>512.329200</td>\n",
       "    </tr>\n",
       "  </tbody>\n",
       "</table>\n",
       "</div>"
      ],
      "text/plain": [
       "       PassengerId    Survived      Pclass         Age       SibSp  \\\n",
       "count   891.000000  891.000000  891.000000  714.000000  891.000000   \n",
       "mean    446.000000    0.383838    2.308642   29.699118    0.523008   \n",
       "std     257.353842    0.486592    0.836071   14.526497    1.102743   \n",
       "min       1.000000    0.000000    1.000000    0.420000    0.000000   \n",
       "25%     223.500000    0.000000    2.000000   20.125000    0.000000   \n",
       "50%     446.000000    0.000000    3.000000   28.000000    0.000000   \n",
       "75%     668.500000    1.000000    3.000000   38.000000    1.000000   \n",
       "max     891.000000    1.000000    3.000000   80.000000    8.000000   \n",
       "\n",
       "            Parch        Fare  \n",
       "count  891.000000  891.000000  \n",
       "mean     0.381594   32.204208  \n",
       "std      0.806057   49.693429  \n",
       "min      0.000000    0.000000  \n",
       "25%      0.000000    7.910400  \n",
       "50%      0.000000   14.454200  \n",
       "75%      0.000000   31.000000  \n",
       "max      6.000000  512.329200  "
      ]
     },
     "execution_count": 29,
     "metadata": {},
     "output_type": "execute_result"
    }
   ],
   "source": [
    "#.describe() 함수로 요약 통계량 확인하기\n",
    "titanic.describe()"
   ]
  },
  {
   "cell_type": "code",
   "execution_count": 30,
   "metadata": {},
   "outputs": [
    {
     "name": "stdout",
     "output_type": "stream",
     "text": [
      "3    491\n",
      "1    216\n",
      "2    184\n",
      "Name: Pclass, dtype: int64\n",
      "3    0.551066\n",
      "1    0.242424\n",
      "2    0.206510\n",
      "Name: Pclass, dtype: float64\n"
     ]
    }
   ],
   "source": [
    "#.value_counts() 함수로 한 컬럼 내 존재하는 값의 개수 출력\n",
    "print(titanic['Pclass'].value_counts())\n",
    "print(titanic['Pclass'].value_counts(normalize=True)) #normalize 활용하면 %로 표현 가능"
   ]
  },
  {
   "cell_type": "code",
   "execution_count": 31,
   "metadata": {},
   "outputs": [
    {
     "name": "stdout",
     "output_type": "stream",
     "text": [
      "445    1\n",
      "310    1\n",
      "309    1\n",
      "307    1\n",
      "306    1\n",
      "      ..\n",
      "379    3\n",
      "381    3\n",
      "382    3\n",
      "371    3\n",
      "890    3\n",
      "Name: Pclass, Length: 891, dtype: int64\n"
     ]
    }
   ],
   "source": [
    "#.sort_values() 함수로 특정 컬럼기준으로 정렬하기\n",
    "print(titanic['Pclass'].sort_values())  #Pclass를 기준으로 1부터 3까지 오름차순으로 정렬"
   ]
  },
  {
   "cell_type": "code",
   "execution_count": 32,
   "metadata": {},
   "outputs": [
    {
     "name": "stdout",
     "output_type": "stream",
     "text": [
      "[0 1 2 5 3 4 6]\n"
     ]
    }
   ],
   "source": [
    "#unique() 함수로 개별 컬럼 내 값의 종류 출력하기\n",
    "print(titanic['Parch'].unique())"
   ]
  },
  {
   "cell_type": "markdown",
   "metadata": {},
   "source": [
    "### 4) DataFrame - 리스트 / 딕셔너리 / 넘파이 ndarray간 상호 변환\n",
    "<img src=\"4-10.png\">\n",
    "\n",
    "### 5) DataFrame 데이터 삭제 - drop()\n",
    "> **DataFrame.drop(labels=None, axis=0, index=None, columns=None, level=None, inplace=False, errors='raisr')**\n",
    "\n",
    "* axis: DataFrame의 로우를 삭제할 때는 axis=0, 컬럼을 삭제할 때는 axis=1로 설정\n",
    "* 원본 DataFrame은 유지하고 드롭된 DataFrame을 새롭게 객체 변수로 받고 싶을 때는 inplace=False로(디폴트가 False), 원본 DF에 드롭된 결과를 적용하고 싶을 때는 inplace=True 적용"
   ]
  },
  {
   "cell_type": "code",
   "execution_count": 33,
   "metadata": {},
   "outputs": [
    {
     "name": "stdout",
     "output_type": "stream",
     "text": [
      "Index(['PassengerId', 'Survived', 'Pclass', 'Name', 'Sex', 'Age', 'SibSp',\n",
      "       'Parch', 'Ticket', 'Fare', 'Cabin', 'Embarked'],\n",
      "      dtype='object')\n",
      "Index(['PassengerId', 'Survived', 'Pclass', 'Name', 'Sex', 'SibSp', 'Parch',\n",
      "       'Ticket', 'Fare', 'Cabin', 'Embarked'],\n",
      "      dtype='object')\n",
      "Index(['PassengerId', 'Survived', 'Pclass', 'Name', 'Sex', 'SibSp', 'Parch',\n",
      "       'Ticket', 'Fare', 'Cabin', 'Embarked'],\n",
      "      dtype='object')\n"
     ]
    }
   ],
   "source": [
    "titanic_copy = titanic  #titanic_copy 생성\n",
    "\n",
    "titanic_drop = titanic_copy.drop('Age', axis=1, inplace=False) #Age 컬럼을 drop하여 titanic_drop에 저장\n",
    "print(titanic_copy.columns)    #titanic_copy는 그대로 유지\n",
    "print(titanic_drop.columns)  #titanic_drop의 Age 컬럼만 없어짐\n",
    "\n",
    "titanic.drop(\"Age\", axis=1, inplace=True)  #Age 컬럼을 drop하여 원본 df에 저장함\n",
    "print(titanic_copy.columns)   #원본 df에 Age 컬럼이 사라짐"
   ]
  },
  {
   "cell_type": "markdown",
   "metadata": {},
   "source": [
    "### 6) Index\n",
    "* **판다스의 Index 객체는 RDBMS의 PK(Primary Key)와 유사**하게, **DataFrame, Series의 레코드(=Row=행)를 고유하게 식별하는 개체임\n",
    "* DataFrame, Series에서 **Index 객체만 추출하려면 DataFrame.index 또는 Series.index 속성**을 통해 가능\n",
    "* Series 객체는 Index 객체를 포함하지만, **Series 객체에 연산함수를 적용할 때 Index는 연산에서 제외되며 오로지 식별용으로만 사용**됨\n",
    "* DataFrame 및 Series에 **reset_index() 함수**를 수행하면 **새롭게 인덱스를 연속 숫자형으로 할당하며, 기존 인덱스는 'index'라는 새로운 컬럼명으로 추가**됨\n",
    "\n",
    "#### ① []\n",
    "* 컬럼 기반 필터링 또는 불린 인덱싱 필터링 제공\n",
    "\n",
    "#### ② 데이터 셀렉션 및 필터링 - ix[], loc[], iloc[]\n",
    "* 명칭/위치 기반 인덱싱 제공\n",
    "* 명칭(Label)기반 인덱싱은 컬럼의 명칭(=컬럼명)을 기반으로 위치를 지정하는 방식\n",
    "* 위치(Position)기반 인덱싱은 0을 출발점으로 행과 열의 위치(정수)를 기반으로 데이터를 지정하는 방식\n",
    "> * ix[]: 명칭/위치 기반 인덱싱 함께 제공 => **기능 삭제됨**\n",
    "> * loc[]: 명칭 기반 인덱싱\n",
    "> * iloc[]: 위치 기반 인덱싱\n",
    "<img src=\"4-11.png\">"
   ]
  },
  {
   "cell_type": "code",
   "execution_count": 34,
   "metadata": {},
   "outputs": [
    {
     "name": "stdout",
     "output_type": "stream",
     "text": [
      "0\n",
      "0\n"
     ]
    }
   ],
   "source": [
    "#print(titanic.ix[0,1])\n",
    "#'DataFrame' object has no attribute 'ix' Error -> pandas 1.0.0 버전부터 deprecated 됨\n",
    "\n",
    "print(titanic.loc[0,'Survived'])\n",
    "print(titanic.iloc[0,1])   #위와 같은 결과"
   ]
  },
  {
   "cell_type": "markdown",
   "metadata": {},
   "source": [
    "#### ③ 불린 인덱싱(Boolean indexing)\n",
    "* 명칭/위치 기반 인덱싱을 사용할 필요 없이, 조건식을 []안에 기입하여 간편하게 필터링을 수행"
   ]
  },
  {
   "cell_type": "code",
   "execution_count": 39,
   "metadata": {},
   "outputs": [
    {
     "data": {
      "text/html": [
       "<div>\n",
       "<style scoped>\n",
       "    .dataframe tbody tr th:only-of-type {\n",
       "        vertical-align: middle;\n",
       "    }\n",
       "\n",
       "    .dataframe tbody tr th {\n",
       "        vertical-align: top;\n",
       "    }\n",
       "\n",
       "    .dataframe thead th {\n",
       "        text-align: right;\n",
       "    }\n",
       "</style>\n",
       "<table border=\"1\" class=\"dataframe\">\n",
       "  <thead>\n",
       "    <tr style=\"text-align: right;\">\n",
       "      <th></th>\n",
       "      <th>PassengerId</th>\n",
       "      <th>Survived</th>\n",
       "      <th>Pclass</th>\n",
       "      <th>Name</th>\n",
       "      <th>Sex</th>\n",
       "      <th>Age</th>\n",
       "      <th>SibSp</th>\n",
       "      <th>Parch</th>\n",
       "      <th>Ticket</th>\n",
       "      <th>Fare</th>\n",
       "      <th>Cabin</th>\n",
       "      <th>Embarked</th>\n",
       "    </tr>\n",
       "  </thead>\n",
       "  <tbody>\n",
       "    <tr>\n",
       "      <th>33</th>\n",
       "      <td>34</td>\n",
       "      <td>0</td>\n",
       "      <td>2</td>\n",
       "      <td>Wheadon, Mr. Edward H</td>\n",
       "      <td>male</td>\n",
       "      <td>66.0</td>\n",
       "      <td>0</td>\n",
       "      <td>0</td>\n",
       "      <td>C.A. 24579</td>\n",
       "      <td>10.5000</td>\n",
       "      <td>NaN</td>\n",
       "      <td>S</td>\n",
       "    </tr>\n",
       "    <tr>\n",
       "      <th>54</th>\n",
       "      <td>55</td>\n",
       "      <td>0</td>\n",
       "      <td>1</td>\n",
       "      <td>Ostby, Mr. Engelhart Cornelius</td>\n",
       "      <td>male</td>\n",
       "      <td>65.0</td>\n",
       "      <td>0</td>\n",
       "      <td>1</td>\n",
       "      <td>113509</td>\n",
       "      <td>61.9792</td>\n",
       "      <td>B30</td>\n",
       "      <td>C</td>\n",
       "    </tr>\n",
       "    <tr>\n",
       "      <th>96</th>\n",
       "      <td>97</td>\n",
       "      <td>0</td>\n",
       "      <td>1</td>\n",
       "      <td>Goldschmidt, Mr. George B</td>\n",
       "      <td>male</td>\n",
       "      <td>71.0</td>\n",
       "      <td>0</td>\n",
       "      <td>0</td>\n",
       "      <td>PC 17754</td>\n",
       "      <td>34.6542</td>\n",
       "      <td>A5</td>\n",
       "      <td>C</td>\n",
       "    </tr>\n",
       "    <tr>\n",
       "      <th>116</th>\n",
       "      <td>117</td>\n",
       "      <td>0</td>\n",
       "      <td>3</td>\n",
       "      <td>Connors, Mr. Patrick</td>\n",
       "      <td>male</td>\n",
       "      <td>70.5</td>\n",
       "      <td>0</td>\n",
       "      <td>0</td>\n",
       "      <td>370369</td>\n",
       "      <td>7.7500</td>\n",
       "      <td>NaN</td>\n",
       "      <td>Q</td>\n",
       "    </tr>\n",
       "    <tr>\n",
       "      <th>170</th>\n",
       "      <td>171</td>\n",
       "      <td>0</td>\n",
       "      <td>1</td>\n",
       "      <td>Van der hoef, Mr. Wyckoff</td>\n",
       "      <td>male</td>\n",
       "      <td>61.0</td>\n",
       "      <td>0</td>\n",
       "      <td>0</td>\n",
       "      <td>111240</td>\n",
       "      <td>33.5000</td>\n",
       "      <td>B19</td>\n",
       "      <td>S</td>\n",
       "    </tr>\n",
       "    <tr>\n",
       "      <th>252</th>\n",
       "      <td>253</td>\n",
       "      <td>0</td>\n",
       "      <td>1</td>\n",
       "      <td>Stead, Mr. William Thomas</td>\n",
       "      <td>male</td>\n",
       "      <td>62.0</td>\n",
       "      <td>0</td>\n",
       "      <td>0</td>\n",
       "      <td>113514</td>\n",
       "      <td>26.5500</td>\n",
       "      <td>C87</td>\n",
       "      <td>S</td>\n",
       "    </tr>\n",
       "    <tr>\n",
       "      <th>275</th>\n",
       "      <td>276</td>\n",
       "      <td>1</td>\n",
       "      <td>1</td>\n",
       "      <td>Andrews, Miss. Kornelia Theodosia</td>\n",
       "      <td>female</td>\n",
       "      <td>63.0</td>\n",
       "      <td>1</td>\n",
       "      <td>0</td>\n",
       "      <td>13502</td>\n",
       "      <td>77.9583</td>\n",
       "      <td>D7</td>\n",
       "      <td>S</td>\n",
       "    </tr>\n",
       "    <tr>\n",
       "      <th>280</th>\n",
       "      <td>281</td>\n",
       "      <td>0</td>\n",
       "      <td>3</td>\n",
       "      <td>Duane, Mr. Frank</td>\n",
       "      <td>male</td>\n",
       "      <td>65.0</td>\n",
       "      <td>0</td>\n",
       "      <td>0</td>\n",
       "      <td>336439</td>\n",
       "      <td>7.7500</td>\n",
       "      <td>NaN</td>\n",
       "      <td>Q</td>\n",
       "    </tr>\n",
       "    <tr>\n",
       "      <th>326</th>\n",
       "      <td>327</td>\n",
       "      <td>0</td>\n",
       "      <td>3</td>\n",
       "      <td>Nysveen, Mr. Johan Hansen</td>\n",
       "      <td>male</td>\n",
       "      <td>61.0</td>\n",
       "      <td>0</td>\n",
       "      <td>0</td>\n",
       "      <td>345364</td>\n",
       "      <td>6.2375</td>\n",
       "      <td>NaN</td>\n",
       "      <td>S</td>\n",
       "    </tr>\n",
       "    <tr>\n",
       "      <th>438</th>\n",
       "      <td>439</td>\n",
       "      <td>0</td>\n",
       "      <td>1</td>\n",
       "      <td>Fortune, Mr. Mark</td>\n",
       "      <td>male</td>\n",
       "      <td>64.0</td>\n",
       "      <td>1</td>\n",
       "      <td>4</td>\n",
       "      <td>19950</td>\n",
       "      <td>263.0000</td>\n",
       "      <td>C23 C25 C27</td>\n",
       "      <td>S</td>\n",
       "    </tr>\n",
       "    <tr>\n",
       "      <th>456</th>\n",
       "      <td>457</td>\n",
       "      <td>0</td>\n",
       "      <td>1</td>\n",
       "      <td>Millet, Mr. Francis Davis</td>\n",
       "      <td>male</td>\n",
       "      <td>65.0</td>\n",
       "      <td>0</td>\n",
       "      <td>0</td>\n",
       "      <td>13509</td>\n",
       "      <td>26.5500</td>\n",
       "      <td>E38</td>\n",
       "      <td>S</td>\n",
       "    </tr>\n",
       "    <tr>\n",
       "      <th>483</th>\n",
       "      <td>484</td>\n",
       "      <td>1</td>\n",
       "      <td>3</td>\n",
       "      <td>Turkula, Mrs. (Hedwig)</td>\n",
       "      <td>female</td>\n",
       "      <td>63.0</td>\n",
       "      <td>0</td>\n",
       "      <td>0</td>\n",
       "      <td>4134</td>\n",
       "      <td>9.5875</td>\n",
       "      <td>NaN</td>\n",
       "      <td>S</td>\n",
       "    </tr>\n",
       "    <tr>\n",
       "      <th>493</th>\n",
       "      <td>494</td>\n",
       "      <td>0</td>\n",
       "      <td>1</td>\n",
       "      <td>Artagaveytia, Mr. Ramon</td>\n",
       "      <td>male</td>\n",
       "      <td>71.0</td>\n",
       "      <td>0</td>\n",
       "      <td>0</td>\n",
       "      <td>PC 17609</td>\n",
       "      <td>49.5042</td>\n",
       "      <td>NaN</td>\n",
       "      <td>C</td>\n",
       "    </tr>\n",
       "    <tr>\n",
       "      <th>545</th>\n",
       "      <td>546</td>\n",
       "      <td>0</td>\n",
       "      <td>1</td>\n",
       "      <td>Nicholson, Mr. Arthur Ernest</td>\n",
       "      <td>male</td>\n",
       "      <td>64.0</td>\n",
       "      <td>0</td>\n",
       "      <td>0</td>\n",
       "      <td>693</td>\n",
       "      <td>26.0000</td>\n",
       "      <td>NaN</td>\n",
       "      <td>S</td>\n",
       "    </tr>\n",
       "    <tr>\n",
       "      <th>555</th>\n",
       "      <td>556</td>\n",
       "      <td>0</td>\n",
       "      <td>1</td>\n",
       "      <td>Wright, Mr. George</td>\n",
       "      <td>male</td>\n",
       "      <td>62.0</td>\n",
       "      <td>0</td>\n",
       "      <td>0</td>\n",
       "      <td>113807</td>\n",
       "      <td>26.5500</td>\n",
       "      <td>NaN</td>\n",
       "      <td>S</td>\n",
       "    </tr>\n",
       "    <tr>\n",
       "      <th>570</th>\n",
       "      <td>571</td>\n",
       "      <td>1</td>\n",
       "      <td>2</td>\n",
       "      <td>Harris, Mr. George</td>\n",
       "      <td>male</td>\n",
       "      <td>62.0</td>\n",
       "      <td>0</td>\n",
       "      <td>0</td>\n",
       "      <td>S.W./PP 752</td>\n",
       "      <td>10.5000</td>\n",
       "      <td>NaN</td>\n",
       "      <td>S</td>\n",
       "    </tr>\n",
       "    <tr>\n",
       "      <th>625</th>\n",
       "      <td>626</td>\n",
       "      <td>0</td>\n",
       "      <td>1</td>\n",
       "      <td>Sutton, Mr. Frederick</td>\n",
       "      <td>male</td>\n",
       "      <td>61.0</td>\n",
       "      <td>0</td>\n",
       "      <td>0</td>\n",
       "      <td>36963</td>\n",
       "      <td>32.3208</td>\n",
       "      <td>D50</td>\n",
       "      <td>S</td>\n",
       "    </tr>\n",
       "    <tr>\n",
       "      <th>630</th>\n",
       "      <td>631</td>\n",
       "      <td>1</td>\n",
       "      <td>1</td>\n",
       "      <td>Barkworth, Mr. Algernon Henry Wilson</td>\n",
       "      <td>male</td>\n",
       "      <td>80.0</td>\n",
       "      <td>0</td>\n",
       "      <td>0</td>\n",
       "      <td>27042</td>\n",
       "      <td>30.0000</td>\n",
       "      <td>A23</td>\n",
       "      <td>S</td>\n",
       "    </tr>\n",
       "    <tr>\n",
       "      <th>672</th>\n",
       "      <td>673</td>\n",
       "      <td>0</td>\n",
       "      <td>2</td>\n",
       "      <td>Mitchell, Mr. Henry Michael</td>\n",
       "      <td>male</td>\n",
       "      <td>70.0</td>\n",
       "      <td>0</td>\n",
       "      <td>0</td>\n",
       "      <td>C.A. 24580</td>\n",
       "      <td>10.5000</td>\n",
       "      <td>NaN</td>\n",
       "      <td>S</td>\n",
       "    </tr>\n",
       "    <tr>\n",
       "      <th>745</th>\n",
       "      <td>746</td>\n",
       "      <td>0</td>\n",
       "      <td>1</td>\n",
       "      <td>Crosby, Capt. Edward Gifford</td>\n",
       "      <td>male</td>\n",
       "      <td>70.0</td>\n",
       "      <td>1</td>\n",
       "      <td>1</td>\n",
       "      <td>WE/P 5735</td>\n",
       "      <td>71.0000</td>\n",
       "      <td>B22</td>\n",
       "      <td>S</td>\n",
       "    </tr>\n",
       "    <tr>\n",
       "      <th>829</th>\n",
       "      <td>830</td>\n",
       "      <td>1</td>\n",
       "      <td>1</td>\n",
       "      <td>Stone, Mrs. George Nelson (Martha Evelyn)</td>\n",
       "      <td>female</td>\n",
       "      <td>62.0</td>\n",
       "      <td>0</td>\n",
       "      <td>0</td>\n",
       "      <td>113572</td>\n",
       "      <td>80.0000</td>\n",
       "      <td>B28</td>\n",
       "      <td>NaN</td>\n",
       "    </tr>\n",
       "    <tr>\n",
       "      <th>851</th>\n",
       "      <td>852</td>\n",
       "      <td>0</td>\n",
       "      <td>3</td>\n",
       "      <td>Svensson, Mr. Johan</td>\n",
       "      <td>male</td>\n",
       "      <td>74.0</td>\n",
       "      <td>0</td>\n",
       "      <td>0</td>\n",
       "      <td>347060</td>\n",
       "      <td>7.7750</td>\n",
       "      <td>NaN</td>\n",
       "      <td>S</td>\n",
       "    </tr>\n",
       "  </tbody>\n",
       "</table>\n",
       "</div>"
      ],
      "text/plain": [
       "     PassengerId  Survived  Pclass                                       Name  \\\n",
       "33            34         0       2                      Wheadon, Mr. Edward H   \n",
       "54            55         0       1             Ostby, Mr. Engelhart Cornelius   \n",
       "96            97         0       1                  Goldschmidt, Mr. George B   \n",
       "116          117         0       3                       Connors, Mr. Patrick   \n",
       "170          171         0       1                  Van der hoef, Mr. Wyckoff   \n",
       "252          253         0       1                  Stead, Mr. William Thomas   \n",
       "275          276         1       1          Andrews, Miss. Kornelia Theodosia   \n",
       "280          281         0       3                           Duane, Mr. Frank   \n",
       "326          327         0       3                  Nysveen, Mr. Johan Hansen   \n",
       "438          439         0       1                          Fortune, Mr. Mark   \n",
       "456          457         0       1                  Millet, Mr. Francis Davis   \n",
       "483          484         1       3                     Turkula, Mrs. (Hedwig)   \n",
       "493          494         0       1                    Artagaveytia, Mr. Ramon   \n",
       "545          546         0       1               Nicholson, Mr. Arthur Ernest   \n",
       "555          556         0       1                         Wright, Mr. George   \n",
       "570          571         1       2                         Harris, Mr. George   \n",
       "625          626         0       1                      Sutton, Mr. Frederick   \n",
       "630          631         1       1       Barkworth, Mr. Algernon Henry Wilson   \n",
       "672          673         0       2                Mitchell, Mr. Henry Michael   \n",
       "745          746         0       1               Crosby, Capt. Edward Gifford   \n",
       "829          830         1       1  Stone, Mrs. George Nelson (Martha Evelyn)   \n",
       "851          852         0       3                        Svensson, Mr. Johan   \n",
       "\n",
       "        Sex   Age  SibSp  Parch       Ticket      Fare        Cabin Embarked  \n",
       "33     male  66.0      0      0   C.A. 24579   10.5000          NaN        S  \n",
       "54     male  65.0      0      1       113509   61.9792          B30        C  \n",
       "96     male  71.0      0      0     PC 17754   34.6542           A5        C  \n",
       "116    male  70.5      0      0       370369    7.7500          NaN        Q  \n",
       "170    male  61.0      0      0       111240   33.5000          B19        S  \n",
       "252    male  62.0      0      0       113514   26.5500          C87        S  \n",
       "275  female  63.0      1      0        13502   77.9583           D7        S  \n",
       "280    male  65.0      0      0       336439    7.7500          NaN        Q  \n",
       "326    male  61.0      0      0       345364    6.2375          NaN        S  \n",
       "438    male  64.0      1      4        19950  263.0000  C23 C25 C27        S  \n",
       "456    male  65.0      0      0        13509   26.5500          E38        S  \n",
       "483  female  63.0      0      0         4134    9.5875          NaN        S  \n",
       "493    male  71.0      0      0     PC 17609   49.5042          NaN        C  \n",
       "545    male  64.0      0      0          693   26.0000          NaN        S  \n",
       "555    male  62.0      0      0       113807   26.5500          NaN        S  \n",
       "570    male  62.0      0      0  S.W./PP 752   10.5000          NaN        S  \n",
       "625    male  61.0      0      0        36963   32.3208          D50        S  \n",
       "630    male  80.0      0      0        27042   30.0000          A23        S  \n",
       "672    male  70.0      0      0   C.A. 24580   10.5000          NaN        S  \n",
       "745    male  70.0      1      1    WE/P 5735   71.0000          B22        S  \n",
       "829  female  62.0      0      0       113572   80.0000          B28      NaN  \n",
       "851    male  74.0      0      0       347060    7.7750          NaN        S  "
      ]
     },
     "execution_count": 39,
     "metadata": {},
     "output_type": "execute_result"
    }
   ],
   "source": [
    "titanic_boolean = titanic[(titanic['Age']>60)]\n",
    "titanic_boolean"
   ]
  },
  {
   "cell_type": "markdown",
   "metadata": {},
   "source": [
    "### 7) Aggregation 함수\n",
    "* sum(), max(), min(), count() 등의 함수는 DataFrame/Series에서 집합(Aggregation)연산을 수행\n",
    "* DataFrame에서 바로 aggregation을 호출할 경우 모든 컬럼에 적용함\n",
    "* axis에 따른 Aggregation(디폴트는 axis=0)\n",
    "<img src=\"4-12.png\">"
   ]
  },
  {
   "cell_type": "code",
   "execution_count": 40,
   "metadata": {},
   "outputs": [
    {
     "name": "stdout",
     "output_type": "stream",
     "text": [
      "0       29.2500\n",
      "1      109.2833\n",
      "2       33.9250\n",
      "3       88.1000\n",
      "4       43.0500\n",
      "         ...   \n",
      "886     40.0000\n",
      "887     49.0000\n",
      "888     23.4500\n",
      "889     56.0000\n",
      "890     39.7500\n",
      "Length: 891, dtype: float64\n"
     ]
    }
   ],
   "source": [
    "#sum()함수로 'Age', 'Fare' 칼럼의 값 더하기\n",
    "titanic_aggre = titanic[['Age','Fare']].sum(axis=1)\n",
    "print(titanic_aggre)"
   ]
  },
  {
   "cell_type": "markdown",
   "metadata": {},
   "source": [
    "#### DataFrame Group By\n",
    "* DataFrame은 Group by 연산을 위해 groupby() 메소드 제공\n",
    "* by 인자로 group by 하려는 컬럼명을 입력받으면 DataFrameGroupBy 객체를 반환\n",
    "* 반환된 DataFrameGroupBy 객체에 aggregation 함수를 수행"
   ]
  },
  {
   "cell_type": "code",
   "execution_count": 41,
   "metadata": {
    "scrolled": true
   },
   "outputs": [
    {
     "data": {
      "text/html": [
       "<div>\n",
       "<style scoped>\n",
       "    .dataframe tbody tr th:only-of-type {\n",
       "        vertical-align: middle;\n",
       "    }\n",
       "\n",
       "    .dataframe tbody tr th {\n",
       "        vertical-align: top;\n",
       "    }\n",
       "\n",
       "    .dataframe thead th {\n",
       "        text-align: right;\n",
       "    }\n",
       "</style>\n",
       "<table border=\"1\" class=\"dataframe\">\n",
       "  <thead>\n",
       "    <tr style=\"text-align: right;\">\n",
       "      <th></th>\n",
       "      <th>PassengerId</th>\n",
       "      <th>Pclass</th>\n",
       "      <th>Name</th>\n",
       "      <th>Sex</th>\n",
       "      <th>Age</th>\n",
       "      <th>SibSp</th>\n",
       "      <th>Parch</th>\n",
       "      <th>Ticket</th>\n",
       "      <th>Fare</th>\n",
       "      <th>Cabin</th>\n",
       "      <th>Embarked</th>\n",
       "    </tr>\n",
       "    <tr>\n",
       "      <th>Survived</th>\n",
       "      <th></th>\n",
       "      <th></th>\n",
       "      <th></th>\n",
       "      <th></th>\n",
       "      <th></th>\n",
       "      <th></th>\n",
       "      <th></th>\n",
       "      <th></th>\n",
       "      <th></th>\n",
       "      <th></th>\n",
       "      <th></th>\n",
       "    </tr>\n",
       "  </thead>\n",
       "  <tbody>\n",
       "    <tr>\n",
       "      <th>0</th>\n",
       "      <td>549</td>\n",
       "      <td>549</td>\n",
       "      <td>549</td>\n",
       "      <td>549</td>\n",
       "      <td>424</td>\n",
       "      <td>549</td>\n",
       "      <td>549</td>\n",
       "      <td>549</td>\n",
       "      <td>549</td>\n",
       "      <td>68</td>\n",
       "      <td>549</td>\n",
       "    </tr>\n",
       "    <tr>\n",
       "      <th>1</th>\n",
       "      <td>342</td>\n",
       "      <td>342</td>\n",
       "      <td>342</td>\n",
       "      <td>342</td>\n",
       "      <td>290</td>\n",
       "      <td>342</td>\n",
       "      <td>342</td>\n",
       "      <td>342</td>\n",
       "      <td>342</td>\n",
       "      <td>136</td>\n",
       "      <td>340</td>\n",
       "    </tr>\n",
       "  </tbody>\n",
       "</table>\n",
       "</div>"
      ],
      "text/plain": [
       "          PassengerId  Pclass  Name  Sex  Age  SibSp  Parch  Ticket  Fare  \\\n",
       "Survived                                                                    \n",
       "0                 549     549   549  549  424    549    549     549   549   \n",
       "1                 342     342   342  342  290    342    342     342   342   \n",
       "\n",
       "          Cabin  Embarked  \n",
       "Survived                   \n",
       "0            68       549  \n",
       "1           136       340  "
      ]
     },
     "execution_count": 41,
     "metadata": {},
     "output_type": "execute_result"
    }
   ],
   "source": [
    "#count() 함수로 'Survived' 컬럼 값별로 개수세기\n",
    "titanic.groupby('Survived').count()"
   ]
  },
  {
   "cell_type": "code",
   "execution_count": 44,
   "metadata": {},
   "outputs": [
    {
     "data": {
      "text/plain": [
       "Pclass\n",
       "1    136\n",
       "2     87\n",
       "3    119\n",
       "Name: Survived, dtype: int64"
      ]
     },
     "execution_count": 44,
     "metadata": {},
     "output_type": "execute_result"
    }
   ],
   "source": [
    "titanic.groupby('Pclass')['Survived'].sum()   #클래스별로 살아남은 사람 수"
   ]
  },
  {
   "cell_type": "code",
   "execution_count": null,
   "metadata": {},
   "outputs": [],
   "source": [
    "#min(), max() 함수로 'Age' 컬럼 최소값, 최대값 구하기\n",
    "col_age = titanic['Age']\n",
    "print(col_age.min())\n",
    "print(col_age.max())"
   ]
  },
  {
   "cell_type": "markdown",
   "metadata": {},
   "source": [
    "### 8) 결손 데이터(MIssing Data) 처리하기\n",
    "* isna(): DataFrame에서, 주어진 인자 값(컬럼)들이 NaN인지 True/False 값을 반환(Nan이면 True)\n",
    "* fillna(): Missing 데이터를 주어진 인자 값으로 대체"
   ]
  },
  {
   "cell_type": "code",
   "execution_count": null,
   "metadata": {},
   "outputs": [],
   "source": [
    "print(col_age.isna())  #'Age' 컬럼에서 Nan값 찾기\n",
    "\n",
    "col_age2 = col_age.fillna(col_age.mean())   #Nan값 'Age' 평균으로 채우기\n",
    "print(col_age2)   #888번 로우가 평균으로 채워진 것 확인\n",
    "print(round(col_age.mean(),6))"
   ]
  },
  {
   "cell_type": "markdown",
   "metadata": {},
   "source": [
    "### 9) 판다스 apply lambda - 파이썬 lambda식 이해\n",
    "* 판다스는 apply 함수에 lambda식을 결합해 DataFrame이나 Series의 레코드별로 데이터를 가공하는 기능을 제공함\n",
    "* 판다스의 경우 컬럼에 일괄적으로 데이터 가공을 하는 것이 속도 면에서 더 빠르나, 복잡한 데이터 가공이 필요한 경우 어쩔 수 없이 apply lambda를 이용함\n",
    "<img src=\"4-13.png\">"
   ]
  },
  {
   "cell_type": "code",
   "execution_count": null,
   "metadata": {
    "scrolled": true
   },
   "outputs": [],
   "source": [
    "titanic['Name_len'] = titanic['Name'].apply(lambda x:len(x))\n",
    "titanic.head()"
   ]
  },
  {
   "cell_type": "markdown",
   "metadata": {},
   "source": [
    "### 판다스 Summary\n",
    "* **2차원 데이터 핸들링을 위해서는 판다스를 사용하는 것이 좋음**\n",
    "* 판다스는 매우 편리하고 다양한 데이터 처리 API(조인, 피벗/언피벗, SQL like API 등)를 제공하지만, 이를 다 알기에는 많은 시간과 노력이 필요\n",
    "* 지금까지 언급된 핵심 사항에 집중하고, 데이터 처리를 직접 수행해보면서 실력을 더욱 향상 시킬 수 있음\n",
    "\n",
    "### 전체 Summary\n",
    "* **머신러닝이란, 어플리케이션을 수정하지 않고도 데이터를 기반으로 패턴을 학습하고 결과를 추론하는 알고리즘 기법**임\n",
    "* **직관적인 문법, 많은 라이브러리, 뛰어난 생산성을 가지는 파이썬 언어를 기반으로 한 머신러닝 어플리케이션**은 **유연성, 통합성 등의 많은 장점**을 사용자에게 제공해 줌\n",
    "* 파이썬 기반의 머신러닝을 이히기 위해서는 머신러닝 패키지 뿐만 아니라, **넘파이, 판다스, 시각화 등의 다양한 지원 패키지들도 같이 학습**되어야 함\n",
    "* 단, 이들 지원 패키지를 익히기 위해서 많은 시간을 투자할 필요는 없으며, 기본 내용은 숙지하되 상세한 사용법은 **머신러닝 어플리케이션을 작성하면서 찾아가면서 구현**하는 것이 이들 지원 패키지를 빨리 익히는 데 더 도움될 것임"
   ]
  },
  {
   "cell_type": "code",
   "execution_count": null,
   "metadata": {},
   "outputs": [],
   "source": []
  }
 ],
 "metadata": {
  "kernelspec": {
   "display_name": "Python 3",
   "language": "python",
   "name": "python3"
  },
  "language_info": {
   "codemirror_mode": {
    "name": "ipython",
    "version": 3
   },
   "file_extension": ".py",
   "mimetype": "text/x-python",
   "name": "python",
   "nbconvert_exporter": "python",
   "pygments_lexer": "ipython3",
   "version": "3.8.3"
  }
 },
 "nbformat": 4,
 "nbformat_minor": 4
}
