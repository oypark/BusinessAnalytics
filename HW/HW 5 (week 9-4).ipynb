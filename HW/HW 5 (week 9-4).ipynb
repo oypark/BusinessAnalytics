{
 "cells": [
  {
   "cell_type": "markdown",
   "metadata": {},
   "source": [
    "# 06. Keras Review Classify\n",
    "\n",
    "## Keras embedding을 이용한 문서 분류\n",
    "\n",
    "### 영화리뷰 데이터 활용하기"
   ]
  },
  {
   "cell_type": "code",
   "execution_count": 1,
   "metadata": {},
   "outputs": [
    {
     "name": "stdout",
     "output_type": "stream",
     "text": [
      "Reviews count: 2000\n",
      "Length of the first review: 4043\n",
      "Labels: {'pos', 'neg'}\n"
     ]
    }
   ],
   "source": [
    "## movie reviews 불러오기\n",
    "from nltk.corpus import movie_reviews\n",
    "fileids = movie_reviews.fileids() #movie review data에서 file id를 가져옴\n",
    "reviews = [movie_reviews.raw(fileid) for fileid in fileids] #file id를 이용해 raw text file을 가져옴\n",
    "categories = [movie_reviews.categories(fileid)[0] for fileid in fileids] \n",
    "#file id를 이용해 label로 사용할 category 즉 positive와 negative 정보를 순서대로 가져옴\n",
    "\n",
    "print('Reviews count:', len(reviews))\n",
    "print('Length of the first review:', len(reviews[0]))\n",
    "print('Labels:', set(categories))"
   ]
  },
  {
   "cell_type": "code",
   "execution_count": 2,
   "metadata": {},
   "outputs": [],
   "source": [
    "#pip install keras"
   ]
  },
  {
   "cell_type": "code",
   "execution_count": 3,
   "metadata": {
    "scrolled": true
   },
   "outputs": [],
   "source": [
    "#pip install tensorflow"
   ]
  },
  {
   "cell_type": "code",
   "execution_count": 4,
   "metadata": {},
   "outputs": [
    {
     "name": "stdout",
     "output_type": "stream",
     "text": [
      "num of tokens: 43296\n"
     ]
    }
   ],
   "source": [
    "## tokenize\n",
    "from keras.preprocessing.text import Tokenizer\n",
    "\n",
    "max_words = 10000\n",
    "\n",
    "tokenizer = Tokenizer(num_words=max_words)\n",
    "tokenizer.fit_on_texts(reviews)\n",
    "\n",
    "X = tokenizer.texts_to_sequences(reviews)   #reviews 시퀀스로 바꿔서 X에 저장\n",
    "# 일반적으로 0이면 unknown, 즉 전체단어의 수가 10000개 - num_words가 넘을 경우, index가 10000-1(for unknown)을 넘어가는 단어는 0으로 처리함\n",
    "# onehot_train = tokenizer.texts_to_matrix(X_train, mode='binary')\n",
    "\n",
    "print('num of tokens:', len(tokenizer.word_index))"
   ]
  },
  {
   "cell_type": "code",
   "execution_count": 5,
   "metadata": {},
   "outputs": [
    {
     "data": {
      "text/plain": [
       "(2000, 10000)"
      ]
     },
     "execution_count": 5,
     "metadata": {},
     "output_type": "execute_result"
    }
   ],
   "source": [
    "## tokenize한 review들을 matrix 형태로 바꾸기\n",
    "bow = tokenizer.texts_to_matrix(reviews, mode='binary')\n",
    "bow.shape"
   ]
  },
  {
   "cell_type": "code",
   "execution_count": 6,
   "metadata": {
    "scrolled": true
   },
   "outputs": [
    {
     "name": "stdout",
     "output_type": "stream",
     "text": [
      "[  38    1  328   52   20  769   52   20   52   20    2    4  910  114\n",
      "   52   20 5277    4 1386  171    8  632    3   63    4    9    6  321\n",
      "   25 1957  143   18 2926  120  301  254    5 9489    2   15  150  143\n",
      "    3  102   16   44   35    9   91    6  256  103    1  164 2851  100\n",
      "    3  100  208   18   72  259    4 4077   42   82    2   94   45    6\n",
      "   14  247  954  353   37  613  294   14  133  801    5 3146   16    9\n",
      "  138    5  257    5 3146    9  308  313   64  369  493  226    3   75\n",
      "   36   86  171  439 2795   46   56 1747    7    1 5675   25   92    1\n",
      " 1280  204    6    8    1 4078    3   18  158 5676   19 1711   38   14\n",
      "   39   62  175 4079   63    4    9   40   21    1  268   84  212   39\n",
      "   35    4    1   82    8  197  442    5   86    2   98  251    4  261\n",
      "   16    9  137  248    1   86    1   15   35    8   43  439   18  618\n",
      "    1 1486  311   11  121   38   14    6    8   34  167  245   86  276\n",
      "    8    1  161    6   55    9   56  141   36   20  284    1  801    5\n",
      " 2016  169  145    4 2329   18  570  963 7840  426  221   28 3863   12\n",
      "   41 1430  226  457    1   26    6   50 1684 3592 1123   62   72    9\n",
      "   52   20  101 3024   33    3   62  120  118   27   36   20   75   62\n",
      "   92  437    5   83    9  100    3  100  208   96   41  665  132  316\n",
      "  114 3288 1044 2440   55   35    4    1  159  149    7    1   26  682\n",
      "    1  929  874   14   15  221   28   64  123    3    9   42  491    3\n",
      "    9  336   52 8856   69    2  271  875  948  301 6461   26    7  128\n",
      " 1102   16   18  618    1 2852 1325    8 1729    9   55    2  289  431\n",
      "   11   98 1326   68   86   43  261    1  209   20  271   61   12    1\n",
      "   63  204  187 2594   50  675    5   22  388    1 2109  164   74    8\n",
      "   17  197    7  258 1034   57    7    2  113 5278   16  106  954 5279\n",
      "  130   40    5   27 1543   33  181  457    1  339   15    3  175   32\n",
      "   34  621   33 1526  898    1   15  116 1993   85    9  116 2476   37\n",
      " 1471    9 1358    3    9  648  271 7098   12   63    4   64  400    2\n",
      "  271  690  324    3 1994    5   35    4    1    8  770  141    9  657\n",
      "    3   21    1   84   14    6   25    2  295   46  948 1649  731   37\n",
      "   50    5  177    8   84   85  371    6  682 6792    8    1  521    6\n",
      "  137 1132   11    1  440    9   71 3210  460   76  174  714    3   32\n",
      "   69 1487   19    1 7443  193  194 1045 2853    9 3980 4204  504   28\n",
      "    2 2214    4 7099 1003  640 1211  302 1446 1315  314 1211  302    1\n",
      " 2518 1853  302    1 2518 7100  749  302  341 4203  302  302 8855  302\n",
      "  302    1  485 1853  302 4341    4 3864 1022  302]\n"
     ]
    }
   ],
   "source": [
    "from keras import preprocessing\n",
    "\n",
    "maxlen = 500   #시퀀스 길이 설정\n",
    "\n",
    "# 모든 시퀀스의 길이를 동일하게 맞추기(500보다 작은 내용은 0으로 채우기)\n",
    "X = preprocessing.sequence.pad_sequences(X, maxlen=maxlen, truncating='pre')\n",
    "#truncating='pre'로 설정, maxlen보다 큰 시퀀스를 처음에 제거, 'post'는 나중에 제거\n",
    "\n",
    "print(X[0])   #첫번째 내용 출력"
   ]
  },
  {
   "cell_type": "code",
   "execution_count": 7,
   "metadata": {},
   "outputs": [
    {
     "name": "stdout",
     "output_type": "stream",
     "text": [
      "[1, 1, 1, 1, 1, 1, 1, 1, 1, 1]\n"
     ]
    }
   ],
   "source": [
    "## categories의 dict를 변수 y에 할당해 출력\n",
    "label_dict = {'pos':0, 'neg':1}\n",
    "y = [label_dict[c] for c in categories]\n",
    "print(y[:10])"
   ]
  },
  {
   "cell_type": "code",
   "execution_count": 8,
   "metadata": {},
   "outputs": [
    {
     "name": "stdout",
     "output_type": "stream",
     "text": [
      "Train set count: 1600\n",
      "Test set count: 400\n",
      "Test samples: [1, 0, 0, 1, 0, 0, 1, 1, 1, 1, 0, 0, 1, 1, 0, 1, 1, 0, 0, 0]\n"
     ]
    }
   ],
   "source": [
    "## trian, test set으로 나누기\n",
    "\n",
    "from sklearn.model_selection import train_test_split #sklearn에서 제공하는 split 함수를 사용\n",
    "X_train, X_test, y_train, y_test = train_test_split(X, y, test_size=0.2, random_state=10)\n",
    "# sklearn의 train_test_split 함수는 먼저 data set을 shuffle하고 주어진 비율에 따라 train set과 test set을 나눠 줌\n",
    "# 위에서는 reviews를 X_train과 X_test로 8:2의 비율로 나누고, categories를 y_train과 y_test로 나눔\n",
    "# 이 때 X와 y의 순서는 동일하게 유지해서 각 입력값과 label이 정확하게 match되도록 함\n",
    "# random_state는 shuffle에서의 seed 값으로, 지정한 경우 항상 동일한 결과로 shuffle이 됨\n",
    "\n",
    "print('Train set count:', len(X_train))\n",
    "print('Test set count:', len(X_test))\n",
    "print('Test samples:', y_test[:20])"
   ]
  },
  {
   "cell_type": "code",
   "execution_count": 9,
   "metadata": {},
   "outputs": [
    {
     "name": "stdout",
     "output_type": "stream",
     "text": [
      "Model: \"sequential\"\n",
      "_________________________________________________________________\n",
      "Layer (type)                 Output Shape              Param #   \n",
      "=================================================================\n",
      "embedding (Embedding)        (None, 500, 32)           320000    \n",
      "_________________________________________________________________\n",
      "flatten (Flatten)            (None, 16000)             0         \n",
      "_________________________________________________________________\n",
      "dense (Dense)                (None, 1)                 16001     \n",
      "=================================================================\n",
      "Total params: 336,001\n",
      "Trainable params: 336,001\n",
      "Non-trainable params: 0\n",
      "_________________________________________________________________\n",
      "Epoch 1/30\n",
      "5/5 [==============================] - 0s 66ms/step - loss: 0.6942 - acc: 0.5016 - val_loss: 0.6915 - val_acc: 0.5344\n",
      "Epoch 2/30\n",
      "5/5 [==============================] - 0s 31ms/step - loss: 0.6403 - acc: 0.8844 - val_loss: 0.6893 - val_acc: 0.5312\n",
      "Epoch 3/30\n",
      "5/5 [==============================] - 0s 33ms/step - loss: 0.5967 - acc: 0.9445 - val_loss: 0.6863 - val_acc: 0.5281\n",
      "Epoch 4/30\n",
      "5/5 [==============================] - 0s 34ms/step - loss: 0.5506 - acc: 0.9773 - val_loss: 0.6825 - val_acc: 0.5562\n",
      "Epoch 5/30\n",
      "5/5 [==============================] - 0s 33ms/step - loss: 0.5010 - acc: 0.9703 - val_loss: 0.6772 - val_acc: 0.5813\n",
      "Epoch 6/30\n",
      "5/5 [==============================] - 0s 33ms/step - loss: 0.4489 - acc: 0.9852 - val_loss: 0.6707 - val_acc: 0.6000\n",
      "Epoch 7/30\n",
      "5/5 [==============================] - 0s 32ms/step - loss: 0.3960 - acc: 0.9867 - val_loss: 0.6633 - val_acc: 0.6187\n",
      "Epoch 8/30\n",
      "5/5 [==============================] - 0s 31ms/step - loss: 0.3439 - acc: 0.9945 - val_loss: 0.6547 - val_acc: 0.6531\n",
      "Epoch 9/30\n",
      "5/5 [==============================] - 0s 32ms/step - loss: 0.2944 - acc: 0.9977 - val_loss: 0.6453 - val_acc: 0.6687\n",
      "Epoch 10/30\n",
      "5/5 [==============================] - 0s 31ms/step - loss: 0.2494 - acc: 0.9977 - val_loss: 0.6359 - val_acc: 0.6625\n",
      "Epoch 11/30\n",
      "5/5 [==============================] - 0s 32ms/step - loss: 0.2115 - acc: 0.9969 - val_loss: 0.6266 - val_acc: 0.6687\n",
      "Epoch 12/30\n",
      "5/5 [==============================] - 0s 34ms/step - loss: 0.1745 - acc: 0.9984 - val_loss: 0.6179 - val_acc: 0.6719\n",
      "Epoch 13/30\n",
      "5/5 [==============================] - 0s 32ms/step - loss: 0.1447 - acc: 0.9984 - val_loss: 0.6085 - val_acc: 0.6875\n",
      "Epoch 14/30\n",
      "5/5 [==============================] - 0s 38ms/step - loss: 0.1187 - acc: 0.9992 - val_loss: 0.5998 - val_acc: 0.6719\n",
      "Epoch 15/30\n",
      "5/5 [==============================] - 0s 39ms/step - loss: 0.0972 - acc: 1.0000 - val_loss: 0.5922 - val_acc: 0.6906\n",
      "Epoch 16/30\n",
      "5/5 [==============================] - 0s 31ms/step - loss: 0.0791 - acc: 1.0000 - val_loss: 0.5849 - val_acc: 0.6812\n",
      "Epoch 17/30\n",
      "5/5 [==============================] - 0s 34ms/step - loss: 0.0642 - acc: 1.0000 - val_loss: 0.5767 - val_acc: 0.6844\n",
      "Epoch 18/30\n",
      "5/5 [==============================] - 0s 32ms/step - loss: 0.0516 - acc: 1.0000 - val_loss: 0.5699 - val_acc: 0.6875\n",
      "Epoch 19/30\n",
      "5/5 [==============================] - 0s 37ms/step - loss: 0.0415 - acc: 1.0000 - val_loss: 0.5640 - val_acc: 0.6969\n",
      "Epoch 20/30\n",
      "5/5 [==============================] - 0s 34ms/step - loss: 0.0332 - acc: 1.0000 - val_loss: 0.5583 - val_acc: 0.7000\n",
      "Epoch 21/30\n",
      "5/5 [==============================] - 0s 33ms/step - loss: 0.0266 - acc: 1.0000 - val_loss: 0.5522 - val_acc: 0.6969\n",
      "Epoch 22/30\n",
      "5/5 [==============================] - 0s 33ms/step - loss: 0.0212 - acc: 1.0000 - val_loss: 0.5483 - val_acc: 0.7000\n",
      "Epoch 23/30\n",
      "5/5 [==============================] - 0s 33ms/step - loss: 0.0168 - acc: 1.0000 - val_loss: 0.5437 - val_acc: 0.7031\n",
      "Epoch 24/30\n",
      "5/5 [==============================] - 0s 34ms/step - loss: 0.0134 - acc: 1.0000 - val_loss: 0.5398 - val_acc: 0.7063\n",
      "Epoch 25/30\n",
      "5/5 [==============================] - 0s 33ms/step - loss: 0.0107 - acc: 1.0000 - val_loss: 0.5363 - val_acc: 0.7031\n",
      "Epoch 26/30\n",
      "5/5 [==============================] - 0s 33ms/step - loss: 0.0085 - acc: 1.0000 - val_loss: 0.5326 - val_acc: 0.7156\n",
      "Epoch 27/30\n",
      "5/5 [==============================] - 0s 31ms/step - loss: 0.0067 - acc: 1.0000 - val_loss: 0.5292 - val_acc: 0.7125\n",
      "Epoch 28/30\n",
      "5/5 [==============================] - 0s 32ms/step - loss: 0.0053 - acc: 1.0000 - val_loss: 0.5268 - val_acc: 0.7156\n",
      "Epoch 29/30\n",
      "5/5 [==============================] - 0s 32ms/step - loss: 0.0042 - acc: 1.0000 - val_loss: 0.5263 - val_acc: 0.7125\n",
      "Epoch 30/30\n",
      "5/5 [==============================] - 0s 31ms/step - loss: 0.0033 - acc: 1.0000 - val_loss: 0.5243 - val_acc: 0.7281\n"
     ]
    }
   ],
   "source": [
    "## model 만들기\n",
    "from keras.models import Sequential\n",
    "from keras.layers import Flatten, Dense, Embedding\n",
    "import numpy as np\n",
    "\n",
    "model = Sequential()\n",
    "model.add(Embedding(max_words, 32, input_length=maxlen))\n",
    "#input_dim=10000, ouput_dim=32, input_length=500\n",
    "\n",
    "model.add(Flatten()) #input을 일렬화\n",
    "\n",
    "model.add(Dense(1, activation='sigmoid'))\n",
    "#밀집 연결 신경망 레이어, units(output_dim)=1, activation(활성화 함수)\n",
    "\n",
    "model.compile(optimizer='rmsprop', loss='binary_crossentropy', metrics=['acc'])\n",
    "model.summary()\n",
    "\n",
    "## model.fit input변수 numpy array로 데이터 타입 변환\n",
    "X_train = np.asarray(X_train)\n",
    "y_train = np.asarray(y_train)\n",
    "\n",
    "## 모델 적용하기\n",
    "history = model.fit(X_train, y_train, \n",
    "                    epochs=30,\n",
    "                    batch_size=256,\n",
    "                    validation_split=0.2)"
   ]
  },
  {
   "cell_type": "code",
   "execution_count": 10,
   "metadata": {},
   "outputs": [
    {
     "name": "stdout",
     "output_type": "stream",
     "text": [
      "dict_keys(['loss', 'acc', 'val_loss', 'val_acc'])\n"
     ]
    },
    {
     "data": {
      "image/png": "[encoded data removed]",
      "text/plain": [
       "<Figure size 432x288 with 1 Axes>"
      ]
     },
     "metadata": {
      "needs_background": "light"
     },
     "output_type": "display_data"
    }
   ],
   "source": [
    "## 시각화\n",
    "%matplotlib inline\n",
    "import matplotlib.pyplot as plt\n",
    "\n",
    "history_dict = history.history\n",
    "print(history_dict.keys())\n",
    "loss = history_dict['loss']\n",
    "val_loss = history_dict['val_loss']\n",
    "\n",
    "epochs = range(1, len(loss) + 1)\n",
    "\n",
    "plt.plot(epochs, loss, 'bo', label='Training loss')\n",
    "plt.plot(epochs, val_loss, 'r', label='Validation loss')\n",
    "plt.title('Training and validation loss')\n",
    "plt.xlabel('Epochs')\n",
    "plt.ylabel('Loss')\n",
    "plt.legend()\n",
    "\n",
    "plt.show()"
   ]
  },
  {
   "cell_type": "code",
   "execution_count": 11,
   "metadata": {},
   "outputs": [
    {
     "name": "stdout",
     "output_type": "stream",
     "text": [
      "13/13 [==============================] - 0s 2ms/step - loss: 0.5173 - acc: 0.7275\n",
      "[0.5172623991966248, 0.7275000214576721]\n"
     ]
    }
   ],
   "source": [
    "## model.fit input변수 numpy array로 데이터 타입 변환\n",
    "X_test = np.asarray(X_test)\n",
    "y_test = np.asarray(y_test)\n",
    "\n",
    "score = model.evaluate(X_test, y_test)\n",
    "print(score)"
   ]
  },
  {
   "cell_type": "code",
   "execution_count": 12,
   "metadata": {},
   "outputs": [
    {
     "name": "stdout",
     "output_type": "stream",
     "text": [
      "Model: \"sequential_1\"\n",
      "_________________________________________________________________\n",
      "Layer (type)                 Output Shape              Param #   \n",
      "=================================================================\n",
      "embedding_1 (Embedding)      (None, None, 32)          320000    \n",
      "_________________________________________________________________\n",
      "lstm (LSTM)                  (None, 32)                8320      \n",
      "_________________________________________________________________\n",
      "dense_1 (Dense)              (None, 1)                 33        \n",
      "=================================================================\n",
      "Total params: 328,353\n",
      "Trainable params: 328,353\n",
      "Non-trainable params: 0\n",
      "_________________________________________________________________\n"
     ]
    }
   ],
   "source": [
    "## LSTM 적용 모델\n",
    "from keras.layers import SimpleRNN, LSTM\n",
    "\n",
    "model = Sequential()\n",
    "model.add(Embedding(max_words, 32))\n",
    "#model.add(SimpleRNN(32))\n",
    "model.add(LSTM(32))\n",
    "model.add(Dense(1, activation='sigmoid'))\n",
    "model.summary()"
   ]
  },
  {
   "cell_type": "code",
   "execution_count": 13,
   "metadata": {},
   "outputs": [
    {
     "name": "stdout",
     "output_type": "stream",
     "text": [
      "Epoch 1/30\n",
      "5/5 [==============================] - 3s 667ms/step - loss: 0.6927 - acc: 0.5234 - val_loss: 0.6928 - val_acc: 0.5063\n",
      "Epoch 2/30\n",
      "5/5 [==============================] - 3s 529ms/step - loss: 0.6855 - acc: 0.6023 - val_loss: 0.6880 - val_acc: 0.5719\n",
      "Epoch 3/30\n",
      "5/5 [==============================] - 3s 527ms/step - loss: 0.7265 - acc: 0.6680 - val_loss: 0.6792 - val_acc: 0.6062\n",
      "Epoch 4/30\n",
      "5/5 [==============================] - 3s 523ms/step - loss: 0.6402 - acc: 0.8273 - val_loss: 0.6646 - val_acc: 0.6562\n",
      "Epoch 5/30\n",
      "5/5 [==============================] - 3s 517ms/step - loss: 0.5976 - acc: 0.8375 - val_loss: 0.6383 - val_acc: 0.7031\n",
      "Epoch 6/30\n",
      "5/5 [==============================] - 3s 526ms/step - loss: 0.5556 - acc: 0.8406 - val_loss: 0.6501 - val_acc: 0.6281\n",
      "Epoch 7/30\n",
      "5/5 [==============================] - 3s 524ms/step - loss: 0.5218 - acc: 0.8648 - val_loss: 0.5906 - val_acc: 0.7312\n",
      "Epoch 8/30\n",
      "5/5 [==============================] - 3s 556ms/step - loss: 0.4227 - acc: 0.9164 - val_loss: 0.5492 - val_acc: 0.7469\n",
      "Epoch 9/30\n",
      "5/5 [==============================] - 3s 524ms/step - loss: 0.3680 - acc: 0.9211 - val_loss: 0.5459 - val_acc: 0.7437\n",
      "Epoch 10/30\n",
      "5/5 [==============================] - 3s 535ms/step - loss: 0.3809 - acc: 0.8672 - val_loss: 0.5739 - val_acc: 0.7312\n",
      "Epoch 11/30\n",
      "5/5 [==============================] - 3s 528ms/step - loss: 0.3026 - acc: 0.9367 - val_loss: 0.5285 - val_acc: 0.7719\n",
      "Epoch 12/30\n",
      "5/5 [==============================] - 3s 613ms/step - loss: 0.2842 - acc: 0.9383 - val_loss: 0.5249 - val_acc: 0.7688\n",
      "Epoch 13/30\n",
      "5/5 [==============================] - 3s 592ms/step - loss: 0.2394 - acc: 0.9578 - val_loss: 0.5503 - val_acc: 0.7312\n",
      "Epoch 14/30\n",
      "5/5 [==============================] - 3s 612ms/step - loss: 0.2302 - acc: 0.9547 - val_loss: 0.4835 - val_acc: 0.7812\n",
      "Epoch 15/30\n",
      "5/5 [==============================] - 3s 642ms/step - loss: 0.2015 - acc: 0.9625 - val_loss: 0.4872 - val_acc: 0.7750\n",
      "Epoch 16/30\n",
      "5/5 [==============================] - 3s 553ms/step - loss: 0.1546 - acc: 0.9797 - val_loss: 0.5189 - val_acc: 0.7656\n",
      "Epoch 17/30\n",
      "5/5 [==============================] - 3s 574ms/step - loss: 0.1469 - acc: 0.9742 - val_loss: 0.5333 - val_acc: 0.7125\n",
      "Epoch 18/30\n",
      "5/5 [==============================] - 3s 580ms/step - loss: 0.1868 - acc: 0.9648 - val_loss: 0.4803 - val_acc: 0.7594\n",
      "Epoch 19/30\n",
      "5/5 [==============================] - 3s 570ms/step - loss: 0.1061 - acc: 0.9891 - val_loss: 0.5081 - val_acc: 0.7906\n",
      "Epoch 20/30\n",
      "5/5 [==============================] - 3s 558ms/step - loss: 0.1337 - acc: 0.9805 - val_loss: 0.4679 - val_acc: 0.7844\n",
      "Epoch 21/30\n",
      "5/5 [==============================] - 3s 550ms/step - loss: 0.0729 - acc: 0.9945 - val_loss: 0.5405 - val_acc: 0.7625\n",
      "Epoch 22/30\n",
      "5/5 [==============================] - 3s 557ms/step - loss: 0.0603 - acc: 0.9969 - val_loss: 0.7287 - val_acc: 0.7125\n",
      "Epoch 23/30\n",
      "5/5 [==============================] - 3s 548ms/step - loss: 0.1429 - acc: 0.9672 - val_loss: 0.5266 - val_acc: 0.7688\n",
      "Epoch 24/30\n",
      "5/5 [==============================] - 3s 551ms/step - loss: 0.0552 - acc: 1.0000 - val_loss: 0.5364 - val_acc: 0.7812\n",
      "Epoch 25/30\n",
      "5/5 [==============================] - 3s 552ms/step - loss: 0.0438 - acc: 1.0000 - val_loss: 0.5732 - val_acc: 0.7812\n",
      "Epoch 26/30\n",
      "5/5 [==============================] - 3s 558ms/step - loss: 0.0624 - acc: 0.9906 - val_loss: 0.5053 - val_acc: 0.7688\n",
      "Epoch 27/30\n",
      "5/5 [==============================] - 3s 559ms/step - loss: 0.0395 - acc: 1.0000 - val_loss: 0.5967 - val_acc: 0.7625\n",
      "Epoch 28/30\n",
      "5/5 [==============================] - 3s 557ms/step - loss: 0.0306 - acc: 1.0000 - val_loss: 0.6283 - val_acc: 0.7781\n",
      "Epoch 29/30\n",
      "5/5 [==============================] - 3s 549ms/step - loss: 0.0952 - acc: 0.9688 - val_loss: 0.6037 - val_acc: 0.6875\n",
      "Epoch 30/30\n",
      "5/5 [==============================] - 3s 550ms/step - loss: 0.1069 - acc: 0.9836 - val_loss: 0.7076 - val_acc: 0.7219\n"
     ]
    }
   ],
   "source": [
    "model.compile(optimizer='rmsprop', loss='binary_crossentropy', metrics=['acc'])\n",
    "\n",
    "history = model.fit(X_train, y_train, \n",
    "                    epochs=30,\n",
    "                    batch_size=256,\n",
    "                    validation_split=0.2)"
   ]
  },
  {
   "cell_type": "code",
   "execution_count": 14,
   "metadata": {},
   "outputs": [
    {
     "data": {
      "image/png": "[encoded data removed]",
      "text/plain": [
       "<Figure size 432x288 with 1 Axes>"
      ]
     },
     "metadata": {
      "needs_background": "light"
     },
     "output_type": "display_data"
    }
   ],
   "source": [
    "## loss, val_loss 시각화\n",
    "history_dict = history.history\n",
    "loss = history_dict['loss']\n",
    "val_loss = history_dict['val_loss']\n",
    "\n",
    "epochs = range(1, len(loss) + 1)\n",
    "\n",
    "plt.plot(epochs, loss, 'bo', label='Training loss')\n",
    "plt.plot(epochs, val_loss, 'r', label='Validation loss')\n",
    "plt.title('Training and validation loss')\n",
    "plt.xlabel('Epochs')\n",
    "plt.ylabel('Loss')\n",
    "plt.legend()\n",
    "\n",
    "plt.show()"
   ]
  },
  {
   "cell_type": "code",
   "execution_count": 15,
   "metadata": {},
   "outputs": [
    {
     "data": {
      "image/png": "[encoded data removed]",
      "text/plain": [
       "<Figure size 432x288 with 1 Axes>"
      ]
     },
     "metadata": {
      "needs_background": "light"
     },
     "output_type": "display_data"
    }
   ],
   "source": [
    "## acc, val_acc 시각화\n",
    "history_dict = history.history\n",
    "acc = history_dict['acc']\n",
    "val_acc = history_dict['val_acc']\n",
    "\n",
    "epochs = range(1, len(acc) + 1)\n",
    "\n",
    "plt.plot(epochs, acc, 'bo', label='Training acc')\n",
    "plt.plot(epochs, val_acc, 'r', label='Validation acc')\n",
    "plt.title('Training and validation acc')\n",
    "plt.xlabel('Epochs')\n",
    "plt.ylabel('Accuracy')\n",
    "plt.legend()\n",
    "\n",
    "plt.show()"
   ]
  },
  {
   "cell_type": "code",
   "execution_count": 16,
   "metadata": {},
   "outputs": [
    {
     "name": "stdout",
     "output_type": "stream",
     "text": [
      "13/13 [==============================] - 0s 37ms/step - loss: 0.6529 - acc: 0.7250\n",
      "[0.6529496908187866, 0.7250000238418579]\n"
     ]
    }
   ],
   "source": [
    "## 모델 성능 확인하기\n",
    "score = model.evaluate(X_test, y_test)\n",
    "print(score)"
   ]
  },
  {
   "cell_type": "markdown",
   "metadata": {},
   "source": [
    "#### 문제점: train set의 크기가 너무 작다\n",
    "#### 해결방안: train set을 충분히 늘리거나, pre-trained embedding vector를 사용\n",
    "\n",
    "---"
   ]
  },
  {
   "cell_type": "markdown",
   "metadata": {},
   "source": [
    "## pre-trained embedding을 사용\n",
    "GloVe: https://nlp.stanford.edu/projects/glove\n",
    "다운 받아서 datasets 폴더 안에 압축을 풀고 그 중에서 glove.6B.100d.txt를 사용\n",
    "\n",
    "파일 안의 모양: 단어 + 단어의 100차원 vector 집합으로 이루어져 있음\n",
    "\n",
    "예) the -0.038194 -0.24487 0.72812 -0.39961 0.083172 0.043953 -0.39141 0.3344 -0.57545 0.087459 0.28787 -0.06731 0.30906 -0.26384 -0.13231 -0.20757 0.33395 -0.33848 -0.31743 -0.48336 0.1464 -0.37304 0.34577 0.052041 0.44946 -0.46971 0.02628 -0.54155 -0.15518 -0.14107 -0.039722 0.28277 0.14393 0.23464 -0.31021 0.086173 0.20397 0.52624 0.17164 -0.082378 -0.71787 -0.41531 0.20335 -0.12763 0.41367 0.55187 0.57908 -0.33477 -0.36559 -0.54857 -0.062892 0.26584 0.30205 0.99775 -0.80481 -3.0243 0.01254 -0.36942 2.2167 0.72201 -0.24978 0.92136 0.034514 0.46745 1.1079 -0.19358 -0.074575 0.23353 -0.052062 -0.22044 0.057162 -0.15806 -0.30798 -0.41625 0.37972 0.15006 -0.53212 -0.2055 -1.2526 0.071624 0.70565 0.49744 -0.42063 0.26148 -1.538 -0.30223 -0.073438 -0.28312 0.37104 -0.25217 0.016215 -0.017099 -0.38984 0.87424 -0.72569 -0.51058 -0.52028 -0.1459 0.8278 0.27062\n",
    "\n",
    "한 라인은 하나의 단어와 그 단어의 vector로 이루어져 있으므로, 각 라인에 대해 첫 token을 word로, 나머지 100 token을 vector로 변환하면 됨"
   ]
  },
  {
   "cell_type": "code",
   "execution_count": 17,
   "metadata": {},
   "outputs": [
    {
     "name": "stdout",
     "output_type": "stream",
     "text": [
      "Num of word vectors: 400000\n"
     ]
    }
   ],
   "source": [
    "glove_dir = 'C:/Users/Okyoung/Desktop/Business Analytics_캡스톤디자인/개인과제/datasets/'\n",
    "import os\n",
    "import numpy as np\n",
    "\n",
    "embeddings_index = {}\n",
    "f = open(os.path.join(glove_dir, 'glove.6B.100d.txt'), encoding='utf8')\n",
    "for line in f:\n",
    "    values = line.split()\n",
    "    word = values[0]\n",
    "    coefs = np.asarray(values[1:], dtype='float32')\n",
    "    embeddings_index[word] = coefs\n",
    "f.close()\n",
    "\n",
    "print('Num of word vectors:', len(embeddings_index))"
   ]
  },
  {
   "cell_type": "code",
   "execution_count": 18,
   "metadata": {},
   "outputs": [
    {
     "data": {
      "text/plain": [
       "43296"
      ]
     },
     "execution_count": 18,
     "metadata": {},
     "output_type": "execute_result"
    }
   ],
   "source": [
    "# 처음 데이터를 생성할 때 사용한 tokenizer에서 word_index를 추출\n",
    "# 이 word_index에 맞게 glove로부터 해당하는 word vector를 가져옴\n",
    "word_index = tokenizer.word_index\n",
    "len(word_index)"
   ]
  },
  {
   "cell_type": "code",
   "execution_count": 19,
   "metadata": {},
   "outputs": [],
   "source": [
    "#embedding matrix를 생성: word_index에서 max_words 만큼의 단어에 대해 glove의 embeddings_index를 추출하여 matrix 생성\n",
    "#추출한 matrix는 embedding 층의 weight로 고정해서 사용함\n",
    "\n",
    "embedding_dim = 100 # glove의 vector dimension\n",
    "embedding_matrix = np.zeros((max_words, embedding_dim))\n",
    "for word, i in word_index.items():\n",
    "    if i < max_words:\n",
    "        embedding_vector = embeddings_index.get(word)\n",
    "        if embedding_vector is not None:\n",
    "            embedding_matrix[i] = embedding_vector"
   ]
  },
  {
   "cell_type": "code",
   "execution_count": 20,
   "metadata": {},
   "outputs": [],
   "source": [
    "## model 생성\n",
    "from keras.models import Sequential\n",
    "from keras.layers import Flatten, Dense, Embedding\n",
    "from keras.layers import SimpleRNN, LSTM\n",
    "\n",
    "model = Sequential()\n",
    "model.add(Embedding(max_words, embedding_dim))\n",
    "#model.add(SimpleRNN(32))\n",
    "model.add(LSTM(32))\n",
    "model.add(Dense(1, activation='sigmoid'))"
   ]
  },
  {
   "cell_type": "code",
   "execution_count": 21,
   "metadata": {},
   "outputs": [
    {
     "name": "stdout",
     "output_type": "stream",
     "text": [
      "Model: \"sequential_2\"\n",
      "_________________________________________________________________\n",
      "Layer (type)                 Output Shape              Param #   \n",
      "=================================================================\n",
      "embedding_2 (Embedding)      (None, None, 100)         1000000   \n",
      "_________________________________________________________________\n",
      "lstm_1 (LSTM)                (None, 32)                17024     \n",
      "_________________________________________________________________\n",
      "dense_2 (Dense)              (None, 1)                 33        \n",
      "=================================================================\n",
      "Total params: 1,017,057\n",
      "Trainable params: 17,057\n",
      "Non-trainable params: 1,000,000\n",
      "_________________________________________________________________\n"
     ]
    }
   ],
   "source": [
    "# layer 확인\n",
    "model.layers[0].set_weights([embedding_matrix])\n",
    "model.layers[0].trainable = False #값을 고정\n",
    "model.summary()"
   ]
  },
  {
   "cell_type": "code",
   "execution_count": 22,
   "metadata": {},
   "outputs": [
    {
     "name": "stdout",
     "output_type": "stream",
     "text": [
      "Epoch 1/30\n",
      "5/5 [==============================] - 4s 887ms/step - loss: 0.7068 - acc: 0.5078 - val_loss: 0.6903 - val_acc: 0.5219\n",
      "Epoch 2/30\n",
      "5/5 [==============================] - 3s 668ms/step - loss: 0.6744 - acc: 0.5938 - val_loss: 0.6730 - val_acc: 0.5813\n",
      "Epoch 3/30\n",
      "5/5 [==============================] - 3s 665ms/step - loss: 0.6552 - acc: 0.6242 - val_loss: 0.6572 - val_acc: 0.6094\n",
      "Epoch 4/30\n",
      "5/5 [==============================] - 3s 632ms/step - loss: 0.6271 - acc: 0.6508 - val_loss: 0.6625 - val_acc: 0.6031\n",
      "Epoch 5/30\n",
      "5/5 [==============================] - 3s 661ms/step - loss: 0.6433 - acc: 0.6234 - val_loss: 0.6419 - val_acc: 0.6344\n",
      "Epoch 6/30\n",
      "5/5 [==============================] - 3s 627ms/step - loss: 0.6236 - acc: 0.6383 - val_loss: 0.6440 - val_acc: 0.6250\n",
      "Epoch 7/30\n",
      "5/5 [==============================] - 3s 633ms/step - loss: 0.6103 - acc: 0.6789 - val_loss: 0.6447 - val_acc: 0.6219\n",
      "Epoch 8/30\n",
      "5/5 [==============================] - 3s 649ms/step - loss: 0.5907 - acc: 0.6977 - val_loss: 0.6368 - val_acc: 0.6469\n",
      "Epoch 9/30\n",
      "5/5 [==============================] - 3s 657ms/step - loss: 0.5656 - acc: 0.7180 - val_loss: 0.5999 - val_acc: 0.6687\n",
      "Epoch 10/30\n",
      "5/5 [==============================] - 3s 678ms/step - loss: 0.5260 - acc: 0.7406 - val_loss: 0.5646 - val_acc: 0.6969\n",
      "Epoch 11/30\n",
      "5/5 [==============================] - 3s 659ms/step - loss: 0.4964 - acc: 0.7656 - val_loss: 0.6367 - val_acc: 0.6469\n",
      "Epoch 12/30\n",
      "5/5 [==============================] - 3s 634ms/step - loss: 0.5933 - acc: 0.6664 - val_loss: 0.6917 - val_acc: 0.5813\n",
      "Epoch 13/30\n",
      "5/5 [==============================] - 3s 652ms/step - loss: 0.5929 - acc: 0.6945 - val_loss: 0.6462 - val_acc: 0.6281\n",
      "Epoch 14/30\n",
      "5/5 [==============================] - 3s 671ms/step - loss: 0.5760 - acc: 0.7086 - val_loss: 0.6315 - val_acc: 0.6531\n",
      "Epoch 15/30\n",
      "5/5 [==============================] - 3s 675ms/step - loss: 0.5480 - acc: 0.7273 - val_loss: 0.6225 - val_acc: 0.6594\n",
      "Epoch 16/30\n",
      "5/5 [==============================] - 4s 790ms/step - loss: 0.5130 - acc: 0.7492 - val_loss: 0.5939 - val_acc: 0.6844\n",
      "Epoch 17/30\n",
      "5/5 [==============================] - 4s 749ms/step - loss: 0.4759 - acc: 0.7773 - val_loss: 0.5471 - val_acc: 0.7312\n",
      "Epoch 18/30\n",
      "5/5 [==============================] - 4s 792ms/step - loss: 0.4430 - acc: 0.7945 - val_loss: 0.6227 - val_acc: 0.6719\n",
      "Epoch 19/30\n",
      "5/5 [==============================] - 4s 777ms/step - loss: 0.4501 - acc: 0.7914 - val_loss: 0.5434 - val_acc: 0.7500\n",
      "Epoch 20/30\n",
      "5/5 [==============================] - 4s 735ms/step - loss: 0.4010 - acc: 0.8258 - val_loss: 0.5945 - val_acc: 0.7437\n",
      "Epoch 21/30\n",
      "5/5 [==============================] - 4s 726ms/step - loss: 0.3935 - acc: 0.8273 - val_loss: 0.5384 - val_acc: 0.7500\n",
      "Epoch 22/30\n",
      "5/5 [==============================] - 4s 775ms/step - loss: 0.3784 - acc: 0.8281 - val_loss: 0.5391 - val_acc: 0.7563\n",
      "Epoch 23/30\n",
      "5/5 [==============================] - 3s 696ms/step - loss: 0.3479 - acc: 0.8617 - val_loss: 0.5783 - val_acc: 0.7500\n",
      "Epoch 24/30\n",
      "5/5 [==============================] - 3s 682ms/step - loss: 0.3276 - acc: 0.8523 - val_loss: 0.5304 - val_acc: 0.7656\n",
      "Epoch 25/30\n",
      "5/5 [==============================] - 3s 679ms/step - loss: 0.2970 - acc: 0.8727 - val_loss: 0.5586 - val_acc: 0.7719\n",
      "Epoch 26/30\n",
      "5/5 [==============================] - 3s 668ms/step - loss: 0.2648 - acc: 0.8953 - val_loss: 0.5475 - val_acc: 0.7781\n",
      "Epoch 27/30\n",
      "5/5 [==============================] - 3s 672ms/step - loss: 0.2402 - acc: 0.9016 - val_loss: 0.5453 - val_acc: 0.7656\n",
      "Epoch 28/30\n",
      "5/5 [==============================] - 4s 704ms/step - loss: 0.2137 - acc: 0.9211 - val_loss: 0.5547 - val_acc: 0.7563\n",
      "Epoch 29/30\n",
      "5/5 [==============================] - 3s 678ms/step - loss: 0.2064 - acc: 0.9258 - val_loss: 0.6208 - val_acc: 0.7594\n",
      "Epoch 30/30\n",
      "5/5 [==============================] - 3s 675ms/step - loss: 0.1707 - acc: 0.9383 - val_loss: 0.7204 - val_acc: 0.7312\n"
     ]
    }
   ],
   "source": [
    "from keras import optimizers\n",
    "#rmsprop = optimizers.RMSprop(lr=0.0001, rho=0.9, epsilon=None, decay=0.0) #default lr은 0.001\n",
    "#rmsprop = optimizers.RMSprop(lr=0.005) #default lr은 0.001\n",
    "adam = optimizers.Adam(lr=0.005) #default lr은 0.001\n",
    "\n",
    "# pre-train이 되어 있으므로 적은 수의 test set으로도 학습이 가능\n",
    "model.compile(optimizer=adam, loss='binary_crossentropy', metrics=['acc'])\n",
    "\n",
    "history = model.fit(X_train, y_train, \n",
    "                    epochs=30,\n",
    "                    batch_size=256,\n",
    "                    validation_split=0.2) \n",
    "#model.save_weights('pre_trained_glove_model.h5')"
   ]
  },
  {
   "cell_type": "code",
   "execution_count": 23,
   "metadata": {},
   "outputs": [
    {
     "data": {
      "image/png": "[encoded data removed]",
      "text/plain": [
       "<Figure size 432x288 with 1 Axes>"
      ]
     },
     "metadata": {
      "needs_background": "light"
     },
     "output_type": "display_data"
    }
   ],
   "source": [
    "## acc, val_acc 시각화\n",
    "history_dict = history.history\n",
    "acc = history_dict['acc']\n",
    "val_acc = history_dict['val_acc']\n",
    "\n",
    "epochs = range(1, len(acc) + 1)\n",
    "\n",
    "plt.plot(epochs, acc, 'bo', label='Training acc')\n",
    "plt.plot(epochs, val_acc, 'r', label='Validation acc')\n",
    "plt.title('Training and validation acc')\n",
    "plt.xlabel('Epochs')\n",
    "plt.ylabel('Accuracy')\n",
    "plt.legend()\n",
    "\n",
    "plt.show()"
   ]
  },
  {
   "cell_type": "code",
   "execution_count": 24,
   "metadata": {},
   "outputs": [
    {
     "name": "stdout",
     "output_type": "stream",
     "text": [
      "13/13 [==============================] - 1s 44ms/step - loss: 0.6502 - acc: 0.7450\n",
      "[0.6501657962799072, 0.7450000047683716]\n"
     ]
    }
   ],
   "source": [
    "## 모델 성능 확인\n",
    "score = model.evaluate(X_test, y_test)\n",
    "print(score)"
   ]
  },
  {
   "cell_type": "markdown",
   "metadata": {},
   "source": [
    "### glove를 사용하지 않으면서 좀 더 정교한 모형을 사용하여 학습\n",
    "* optimizer를 정교하게 조정하고, regularizer를 추가"
   ]
  },
  {
   "cell_type": "code",
   "execution_count": 25,
   "metadata": {},
   "outputs": [
    {
     "name": "stdout",
     "output_type": "stream",
     "text": [
      "Model: \"sequential_3\"\n",
      "_________________________________________________________________\n",
      "Layer (type)                 Output Shape              Param #   \n",
      "=================================================================\n",
      "embedding_3 (Embedding)      (None, None, 32)          320000    \n",
      "_________________________________________________________________\n",
      "lstm_2 (LSTM)                (None, 32)                8320      \n",
      "_________________________________________________________________\n",
      "dense_3 (Dense)              (None, 1)                 33        \n",
      "=================================================================\n",
      "Total params: 328,353\n",
      "Trainable params: 328,353\n",
      "Non-trainable params: 0\n",
      "_________________________________________________________________\n"
     ]
    }
   ],
   "source": [
    "from keras.layers import SimpleRNN, LSTM\n",
    "from keras import regularizers\n",
    "\n",
    "model = Sequential()\n",
    "model.add(Embedding(max_words, 32))\n",
    "#model.add(SimpleRNN(32))\n",
    "model.add(LSTM(32))\n",
    "#model.add(Dense(32, kernel_regularizer=regularizers.l2(0.01)))\n",
    "model.add(Dense(1, activation='sigmoid', kernel_regularizer=regularizers.l2(0.1))) #0.01을 먼저 시도했음\n",
    "\n",
    "model.summary()"
   ]
  },
  {
   "cell_type": "code",
   "execution_count": 26,
   "metadata": {},
   "outputs": [
    {
     "name": "stdout",
     "output_type": "stream",
     "text": [
      "Epoch 1/30\n",
      "5/5 [==============================] - 4s 858ms/step - loss: 0.8483 - acc: 0.5242 - val_loss: 0.7934 - val_acc: 0.5219\n",
      "Epoch 2/30\n",
      "5/5 [==============================] - 4s 702ms/step - loss: 0.7308 - acc: 0.7430 - val_loss: 0.8247 - val_acc: 0.5125\n",
      "Epoch 3/30\n",
      "5/5 [==============================] - 3s 654ms/step - loss: 0.6323 - acc: 0.7797 - val_loss: 0.7244 - val_acc: 0.6344\n",
      "Epoch 4/30\n",
      "5/5 [==============================] - 3s 680ms/step - loss: 0.4902 - acc: 0.9000 - val_loss: 0.7111 - val_acc: 0.6500\n",
      "Epoch 5/30\n",
      "5/5 [==============================] - 3s 681ms/step - loss: 0.4302 - acc: 0.8875 - val_loss: 0.7071 - val_acc: 0.6562\n",
      "Epoch 6/30\n",
      "5/5 [==============================] - 3s 678ms/step - loss: 0.3973 - acc: 0.9531 - val_loss: 0.6752 - val_acc: 0.7031\n",
      "Epoch 7/30\n",
      "5/5 [==============================] - 3s 690ms/step - loss: 0.2667 - acc: 0.9742 - val_loss: 0.7097 - val_acc: 0.6656\n",
      "Epoch 8/30\n",
      "5/5 [==============================] - 4s 725ms/step - loss: 0.2193 - acc: 0.9914 - val_loss: 0.7124 - val_acc: 0.7125\n",
      "Epoch 9/30\n",
      "5/5 [==============================] - 3s 687ms/step - loss: 0.2514 - acc: 0.9695 - val_loss: 0.7252 - val_acc: 0.7094\n",
      "Epoch 10/30\n",
      "5/5 [==============================] - 4s 815ms/step - loss: 0.1761 - acc: 0.9969 - val_loss: 0.7726 - val_acc: 0.7375\n",
      "Epoch 11/30\n",
      "5/5 [==============================] - 4s 814ms/step - loss: 0.1531 - acc: 0.9984 - val_loss: 1.0078 - val_acc: 0.6500\n",
      "Epoch 12/30\n",
      "5/5 [==============================] - 4s 752ms/step - loss: 0.2502 - acc: 0.9555 - val_loss: 0.7459 - val_acc: 0.7125\n",
      "Epoch 13/30\n",
      "5/5 [==============================] - 4s 753ms/step - loss: 0.1707 - acc: 0.9859 - val_loss: 0.8650 - val_acc: 0.6375\n",
      "Epoch 14/30\n",
      "5/5 [==============================] - 4s 739ms/step - loss: 0.2114 - acc: 0.9742 - val_loss: 0.7682 - val_acc: 0.7031\n",
      "Epoch 15/30\n",
      "5/5 [==============================] - 4s 779ms/step - loss: 0.1329 - acc: 1.0000 - val_loss: 0.7807 - val_acc: 0.7281\n",
      "Epoch 16/30\n",
      "5/5 [==============================] - 4s 714ms/step - loss: 0.1256 - acc: 1.0000 - val_loss: 0.7977 - val_acc: 0.7156\n",
      "Epoch 17/30\n",
      "5/5 [==============================] - 4s 706ms/step - loss: 0.1209 - acc: 0.9992 - val_loss: 0.7910 - val_acc: 0.7312\n",
      "Epoch 18/30\n",
      "5/5 [==============================] - 3s 692ms/step - loss: 0.1151 - acc: 1.0000 - val_loss: 0.8011 - val_acc: 0.7375\n",
      "Epoch 19/30\n",
      "5/5 [==============================] - 3s 687ms/step - loss: 0.1107 - acc: 1.0000 - val_loss: 0.8517 - val_acc: 0.7219\n",
      "Epoch 20/30\n",
      "5/5 [==============================] - 3s 679ms/step - loss: 0.1071 - acc: 1.0000 - val_loss: 0.8374 - val_acc: 0.7344\n",
      "Epoch 21/30\n",
      "5/5 [==============================] - 3s 678ms/step - loss: 0.1810 - acc: 0.9641 - val_loss: 0.7288 - val_acc: 0.6531\n",
      "Epoch 22/30\n",
      "5/5 [==============================] - 3s 679ms/step - loss: 0.1825 - acc: 0.9805 - val_loss: 0.8407 - val_acc: 0.6812\n",
      "Epoch 23/30\n",
      "5/5 [==============================] - 4s 708ms/step - loss: 0.1113 - acc: 0.9984 - val_loss: 1.0171 - val_acc: 0.6656\n",
      "Epoch 24/30\n",
      "5/5 [==============================] - 3s 691ms/step - loss: 0.2258 - acc: 0.9539 - val_loss: 0.7694 - val_acc: 0.6719\n",
      "Epoch 25/30\n",
      "5/5 [==============================] - 4s 760ms/step - loss: 0.1121 - acc: 0.9992 - val_loss: 0.7899 - val_acc: 0.6969\n",
      "Epoch 26/30\n",
      "5/5 [==============================] - 4s 745ms/step - loss: 0.1016 - acc: 1.0000 - val_loss: 0.8140 - val_acc: 0.7188\n",
      "Epoch 27/30\n",
      "5/5 [==============================] - 4s 758ms/step - loss: 0.0988 - acc: 1.0000 - val_loss: 0.8645 - val_acc: 0.7000\n",
      "Epoch 28/30\n",
      "5/5 [==============================] - 3s 695ms/step - loss: 0.0969 - acc: 1.0000 - val_loss: 0.8379 - val_acc: 0.7188\n",
      "Epoch 29/30\n",
      "5/5 [==============================] - 4s 738ms/step - loss: 0.0953 - acc: 1.0000 - val_loss: 0.9121 - val_acc: 0.7094\n",
      "Epoch 30/30\n",
      "5/5 [==============================] - 3s 686ms/step - loss: 0.1236 - acc: 0.9867 - val_loss: 0.7502 - val_acc: 0.7031\n"
     ]
    }
   ],
   "source": [
    "from keras import optimizers\n",
    "#adam = optimizers.Adam(lr=0.005) #default lr은 0.001\n",
    "rmsprop = optimizers.RMSprop(lr=0.005) #default lr은 0.001\n",
    "\n",
    "model.compile(optimizer=rmsprop, loss='binary_crossentropy', metrics=['acc']) \n",
    "#lr 조절 없고 l2=0.01일 때 test 0.775 나옴\n",
    "\n",
    "history = model.fit(X_train, y_train, \n",
    "                    epochs=30,\n",
    "                    batch_size=256,\n",
    "                    validation_split=0.2) "
   ]
  },
  {
   "cell_type": "code",
   "execution_count": 27,
   "metadata": {},
   "outputs": [
    {
     "name": "stdout",
     "output_type": "stream",
     "text": [
      "13/13 [==============================] - 0s 38ms/step - loss: 0.7271 - acc: 0.6800\n",
      "[0.7271331548690796, 0.6800000071525574]\n"
     ]
    }
   ],
   "source": [
    "## 성능 확인\n",
    "score = model.evaluate(X_test, y_test)\n",
    "print(score)"
   ]
  },
  {
   "cell_type": "markdown",
   "metadata": {},
   "source": [
    "# 07. Keras Review Classify(Korean)\n",
    "\n",
    "## 1. train set의 크기가 더 큰 데이터 셋, 그리고 한글"
   ]
  },
  {
   "cell_type": "code",
   "execution_count": 28,
   "metadata": {},
   "outputs": [],
   "source": [
    "## 데이터 불러오기\n",
    "import csv\n",
    "\n",
    "text = []\n",
    "y = []\n",
    "with open('movie_data_new.csv', encoding='utf-8') as csvfile:\n",
    "    csvreader = csv.reader(csvfile)\n",
    "    for row in csvreader:\n",
    "        #print(row)\n",
    "        if row: #그 줄에 내용이 있는 경우에만\n",
    "            text.append(row[0]) #영화 리뷰를 text 리스트에 추가\n",
    "            y.append(row[2]) #영화이름을 text 리스트에 추가"
   ]
  },
  {
   "cell_type": "code",
   "execution_count": 29,
   "metadata": {},
   "outputs": [
    {
     "name": "stdout",
     "output_type": "stream",
     "text": [
      "Num of samples: 14967\n",
      "Movie titles of reivews: {'곤지암', '택시운전사', '신과함께', '코코', '라라랜드', '인피니티 워', '범죄도시'}\n"
     ]
    }
   ],
   "source": [
    "## 리뷰 수, 영화제목 출력\n",
    "print('Num of samples: {}'.format(len(text)))\n",
    "print('Movie titles of reivews: {}'.format(set(y)))"
   ]
  },
  {
   "cell_type": "code",
   "execution_count": 30,
   "metadata": {},
   "outputs": [
    {
     "name": "stdout",
     "output_type": "stream",
     "text": [
      "14967\n",
      "[3, 3, 3, 3, 3, 3, 3, 3, 3, 3]\n"
     ]
    }
   ],
   "source": [
    "## y=영화제목에 라벨링\n",
    "label_dict = dict(zip(set(y),range(len(set(y)))))\n",
    "y = [label_dict[c] for c in y]\n",
    "print(len(y))\n",
    "print(y[-10:])"
   ]
  },
  {
   "cell_type": "code",
   "execution_count": 31,
   "metadata": {},
   "outputs": [],
   "source": [
    "## to_categorical\n",
    "from keras.utils.np_utils import to_categorical\n",
    "y = to_categorical(y)"
   ]
  },
  {
   "cell_type": "code",
   "execution_count": 32,
   "metadata": {},
   "outputs": [],
   "source": [
    "from konlpy.tag import Okt #konlpy에서 Twitter 형태소 분석기를 import\n",
    "#from konlpy.tag import Twitter #konlpy에서 Twitter 형태소 분석기를 import\n",
    "twitter_tag = Okt()\n",
    "#twitter_tag = Twitter()"
   ]
  },
  {
   "cell_type": "code",
   "execution_count": 33,
   "metadata": {},
   "outputs": [
    {
     "name": "stdout",
     "output_type": "stream",
     "text": [
      "['내', '졸라']\n"
     ]
    }
   ],
   "source": [
    "print(twitter_tag.nouns(text[4])) #5번째 리뷰에서 명사추출"
   ]
  },
  {
   "cell_type": "code",
   "execution_count": 34,
   "metadata": {
    "scrolled": true
   },
   "outputs": [],
   "source": [
    "## 더이상 존재하지 않는 module인듯...ㅜㅜ\n",
    "#from seqGenKor import SequenceGenKor"
   ]
  },
  {
   "cell_type": "code",
   "execution_count": 35,
   "metadata": {},
   "outputs": [],
   "source": [
    "#num_words = 10000\n",
    "\n",
    "#seq = SequenceGenKor(twitter_tag.nouns, num_words=num_words, min_token_len=1)\n",
    "#seq = SequenceGenKor(twitter_tag.morphs, num_words=num_words, min_token_len=1)\n",
    "#seq.fit_on_texts(text)\n",
    "\n",
    "#X = seq.texts_to_sequences(text)\n",
    "#print('voca_size', len(seq.voca))"
   ]
  },
  {
   "cell_type": "code",
   "execution_count": 36,
   "metadata": {},
   "outputs": [
    {
     "name": "stdout",
     "output_type": "stream",
     "text": [
      "단어 집합의 크기 : 57555\n"
     ]
    }
   ],
   "source": [
    "## tokenize\n",
    "from keras.preprocessing.text import Tokenizer\n",
    "\n",
    "num_words = 10000\n",
    "\n",
    "tokenizer = Tokenizer(num_words=num_words)\n",
    "tokenizer.fit_on_texts(text)\n",
    "vocab_size = len(tokenizer.word_index) + 1\n",
    "\n",
    "print('단어 집합의 크기 : %d' % vocab_size)"
   ]
  },
  {
   "cell_type": "code",
   "execution_count": 44,
   "metadata": {},
   "outputs": [],
   "source": [
    "X = tokenizer.texts_to_sequences(text)"
   ]
  },
  {
   "cell_type": "code",
   "execution_count": 45,
   "metadata": {
    "scrolled": true
   },
   "outputs": [
    {
     "name": "stdout",
     "output_type": "stream",
     "text": [
      "[[1011, 10, 522, 6501, 1825], [2414, 540], [], [5149, 1826, 4211, 9145, 3055, 5150, 4211, 17, 188, 9146], [], [143], [3, 5151, 49, 832], [49, 238], [78, 6502, 5152], [381, 1827], [426], [333]]\n"
     ]
    }
   ],
   "source": [
    "print(X[:12])"
   ]
  },
  {
   "cell_type": "code",
   "execution_count": 38,
   "metadata": {},
   "outputs": [
    {
     "data": {
      "text/plain": [
       "['헐..다 죽었어....나중에 앤트맨 보다가도 깜놀...',\n",
       " '충격 결말',\n",
       " '응집력',\n",
       " '개연성은 무시해라 액션을 즐겨라 스타로드가 이끌어준다 각각의 영웅들을 즐겨라 그리고 단적인 신념이 얼마나 부질없는지 보셔라',\n",
       " '내가졸라이상하네',\n",
       " '대박',\n",
       " '정말 지루할틈없이 넘잘만들었다 역시 대단하다',\n",
       " '역시 어벤져스!!',\n",
       " '마지막에 누구한테 연락한거지? 궁금',\n",
       " '다음 편이 궁굼해지네요^^',\n",
       " '안잼있는사람 있음???????????',\n",
       " '타노스 개갞기']"
      ]
     },
     "execution_count": 38,
     "metadata": {},
     "output_type": "execute_result"
    }
   ],
   "source": [
    "text[:12]"
   ]
  },
  {
   "cell_type": "code",
   "execution_count": 46,
   "metadata": {},
   "outputs": [
    {
     "name": "stdout",
     "output_type": "stream",
     "text": [
      "[   0    0    0    0    0    0    0    0    0    0    0    0    0    0\n",
      "    0 1011   10  522 6501 1825]\n"
     ]
    }
   ],
   "source": [
    "from keras import preprocessing\n",
    "\n",
    "maxlen = 20\n",
    "\n",
    "X = preprocessing.sequence.pad_sequences(X, maxlen=maxlen, truncating='pre')\n",
    "print(X[0])"
   ]
  },
  {
   "cell_type": "code",
   "execution_count": 47,
   "metadata": {},
   "outputs": [
    {
     "name": "stdout",
     "output_type": "stream",
     "text": [
      "Train set count: 11973\n",
      "Test set count: 2994\n",
      "Test samples: [[0. 0. 1. 0. 0. 0. 0.]\n",
      " [0. 0. 1. 0. 0. 0. 0.]\n",
      " [0. 1. 0. 0. 0. 0. 0.]\n",
      " [0. 0. 0. 1. 0. 0. 0.]\n",
      " [0. 0. 1. 0. 0. 0. 0.]\n",
      " [0. 1. 0. 0. 0. 0. 0.]\n",
      " [1. 0. 0. 0. 0. 0. 0.]\n",
      " [0. 0. 1. 0. 0. 0. 0.]\n",
      " [0. 1. 0. 0. 0. 0. 0.]\n",
      " [0. 0. 0. 1. 0. 0. 0.]\n",
      " [0. 0. 0. 0. 0. 0. 1.]\n",
      " [0. 0. 0. 0. 0. 0. 1.]\n",
      " [0. 0. 0. 0. 0. 1. 0.]\n",
      " [0. 0. 1. 0. 0. 0. 0.]\n",
      " [0. 0. 1. 0. 0. 0. 0.]\n",
      " [0. 0. 0. 0. 0. 0. 1.]\n",
      " [0. 1. 0. 0. 0. 0. 0.]\n",
      " [0. 0. 1. 0. 0. 0. 0.]\n",
      " [0. 0. 1. 0. 0. 0. 0.]\n",
      " [0. 0. 1. 0. 0. 0. 0.]]\n"
     ]
    }
   ],
   "source": [
    "from sklearn.model_selection import train_test_split #sklearn에서 제공하는 split 함수를 사용\n",
    "X_train, X_test, y_train, y_test = train_test_split(X, y, test_size=0.2, random_state=10)\n",
    "# sklearn의 train_test_split 함수는 먼저 data set을 shuffle하고 주어진 비율에 따라 train set과 test set을 나눠 줌\n",
    "# 위에서는 reviews를 X_train과 X_test로 8:2의 비율로 나누고, categories를 y_train과 y_test로 나눔\n",
    "# 이 때 X와 y의 순서는 동일하게 유지해서 각 입력값과 label이 정확하게 match되도록 함\n",
    "# random_state는 shuffle에서의 seed 값으로, 지정한 경우 항상 동일한 결과로 shuffle이 됨\n",
    "\n",
    "print('Train set count:', len(X_train))\n",
    "print('Test set count:', len(X_test))\n",
    "print('Test samples:', y_test[:20])"
   ]
  },
  {
   "cell_type": "code",
   "execution_count": 48,
   "metadata": {},
   "outputs": [
    {
     "name": "stdout",
     "output_type": "stream",
     "text": [
      "Model: \"sequential_4\"\n",
      "_________________________________________________________________\n",
      "Layer (type)                 Output Shape              Param #   \n",
      "=================================================================\n",
      "embedding_4 (Embedding)      (None, None, 32)          320000    \n",
      "_________________________________________________________________\n",
      "lstm_3 (LSTM)                (None, 32)                8320      \n",
      "_________________________________________________________________\n",
      "dense_4 (Dense)              (None, 7)                 231       \n",
      "=================================================================\n",
      "Total params: 328,551\n",
      "Trainable params: 328,551\n",
      "Non-trainable params: 0\n",
      "_________________________________________________________________\n"
     ]
    }
   ],
   "source": [
    "## 모델 생성\n",
    "from keras.layers import SimpleRNN, LSTM\n",
    "from keras.models import Sequential\n",
    "from keras.layers import Flatten, Dense, Embedding\n",
    "\n",
    "model = Sequential()\n",
    "model.add(Embedding(num_words, 32))\n",
    "#model.add(SimpleRNN(32))\n",
    "model.add(LSTM(32))\n",
    "model.add(Dense(7, activation='softmax'))\n",
    "model.summary()"
   ]
  },
  {
   "cell_type": "code",
   "execution_count": 49,
   "metadata": {},
   "outputs": [
    {
     "name": "stdout",
     "output_type": "stream",
     "text": [
      "Epoch 1/30\n",
      "38/38 [==============================] - 1s 38ms/step - loss: 1.8280 - acc: 0.3265 - val_loss: 1.7693 - val_acc: 0.3365\n",
      "Epoch 2/30\n",
      "38/38 [==============================] - 1s 23ms/step - loss: 1.7455 - acc: 0.3334 - val_loss: 1.7129 - val_acc: 0.3370\n",
      "Epoch 3/30\n",
      "38/38 [==============================] - 1s 26ms/step - loss: 1.6397 - acc: 0.3456 - val_loss: 1.6434 - val_acc: 0.3587\n",
      "Epoch 4/30\n",
      "38/38 [==============================] - 1s 23ms/step - loss: 1.5250 - acc: 0.4213 - val_loss: 1.7412 - val_acc: 0.3846\n",
      "Epoch 5/30\n",
      "38/38 [==============================] - 1s 23ms/step - loss: 1.4162 - acc: 0.4989 - val_loss: 1.5838 - val_acc: 0.4392\n",
      "Epoch 6/30\n",
      "38/38 [==============================] - 1s 25ms/step - loss: 1.3137 - acc: 0.5691 - val_loss: 1.4837 - val_acc: 0.5173\n",
      "Epoch 7/30\n",
      "38/38 [==============================] - 1s 24ms/step - loss: 1.1861 - acc: 0.6182 - val_loss: 1.4295 - val_acc: 0.5140\n",
      "Epoch 8/30\n",
      "38/38 [==============================] - 1s 24ms/step - loss: 1.0883 - acc: 0.6483 - val_loss: 1.4046 - val_acc: 0.5399\n",
      "Epoch 9/30\n",
      "38/38 [==============================] - 1s 25ms/step - loss: 0.9994 - acc: 0.6743 - val_loss: 1.3698 - val_acc: 0.5294\n",
      "Epoch 10/30\n",
      "38/38 [==============================] - 1s 26ms/step - loss: 0.9197 - acc: 0.7012 - val_loss: 1.3829 - val_acc: 0.5077\n",
      "Epoch 11/30\n",
      "38/38 [==============================] - 1s 25ms/step - loss: 0.8398 - acc: 0.7158 - val_loss: 1.3503 - val_acc: 0.5524\n",
      "Epoch 12/30\n",
      "38/38 [==============================] - 1s 24ms/step - loss: 0.7745 - acc: 0.7386 - val_loss: 1.4115 - val_acc: 0.5282\n",
      "Epoch 13/30\n",
      "38/38 [==============================] - 1s 25ms/step - loss: 0.7140 - acc: 0.7582 - val_loss: 1.3601 - val_acc: 0.5449\n",
      "Epoch 14/30\n",
      "38/38 [==============================] - 1s 24ms/step - loss: 0.6611 - acc: 0.7848 - val_loss: 1.4586 - val_acc: 0.5658\n",
      "Epoch 15/30\n",
      "38/38 [==============================] - 1s 23ms/step - loss: 0.6199 - acc: 0.7943 - val_loss: 1.4169 - val_acc: 0.5766\n",
      "Epoch 16/30\n",
      "38/38 [==============================] - 1s 23ms/step - loss: 0.5762 - acc: 0.8137 - val_loss: 1.4870 - val_acc: 0.5712\n",
      "Epoch 17/30\n",
      "38/38 [==============================] - 1s 26ms/step - loss: 0.5418 - acc: 0.8199 - val_loss: 1.5969 - val_acc: 0.5470\n",
      "Epoch 18/30\n",
      "38/38 [==============================] - 1s 23ms/step - loss: 0.5152 - acc: 0.8284 - val_loss: 1.5696 - val_acc: 0.5461\n",
      "Epoch 19/30\n",
      "38/38 [==============================] - 1s 24ms/step - loss: 0.4879 - acc: 0.8345 - val_loss: 1.4997 - val_acc: 0.5491\n",
      "Epoch 20/30\n",
      "38/38 [==============================] - 1s 27ms/step - loss: 0.4668 - acc: 0.8461 - val_loss: 1.4825 - val_acc: 0.5549\n",
      "Epoch 21/30\n",
      "38/38 [==============================] - 1s 27ms/step - loss: 0.4439 - acc: 0.8517 - val_loss: 1.5431 - val_acc: 0.5783\n",
      "Epoch 22/30\n",
      "38/38 [==============================] - 1s 29ms/step - loss: 0.4324 - acc: 0.8574 - val_loss: 1.5382 - val_acc: 0.5766\n",
      "Epoch 23/30\n",
      "38/38 [==============================] - 1s 23ms/step - loss: 0.4085 - acc: 0.8621 - val_loss: 1.8167 - val_acc: 0.5695\n",
      "Epoch 24/30\n",
      "38/38 [==============================] - 1s 26ms/step - loss: 0.3930 - acc: 0.8701 - val_loss: 1.7287 - val_acc: 0.5528\n",
      "Epoch 25/30\n",
      "38/38 [==============================] - 1s 24ms/step - loss: 0.3822 - acc: 0.8706 - val_loss: 1.8208 - val_acc: 0.5453\n",
      "Epoch 26/30\n",
      "38/38 [==============================] - 1s 28ms/step - loss: 0.3701 - acc: 0.8753 - val_loss: 1.8189 - val_acc: 0.5503\n",
      "Epoch 27/30\n",
      "38/38 [==============================] - 1s 29ms/step - loss: 0.3599 - acc: 0.8782 - val_loss: 1.8565 - val_acc: 0.5683\n",
      "Epoch 28/30\n",
      "38/38 [==============================] - 1s 23ms/step - loss: 0.3455 - acc: 0.8823 - val_loss: 1.6902 - val_acc: 0.5716\n",
      "Epoch 29/30\n",
      "38/38 [==============================] - 1s 23ms/step - loss: 0.3408 - acc: 0.8813 - val_loss: 2.0069 - val_acc: 0.5294\n",
      "Epoch 30/30\n",
      "38/38 [==============================] - 1s 25ms/step - loss: 0.3341 - acc: 0.8843 - val_loss: 1.8325 - val_acc: 0.5745\n"
     ]
    }
   ],
   "source": [
    "## 모델 적용\n",
    "model.compile(optimizer='rmsprop', loss='categorical_crossentropy', metrics=['acc'])\n",
    "\n",
    "history = model.fit(X_train, y_train, \n",
    "                    epochs=30,\n",
    "                    batch_size=256,\n",
    "                    validation_split=0.2)"
   ]
  },
  {
   "cell_type": "code",
   "execution_count": 50,
   "metadata": {},
   "outputs": [
    {
     "data": {
      "image/png": "[encoded data removed]",
      "text/plain": [
       "<Figure size 432x288 with 1 Axes>"
      ]
     },
     "metadata": {
      "needs_background": "light"
     },
     "output_type": "display_data"
    }
   ],
   "source": [
    "## acc, val_acc 시각화\n",
    "%matplotlib inline\n",
    "import matplotlib.pyplot as plt\n",
    "\n",
    "history_dict = history.history\n",
    "acc = history_dict['acc']\n",
    "val_acc = history_dict['val_acc']\n",
    "\n",
    "epochs = range(1, len(acc) + 1)\n",
    "\n",
    "plt.plot(epochs, acc, 'bo', label='Training acc')\n",
    "plt.plot(epochs, val_acc, 'r', label='Validation acc')\n",
    "plt.title('Training and validation acc')\n",
    "plt.xlabel('Epochs')\n",
    "plt.ylabel('Accuracy')\n",
    "plt.legend()\n",
    "\n",
    "plt.show()"
   ]
  },
  {
   "cell_type": "code",
   "execution_count": 51,
   "metadata": {},
   "outputs": [
    {
     "name": "stdout",
     "output_type": "stream",
     "text": [
      "94/94 [==============================] - 0s 3ms/step - loss: 1.8276 - acc: 0.5792\n",
      "[1.8276208639144897, 0.5791583061218262]\n"
     ]
    }
   ],
   "source": [
    "## 성능 체크\n",
    "score = model.evaluate(X_test, y_test)\n",
    "print(score)"
   ]
  },
  {
   "cell_type": "code",
   "execution_count": null,
   "metadata": {},
   "outputs": [],
   "source": []
  }
 ],
 "metadata": {
  "kernelspec": {
   "display_name": "Python 3",
   "language": "python",
   "name": "python3"
  },
  "language_info": {
   "codemirror_mode": {
    "name": "ipython",
    "version": 3
   },
   "file_extension": ".py",
   "mimetype": "text/x-python",
   "name": "python",
   "nbconvert_exporter": "python",
   "pygments_lexer": "ipython3",
   "version": "3.8.3"
  }
 },
 "nbformat": 4,
 "nbformat_minor": 4
}
