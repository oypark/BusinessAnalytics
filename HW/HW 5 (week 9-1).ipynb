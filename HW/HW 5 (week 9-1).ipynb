{
 "cells": [
  {
   "cell_type": "markdown",
   "metadata": {},
   "source": [
    "# 01. Topic Model Korean\n",
    "\n",
    "## 1. Topic Modeling with Sklearn\n",
    "\n",
    "* 영화 리뷰 데이터를 이용하여 topic modeling을 학습\n",
    "\n",
    "### Topic Modeling이란?\n",
    "<https://ratsgo.github.io/from%20frequency%20to%20semantics/2017/06/01/LDA/>\n",
    "\n",
    "* 토픽모델링은 **텍스트 형태로 되어 있는 다수의 문서들로부터 공통적으로 내재되어 있는 주제들을 추출하기 위한 방법론**이다.\n",
    "* 토픽모델링의 기본적인 가정은, 저자들이 문서를 작성할 때 먼저 특정한 주제들을 정하고 나서 그러한 주제들로부터 문장을 구성한다는 것이다. 따라서 문서를 구성하는 **단어들은 그 주제들로부터 파생**되어진 것으로 볼 수 있으며, 토픽모델링은 **문서와 단어들에 대해 통계적인 추론을 수행하여 본래의 주제들을 찾아내는 방법**이라고 할 수 있다.\n",
    "* 이러한 작업을 하기 위해서는 **먼저 자연어로 기술되어 있는 문서들에 대해 형태소 분석**을 함으로써 문장들을 **개별 단어로 분리**해야 한다.\n",
    "\n",
    "---\n",
    "\n",
    "* 토픽모델링의 가장 대표적인 알고리즘은 LDA(Latent Dirichlet Allocation)로 알려져 있다.\n",
    "* LDA는 Blei et al. (2003)에 의해 제안된 알고리즘으로, 앞서 설명한 바와 같이, 확률기법을 기반으로 하여 문서의 토픽 분포를 추론한다.\n",
    "* LDA에서 토픽은 주제를 의미하는 용어로 사용되며, **각 문서들이 특정한 주제에 속할 확률분포와 주제로부터 특정 단어들이 파생되어 나올 확률분포**가 주어졌을 때, 이 두 확률분포를 **조합하여 각 문서들에 들어가는 단어들의 확률분포를 계산**해낸다.\n",
    "\n",
    "* 아래 그림에서 θ는 문서들이 각 주제들에 속할 확률분포를 나타내며 디리클레분포의 매개변수인 α에 의해 결정된다.\n",
    "* 그림에서 N은 특정 문서에 속한 단어의 집합이며, M은 전체 문서의 집합을 나타낸다. **z는 문서 내의 단어들이 주제들에 속할 확률분포**를 나타내며, 이는 θ에 의한 다항분포로 선택된다.\n",
    "* **β는 각 주제가 특정 단어를 생성할 확률**을 나타내는 확률분포이며, **결국 z와 β에 의해 실제 문서들의 단어분포인 w가 결정된다.**\n",
    "* 이 모형에서 w만이 실제로 문서들을 통해 주어진 분포이고 **나머지는 모두 잠재변수**이다.\n",
    "* LDA 알고리즘에서는 주어진 문서와 토픽들의 사전확률 분포인 α와 토픽 내에서 단어의 사전확률분포인 β의 파라미터 값을 활용해 반복적인 시뮬레이션을 통해 z와 θ를 추정한다.\n",
    "\n",
    "![image.png](image.png)\n",
    "\n",
    "![image.png](topic.png)"
   ]
  },
  {
   "cell_type": "markdown",
   "metadata": {},
   "source": [
    "## 2. 다음 영화 리뷰로 text classification 진행\n",
    "\n",
    "### 1) 다음무비에서 추출한 영화 리뷰 불러오기"
   ]
  },
  {
   "cell_type": "code",
   "execution_count": 1,
   "metadata": {},
   "outputs": [],
   "source": [
    "import csv\n",
    "text = []\n",
    "y = []\n",
    "\n",
    "with open('movie_data_new.csv', encoding='utf-8') as csvfile:\n",
    "    csvreader = csv.reader(csvfile)\n",
    "    for row in csvreader:\n",
    "        #print(row)\n",
    "        if row and len(row[0]) > 10: #review 길이가 10자 이상인 경우만\n",
    "#        if row: #그 줄에 내용이 있는 경우에만\n",
    "            text.append(row[0]) #영화 리뷰를 text 리스트에 추가\n",
    "            y.append(row[2]) #영화이름을 text 리스트에 추가"
   ]
  },
  {
   "cell_type": "code",
   "execution_count": 2,
   "metadata": {},
   "outputs": [
    {
     "name": "stdout",
     "output_type": "stream",
     "text": [
      "리뷰 수: 12445\n",
      "리뷰영화: {'택시운전사', '코코', '곤지암', '인피니티 워', '범죄도시', '라라랜드', '신과함께'}\n"
     ]
    }
   ],
   "source": [
    "print('리뷰 수:', len(text))\n",
    "print('리뷰영화:', set(y))"
   ]
  },
  {
   "cell_type": "code",
   "execution_count": 3,
   "metadata": {},
   "outputs": [
    {
     "data": {
      "text/plain": [
       "['헐..다 죽었어....나중에 앤트맨 보다가도 깜놀...',\n",
       " '개연성은 무시해라 액션을 즐겨라 스타로드가 이끌어준다 각각의 영웅들을 즐겨라 그리고 단적인 신념이 얼마나 부질없는지 보셔라',\n",
       " '정말 지루할틈없이 넘잘만들었다 역시 대단하다',\n",
       " '마지막에 누구한테 연락한거지? 궁금',\n",
       " '다음 편이 궁굼해지네요^^',\n",
       " '안잼있는사람 있음???????????',\n",
       " '잘 만들었다! 지루할 틈이 없네...',\n",
       " '이제는 지겨워서 못보겠다',\n",
       " '롱턱 타노스의  장갑이 참 맘에 듬.  아이언 맨과 토르 닥터만 생고생하고..  가디언즈 오브 갤럭시 들 때문에  손해가 크다고 봄  들짐승 하고 칡뿌리 같은 캐릭이  재미를 더해줄줄 알았으나  아쉬움 . 분노의 상징 헐크가 겁을 먹다니..로키의 초반 출연뿐이 서운하지만  본 영화에 이어질 내용에 적합하지 않은지 서두에  죽는부분으로 마무리 됨은 심섬한 충격임 .  다음편에 헬라가 다시 나올까?',\n",
       " '와~~~~~진짜 개쪄는 인피니티워!!몇번을 봐도 개지린다.너무잼있다.어벤져스4도 너무 기대된다.빨리 2019년이왔으면 좋겠다.']"
      ]
     },
     "execution_count": 3,
     "metadata": {},
     "output_type": "execute_result"
    }
   ],
   "source": [
    "text[:10]"
   ]
  },
  {
   "cell_type": "markdown",
   "metadata": {},
   "source": [
    "### 2) 한글 처리를 위해서는 konlpy가 필요\n",
    "\n",
    "* topic modeling은 count vector를 사용하므로 sklearn의 CountVectorizer를 사용"
   ]
  },
  {
   "cell_type": "code",
   "execution_count": 4,
   "metadata": {},
   "outputs": [],
   "source": [
    "from konlpy.tag import Okt #konlpy에서 Twitter 형태소 분석기를 import\n",
    "twitter_tag = Okt()\n",
    "\n",
    "from sklearn.feature_extraction.text import CountVectorizer\n",
    "\n",
    "vec = CountVectorizer(tokenizer=twitter_tag.nouns, #우선은 명사만 사용\n",
    "                      decode_error ='ignore', \n",
    "                      max_df=0.5, #너무 자주 나타나는 단어는 제외, 책에서는 0.15를 사용\n",
    "                      #min_df = 3, #3개 미만의 문서에서 나타난 단어는 제외, 여기서는 max_features를 1000으로 제한하므로 별 필요 없음\n",
    "                      max_features = 1000) #적당한 대상 단어 수를 선택\n",
    "review_cv = vec.fit_transform(text)"
   ]
  },
  {
   "cell_type": "code",
   "execution_count": 5,
   "metadata": {},
   "outputs": [
    {
     "data": {
      "text/plain": [
       "(12445, 1000)"
      ]
     },
     "execution_count": 5,
     "metadata": {},
     "output_type": "execute_result"
    }
   ],
   "source": [
    "review_cv.shape"
   ]
  },
  {
   "cell_type": "markdown",
   "metadata": {},
   "source": [
    "### 3) LDA로 Topic Modeling 수행\n",
    "* sklearn(scikit-learn)의 LatentDirichletAllocation(LDA)을 이용\n",
    "* 다양한 argument를 적절히 이용하는 것이 중요\n",
    "\n",
    "#### 10개의 topic으로 진행"
   ]
  },
  {
   "cell_type": "code",
   "execution_count": 6,
   "metadata": {},
   "outputs": [],
   "source": [
    "from sklearn.decomposition import LatentDirichletAllocation\n",
    "\n",
    "lda = LatentDirichletAllocation(n_components = 10, #추출할 topic의 수를 지정\n",
    "                                max_iter=25, #max_iter는 최종 모형에서는 5,000~10,000번 시도한다고 알려져 있음\n",
    "                                topic_word_prior= 0.1, doc_topic_prior=1.0,\n",
    "                                #topic_word_prior: beta, doc_topic_prior: alpha\n",
    "                                #일반적으로 beta는 0.1로 고정하고 alpha를 50/topic의 수 근처의 값을 시도\n",
    "                                #alpha와 beta는 낮은 값을 사용할수록 특정 토픽들이 두드러지도록 하는 효과가 있다고 합\n",
    "                                learning_method='batch', #'batch'는 'online'에 비해 더 성능이 좋고 느림, 현재는 default\n",
    "                                n_jobs= -1, #사용 processor 수, None이면 1, -1이면 모두 사용\n",
    "                                random_state=0)\n",
    "\n",
    "review_topics = lda.fit_transform(review_cv)"
   ]
  },
  {
   "cell_type": "code",
   "execution_count": 7,
   "metadata": {},
   "outputs": [
    {
     "name": "stdout",
     "output_type": "stream",
     "text": [
      "topic-word distribution dimension: (10, 1000)\n",
      "document-topic distribution dimenstion (12445, 10)\n"
     ]
    }
   ],
   "source": [
    "print('topic-word distribution dimension:', lda.components_.shape)   #1000개의 단어가 10개의 topic으로 분류\n",
    "print('document-topic distribution dimenstion', review_topics.shape)   #14967개의 문서가 10r개의 topic으로 분류"
   ]
  },
  {
   "cell_type": "markdown",
   "metadata": {},
   "source": [
    "#### topic을 보기 쉽게 출력하는 함수를 작성"
   ]
  },
  {
   "cell_type": "code",
   "execution_count": 8,
   "metadata": {},
   "outputs": [],
   "source": [
    "def print_top_words(model, feature_names, n_top_words):\n",
    "    for topic_idx, topic in enumerate(model.components_):\n",
    "        print(\"Topic #%d: \" % topic_idx, end='')\n",
    "        print(\", \".join([feature_names[i] for i in topic.argsort()[:-n_top_words - 1:-1]]))\n",
    "        #print(\", \".join([feature_names[i]+'('+str(topic[i])+')' for i in topic.argsort()[:-n_top_words - 1:-1]]))\n",
    "        # 위 slicing에서 맨 뒤 -1은 역순을 의미, 역순으로 했을 때 처음부터 n_top_words까지\n",
    "    print()"
   ]
  },
  {
   "cell_type": "code",
   "execution_count": 9,
   "metadata": {},
   "outputs": [
    {
     "name": "stdout",
     "output_type": "stream",
     "text": [
      "Topic #0: 사람, 보고, 내용, 원작, 편, 마블, 이해, 노스, 다음, 결말\n",
      "Topic #1: 더, 말, 듯, 그, 사랑, 이야기, 것, 현실, 조금, 대한\n",
      "Topic #2: 좀, 수, 볼, 것, 부분, 끝, 함, 눈, 느낌, 소재\n",
      "Topic #3: 점, 정말, 꼭, 내, 때, 음악, 영화, 때문, 중, 신\n",
      "Topic #4: 이, 정도, 왜, 신파, 그냥, 한국, 영화, 작품, 감독, 관객\n",
      "Topic #5: 연기, 배우, 최고, 마동석, 윤계상, 액션, 송강호, 역시, 연기력, 조연\n",
      "Topic #6: 스토리, 진짜, 눈물, 감동, 기대, 마지막, 재미, 또, 웹툰, 모두\n",
      "Topic #7: 영화, 생각, 감동, 가족, 다시, 한번, 보기, 처음, 아이, 추천\n",
      "Topic #8: 광주, 장면, 중간, 그, 역사, 우리, 가슴, 번, 분, 택시\n",
      "Topic #9: 시간, 돈, 나, 평점, 거, 뭐, 공포영화, 공포, 별로, 애\n",
      "\n"
     ]
    }
   ],
   "source": [
    "print_top_words(lda,vec.get_feature_names(), 10)"
   ]
  },
  {
   "cell_type": "markdown",
   "metadata": {},
   "source": [
    "#### 한 글자로 구성된 명사들은 의미파악이 어려우므로 삭제\n",
    "* 두 글자 이상만 반환하는 함수를 작성"
   ]
  },
  {
   "cell_type": "code",
   "execution_count": 10,
   "metadata": {},
   "outputs": [
    {
     "data": {
      "text/plain": [
       "['개연', '성은', '무시', '액션', '스타로드', '각각', '영웅', '적', '신념', '얼마나']"
      ]
     },
     "execution_count": 10,
     "metadata": {},
     "output_type": "execute_result"
    }
   ],
   "source": [
    "twitter_tag.nouns(text[1])"
   ]
  },
  {
   "cell_type": "code",
   "execution_count": 11,
   "metadata": {},
   "outputs": [],
   "source": [
    "def tokenizer(str):\n",
    "    return [token for token in twitter_tag.nouns(str) if len(token) > 1]"
   ]
  },
  {
   "cell_type": "code",
   "execution_count": 12,
   "metadata": {},
   "outputs": [
    {
     "data": {
      "text/plain": [
       "['개연', '성은', '무시', '액션', '스타로드', '각각', '영웅', '신념', '얼마나']"
      ]
     },
     "execution_count": 12,
     "metadata": {},
     "output_type": "execute_result"
    }
   ],
   "source": [
    "tokenizer(text[1])"
   ]
  },
  {
   "cell_type": "markdown",
   "metadata": {},
   "source": [
    "* '적'과 같이 한 글자로 된 단어를 제거하고 count vector 생성"
   ]
  },
  {
   "cell_type": "code",
   "execution_count": 13,
   "metadata": {},
   "outputs": [],
   "source": [
    "#count vector 새로 생성\n",
    "vec = CountVectorizer(tokenizer=tokenizer, decode_error ='ignore', \n",
    "                      max_df=0.5, max_features = 1000) #너무 자주 나타나는 단어는 제외\n",
    "\n",
    "review_cv = vec.fit_transform(text)"
   ]
  },
  {
   "cell_type": "markdown",
   "metadata": {},
   "source": [
    "### 4) Topic 수 다양화\n",
    "\n",
    "#### 50개의 topic들을 대상으로 clustering을 수행해서 topic들을 잘 묶을 수 있는지 확인"
   ]
  },
  {
   "cell_type": "code",
   "execution_count": 14,
   "metadata": {},
   "outputs": [
    {
     "name": "stdout",
     "output_type": "stream",
     "text": [
      "Topic #0: 느낌, 관객, 공포, 얘기, 영화, 갈수록, 상상, 노잼, 스트레스, 내년\n",
      "Topic #1: 가족, 지옥, 대한, 설정, 저승, 부모님, 점수, 영화, 생각, 점도\n",
      "Topic #2: 영화, 눈물, 이건, 진짜, 댓글, 시나리오, 억지로, 라라, 랜드, 인생\n",
      "Topic #3: 연기, 차태현, 김동욱, 주지훈, 이후, 대해, 여자, 진짜, 김향기, 막판\n",
      "Topic #4: 송강호, 택시, 가슴, 계속, 기자, 운전사, 정신, 해도, 영화, 한마디\n",
      "Topic #5: 아이, 영화, 강철, 보고, 세상, 설명, 생각, 아주, 마음, 부모\n",
      "Topic #6: 영화관, 영화, 편이, 가지, 인상, 유머, 또한, 도대체, 재즈, 장첸\n",
      "Topic #7: 기대, 귀신, 기분, 시대, 명작, 형사, 영화, 외국, 최고, 추석\n",
      "Topic #8: 영화, 약간, 시작, 세계, 구성, 그것, 요즘, 정말, 눈물, 한번\n",
      "Topic #9: 부분, 추천, 나름, 소리, 라면, 아주, 순간, 다큐, 보시, 오역\n",
      "Topic #10: 신파, 억지, 엄마, 드라마, 눈물, 중국, 스케일, 영화, 주제, 스토리\n",
      "Topic #11: 다시, 인간, 집중, 한번, 정도, 영웅, 영화, 시간, 추격, 시도\n",
      "Topic #12: 원작, 연기력, 다른, 영화, 올해, 자신, 요소, 효과, 문제, 폭력\n",
      "Topic #13: 마블, 노스, 결말, 어벤져스, 히어로, 이해, 시리즈, 다음, 이번, 토르\n",
      "Topic #14: 역시, 영화, 생각, 박수, 충격, 정도, 이승, 기대, 꿀잼, 사후세계\n",
      "Topic #15: 액션, 영화, 범죄, 도시, 최고, 취향, 남한, 모두, 재미, 산성\n",
      "Topic #16: 광주, 역사, 시민, 위해, 전두환, 민주화, 희생, 운동, 민주주의, 가슴\n",
      "Topic #17: 영화, 가장, 상영, 처음, 정말, 나라, 반성, 각색, 관객수, 대안\n",
      "Topic #18: 감독, 영화, 천만, 최악, 수준, 개연, 한국, 스크린, 헐리웃, 진짜\n",
      "Topic #19: 중간, 영화, 이제, 매우, 코믹, 완성, 더욱, 비교, 결론, 정말\n",
      "Topic #20: 영화, 개인, 강추, 최고, 생각, 몰입도, 볼거리, 누가, 슬픔, 재미\n",
      "Topic #21: 음악, 뮤지컬, 노래, 영화, 인생, 매력, 스톤, 마무리, 최고, 선택\n",
      "Topic #22: 사람, 이영화, 영화, 모습, 절대, 조폭, 때문, 경찰, 무서움, 걱정\n",
      "Topic #23: 영화, 여운, 후반, 혼자, 기술, 초반, 화보, 화가, 전반, 마지막\n",
      "Topic #24: 평점, 시간, 한국영, 알바, 영화, 발전, 공감, 언제, 그대로, 내용\n",
      "Topic #25: 영화, 판타지, 관람, 반전, 감성, 사람, 정말, 수가, 생각, 마지막\n",
      "Topic #26: 우리, 영화, 국민, 흥행, 대한민국, 의미, 다만, 성공, 불가, 감독\n",
      "Topic #27: 전개, 영화, 간만, 아들, 재미, 쓰레기, 눈물, 예상, 마지막, 감동\n",
      "Topic #28: 영화, 조금, 제대로, 몰입, 생각, 그냥, 분노, 한편, 잔인함, 선물\n",
      "Topic #29: 영화, 우리나라, 교훈, 스토리, 연기자, 기대, 재미, 생각, 이해, 잘못\n",
      "Topic #30: 장면, 영화, 연기, 연출, 최고, 과거, 배우, 다가, 마지막, 진짜\n",
      "Topic #31: 보고, 실망, 중반, 영화, 다음, 재미, 무엇, 번역, 동안, 스포\n",
      "Topic #32: 공포영화, 영화, 보지, 이유, 거의, 그냥, 진짜, 타임, 웃기, 어벤저스\n",
      "Topic #33: 사랑, 이야기, 현실, 역대, 남자, 영화, 역할, 어찌, 서로, 거지\n",
      "Topic #34: 기억, 조선족, 대사, 실제, 상황, 마블리, 죽음, 영화인, 연기, 만점\n",
      "Topic #35: 보고, 오늘, 그냥, 영화, 예고편, 곤지암, 긴장감, 일단, 자극, 처음\n",
      "Topic #36: 영화, 영상, 제일, 아픔, 배경, 평가, 인생, 갑자기, 자기, 스토리\n",
      "Topic #37: 윤계상, 마동석, 조연, 주인공, 연기, 전혀, 주연, 안보, 묘사, 주변\n",
      "Topic #38: 웹툰, 사실, 영화, 감정, 다소, 초딩, 내용, 간다, 무조건, 항쟁\n",
      "Topic #39: 작품, 한국, 극장, 오락, 마음, 신파극, 영화, 정도, 소문, 심장\n",
      "Topic #40: 스토리, 영화, 때문, 웃음, 펑펑, 코드, 나중, 노력, 그닥, 전형\n",
      "Topic #41: 영화, 몰입, 기도, 정도, 오히려, 화면, 인정, 실감, 살짝, 잘만\n",
      "Topic #42: 별로, 소재, 내내, 연출, 자체, 차라리, 원래, 존재, 분위기, 최근\n",
      "Topic #43: 영화, 그래픽, 지루함, 무슨, 진짜, 캐스팅, 동생, 줄거리, 스토리, 애니메이션\n",
      "Topic #44: 지금, 모든, 사람, 후회, 진실, 실화, 영화, 그때, 거리, 이하\n",
      "Topic #45: 감동, 엔딩, 진심, 디즈니, 전체, 코코, 어른, 겨울왕국, 처음, 픽사\n",
      "Topic #46: 영화로, 영화, 아쉬움, 얼마나, 개봉, 악역, 누구, 제발, 이정재, 수도\n",
      "Topic #47: 하나, 캐릭터, 하정우, 표현, 만화, 어머니, 여기, 그게, 짜임새, 행동\n",
      "Topic #48: 완전, 대박, 친구, 영화, 기대, 장르, 머리, 얼굴, 스릴, 수작\n",
      "Topic #49: 배우, 내용, 이상, 보기, 연기, 출연, 영화, 킬링타임, 리얼, 참고\n",
      "\n"
     ]
    }
   ],
   "source": [
    "#topic modeling 수행\n",
    "lda = LatentDirichletAllocation(n_components = 50, max_iter=25, \n",
    "                                topic_word_prior= 0.1, doc_topic_prior=1.0,\n",
    "                                learning_method='batch',\n",
    "                                n_jobs= -1,\n",
    "                                random_state=0)\n",
    "\n",
    "review_topics = lda.fit_transform(review_cv)\n",
    "print_top_words(lda,vec.get_feature_names(), 10)"
   ]
  },
  {
   "cell_type": "code",
   "execution_count": 15,
   "metadata": {},
   "outputs": [
    {
     "name": "stdout",
     "output_type": "stream",
     "text": [
      "topic-word distribution dimension: (50, 1000)\n",
      "Cluster label: [1 1 1 4 0 1 1 1 1 1 1 1 1 1 1 1 3 1 1 1 1 1 1 1 1 1 1 1 1 1 1 1 1 1 1 1 1\n",
      " 2 1 1 1 1 1 1 1 1 1 1 1 1]\n"
     ]
    }
   ],
   "source": [
    "from sklearn.cluster import KMeans\n",
    "\n",
    "kmeans = KMeans(n_clusters=5) #5개 클러스터로 분류\n",
    "kmeans.fit(lda.components_)\n",
    "\n",
    "print('topic-word distribution dimension:', lda.components_.shape)\n",
    "print('Cluster label:', kmeans.labels_)"
   ]
  },
  {
   "cell_type": "markdown",
   "metadata": {},
   "source": [
    "#### T-SNE를 이용하여 각 topic들 간의 관계를 시각화"
   ]
  },
  {
   "cell_type": "code",
   "execution_count": 16,
   "metadata": {},
   "outputs": [
    {
     "name": "stdout",
     "output_type": "stream",
     "text": [
      "TSNE dimension: (50, 2)\n"
     ]
    },
    {
     "data": {
      "text/plain": [
       "array([-15.296861 , -39.90289  , -37.609985 ,  49.19102  , -52.164654 ,\n",
       "        -8.414497 , -15.57928  , -11.724362 ,   1.5109495,   2.5873883,\n",
       "       -59.02956  ,  50.243515 , -66.458115 , -54.538612 , -16.422346 ,\n",
       "        30.576548 ,  69.73726  ,  -4.002888 , -39.174034 ,  45.472694 ,\n",
       "        17.013813 , -21.773487 ,  32.97722  ,   3.441639 , -35.254948 ,\n",
       "        26.405207 ,  15.255535 ,  18.549217 , -23.893627 ,   9.8831625,\n",
       "        55.319622 , -21.825891 ,  11.997019 , -30.098207 ,  30.140793 ,\n",
       "        24.391329 , -32.897675 ,   4.040865 , -25.433115 ,  -2.9563794,\n",
       "         1.5145319, -11.222951 , -12.10169  ,   7.3333883,   7.2696347,\n",
       "        33.792927 ,  12.837804 ,  32.59087  ,  -4.5664673,  33.163807 ],\n",
       "      dtype=float32)"
      ]
     },
     "execution_count": 16,
     "metadata": {},
     "output_type": "execute_result"
    }
   ],
   "source": [
    "from sklearn.manifold import TSNE\n",
    "tsne = TSNE(n_components=2, random_state=42)\n",
    "tsne_review = tsne.fit_transform(lda.components_)\n",
    "print('TSNE dimension:', tsne_review.shape)\n",
    "tsne_review[:,0]"
   ]
  },
  {
   "cell_type": "code",
   "execution_count": 17,
   "metadata": {},
   "outputs": [],
   "source": [
    "%matplotlib inline\n",
    "import matplotlib.pyplot as plt\n",
    "from matplotlib import font_manager, rc\n",
    "font_name = font_manager.FontProperties(fname=\"c:/Windows/Fonts/malgun.ttf\").get_name()\n",
    "rc('font', family=font_name)\n",
    "import matplotlib as mpl\n",
    "\n",
    "# 그래프에서 마이너스 폰트 깨지는 문제에 대한 대처\n",
    "mpl.rcParams['axes.unicode_minus'] = False"
   ]
  },
  {
   "cell_type": "code",
   "execution_count": 38,
   "metadata": {},
   "outputs": [
    {
     "data": {
      "image/png": "[encoded data removed]",
      "text/plain": [
       "<Figure size 432x288 with 1 Axes>"
      ]
     },
     "metadata": {
      "needs_background": "light"
     },
     "output_type": "display_data"
    },
    {
     "data": {
      "image/png": "[encoded data removed]",
      "text/plain": [
       "<Figure size 1080x720 with 1 Axes>"
      ]
     },
     "metadata": {
      "needs_background": "light"
     },
     "output_type": "display_data"
    }
   ],
   "source": [
    "colors = {0:'blue', 1:'orange', 2:'red', 3:'green', 4:'purple'}\n",
    "x1 = tsne_review[:,0]\n",
    "x2 = tsne_review[:,1]\n",
    "plt.scatter(x1, x2)\n",
    "\n",
    "plt.figure(figsize=(15,10))\n",
    "plt.xlim(min(x1), max(x1))\n",
    "plt.ylim(min(x2), max(x2))\n",
    "for i in range(len(x1)):\n",
    "#    plt.text(X1_lsi[i], X2_lsi[i], sample_label[i],\n",
    "#            color = colors[sample_label[i]])\n",
    "    plt.text(x1[i], x2[i], kmeans.labels_[i],\n",
    "            color = colors[kmeans.labels_[i]])\n",
    "\n",
    "#for word, pos in df.iterrows():\n",
    "#    ax.annotate(word, pos, fontsize=30)\n",
    "plt.show()\n",
    "\n",
    "#아래 결과를 보면 각 topic들이 고르게 분포하고 있어, 클러스터링이 별로 의미 없음을 알 수 있음"
   ]
  },
  {
   "cell_type": "markdown",
   "metadata": {},
   "source": [
    "### 5) 최적의 결과를 찾기 위한 방법\n",
    "\n",
    "* 적절한 topic의 수는 perplexity 값을 이용해 찾음.\n",
    "* **perplexity가 낮을 수록 좋은 모형**이나, 사람의 판단과 일치하지 않을 수 있음\n",
    "<http://qpleple.com/perplexity-to-evaluate-topic-models/>\n",
    "* 그 외에 alpha, beta는 앞서 설명한 바와 같이 beta=0.1로 고정하고 alpha를 50/토픽수 근처에서 찾아나감\n",
    "* 반복횟수는 5,000번 정도면 수렴"
   ]
  },
  {
   "cell_type": "code",
   "execution_count": 19,
   "metadata": {},
   "outputs": [
    {
     "data": {
      "text/plain": [
       "583.6818103950467"
      ]
     },
     "execution_count": 19,
     "metadata": {},
     "output_type": "execute_result"
    }
   ],
   "source": [
    "#50개의 topic으로 topic modeling 한 경우\n",
    "lda.perplexity(review_cv)"
   ]
  },
  {
   "cell_type": "code",
   "execution_count": 20,
   "metadata": {},
   "outputs": [
    {
     "name": "stdout",
     "output_type": "stream",
     "text": [
      "Topic #0: 영화, 느낌, 관객, 얘기, 사람, 곤지암, 감동, 갈수록, 시간, 지루함\n",
      "Topic #1: 가족, 영화, 설정, 저승, 감동, 점수, 부모님, 생각, 여자, 사람\n",
      "Topic #2: 영화, 눈물, 생각, 진짜, 시나리오, 이건, 스토리, 인정, 감동, 시작\n",
      "Topic #3: 연기, 차태현, 하정우, 진짜, 김동욱, 눈물, 어머니, 주지훈, 영화, 신파\n",
      "Topic #4: 영화, 계속, 기자, 그냥, 연기, 정신, 배우, 정말, 알바, 상황\n",
      "Topic #5: 영화, 아이, 사랑, 강철, 무슨, 보고, 마음, 관람, 평가, 아주\n",
      "Topic #6: 영화, 인상, 가지, 유머, 일단, 제대로, 도대체, 재즈, 한국, 기대\n",
      "Topic #7: 공포, 영화, 귀신, 연출, 형사, 외국, 거의, 코드, 명작, 흥행\n",
      "Topic #8: 영화, 세계, 사람, 약간, 정말, 쓰레기, 그것, 실감, 감동, 구성\n",
      "Topic #9: 영화, 소리, 추천, 부분, 나름, 아들, 순간, 다큐, 연기자, 영화인\n",
      "Topic #10: 영화, 그냥, 집중, 드라마, 중국, 눈물, 감동, 생각, 감성, 만화\n",
      "Topic #11: 윤계상, 연기, 마동석, 인간, 영화, 조선족, 다시, 영웅, 배우, 역할\n",
      "Topic #12: 영화, 원작, 연기력, 생각, 요소, 올해, 실제, 감동, 효과, 초딩\n",
      "Topic #13: 마블, 노스, 어벤져스, 히어로, 캐릭터, 시리즈, 이해, 이번, 예고편, 영화\n",
      "Topic #14: 영화, 디즈니, 생각, 눈물, 동안, 자체, 자극, 박수, 정도, 취향\n",
      "Topic #15: 영화, 범죄, 도시, 감동, 실화, 배우, 캐스팅, 재미, 이후, 신파\n",
      "Topic #16: 광주, 택시, 역사, 시민, 우리, 위해, 국민, 민주화, 전두환, 진실\n",
      "Topic #17: 영화, 정말, 교훈, 연기, 반성, 나라, 배우, 스릴, 사람, 보고\n",
      "Topic #18: 영화, 수준, 관객, 최악, 감독, 전체, 개연, 천만, 배우, 역대\n",
      "Topic #19: 영화, 감동, 정말, 연기, 코믹, 기도, 완성, 예상, 죽음, 더욱\n",
      "Topic #20: 영화, 생각, 웃음, 윤계상, 개인, 개봉, 연기, 몰입도, 마동석, 슬픔\n",
      "Topic #21: 영화, 중간, 음악, 주인공, 뮤지컬, 노래, 반전, 사랑, 감동, 스톤\n",
      "Topic #22: 영화, 이영화, 사람, 제일, 조폭, 어른, 마블리, 때문, 진짜, 절대\n",
      "Topic #23: 영화, 공포영화, 초반, 후반, 배우, 연기, 혼자, 안보, 기술, 화보\n",
      "Topic #24: 영화, 보지, 시간, 스토리, 발전, 내용, 웹툰, 언제, 마지막, 정도\n",
      "\n"
     ]
    },
    {
     "data": {
      "text/plain": [
       "556.1538487000632"
      ]
     },
     "execution_count": 20,
     "metadata": {},
     "output_type": "execute_result"
    }
   ],
   "source": [
    "#25개의 topic으로 topic modeling 수행\n",
    "lda = LatentDirichletAllocation(n_components = 25, max_iter=25, \n",
    "                                topic_word_prior= 0.1, doc_topic_prior=2.0,\n",
    "                                learning_method='batch',\n",
    "                                n_jobs= -1,\n",
    "                                random_state=0)\n",
    "review_topics = lda.fit_transform(review_cv)\n",
    "print_top_words(lda,vec.get_feature_names(), 10)\n",
    "lda.perplexity(review_cv)"
   ]
  },
  {
   "cell_type": "code",
   "execution_count": 21,
   "metadata": {},
   "outputs": [
    {
     "name": "stdout",
     "output_type": "stream",
     "text": [
      "Topic #0: 느낌, 공포영화, 한국, 별로, 관객, 공포, 정도, 전개, 초반, 영화관\n",
      "Topic #1: 감동, 사람, 생각, 재미, 가족, 모두, 이야기, 보기, 대한, 지옥\n",
      "Topic #2: 영화, 음악, 인생, 처음, 생각, 최악, 상영, 시작, 간만, 댓글\n",
      "Topic #3: 연기, 배우, 진짜, 마동석, 윤계상, 신파, 장면, 눈물, 차태현, 액션\n",
      "Topic #4: 정말, 그냥, 다시, 가슴, 택시, 몰입, 소재, 내내, 영화로, 알바\n",
      "Topic #5: 보고, 내용, 눈물, 사랑, 마음, 수준, 현실, 아이, 기억, 한국영\n",
      "Topic #6: 광주, 기대, 중간, 우리, 웹툰, 사실, 시민, 인간, 나름, 실망\n",
      "Topic #7: 최고, 마지막, 평점, 감독, 역사, 송강호, 역시, 작품, 연출, 귀신\n",
      "Topic #8: 스토리, 원작, 한번, 정도, 완전, 천만, 주인공, 지금, 가장, 약간\n",
      "Topic #9: 시간, 마블, 하나, 이해, 부분, 추천, 노스, 다음, 결말, 영상\n",
      "\n"
     ]
    },
    {
     "data": {
      "text/plain": [
       "425.97775168150275"
      ]
     },
     "execution_count": 21,
     "metadata": {},
     "output_type": "execute_result"
    }
   ],
   "source": [
    "#10개의 topic으로 topic modeling 수행\n",
    "lda = LatentDirichletAllocation(n_components = 10, max_iter=25, \n",
    "                                topic_word_prior= 0.1, doc_topic_prior=1.0,\n",
    "                                learning_method='batch',\n",
    "                                n_jobs= -1,\n",
    "                                random_state=0)\n",
    "review_topics = lda.fit_transform(review_cv)\n",
    "print_top_words(lda,vec.get_feature_names(), 10)\n",
    "lda.perplexity(review_cv)"
   ]
  },
  {
   "cell_type": "markdown",
   "metadata": {},
   "source": [
    "------\n",
    "\n",
    "# 02. Topic Model Gensim\n",
    "\n",
    "* Text mining 도구 in python\n",
    "* Word2Vec으로 유명\n",
    "* sklearn과 마찬가지로 다양한 텍스트 관련 도구 지원\n",
    "\n",
    "## 1. 사전 작업\n",
    "\n",
    "### 1) 20newsgroups 불러와 train data 만들기"
   ]
  },
  {
   "cell_type": "code",
   "execution_count": 22,
   "metadata": {},
   "outputs": [],
   "source": [
    "from sklearn.datasets import fetch_20newsgroups\n",
    "\n",
    "categories = ['alt.atheism', 'talk.religion.misc', 'comp.graphics', 'sci.space']\n",
    "#4가지 카테고리 선정\n",
    "\n",
    "newsgroups_train = fetch_20newsgroups(subset='train',\n",
    "#메일 내용에서 hint가 되는 부분을 삭제 - 순수하게 내용만으로\n",
    "                                      remove=('headers', 'footers', 'quotes'),\n",
    "                                      categories=categories)"
   ]
  },
  {
   "cell_type": "code",
   "execution_count": 23,
   "metadata": {},
   "outputs": [],
   "source": [
    "## 필요한 library들을 import\n",
    "from nltk.corpus import stopwords\n",
    "cachedStopWords = stopwords.words(\"english\")\n",
    "\n",
    "from nltk import word_tokenize\n",
    "from nltk.stem.porter import PorterStemmer\n",
    "import re"
   ]
  },
  {
   "cell_type": "markdown",
   "metadata": {},
   "source": [
    "### 2) tokenize"
   ]
  },
  {
   "cell_type": "code",
   "execution_count": 24,
   "metadata": {},
   "outputs": [],
   "source": [
    "## tokenize 함수 생성\n",
    "def tokenize(text):\n",
    "    min_length = 3 #최소 단어 크기\n",
    "    \n",
    "    # nltk의 tokenizer를 이용해서 word 추출한 후에 소문자로 변환\n",
    "    words = map(lambda word: word.lower(), word_tokenize(text))\n",
    "    #words = word_tokenize(text.lower()) #이렇게 해도 되는지 확인\n",
    "    \n",
    "    # stopwords 제외\n",
    "    words = [word for word in words if word not in cachedStopWords]\n",
    "    \n",
    "    # portr stemmer 적용(어간 추출)\n",
    "    tokens = (list(map(lambda token: PorterStemmer().stem(token),words)))\n",
    "    #tokens = [PorterStemmer().stem(token) for token in words]  #이렇게 해도 되는지 확인\n",
    "    \n",
    "    # 알파벳으로 이루어진 단어들만 추출\n",
    "    p = re.compile('[a-zA-Z]+');\n",
    "    \n",
    "    # 추출한 token에 최소 글자수 적용 \n",
    "    filtered_tokens = list(filter (lambda token: p.match(token) and len(token) >= min_length,tokens))\n",
    "    #filtered_tokens = [token for token in tokens if p.match(token) and len(token) >= min_length]   #이렇게 해도 되는지 확인\n",
    "    return filtered_tokens"
   ]
  },
  {
   "cell_type": "code",
   "execution_count": 25,
   "metadata": {},
   "outputs": [],
   "source": [
    "## train data에 있는 문서들 tokenize\n",
    "docs = [tokenize(doc) for doc in newsgroups_train.data]"
   ]
  },
  {
   "cell_type": "code",
   "execution_count": 26,
   "metadata": {},
   "outputs": [
    {
     "name": "stdout",
     "output_type": "stream",
     "text": [
      "Hi,\n",
      "\n",
      "I've noticed that if you only save a model (with all your mapping planes\n",
      "positioned carefully) to a .3DS file that when you reload it after restarting\n",
      "3DS, they are given a default position and orientation.  But if you save\n",
      "to a .PRJ file their positions/orientation are preserved.  Does anyone\n",
      "know why this information is not stored in the .3DS file?  Nothing is\n",
      "explicitly said in the manual about saving texture rules in the .PRJ file. \n",
      "I'd like to be able to read the texture rule information, does anyone have \n",
      "the format for the .PRJ file?\n",
      "\n",
      "Is the .CEL file format available from somewhere?\n",
      "\n",
      "Rych\n",
      "['notic', 'save', 'model', 'map', 'plane', 'posit', 'care', 'file', 'reload', 'restart', 'given', 'default', 'posit', 'orient', 'save', 'file', 'positions/orient', 'preserv', 'anyon', 'know', 'inform', 'store', 'file', 'noth', 'explicitli', 'said', 'manual', 'save', 'textur', 'rule', 'file', 'like', 'abl', 'read', 'textur', 'rule', 'inform', 'anyon', 'format', 'file', 'file', 'format', 'avail', 'somewher', 'rych']\n"
     ]
    }
   ],
   "source": [
    "## 첫 번째 문서와 tokenize 된 내용 확인\n",
    "print(newsgroups_train.data[0])\n",
    "print(docs[0])"
   ]
  },
  {
   "cell_type": "markdown",
   "metadata": {},
   "source": [
    "## 2. Topic Modeling with Gensim\n",
    "\n",
    "* Gensim으로 topic modeling을 하기 위해서는 Dictionary, Corpus, Model의 3단계를 거쳐야 함\n",
    "\n",
    "### 4) Dictionary"
   ]
  },
  {
   "cell_type": "code",
   "execution_count": 27,
   "metadata": {},
   "outputs": [
    {
     "name": "stdout",
     "output_type": "stream",
     "text": [
      "Number of unique words in initital documents: 19660\n",
      "Number of unique words after removing rare and common words: 5628\n"
     ]
    }
   ],
   "source": [
    "#pip install gensim pip install pyldavis\n",
    "\n",
    "from gensim.corpora import Dictionary\n",
    "\n",
    "# Create a dictionary representation of the documents.\n",
    "# tokenize 한 train data의 dictionary 만들기\n",
    "dictionary = Dictionary(docs)\n",
    "print('Number of unique words in initital documents:', len(dictionary))\n",
    "\n",
    "# Filter out words that occur less than 10 documents, or more than 20% of the documents.\n",
    "dictionary.filter_extremes(no_below=3, no_above=0.5)\n",
    "print('Number of unique words after removing rare and common words:', len(dictionary))"
   ]
  },
  {
   "cell_type": "markdown",
   "metadata": {},
   "source": [
    "### 5) Corpus(말뭉치)"
   ]
  },
  {
   "cell_type": "code",
   "execution_count": 28,
   "metadata": {},
   "outputs": [
    {
     "name": "stdout",
     "output_type": "stream",
     "text": [
      "Number of unique tokens: 5628\n",
      "Number of documents: 2034\n"
     ]
    }
   ],
   "source": [
    "## dictonary로 tokenize된 data를 corpus화 시켜주기\n",
    "corpus = [dictionary.doc2bow(doc) for doc in docs]\n",
    "print('Number of unique tokens: %d' % len(dictionary))\n",
    "print('Number of documents: %d' % len(corpus))"
   ]
  },
  {
   "cell_type": "markdown",
   "metadata": {},
   "source": [
    "### 6) Model"
   ]
  },
  {
   "cell_type": "code",
   "execution_count": 29,
   "metadata": {},
   "outputs": [
    {
     "name": "stdout",
     "output_type": "stream",
     "text": [
      "Wall time: 1min 9s\n"
     ]
    }
   ],
   "source": [
    "from gensim.models import LdaModel\n",
    "# Set training parameters.\n",
    "num_topics = 25\n",
    "chunksize = 500 # size of the doc looked at every pass(=passage)\n",
    "passes = 20 # number of passes through documents\n",
    "iterations = 40\n",
    "eval_every = 1  # Don't evaluate model perplexity, takes too much time.\n",
    "\n",
    "# Make a index to word dictionary.\n",
    "temp = dictionary[0]  # This is only to \"load\" the dictionary.\n",
    "id2word = dictionary.id2token\n",
    "\n",
    "%time model = LdaModel(corpus=corpus, id2word=id2word, chunksize=chunksize, \\\n",
    "                       alpha='auto', eta='auto', \\\n",
    "                       iterations=iterations, num_topics=num_topics, \\\n",
    "                       passes=passes, eval_every=eval_every)"
   ]
  },
  {
   "cell_type": "markdown",
   "metadata": {},
   "source": [
    "### 7) pyLDAvis를 이용한 시각화"
   ]
  },
  {
   "cell_type": "code",
   "execution_count": 30,
   "metadata": {},
   "outputs": [],
   "source": [
    "#pip install pyldavis\n",
    "\n",
    "import pyLDAvis.gensim\n",
    "pyLDAvis.enable_notebook()\n",
    "\n",
    "import warnings\n",
    "warnings.filterwarnings(\"ignore\", category=DeprecationWarning) "
   ]
  },
  {
   "cell_type": "code",
   "execution_count": 31,
   "metadata": {},
   "outputs": [
    {
     "data": {
      "text/html": [
       "\n",
       "<link rel=\"stylesheet\" type=\"text/css\" href=\"https://cdn.rawgit.com/bmabey/pyLDAvis/files/ldavis.v1.0.0.css\">\n",
       "\n",
       "\n",
       "<div id=\"ldavis_el1610418680596769605746510013\"></div>\n",
       "<script type=\"text/javascript\">\n",
       "\n",
       "var ldavis_el1610418680596769605746510013_data = {\"mdsDat\": {\"x\": [-0.19807499102933993, 0.10999936237054518, -0.17474584294068607, -0.07738633445576533, 0.05585306402758546, -0.2238131172211306, -0.08129795732631524, -0.23188583320490738, -0.127230772058968, -0.07023343024662083, 0.0012878429979320087, 0.11383999492577732, 0.037668601182942095, 0.01693619328804805, 0.018267042591850174, 0.05847114028685444, 0.1231014329750257, 0.15688770740731794, -0.034619589011497844, 0.09383172955813268, -0.05535252839517583, 0.09470396022277805, 0.16981696957291414, 0.13737217988304662, 0.08660317459965704], \"y\": [-0.001322831778181472, 0.1781974578287942, 0.06873145625636873, 0.1960438760495673, 0.2639802173082459, -0.07298966411990085, 0.10889572003704918, -0.09407315487461704, -0.03597841371924027, -0.01943323648732091, -0.04224293290092941, 0.17697318746937402, 0.07506737239796545, -0.08758463650468676, -0.08818932748885208, -0.03458061687944287, -0.07108001449509192, 0.02701288948304448, -0.007215861521660539, 0.005730199250622194, -0.046506379861326615, -0.1557955197563004, -0.08272757176595855, -0.15600569017897017, -0.10490652374855036], \"topics\": [1, 2, 3, 4, 5, 6, 7, 8, 9, 10, 11, 12, 13, 14, 15, 16, 17, 18, 19, 20, 21, 22, 23, 24, 25], \"cluster\": [1, 1, 1, 1, 1, 1, 1, 1, 1, 1, 1, 1, 1, 1, 1, 1, 1, 1, 1, 1, 1, 1, 1, 1, 1], \"Freq\": [23.384157180786133, 9.38557243347168, 7.759138107299805, 7.678354740142822, 7.458118438720703, 5.9064130783081055, 5.862878799438477, 5.235446453094482, 3.874955654144287, 3.8094680309295654, 3.0296432971954346, 2.873147487640381, 1.9445160627365112, 1.51465904712677, 1.4826546907424927, 1.3940211534500122, 1.2375555038452148, 1.2009879350662231, 0.9997379779815674, 0.8850486874580383, 0.7097945809364319, 0.6465031504631042, 0.6122925877571106, 0.5661377906799316, 0.5487966537475586]}, \"tinfo\": {\"Term\": [\"would\", \"imag\", \"n't\", \"space\", \"file\", \"god\", \"good\", \"use\", \"like\", \"launch\", \"think\", \"orbit\", \"one\", \"time\", \"differ\", \"religion\", \"said\", \"year\", \"program\", \"say\", \"believ\", \"jesu\", \"format\", \"post\", \"islam\", \"make\", \"get\", \"group\", \"well\", \"new\", \"templ\", \"muslim\", \"india\", \"delet\", \"western\", \"women\", \"persecut\", \"leader\", \"symbol\", \"prime\", \"worship\", \"flame\", \"win\", \"decis\", \"remind\", \"ancient\", \"manner\", \"affect\", \"admit\", \"psycholog\", \"sincer\", \"liar\", \"late\", \"gift\", \"craig\", \"knew\", \"surpris\", \"fruit\", \"diseas\", \"dead\", \"preach\", \"thought\", \"life\", \"perhap\", \"fire\", \"clear\", \"peopl\", \"right\", \"actual\", \"everi\", \"happen\", \"think\", \"tri\", \"especi\", \"say\", \"state\", \"kill\", \"said\", \"caus\", \"way\", \"seem\", \"one\", \"mani\", \"n't\", \"sort\", \"time\", \"like\", \"would\", \"thing\", \"probabl\", \"part\", \"good\", \"make\", \"well\", \"use\", \"even\", \"mean\", \"could\", \"point\", \"mission\", \"lunar\", \"spacecraft\", \"solar\", \"fuel\", \"probe\", \"planetari\", \"modul\", \"atmospher\", \"satellit\", \"astronomi\", \"propuls\", \"gravit\", \"durat\", \"venu\", \"titan\", \"observatori\", \"martian\", \"graviti\", \"jupit\", \"comet\", \"tracer\", \"south\", \"tank\", \"magellan\", \"camera\", \"sampl\", \"asteroid\", \"sail\", \"liquid\", \"mass\", \"orbit\", \"vehicl\", \"moon\", \"shuttl\", \"launch\", \"mar\", \"volum\", \"earth\", \"low\", \"space\", \"commerci\", \"telescop\", \"observ\", \"map\", \"data\", \"power\", \"project\", \"year\", \"system\", \"design\", \"site\", \"use\", \"first\", \"pleas\", \"unix\", \"amiga\", \"magazin\", \"mr.\", \"floor\", \"faq\", \"port\", \"greatli\", \"ken\", \"rushdi\", \"cent\", \"lucki\", \"visual\", \"toolkit\", \"voic\", \"and/or\", \"reward\", \"exchang\", \"header\", \"beauti\", \"impress\", \"mexico\", \"categori\", \"fatwa\", \"spencer\", \"khoro\", \"newsgroup\", \"airport\", \"newspap\", \"viewer\", \"respond\", \"colour\", \"post\", \"split\", \"articl\", \"interest\", \"question\", \"read\", \"repli\", \"appreci\", \"imagin\", \"suggest\", \"messag\", \"e-mail\", \"group\", \"email\", \"help\", \"ask\", \"anyon\", \"nice\", \"get\", \"would\", \"n't\", \"answer\", \"idea\", \"see\", \"know\", \"address\", \"inform\", \"need\", \"list\", \"much\", \"could\", \"send\", \"problem\", \"one\", \"find\", \"packag\", \"rayshad\", \"card\", \"video\", \"fast\", \"pixel\", \"display\", \"polygon\", \"render\", \"output\", \"bay\", \"postscript\", \"paramet\", \"raytrac\", \"cview\", \"richard\", \"vga\", \"window\", \"filter\", \"menu\", \"vesa\", \"quicktim\", \"poster\", \"unlimit\", \"multimedia\", \"compat\", \"redund\", \"pov\", \"printer\", \"brass\", \"librari\", \"graphic\", \"driver\", \"version\", \"digit\", \"captur\", \"mode\", \"screen\", \"softwar\", \"code\", \"draw\", \"server\", \"use\", \"user\", \"program\", \"site\", \"thank\", \"also\", \"work\", \"model\", \"look\", \"run\", \"line\", \"imag\", \"set\", \"support\", \"know\", \"allow\", \"chang\", \"need\", \"object\", \"ssrt\", \"fax\", \"confer\", \"request\", \"remot\", \"telephon\", \"dougla\", \"permiss\", \"mcdonnel\", \"europ\", \"committe\", \"p.o\", \"coordin\", \"onlin\", \"green\", \"counti\", \"transfer\", \"tape\", \"resourc\", \"divis\", \"l.a.\", \"isbn\", \"newslett\", \"avenu\", \"pari\", \"modem\", \"phig\", \"devic\", \"cambridg\", \"entri\", \"archiv\", \"extens\", \"option\", \"anonym\", \"institut\", \"inc.\", \"maryland\", \"contact\", \"technic\", \"internet\", \"plot\", \"oper\", \"applic\", \"data\", \"develop\", \"includ\", \"access\", \"avail\", \"inform\", \"system\", \"comput\", \"provid\", \"list\", \"technolog\", \"design\", \"research\", \"process\", \"public\", \"nation\", \"gener\", \"use\", \"new\", \"atheist\", \"atheism\", \"statement\", \"plausibl\", \"valid\", \"assert\", \"justif\", \"fals\", \"fallaci\", \"premis\", \"interfer\", \"allah\", \"proof\", \"theist\", \"baptist\", \"weak\", \"wire\", \"wisdom\", \"virtu\", \"fold\", \"paradis\", \"proposit\", \"trust\", \"ration\", \"behaviour\", \"contradictori\", \"pink\", \"unabl\", \"vice.ico.tek.com\", \"sceptic\", \"dedic\", \"belief\", \"exist\", \"therefor\", \"believ\", \"logic\", \"argument\", \"claim\", \"argu\", \"faith\", \"god\", \"religion\", \"evid\", \"histori\", \"true\", \"natur\", \"someth\", \"noth\", \"human\", \"truth\", \"reason\", \"posit\", \"exampl\", \"religi\", \"say\", \"could\", \"mani\", \"make\", \"point\", \"n't\", \"one\", \"jpeg\", \"burster\", \"spectrum\", \"baltimor\", \"dollar\", \"smooth\", \"ventur\", \"sand\", \"defi\", \"pole\", \"introduc\", \"crash\", \"proud\", \"tribe\", \"vagu\", \"step\", \"stabl\", \"instal\", \"horizont\", \"simpler\", \"string\", \"rapid\", \"knight\", \"auxiliari\", \"doubl\", \"upgrad\", \"influenc\", \"intrigu\", \"versu\", \"miner\", \"afford\", \"gun\", \"cut\", \"analys\", \"million\", \"fund\", \"faster\", \"bring\", \"cost\", \"next\", \"routin\", \"better\", \"fairli\", \"spend\", \"fair\", \"littl\", \"old\", \"manag\", \"would\", \"year\", \"get\", \"time\", \"last\", \"n't\", \"sever\", \"see\", \"could\", \"great\", \"new\", \"like\", \"thing\", \"small\", \"need\", \"might\", \"first\", \"make\", \"well\", \"look\", \"jesu\", \"bibl\", \"church\", \"koresh\", \"mormon\", \"fix\", \"gay\", \"ridicul\", \"propheci\", \"satan\", \"jewish\", \"mankind\", \"gospel\", \"myth\", \"cathol\", \"bought\", \"fulfil\", \"divin\", \"cri\", \"conceiv\", \"persuad\", \"reckon\", \"lover\", \"knock\", \"scenario\", \"von\", \"ceremoni\", \"panic\", \"weiss\", \"lucif\", \"christian\", \"violat\", \"doctrin\", \"mari\", \"son\", \"stori\", \"biblic\", \"christ\", \"love\", \"shall\", \"god\", \"tell\", \"law\", \"inde\", \"turn\", \"come\", \"even\", \"interpret\", \"truth\", \"joseph\", \"believ\", \"say\", \"see\", \"know\", \"n't\", \"person\", \"peopl\", \"thing\", \"get\", \"whole\", \"make\", \"moral\", \"kent\", \"cheer\", \"van\", \"crimin\", \"chanc\", \"abort\", \"candid\", \"freedom\", \"destruct\", \"door\", \"risk\", \"davidian\", \"worden\", \"danc\", \"social\", \"monday\", \"violent\", \"confid\", \"clown\", \"danger\", \"cult\", \"anywher\", \"joke\", \"denni\", \"hurt\", \"accid\", \"negoti\", \"goal\", \"fundament\", \"judg\", \"absolut\", \"justic\", \"increas\", \"benefit\", \"object\", \"other\", \"agre\", \"event\", \"rule\", \"human\", \"think\", \"system\", \"societi\", \"valu\", \"let\", \"team\", \"today\", \"appli\", \"control\", \"complex\", \"person\", \"still\", \"real\", \"n't\", \"even\", \"one\", \"thing\", \"speech\", \"angl\", \"greek\", \"joy\", \"pain\", \"circular\", \"silli\", \"axi\", \"join\", \"exercis\", \"intersect\", \"dave\", \"phobo\", \"theolog\", \"broken.\", \"ergo\", \"failur\", \"incred\", \"illinoi\", \"iniqu\", \"reaction\", \"servant\", \"valley\", \"england\", \"distinguish\", \"drawn\", \"c++\", \"forth\", \"lexicon\", \"bruce\", \"sin\", \"wait\", \"radiu\", \"exact\", \"tree\", \"error\", \"equival\", \"decenso\", \"hair\", \"plane\", \"happi\", \"word\", \"defin\", \"percent\", \"text\", \"thu\", \"refer\", \"point\", \"valu\", \"definit\", \"north\", \"must\", \"mean\", \"normal\", \"whatev\", \"line\", \"find\", \"one\", \"two\", \"see\", \"order\", \"interpret\", \"bill\", \"khomeini\", \"quantiz\", \"licens\", \"joe\", \"lab\", \"tom\", \"motion\", \"chri\", \"movi\", \"sat\", \"pat\", \"senior\", \"chicago\", \"archi\", \"host\", \"siggraph\", \"binari\", \"subscrib\", \"vs.\", \"ballist\", \"fraction\", \"pride\", \"he'\", \"tel\", \"canada\", \"flavor\", \"rave\", \"ball\", \"virtual\", \"plain\", \"realiti\", \"ibm\", \"sole\", \"atom\", \"coupl\", \"parti\", \"stuff\", \"latest\", \"seem\", \"hear\", \"well\", \"realli\", \"like\", \"understand\", \"project\", \"run\", \"start\", \"etc\", \"post\", \"news\", \"write\", \"someth\", \"give\", \"imag\", \"comput\", \"aircraft\", \"max\", \"bull\", \"giant\", \"pilot\", \"colorado\", \"testb\", \"june\", \"navi\", \"ssf\", \"langley\", \"ran\", \"edward\", \"x-15\", \"radar\", \"joint\", \"communist\", \"x-1\", \"sheet\", \"director\", \"annual\", \"astronaut\", \"employe\", \"eric\", \"moscow\", \"reston\", \"houston\", \"station\", \"jsc\", \"stuck\", \"foundat\", \"air\", \"dr.\", \"offic\", \"nasa\", \"space\", \"u.s.\", \"engin\", \"presid\", \"success\", \"technolog\", \"demonstr\", \"principl\", \"forc\", \"billion\", \"program\", \"flight\", \"gener\", \"test\", \"center\", \"cost\", \"complet\", \"fail\", \"one\", \"gif\", \"directori\", \"textur\", \"format\", \"file\", \"scanner\", \"batf\", \"ray-trac\", \"compound\", \"pcx\", \"bmp\", \"workshop\", \"elect\", \"merced\", \"wuarchiv\", \"undesir\", \"diamond\", \"trident\", \"lighter\", \"paranoid\", \"scan\", \"reson\", \"bingo\", \"parad\", \"catch\", \"lawson\", \"reciev\", \"default\", \"echo\", \"convert\", \"imag\", \"util\", \"ftp\", \"color\", \"convers\", \"charact\", \"save\", \"send\", \"russian\", \"program\", \"avail\", \"hous\", \"map\", \"anyon\", \"thank\", \"know\", \"note\", \"tri\", \"ago\", \"back\", \"get\", \"read\", \"commerci\", \"jose\", \"homosexu\", \"birthday\", \"cultur\", \"san\", \"escap\", \"hidden\", \"trace\", \"whenev\", \"reproduc\", \"brand\", \"immigr\", \"milk\", \"simplist\", \"park\", \"infer\", \"widget\", \"shade\", \"metaphys\", \"vector\", \"sleep\", \"raster\", \"rose\", \"offend\", \"implic\", \"rosicrucian\", \"bookstor\", \"emphasi\", \"unbeliev\", \"genesi\", \"perfectli\", \"exclus\", \"eat\", \"anim\", \"good\", \"surviv\", \"fear\", \"fundamentalist\", \"babi\", \"term\", \"convert\", \"produc\", \"knowledg\", \"religion\", \"around\", \"except\", \"food\", \"call\", \"recal\", \"like\", \"need\", \"sex\", \"say\", \"much\", \"sens\", \"kind\", \"prophet\", \"sweep\", \"celebr\", \"ident\", \"scholar\", \"honor\", \"mount\", \"struggl\", \"glass\", \"messiah\", \"cyru\", \"priest\", \"king\", \"pharise\", \"abraham\", \"prais\", \"comprehens\", \"josephu\", \"crystal\", \"famou\", \"egypt\", \"mose\", \"reput\", \"deed\", \"reconstruct\", \"israelit\", \"apostl\", \"bethlehem\", \"contin\", \"holi\", \"saw\", \"came\", \"matthew\", \"mother\", \"angel\", \"reveal\", \"becam\", \"tradit\", \"confus\", \"men\", \"land\", \"respect\", \"jew\", \"year\", \"said\", \"later\", \"new\", \"centuri\", \"day\", \"follow\", \"god\", \"hand\", \"one\", \"old\", \"degre\", \"solut\", \"length\", \"closer\", \"confirm\", \"spin\", \"sunset\", \"gee\", \"sunris\", \"conceal\", \"dispers\", \"sci.astro\", \"pascal\", \"regist\", \"detector\", \"linux\", \"vast\", \"wayn\", \"intens\", \"yee\", \"reduct\", \"dock\", \"mhz\", \"mate\", \"triangul\", \"increment\", \"rs6000\", \"hmm\", \"locat\", \"postul\", \"vari\", \"ray\", \"planet\", \"measur\", \"platform\", \"uranu\", \"near\", \"circl\", \"full\", \"sun\", \"comput\", \"equat\", \"function\", \"sometim\", \"softwar\", \"hard\", \"time\", \"natur\", \"case\", \"day\", \"around\", \"year\", \"object\", \"run\", \"interest\", \"occur\", \"follow\", \"tiff\", \"arrow\", \"irregular\", \"byte\", \"chosen\", \"contour\", \"geometri\", \"pbmplu\", \"correspond\", \"archer\", \"camp\", \"storag\", \"border\", \"telepathi\", \"crop\", \"toni\", \"interpol\", \"preserv\", \"daughter\", \"ncsa\", \"inerr\", \"fluid\", \"bsa\", \"outward\", \"creationist\", \"scholarli\", \"non\", \"josh\", \"doug\", \"hudson\", \"legisl\", \"regular\", \"mile\", \"book\", \"field\", \"within\", \"portion\", \"notic\", \"due\", \"big\", \"rel\", \"sky\", \"frank\", \"correct\", \"quit\", \"minor\", \"run\", \"issu\", \"need\", \"page\", \"know\", \"last\", \"author\", \"sun\", \"phil\", \"graph\", \"target\", \"rocketri\", \"impuls\", \"link\", \"x11\", \"composit\", \"motor\", \"inc\", \"palett\", \"mous\", \"float\", \"classif\", \"fashion\", \"crowley\", \"spaceflight\", \"faa\", \"node\", \"dot\", \"liftoff\", \"oblig\", \"orang\", \"broadcast\", \"amorc\", \"ultra\", \"hobbi\", \"goldin\", \"tio2\", \"waiver\", \"weight\", \"profession\", \"smaller\", \"amateur\", \"larger\", \"custom\", \"raw\", \"appli\", \"invest\", \"easier\", \"rocket\", \"small\", \"attribut\", \"profit\", \"payload\", \"requir\", \"engin\", \"specif\", \"first\", \"capabl\", \"larg\", \"structur\", \"use\", \"good\", \"area\", \"discuss\", \"within\", \"assum\", \"commun\", \"either\", \"project\", \"part\", \"fair\", \"point\", \"cours\", \"hole\", \"neutron\", \"halo\", \"galaxi\", \"gamma\", \"galact\", \"quantum\", \"cosmolog\", \"detect\", \"mechan\", \"corp.\", \"collis\", \"burst\", \"pet\", \"destabil\", \"andromeda\", \"ron\", \"judah\", \"cubic\", \"straightforward\", \"ms.\", \"grb\", \"dogma\", \"enorm\", \"shape\", \"esoter\", \"codifi\", \"physicist\", \"popul\", \"newton\", \"star\", \"black\", \"cosmic\", \"theori\", \"cloud\", \"embarrass\", \"energi\", \"distribut\", \"physic\", \"sourc\", \"ray\", \"indic\", \"one\", \"local\", \"wrong\", \"probabl\", \"either\", \"far\", \"light\", \"rel\", \"get\", \"see\", \"show\", \"data\", \"univers\", \"think\", \"tast\", \"hang\", \"prize\", \"calib\", \"advertis\", \"pollut\", \"scari\", \"crowd\", \"billboard\", \"inflat\", \"einstein\", \"medic\", \"obey\", \"favorit\", \"mat\", \"guest\", \"tech\", \"cruel\", \"enemi\", \"criteria\", \"click\", \"mid\", \"crucifi\", \"explod\", \"fortun\", \"superhuman\", \"dri\", \"sec\", \"atlanta\", \"painless\", \"commonli\", \"spring\", \"light\", \"mercuri\", \"sound\", \"easi\", \"would\", \"sure\", \"like\", \"place\", \"orbit\", \"astronom\", \"challeng\", \"well\", \"moon\", \"night\", \"second\", \"project\", \"could\", \"space\", \"larg\", \"might\", \"much\", \"earth\", \"dryden\", \"econom\", \"prayer\", \"shafer\", \"nut\", \"wwii\", \"christma\", \"fighter\", \"campaign\", \"rumor\", \"german\", \"china\", \"essenc\", \"griffin\", \"ought\", \"surrend\", \"afraid\", \"gnp\", \"militari\", \"cancel\", \"nicknam\", \"island\", \"denot\", \"theme\", \"passov\", \"msb\", \"flood\", \"moonbas\", \"tea\", \"humor\", \"flew\", \"elimin\", \"germani\", \"analog\", \"york\", \"safeti\", \"microwav\", \"involv\", \"disagre\", \"done\", \"mari\", \"real\", \"world\", \"n't\", \"make\", \"nasa\", \"similar\", \"earli\", \"also\", \"base\", \"show\", \"use\", \"give\", \"even\", \"much\", \"thing\", \"caus\", \"someth\", \"valu\", \"jim\", \"row\", \"car\", \"slope\", \"bitmap\", \"fractal\", \"hypocrit\", \"incorrect\", \"induct\", \"t.r.m\", \"axe\", \"twice\", \"ear\", \"cube\", \"scodal\", \"talk.religion.misc\", \"underli\", \"autocad\", \"sink\", \"wade\", \"ambigu\", \"frustrat\", \"scum\", \"kiss\", \"storm\", \"her\", \"buddi\", \"uncount\", \"cold\", \"renounc\", \"context\", \"citi\", \"export\", \"quot\", \"e.g\", \"red\", \"articl\", \"accus\", \"logic\", \"take\", \"conclus\", \"respons\", \"robert\", \"appear\", \"line\", \"argument\", \"block\", \"direct\", \"cheaper\", \"depress\", \"sdio\", \"thor\", \"centaur\", \"proton\", \"contest\", \"usaf\", \"trim\", \"stage\", \"dc-i\", \"low-cost\", \"tuesday\", \"sex\", \"arromde\", \"sutherland\", \"soyuz\", \"lox\", \"stress\", \"scheme\", \"auto\", \"parodi\", \"propog\", \"hasti\", \"youngster\", \"florida\", \"salyut\", \"aloud\", \"forum\", \"chuckl\", \"built\", \"launcher\", \"took\", \"launch\", \"build\", \"decad\", \"stephen\", \"rocket\", \"pad\", \"payload\", \"allen\", \"lot\", \"missil\", \"new\", \"made\", \"said\", \"delta\", \"take\", \"last\", \"anoth\", \"sinc\", \"hope\", \"probabl\", \"qur'an\", \"penalti\", \"depth\", \"harsh\", \"trend\", \"persist\", \"spline\", \"triangl\", \"segment\", \"belt\", \"conscienc\", \"offens\", \"islam\", \"disbelief\", \"larc.nasa.gov\", \"rat\", \"c.o.egalon\", \"geocentr\", \"min\", \"kuiper\", \"perihelion\", \"pixmap\", \"deterr\", \"treason\", \"edg\", \"stroke\", \"dimension\", \"appendix\", \"nth\", \"tragic\", \"capit\", \"distanc\", \"punish\", \"complic\", \"accompani\", \"crime\", \"vers\", \"flip\", \"teach\", \"equal\", \"wonder\", \"without\", \"push\", \"get\", \"view\", \"death\", \"consist\", \"problem\", \"except\", \"wing\", \"descend\", \"tip\", \"jone\", \"alexandria\", \"spectromet\", \"sunlight\", \"bird\", \"nope\", \"variat\", \"karl\", \"imprison\", \"mag\", \"dolphin\", \"tonga\", \"i/o\", \"iapetu\", \"magnetomet\", \"conveni\", \"lust\", \"soc.religion.islam\", \"greed\", \"wate\", \"ann\", \"anger\", \"bar\", \"aggress\", \"inertia\", \"pool\", \"lest\", \"hga\", \"search\", \"test\", \"despit\", \"propos\", \"differ\", \"corrupt\", \"exhibit\", \"big\", \"addit\", \"kind\", \"group\", \"favor\", \"aspect\", \"graphic\", \"result\", \"one\", \"make\", \"person\", \"lot\"], \"Freq\": [1249.0, 829.0, 1755.0, 836.0, 505.0, 791.0, 553.0, 1113.0, 790.0, 366.0, 821.0, 470.0, 1203.0, 634.0, 345.0, 502.0, 388.0, 538.0, 571.0, 787.0, 518.0, 359.0, 265.0, 525.0, 195.0, 596.0, 672.0, 275.0, 474.0, 417.0, 202.11203002929688, 154.80337524414062, 125.16222381591797, 126.90338134765625, 86.2402114868164, 81.33674621582031, 75.26551055908203, 74.32192993164062, 69.43792724609375, 68.58390808105469, 65.89266204833984, 61.32592010498047, 61.13710403442383, 59.685882568359375, 58.93248748779297, 57.533058166503906, 57.46708297729492, 55.21046829223633, 54.04585647583008, 53.97201156616211, 51.609798431396484, 49.30295181274414, 48.38527297973633, 46.35271072387695, 46.112083435058594, 45.61151123046875, 45.27863311767578, 45.258419036865234, 41.83452224731445, 41.517757415771484, 71.66097259521484, 206.54380798339844, 269.59051513671875, 189.15509033203125, 114.09928894042969, 56.80565643310547, 657.9982299804688, 236.69732666015625, 214.64752197265625, 168.8749237060547, 130.69749450683594, 539.4222412109375, 256.4235534667969, 82.31704711914062, 486.7430419921875, 222.1929168701172, 106.1246566772461, 266.5926513671875, 217.5347137451172, 260.5330810546875, 206.52772521972656, 552.7203979492188, 310.8872985839844, 686.2796630859375, 115.91522216796875, 298.2663269042969, 334.4195556640625, 443.48455810546875, 246.47518920898438, 136.92623901367188, 148.27801513671875, 195.91712951660156, 199.26834106445312, 184.50021362304688, 236.8978271484375, 171.74713134765625, 162.45468139648438, 168.6165008544922, 163.1118621826172, 280.611083984375, 197.75228881835938, 135.06317138671875, 100.12429809570312, 98.50648498535156, 95.3352279663086, 82.03193664550781, 65.98284149169922, 65.53919219970703, 319.6099548339844, 61.60556411743164, 60.64529800415039, 59.72340393066406, 55.15495300292969, 54.24569320678711, 43.11062240600586, 42.66663360595703, 41.2943115234375, 41.04866409301758, 40.93147277832031, 38.14396286010742, 37.98759841918945, 35.81393051147461, 35.37260055541992, 34.58427047729492, 34.319889068603516, 32.32988357543945, 32.0223503112793, 31.904680252075195, 30.798582077026367, 95.75960540771484, 399.9988708496094, 92.90876007080078, 184.07315063476562, 127.10150909423828, 252.9265594482422, 92.76403045654297, 63.00978469848633, 182.0103759765625, 71.14787292480469, 312.2680358886719, 90.40074920654297, 60.97172927856445, 81.79694366455078, 78.22037506103516, 113.42294311523438, 85.7188720703125, 80.9765853881836, 95.8348159790039, 93.42314147949219, 73.56812286376953, 73.40914916992188, 83.43325805664062, 76.53834533691406, 271.5220947265625, 107.4049301147461, 83.00144958496094, 35.78565216064453, 35.63493347167969, 35.3266716003418, 139.92544555664062, 29.091304779052734, 27.64750862121582, 27.22153663635254, 27.035438537597656, 26.54421043395996, 26.213037490844727, 89.5067367553711, 23.652240753173828, 23.186553955078125, 22.90380859375, 22.558307647705078, 21.041507720947266, 20.971824645996094, 16.99139976501465, 22.5301456451416, 15.452239036560059, 25.43903160095215, 12.721158027648926, 12.007842063903809, 11.61422348022461, 67.43628692626953, 11.238645553588867, 10.866815567016602, 67.18878936767578, 56.565956115722656, 23.638891220092773, 428.3909912109375, 36.56593704223633, 156.73367309570312, 233.48074340820312, 218.75331115722656, 229.17507934570312, 76.48040771484375, 54.47537612915039, 62.245059967041016, 101.39825439453125, 77.3214111328125, 76.2107162475586, 164.6782989501953, 100.35348510742188, 144.99911499023438, 129.42581176757812, 164.2681121826172, 76.77911376953125, 271.1734924316406, 350.0828552246094, 397.73480224609375, 96.50479125976562, 99.08993530273438, 172.5423583984375, 190.61199951171875, 94.56845092773438, 114.67764282226562, 128.31797790527344, 101.08698272705078, 119.46707916259766, 119.77645874023438, 93.26216888427734, 100.46459197998047, 121.18344116210938, 98.8757553100586, 244.02931213378906, 103.25865936279297, 102.5911865234375, 89.92329406738281, 80.6226577758789, 54.0878791809082, 182.9368438720703, 49.25960922241211, 86.3505630493164, 44.637779235839844, 44.35107421875, 42.04209899902344, 39.74869918823242, 37.56311798095703, 36.939048767089844, 35.933990478515625, 35.895442962646484, 179.34991455078125, 32.99098587036133, 32.49397277832031, 29.922954559326172, 29.20010757446289, 24.444589614868164, 23.66937828063965, 22.67624855041504, 22.126230239868164, 21.405677795410156, 20.82049560546875, 20.198617935180664, 19.413454055786133, 104.26355743408203, 271.8522644042969, 64.20421600341797, 223.38046264648438, 68.0838623046875, 38.603519439697266, 77.48280334472656, 55.580665588378906, 196.6456756591797, 127.69313049316406, 73.1297836303711, 62.41204071044922, 490.6383056640625, 124.16490173339844, 255.8273162841797, 137.896484375, 165.627197265625, 277.6839294433594, 173.89120483398438, 103.14338684082031, 152.0883331298828, 109.683837890625, 107.23974609375, 201.70123291015625, 102.26280975341797, 99.0665283203125, 123.85877990722656, 84.72180938720703, 92.50897979736328, 97.63568878173828, 88.50724029541016, 209.87045288085938, 79.65308380126953, 70.82416534423828, 78.53715515136719, 51.950538635253906, 50.67993927001953, 52.069297790527344, 44.790260314941406, 41.942420959472656, 35.017974853515625, 34.020565032958984, 32.76673889160156, 31.996227264404297, 31.476993560791016, 30.335939407348633, 29.622907638549805, 29.316598892211914, 28.204439163208008, 66.75817108154297, 25.810646057128906, 24.940391540527344, 23.50497055053711, 21.719310760498047, 20.368589401245117, 25.869792938232422, 16.50082015991211, 16.47190284729004, 40.39149856567383, 14.78532600402832, 20.273727416992188, 100.59468078613281, 40.40930938720703, 80.95452117919922, 73.19485473632812, 73.47541046142578, 50.51084518432617, 35.04185104370117, 123.31644439697266, 95.57902526855469, 71.99273681640625, 86.45179748535156, 121.3678970336914, 111.36331939697266, 249.81362915039062, 146.95327758789062, 238.91062927246094, 71.30937194824219, 166.86758422851562, 156.2156219482422, 223.21920776367188, 120.10389709472656, 112.52244567871094, 110.53968048095703, 94.92249298095703, 94.6593017578125, 89.57556915283203, 90.40632629394531, 74.41172790527344, 81.84760284423828, 102.72962951660156, 97.87039184570312, 74.51383972167969, 266.5369873046875, 150.12319946289062, 134.40162658691406, 78.07861328125, 58.468135833740234, 54.613929748535156, 54.27449417114258, 48.510955810546875, 43.64234924316406, 35.997398376464844, 35.80333709716797, 35.31986618041992, 35.07335662841797, 34.99466323852539, 27.98258399963379, 27.950735092163086, 27.61806297302246, 26.039216995239258, 25.941951751708984, 24.484189987182617, 21.559860229492188, 18.500558853149414, 17.814163208007812, 16.88323974609375, 15.049158096313477, 14.843356132507324, 13.571440696716309, 12.870268821716309, 12.797937393188477, 12.098013877868652, 64.92561340332031, 203.0438995361328, 277.8855285644531, 76.78103637695312, 327.6129150390625, 71.30192565917969, 155.40406799316406, 180.36676025390625, 40.18434143066406, 100.82127380371094, 368.4627380371094, 252.048828125, 106.43121337890625, 112.40139770507812, 136.293701171875, 95.75817108154297, 171.3567352294922, 85.1583480834961, 96.42964935302734, 77.21937561035156, 105.28113555908203, 83.4510498046875, 95.12940979003906, 79.3468246459961, 144.11373901367188, 122.83992767333984, 114.29867553710938, 108.2210464477539, 101.80255126953125, 113.36253356933594, 102.07784271240234, 206.9716796875, 83.05320739746094, 72.05812072753906, 50.833065032958984, 50.54314041137695, 49.11030197143555, 45.2945442199707, 37.73193359375, 33.23843002319336, 42.83247756958008, 29.038528442382812, 26.405757904052734, 24.135326385498047, 23.19515609741211, 22.96337127685547, 120.84481811523438, 22.441116333007812, 22.223329544067383, 22.20600128173828, 21.94396209716797, 21.826847076416016, 20.089197158813477, 17.8122615814209, 17.79987335205078, 17.609905242919922, 17.231245040893555, 17.220718383789062, 16.893224716186523, 20.13153839111328, 14.454846382141113, 42.2069091796875, 52.16785430908203, 33.671417236328125, 21.25664710998535, 66.14402770996094, 57.61027145385742, 65.76642608642578, 61.20734786987305, 122.79450988769531, 84.85150146484375, 51.75025939941406, 135.06671142578125, 35.58295440673828, 41.03700256347656, 47.460323333740234, 112.45541381835938, 72.86740112304688, 52.3187255859375, 247.53341674804688, 151.74952697753906, 157.85198974609375, 147.662841796875, 80.21089935302734, 215.9655303955078, 71.88192749023438, 105.69771575927734, 96.20613861083984, 65.00393676757812, 80.98167419433594, 92.67527770996094, 77.91339111328125, 60.59847640991211, 74.00161743164062, 66.6966781616211, 71.96753692626953, 72.9059066772461, 66.27735137939453, 65.11676025390625, 358.48272705078125, 251.14739990234375, 90.6158676147461, 78.76260375976562, 54.4586296081543, 54.17441177368164, 52.31404113769531, 51.15637969970703, 48.871761322021484, 44.557430267333984, 40.6875114440918, 39.96138381958008, 39.56687927246094, 35.84611129760742, 34.670955657958984, 34.62965774536133, 32.14376449584961, 31.557039260864258, 30.305227279663086, 28.30398941040039, 27.78636932373047, 27.676538467407227, 26.395612716674805, 25.980411529541016, 24.31275177001953, 23.359800338745117, 22.670738220214844, 22.105491638183594, 21.962034225463867, 20.956832885742188, 322.18988037109375, 91.3400650024414, 46.650569915771484, 115.04977416992188, 53.33547592163086, 106.95464324951172, 38.91496276855469, 67.81649017333984, 89.45353698730469, 37.44524383544922, 359.3471984863281, 141.54638671875, 99.38638305664062, 49.48125076293945, 67.81817626953125, 108.74834442138672, 134.521728515625, 64.81875610351562, 69.99840545654297, 51.21318817138672, 104.46165466308594, 117.29924011230469, 102.6543960571289, 108.99488067626953, 134.86404418945312, 77.91663360595703, 91.33477020263672, 80.93331909179688, 82.97046661376953, 56.83584213256836, 60.14744186401367, 236.98464965820312, 70.74577331542969, 69.7189712524414, 59.737979888916016, 54.930274963378906, 45.315799713134766, 36.937477111816406, 32.88180923461914, 30.8852596282959, 30.845308303833008, 30.47769546508789, 28.158700942993164, 27.973127365112305, 27.894235610961914, 25.91994285583496, 51.98381042480469, 24.920902252197266, 24.640613555908203, 22.717220306396484, 21.400188446044922, 21.01409339904785, 17.0764102935791, 16.47880744934082, 15.532674789428711, 14.277159690856934, 12.424488067626953, 12.023162841796875, 11.844058990478516, 40.04854202270508, 38.36477279663086, 52.57463073730469, 40.7349739074707, 33.186031341552734, 73.50672149658203, 27.634050369262695, 146.0471649169922, 106.75949096679688, 65.93612670898438, 62.71958541870117, 65.41749572753906, 81.94049835205078, 166.51727294921875, 139.29348754882812, 70.7220458984375, 71.7458267211914, 78.31513214111328, 47.991214752197266, 56.600223541259766, 53.4829216003418, 53.628665924072266, 41.09231948852539, 65.34432220458984, 62.3423957824707, 56.9233512878418, 92.17822265625, 66.5777587890625, 62.71950912475586, 52.720703125, 93.18992614746094, 86.03583526611328, 77.5057373046875, 46.24322509765625, 43.851837158203125, 40.303199768066406, 39.818946838378906, 35.89439392089844, 61.371788024902344, 29.116535186767578, 28.74349021911621, 28.266998291015625, 26.627548217773438, 25.46737289428711, 24.876977920532227, 23.76158332824707, 22.66047477722168, 18.119760513305664, 17.026365280151367, 16.650110244750977, 16.33480453491211, 14.635820388793945, 14.45729923248291, 13.636077880859375, 13.61566162109375, 12.657503128051758, 12.447137832641602, 12.161245346069336, 11.998894691467285, 10.88866138458252, 101.02992248535156, 45.6844482421875, 39.815921783447266, 31.23973274230957, 24.53545379638672, 59.71142578125, 19.155658721923828, 25.44017219543457, 21.580116271972656, 65.8874740600586, 56.562652587890625, 144.2578887939453, 86.28479766845703, 39.080142974853516, 62.076541900634766, 60.949947357177734, 90.69871520996094, 152.75665283203125, 83.59959411621094, 68.92318725585938, 45.061851501464844, 77.62911987304688, 91.2178726196289, 37.432735443115234, 44.47220993041992, 57.73344802856445, 57.655738830566406, 73.20551300048828, 53.22747039794922, 54.73467254638672, 47.827030181884766, 43.833831787109375, 61.408321380615234, 45.947471618652344, 38.17234420776367, 35.89107894897461, 31.335596084594727, 30.971601486206055, 30.934179306030273, 32.17951202392578, 30.20672607421875, 29.532018661499023, 26.84952735900879, 26.64455223083496, 26.070045471191406, 26.009958267211914, 25.179235458374023, 24.6676025390625, 24.450641632080078, 24.55952262878418, 24.076261520385742, 23.757156372070312, 23.016061782836914, 23.00421905517578, 22.702375411987305, 21.800294876098633, 21.729679107666016, 21.497211456298828, 20.963655471801758, 20.7545223236084, 20.175846099853516, 121.62579345703125, 48.609230041503906, 107.56529235839844, 34.72528076171875, 45.409061431884766, 30.033395767211914, 48.54475021362305, 28.83489990234375, 54.77773666381836, 38.708580017089844, 75.78651428222656, 39.4450569152832, 84.2490234375, 64.08951568603516, 87.64111328125, 48.943973541259766, 49.27027893066406, 49.56627655029297, 43.210845947265625, 46.429996490478516, 51.44194412231445, 40.766231536865234, 37.49972152709961, 40.89607238769531, 35.42495346069336, 34.23234176635742, 31.416757583618164, 78.32084655761719, 52.59752655029297, 51.53021240234375, 50.477718353271484, 46.57917404174805, 40.751014709472656, 31.2239990234375, 30.648151397705078, 27.967601776123047, 26.035165786743164, 20.169334411621094, 19.95733070373535, 18.77872085571289, 18.42232894897461, 17.96383285522461, 17.683109283447266, 17.426864624023438, 16.23333168029785, 26.479225158691406, 14.742598533630371, 14.503013610839844, 52.00981903076172, 11.147753715515137, 11.015271186828613, 10.197844505310059, 9.861102104187012, 9.36198902130127, 68.20374298095703, 7.813931465148926, 7.417330265045166, 45.61449432373047, 62.20819854736328, 58.69272232055664, 76.42908477783203, 167.8084716796875, 429.0672912597656, 62.5946044921875, 82.20821380615234, 28.01866340637207, 51.20853805541992, 90.06649017333984, 68.60212707519531, 54.61029815673828, 60.31289291381836, 51.403160095214844, 146.80953979492188, 51.78844451904297, 109.90259552001953, 64.41990661621094, 61.687110900878906, 52.23283386230469, 45.60694885253906, 37.79570388793945, 57.15742111206055, 159.3493194580078, 107.22596740722656, 83.0065689086914, 262.0953369140625, 491.385498046875, 17.255962371826172, 16.607694625854492, 12.016850471496582, 11.594958305358887, 11.457518577575684, 10.660881042480469, 10.124646186828613, 9.149877548217773, 8.614124298095703, 8.225220680236816, 7.256192207336426, 6.942935466766357, 6.487369060516357, 4.617844581604004, 3.0699191093444824, 18.705501556396484, 2.4593567848205566, 2.457489490509033, 2.4346816539764404, 2.2357349395751953, 2.231156349182129, 2.162986993789673, 16.83999252319336, 6.687025547027588, 117.70741271972656, 507.66046142578125, 35.25965118408203, 124.75081634521484, 100.32594299316406, 36.87556838989258, 19.566986083984375, 55.353179931640625, 76.99861907958984, 20.547588348388672, 80.79640197753906, 55.950565338134766, 22.692028045654297, 26.511281967163086, 36.116798400878906, 36.54825973510742, 41.9575309753418, 27.20223045349121, 27.977428436279297, 22.193601608276367, 23.781307220458984, 26.08786392211914, 20.02200698852539, 18.652164459228516, 72.49401092529297, 42.862152099609375, 34.92040252685547, 24.222137451171875, 89.32831573486328, 22.924962997436523, 19.344215393066406, 39.25732421875, 16.765615463256836, 14.272297859191895, 13.832298278808594, 13.543634414672852, 12.766902923583984, 12.537596702575684, 11.476417541503906, 18.122854232788086, 9.419408798217773, 9.073235511779785, 8.015044212341309, 7.6432414054870605, 7.163932800292969, 13.37826919555664, 6.114377975463867, 5.574265003204346, 5.010539531707764, 4.900753498077393, 4.735866546630859, 26.5147705078125, 4.404298305511475, 4.237725257873535, 26.278104782104492, 14.454887390136719, 30.088218688964844, 80.5539779663086, 244.64349365234375, 26.25847816467285, 30.464025497436523, 14.972443580627441, 24.090797424316406, 41.56077194213867, 54.50434875488281, 39.539119720458984, 31.836509704589844, 74.75017547607422, 55.316043853759766, 30.25145149230957, 17.06184959411621, 33.20158386230469, 18.427505493164062, 36.0587043762207, 31.271446228027344, 22.09840965270996, 29.970394134521484, 25.63422203063965, 21.38029670715332, 19.928274154663086, 85.89324951171875, 50.926483154296875, 47.80685043334961, 46.876014709472656, 40.166481018066406, 29.831157684326172, 27.646516799926758, 26.958585739135742, 25.541950225830078, 13.986905097961426, 12.631852149963379, 36.06111526489258, 42.25334548950195, 7.567356109619141, 7.418230056762695, 7.355204105377197, 19.174406051635742, 6.092973232269287, 5.78652811050415, 18.427703857421875, 5.3863091468811035, 4.989297389984131, 4.939515590667725, 38.11738967895508, 4.697024345397949, 4.693082809448242, 4.124805927276611, 3.820706367492676, 14.042142868041992, 27.335512161254883, 42.87543869018555, 61.63538360595703, 45.025856018066406, 17.88371467590332, 19.975465774536133, 10.957636833190918, 20.19570541381836, 33.04014587402344, 27.278274536132812, 39.012657165527344, 56.44697952270508, 39.911102294921875, 26.687501907348633, 107.72286224365234, 85.18102264404297, 34.191802978515625, 70.4701156616211, 30.204708099365234, 52.342716217041016, 57.044132232666016, 63.17138671875, 28.62200355529785, 28.403507232666016, 27.0208683013916, 125.0505599975586, 58.51115417480469, 49.201107025146484, 22.095355987548828, 21.63155174255371, 21.390594482421875, 17.716415405273438, 17.344472885131836, 15.792081832885742, 13.845023155212402, 13.716078758239746, 11.92776870727539, 10.784313201904297, 10.723881721496582, 8.54479694366455, 7.696070194244385, 7.542145729064941, 7.347071647644043, 20.890214920043945, 6.2168474197387695, 5.7184953689575195, 5.640469074249268, 5.513529300689697, 5.4833245277404785, 5.369501113891602, 5.176660537719727, 4.767253875732422, 5.278104782104492, 55.44335174560547, 3.658231496810913, 20.546768188476562, 35.773372650146484, 51.312950134277344, 55.46364212036133, 38.28959655761719, 15.799830436706543, 26.000370025634766, 27.68915367126465, 48.70804977416992, 68.93382263183594, 72.30530548095703, 20.419260025024414, 45.10990524291992, 32.52956008911133, 59.19777297973633, 39.57918167114258, 79.42149353027344, 40.17442321777344, 46.39356994628906, 49.58373260498047, 31.98216438293457, 33.40932846069336, 29.28610610961914, 26.634008407592773, 26.875490188598633, 23.63020896911621, 23.40407943725586, 54.584754943847656, 24.720548629760742, 22.708908081054688, 22.321306228637695, 19.34251594543457, 14.941462516784668, 14.744284629821777, 13.83842658996582, 12.876348495483398, 12.731487274169922, 11.346113204956055, 10.715832710266113, 10.537116050720215, 10.48260498046875, 10.170042991638184, 18.37714385986328, 9.91622257232666, 9.883007049560547, 9.456414222717285, 9.371965408325195, 8.815286636352539, 8.789262771606445, 8.673340797424316, 8.534378051757812, 8.50625991821289, 8.498112678527832, 8.07013988494873, 7.801838397979736, 7.5363450050354, 23.08499526977539, 13.029932975769043, 29.057384490966797, 18.99056053161621, 101.35400390625, 61.52656173706055, 58.5445442199707, 15.542157173156738, 32.37705993652344, 41.65526580810547, 39.46400451660156, 28.170974731445312, 20.067214965820312, 17.215572357177734, 29.14360237121582, 32.162986755371094, 22.40230369567871, 36.797359466552734, 29.64913558959961, 34.78927230834961, 19.61159324645996, 34.099639892578125, 23.119224548339844, 18.465669631958008, 17.004016876220703, 65.33550262451172, 32.8107795715332, 32.49460220336914, 30.546329498291016, 25.31658172607422, 16.52334976196289, 15.452733039855957, 15.000473022460938, 14.233606338500977, 11.567964553833008, 10.286517143249512, 10.07657527923584, 9.635248184204102, 7.881706714630127, 7.797045707702637, 6.770447254180908, 6.647748947143555, 6.637467861175537, 6.351578712463379, 6.307469367980957, 6.024773597717285, 5.532622814178467, 4.905990123748779, 13.738916397094727, 4.879543304443359, 4.853392601013184, 4.627646446228027, 4.572826385498047, 4.460017204284668, 4.187342166900635, 27.05990219116211, 14.832086563110352, 13.52675724029541, 23.572851181030273, 16.498329162597656, 17.844966888427734, 9.947443008422852, 67.00666046142578, 18.420490264892578, 18.71610450744629, 68.12940216064453, 54.95921325683594, 19.443849563598633, 10.127473831176758, 27.732372283935547, 47.962303161621094, 38.0838737487793, 32.53457260131836, 63.383338928222656, 27.79366111755371, 32.7523193359375, 24.541759490966797, 65.78295135498047, 43.96688461303711, 29.38703727722168, 28.2067928314209, 26.943418502807617, 25.36716651916504, 26.09855842590332, 26.13847541809082, 26.801197052001953, 26.05742645263672, 21.11966323852539, 26.288307189941406, 23.86580467224121, 49.62569046020508, 28.855012893676758, 26.748064041137695, 25.437685012817383, 24.09947967529297, 20.436634063720703, 20.06484603881836, 18.101030349731445, 16.774850845336914, 38.22301483154297, 13.763672828674316, 10.64498233795166, 10.480378150939941, 9.873259544372559, 9.376128196716309, 9.176542282104492, 5.384589195251465, 3.474292278289795, 2.540057897567749, 2.5195062160491943, 2.5034124851226807, 2.4881675243377686, 2.108794689178467, 10.460858345031738, 16.042356491088867, 1.8371690511703491, 1.7327141761779785, 8.083569526672363, 30.186826705932617, 1.5747249126434326, 53.247032165527344, 47.785545349121094, 11.67108154296875, 30.432294845581055, 11.139195442199707, 9.473272323608398, 25.671401977539062, 40.20619201660156, 26.584074020385742, 38.00139617919922, 16.92495346069336, 19.630672454833984, 46.581634521484375, 20.86617660522461, 21.94965362548828, 21.8797550201416, 21.435256958007812, 21.03451156616211, 16.643108367919922, 15.476861000061035, 23.82831382751465, 21.162534713745117, 18.8179874420166, 19.46378517150879, 18.515073776245117, 17.99285888671875, 44.605796813964844, 38.61404800415039, 30.240825653076172, 27.802656173706055, 24.96094512939453, 20.912595748901367, 16.058380126953125, 14.408801078796387, 14.378568649291992, 13.059982299804688, 12.959728240966797, 11.271453857421875, 9.591204643249512, 8.863638877868652, 8.742986679077148, 16.468812942504883, 7.983480453491211, 7.32806396484375, 6.8885273933410645, 6.849740982055664, 6.738034248352051, 6.577730178833008, 5.586119651794434, 5.456648349761963, 5.111228942871094, 4.709383010864258, 25.45491600036621, 3.879685163497925, 3.67091703414917, 3.5773675441741943, 6.405640602111816, 34.88211441040039, 31.50396156311035, 19.90411949157715, 25.737442016601562, 19.21004867553711, 106.89330291748047, 38.87270736694336, 73.47366333007812, 36.5687255859375, 54.0669059753418, 19.2862491607666, 16.56142807006836, 35.73392868041992, 26.63400650024414, 13.616551399230957, 17.70629119873047, 19.965116500854492, 24.632335662841797, 24.11590576171875, 16.938222885131836, 17.468753814697266, 17.41278839111328, 16.368154525756836, 38.18476486206055, 28.79598045349121, 27.48440170288086, 18.220407485961914, 14.138941764831543, 13.350241661071777, 12.9948091506958, 11.861349105834961, 7.283910274505615, 6.952363014221191, 31.09125328063965, 5.595047950744629, 5.1781511306762695, 5.161734104156494, 4.256929874420166, 3.995382785797119, 3.8983075618743896, 3.5647025108337402, 62.70344924926758, 3.1284613609313965, 2.9989895820617676, 5.251748561859131, 5.084451675415039, 2.8219499588012695, 2.7518787384033203, 2.6833627223968506, 2.5833685398101807, 2.048304796218872, 2.0481560230255127, 1.919969916343689, 10.802909851074219, 12.793092727661133, 9.225042343139648, 25.042482376098633, 26.525882720947266, 11.520662307739258, 10.900786399841309, 26.52023696899414, 10.473270416259766, 22.369308471679688, 18.931459426879883, 22.33633804321289, 24.14556312561035, 55.40727996826172, 30.56460952758789, 21.435400009155273, 14.003144264221191, 11.6495361328125, 22.689743041992188, 16.44796371459961, 15.842610359191895, 21.088088989257812, 15.6021728515625, 15.075902938842773, 14.539477348327637, 14.660367012023926, 13.732487678527832, 13.784728050231934, 13.267606735229492, 65.1378402709961, 27.34954261779785, 25.47478675842285, 24.39826011657715, 23.022031784057617, 21.428497314453125, 19.850563049316406, 15.785369873046875, 15.429675102233887, 10.915400505065918, 10.302299499511719, 9.421271324157715, 8.819327354431152, 8.140998840332031, 7.548198699951172, 6.721861839294434, 6.039724826812744, 5.2882819175720215, 4.96572732925415, 4.189212322235107, 4.088407516479492, 4.005432605743408, 3.7217791080474854, 3.7090585231781006, 3.656918525695801, 11.531042098999023, 3.628875970840454, 3.5941333770751953, 10.750670433044434, 3.524578332901001, 43.631591796875, 25.492359161376953, 10.14037036895752, 35.02622604370117, 8.429337501525879, 15.129476547241211, 30.000232696533203, 9.612765312194824, 17.602088928222656, 27.866718292236328, 15.320899963378906, 18.669347763061523, 12.67049789428711, 13.354278564453125, 14.496842384338379, 13.416781425476074, 9.13176441192627, 9.28209114074707, 47.48016357421875, 42.51335144042969, 13.51263427734375, 13.34636402130127, 11.401226043701172, 11.003922462463379, 9.70622730255127, 9.0556058883667, 5.8494744300842285, 66.69076538085938, 4.164924621582031, 3.9099862575531006, 3.7696404457092285, 81.19519805908203, 2.78517484664917, 2.6234254837036133, 2.4759955406188965, 2.214411973953247, 2.0022101402282715, 4.645875453948975, 1.782067060470581, 1.7237658500671387, 1.710886836051941, 1.710664987564087, 1.564854621887207, 1.552552580833435, 1.4989045858383179, 1.3356103897094727, 14.527231216430664, 1.1796364784240723, 37.204429626464844, 12.569774627685547, 31.94796371459961, 113.19171142578125, 62.51274490356445, 12.165523529052734, 9.499869346618652, 33.17232131958008, 6.1686787605285645, 15.065263748168945, 7.01304292678833, 27.213272094726562, 5.517068386077881, 19.574317932128906, 15.60660457611084, 13.508541107177734, 6.727987289428711, 11.879508018493652, 10.126419067382812, 10.094406127929688, 9.312664031982422, 7.530432224273682, 7.12425422668457, 27.874332427978516, 27.37904930114746, 21.675315856933594, 18.75849151611328, 17.942045211791992, 17.188480377197266, 9.724458694458008, 9.670255661010742, 9.479426383972168, 6.968080997467041, 5.944964408874512, 5.547537326812744, 167.63943481445312, 5.143749713897705, 5.0343194007873535, 4.636690616607666, 4.5479865074157715, 3.9082655906677246, 3.735443115234375, 3.457245349884033, 3.425898313522339, 2.7381861209869385, 2.6900486946105957, 2.4811954498291016, 79.10478210449219, 2.402283191680908, 2.3597044944763184, 2.269514322280884, 1.9647791385650635, 1.8994309902191162, 10.872617721557617, 43.38107681274414, 36.960628509521484, 20.547269821166992, 5.563115119934082, 9.209198951721191, 12.740821838378906, 4.2619948387146, 21.250720977783203, 13.75100326538086, 14.700942993164062, 13.840118408203125, 7.091920375823975, 8.510239601135254, 6.595182418823242, 5.842617034912109, 5.777221202850342, 6.00010347366333, 5.629963397979736, 101.47291564941406, 21.983753204345703, 16.62948226928711, 16.319602966308594, 15.320420265197754, 8.364137649536133, 8.110905647277832, 7.9165449142456055, 6.200412750244141, 5.907776832580566, 5.404588222503662, 5.076251029968262, 4.841554641723633, 3.853637218475342, 3.7311151027679443, 3.711834192276001, 3.5201447010040283, 3.341722011566162, 16.88191795349121, 2.884085178375244, 2.6731650829315186, 2.353445529937744, 2.2379260063171387, 2.22735333442688, 2.1225993633270264, 11.276754379272461, 1.6246134042739868, 1.6187368631362915, 1.3768410682678223, 1.3321398496627808, 3.7770791053771973, 31.98691177368164, 77.40007781982422, 7.078315734863281, 35.9177360534668, 64.5235824584961, 5.923655986785889, 5.313846111297607, 24.85053253173828, 18.402490615844727, 23.158096313476562, 25.83513641357422, 6.408029079437256, 7.40854549407959, 10.370992660522461, 7.670680999755859, 10.79522705078125, 7.886804580688477, 6.276376247406006, 5.8594584465026855], \"Total\": [1249.0, 829.0, 1755.0, 836.0, 505.0, 791.0, 553.0, 1113.0, 790.0, 366.0, 821.0, 470.0, 1203.0, 634.0, 345.0, 502.0, 388.0, 538.0, 571.0, 787.0, 518.0, 359.0, 265.0, 525.0, 195.0, 596.0, 672.0, 275.0, 474.0, 417.0, 202.99842834472656, 155.6897735595703, 126.04863739013672, 127.85125732421875, 87.12662506103516, 82.22315979003906, 76.15192413330078, 75.20834350585938, 70.33002471923828, 69.47032165527344, 66.77912902832031, 62.21232604980469, 62.02350997924805, 60.572288513183594, 59.819034576416016, 58.419464111328125, 58.35348892211914, 56.09687423706055, 54.9322624206543, 54.85841751098633, 52.4962043762207, 50.18935775756836, 49.30854415893555, 47.23911666870117, 46.99848937988281, 46.49791717529297, 46.1650390625, 46.14482498168945, 42.72092819213867, 42.40419006347656, 73.74344635009766, 217.4969940185547, 292.9407958984375, 204.93043518066406, 121.63980865478516, 58.496864318847656, 781.7871704101562, 280.6632385253906, 270.03887939453125, 207.61448669433594, 154.42225646972656, 821.351806640625, 343.2748718261719, 90.68428039550781, 787.5982055664062, 303.2569580078125, 123.2159652709961, 388.85711669921875, 313.9021911621094, 416.989990234375, 309.21221923828125, 1203.802001953125, 556.9813842773438, 1755.7191162109375, 149.1592559814453, 634.8267211914062, 790.7186889648438, 1249.7525634765625, 515.3666381835938, 194.15025329589844, 246.6241912841797, 553.904052734375, 596.7257690429688, 474.39111328125, 1113.542236328125, 461.93487548828125, 369.3931579589844, 595.9442138671875, 483.8645324707031, 281.48883056640625, 198.6276397705078, 135.9385223388672, 100.99967956542969, 99.38186645507812, 96.21060943603516, 82.90731811523438, 66.85822296142578, 66.4145736694336, 324.05596923828125, 62.480934143066406, 61.520668029785156, 60.59877395629883, 56.03032302856445, 55.121063232421875, 43.985992431640625, 43.5420036315918, 42.169681549072266, 41.924034118652344, 41.80684280395508, 39.01933288574219, 38.86296844482422, 36.689300537109375, 36.25214767456055, 35.45964050292969, 35.19525909423828, 33.20525360107422, 32.89772033691406, 32.78004837036133, 31.67395782470703, 104.21700286865234, 470.13702392578125, 101.65725708007812, 244.10816955566406, 163.2769012451172, 366.9674377441406, 113.62528991699219, 71.75574493408203, 269.0337829589844, 96.07113647460938, 836.5375366210938, 137.3679656982422, 80.10673522949219, 135.92178344726562, 132.21702575683594, 435.0763854980469, 209.99473571777344, 211.9998016357422, 538.7736206054688, 600.9575805664062, 205.11277770996094, 242.08876037597656, 1113.542236328125, 429.69537353515625, 272.943359375, 108.28407287597656, 83.8805923461914, 36.6647834777832, 36.51406478881836, 36.20580291748047, 144.06248474121094, 29.97044563293457, 28.53495979309082, 28.10067367553711, 27.914575576782227, 27.42334747314453, 27.092174530029297, 92.56718444824219, 24.5313777923584, 24.065690994262695, 23.78294563293457, 23.43744468688965, 21.920644760131836, 21.850961685180664, 17.87053680419922, 23.811914443969727, 16.331377029418945, 26.912172317504883, 13.600296020507812, 12.886980056762695, 12.493361473083496, 72.59053039550781, 12.117783546447754, 11.745953559875488, 72.71504211425781, 62.28641128540039, 25.711828231811523, 525.7206420898438, 41.237911224365234, 199.2172088623047, 313.1392517089844, 314.97137451171875, 348.16473388671875, 99.7655029296875, 67.06871795654297, 79.22836303710938, 144.28709411621094, 104.23818969726562, 104.51493072509766, 275.0592346191406, 150.4980926513672, 245.26454162597656, 213.88987731933594, 302.3438415527344, 110.87813568115234, 672.1578979492188, 1249.7525634765625, 1755.7191162109375, 197.9091033935547, 210.5501251220703, 555.2716064453125, 731.5154418945312, 201.7660675048828, 324.3592834472656, 449.9988098144531, 242.1644744873047, 418.57623291015625, 595.9442138671875, 223.95350646972656, 335.74505615234375, 1203.802001953125, 355.41796875, 244.92115783691406, 104.14724731445312, 103.47977447509766, 90.81188201904297, 81.51124572753906, 54.976444244384766, 186.15196228027344, 50.148223876953125, 88.04320526123047, 45.526344299316406, 45.23963928222656, 42.9306640625, 40.637264251708984, 38.451683044433594, 37.827613830566406, 36.82255554199219, 36.78400802612305, 183.9950408935547, 33.87955093383789, 33.382537841796875, 30.811527252197266, 30.088680267333984, 25.333162307739258, 24.557950973510742, 23.564821243286133, 23.014802932739258, 22.29425048828125, 21.709068298339844, 21.087190628051758, 20.302026748657227, 109.51596069335938, 295.8786926269531, 67.98980712890625, 262.7341003417969, 75.33062744140625, 41.415077209472656, 88.80216217041016, 62.56590270996094, 267.48870849609375, 171.21038818359375, 90.24406433105469, 74.41847229003906, 1113.542236328125, 193.23643493652344, 571.128662109375, 242.08876037597656, 318.1239318847656, 767.7434692382812, 430.9298095703125, 191.8778533935547, 417.6468811035156, 237.04762268066406, 229.6450653076172, 829.5938720703125, 253.6009063720703, 275.7311706542969, 731.5154418945312, 178.8072967529297, 298.8191223144531, 449.9988098144531, 290.6427001953125, 210.75013732910156, 80.53349304199219, 71.70387268066406, 79.86532592773438, 52.83022689819336, 51.559627532958984, 53.05091094970703, 45.66994857788086, 42.82210922241211, 35.89766311645508, 34.90025329589844, 33.646427154541016, 32.87591552734375, 32.356685638427734, 31.215635299682617, 30.50260353088379, 30.1962947845459, 29.084135055541992, 68.95537567138672, 26.690353393554688, 25.820087432861328, 24.384674072265625, 22.59900665283203, 21.248287200927734, 27.05756187438965, 17.380516052246094, 17.351598739624023, 42.76692199707031, 15.665021896362305, 21.495052337646484, 107.4466552734375, 42.95767593383789, 87.2754898071289, 78.7690200805664, 79.68435668945312, 54.77605056762695, 37.36497116088867, 143.2466583251953, 110.88605499267578, 81.5430908203125, 105.55419921875, 164.09654235839844, 150.50294494628906, 435.0763854980469, 224.70240783691406, 421.34039306640625, 98.90573120117188, 329.5122985839844, 324.3592834472656, 600.9575805664062, 234.8863067626953, 235.57716369628906, 242.1644744873047, 189.50474548339844, 205.11277770996094, 186.50404357910156, 196.62574768066406, 136.90110778808594, 180.07798767089844, 409.6153564453125, 1113.542236328125, 417.5543518066406, 267.4248352050781, 151.01097106933594, 135.2894744873047, 78.96640014648438, 59.35591506958008, 55.50170135498047, 55.16226577758789, 49.39873123168945, 44.530120849609375, 36.885169982910156, 36.69110870361328, 36.207637786865234, 35.96269226074219, 35.8824348449707, 28.870365142822266, 28.838516235351562, 28.505844116210938, 26.926998138427734, 26.82973289489746, 25.371971130371094, 22.447641372680664, 19.38833999633789, 18.701950073242188, 17.771020889282227, 15.93693733215332, 15.731135368347168, 14.459219932556152, 13.758048057556152, 13.68571662902832, 12.985793113708496, 69.95196533203125, 236.1804656982422, 330.38018798828125, 100.94525909423828, 518.1807250976562, 93.15597534179688, 234.7891387939453, 283.3083190917969, 49.51107406616211, 154.73399353027344, 791.798583984375, 502.7723388671875, 167.1548309326172, 179.88124084472656, 265.30828857421875, 164.8840789794922, 397.9609069824219, 165.6498260498047, 207.17933654785156, 148.0607452392578, 262.43670654296875, 174.3804168701172, 239.3379669189453, 167.3829803466797, 787.5982055664062, 595.9442138671875, 556.9813842773438, 596.7257690429688, 483.8645324707031, 1755.7191162109375, 1203.802001953125, 207.86558532714844, 83.94715118408203, 72.95206451416016, 51.726993560791016, 51.437068939208984, 50.00423049926758, 46.188472747802734, 38.62586212158203, 34.13235855102539, 43.99992370605469, 29.932466506958008, 27.29969596862793, 25.029264450073242, 24.089094161987305, 23.857309341430664, 125.58692932128906, 23.335054397583008, 23.117267608642578, 23.099939346313477, 22.837902069091797, 22.72078514099121, 20.983135223388672, 18.706199645996094, 18.693811416625977, 18.503843307495117, 18.12518310546875, 18.114656448364258, 17.78716278076172, 21.282960891723633, 15.348782539367676, 45.223934173583984, 61.08103942871094, 38.439361572265625, 22.96953010559082, 87.08829498291016, 74.46173095703125, 87.58401489257812, 85.37883758544922, 205.53855895996094, 131.0120391845703, 69.57222747802734, 247.7106475830078, 43.98087692260742, 56.00151062011719, 69.4403305053711, 258.05718994140625, 141.5796661376953, 84.73737335205078, 1249.7525634765625, 538.7736206054688, 672.1578979492188, 634.8267211914062, 204.42210388183594, 1755.7191162109375, 170.97129821777344, 555.2716064453125, 595.9442138671875, 176.1836700439453, 417.5543518066406, 790.7186889648438, 515.3666381835938, 147.86643981933594, 449.9988098144531, 263.4075927734375, 429.69537353515625, 596.7257690429688, 474.39111328125, 417.6468811035156, 359.3674011230469, 252.0321502685547, 91.50045776367188, 79.6475601196289, 55.343204498291016, 55.05898666381836, 53.19861602783203, 52.04095458984375, 49.7563362121582, 45.4420051574707, 41.572242736816406, 40.8459587097168, 40.451454162597656, 36.73068618774414, 35.5555305480957, 35.522525787353516, 33.02848815917969, 32.44161605834961, 31.189807891845703, 29.188570022583008, 28.670949935913086, 28.561119079589844, 27.280193328857422, 26.864992141723633, 25.19733238220215, 24.244380950927734, 23.55531883239746, 22.99007225036621, 22.846614837646484, 21.841413497924805, 397.29254150390625, 104.0989761352539, 50.98436737060547, 134.84275817871094, 59.97976303100586, 132.16615295410156, 42.50004196166992, 82.95316314697266, 125.45836639404297, 41.851966857910156, 791.798583984375, 279.495849609375, 178.21865844726562, 69.19656372070312, 122.57363891601562, 302.3540344238281, 461.93487548828125, 123.66354370117188, 148.0607452392578, 77.30894470214844, 518.1807250976562, 787.5982055664062, 555.2716064453125, 731.5154418945312, 1755.7191162109375, 308.46710205078125, 781.7871704101562, 515.3666381835938, 672.1578979492188, 129.3313446044922, 596.7257690429688, 237.87184143066406, 71.63298797607422, 70.60618591308594, 60.62519073486328, 55.81748580932617, 46.20301055908203, 37.82468795776367, 33.769020080566406, 31.772476196289062, 31.73252296447754, 31.364910125732422, 29.045915603637695, 28.860342025756836, 28.781450271606445, 26.807157516479492, 53.779571533203125, 25.808116912841797, 25.527828216552734, 23.604434967041016, 22.287403106689453, 21.901308059692383, 17.963624954223633, 17.36602210998535, 16.41988754272461, 15.164373397827148, 13.311701774597168, 12.91037654876709, 12.73127269744873, 43.28363800048828, 41.53003692626953, 61.14673614501953, 48.6534423828125, 41.29972457885742, 110.95140075683594, 34.13121795654297, 290.6427001953125, 208.0497589111328, 135.72779846191406, 128.80812072753906, 139.09877014160156, 207.17933654785156, 821.351806640625, 600.9575805664062, 174.68589782714844, 195.0207977294922, 238.1688995361328, 91.57013702392578, 142.82359313964844, 135.10829162597656, 143.86683654785156, 70.73625183105469, 308.46710205078125, 276.7945556640625, 211.2792205810547, 1755.7191162109375, 461.93487548828125, 1203.802001953125, 515.3666381835938, 94.07276153564453, 86.91867065429688, 78.3885726928711, 47.12605285644531, 44.73466491699219, 41.18742370605469, 40.70177459716797, 36.87196731567383, 63.22265625, 29.99936866760254, 29.626323699951172, 29.152299880981445, 27.5103816986084, 26.350242614746094, 25.759811401367188, 24.64441680908203, 23.54330825805664, 19.002601623535156, 17.909198760986328, 17.532943725585938, 17.21763801574707, 15.51865291595459, 15.340131759643555, 14.51891040802002, 14.498531341552734, 13.540335655212402, 13.329970359802246, 13.04407787322998, 12.88172721862793, 11.771493911743164, 111.78475952148438, 51.51887893676758, 45.73748016357422, 35.81201934814453, 27.667430877685547, 75.09642028808594, 21.23430824279785, 29.390323638916016, 24.546112060546875, 96.9277114868164, 81.93724822998047, 268.7867736816406, 142.29600524902344, 52.35618209838867, 97.54316711425781, 107.13106536865234, 196.09791564941406, 483.8645324707031, 195.0207977294922, 149.5938262939453, 75.50926208496094, 257.37640380859375, 369.3931579589844, 60.65327835083008, 98.39617919921875, 229.6450653076172, 355.41796875, 1203.802001953125, 310.2203369140625, 555.2716064453125, 201.7880401611328, 123.66354370117188, 62.29469299316406, 46.83384323120117, 39.0587158203125, 36.77748489379883, 32.22196960449219, 31.85797882080078, 31.820556640625, 33.122474670410156, 31.093103408813477, 30.41839599609375, 27.735904693603516, 27.530929565429688, 26.956422805786133, 26.89633560180664, 26.06561279296875, 25.553979873657227, 25.337018966674805, 25.453062057495117, 24.96263885498047, 24.64353370666504, 23.90243911743164, 23.890596389770508, 23.591455459594727, 22.68667221069336, 22.616056442260742, 22.383628845214844, 21.850032806396484, 21.640899658203125, 21.062223434448242, 127.39799499511719, 51.646812438964844, 117.57614135742188, 40.77608108520508, 61.5700798034668, 35.80794143676758, 73.50654602050781, 34.48362731933594, 142.73435974121094, 70.4666519165039, 309.21221923828125, 78.12174987792969, 474.39111328125, 277.7609558105469, 790.7186889648438, 172.99839782714844, 211.9998016357422, 237.04762268066406, 185.97727966308594, 262.1343688964844, 525.7206420898438, 177.51344299316406, 186.2032012939453, 397.9609069824219, 267.8910217285156, 829.5938720703125, 234.8863067626953, 79.21736907958984, 53.49403762817383, 52.42672348022461, 51.374229431152344, 47.475685119628906, 41.647525787353516, 32.12051010131836, 31.544666290283203, 28.864116668701172, 26.93168067932129, 21.06584930419922, 20.853845596313477, 19.675235748291016, 19.318843841552734, 18.860347747802734, 18.57962417602539, 18.323379516601562, 17.129846572875977, 27.95444679260254, 15.639114379882812, 15.399529457092285, 55.72573471069336, 12.044269561767578, 11.911787033081055, 11.0943603515625, 10.757617950439453, 10.258504867553711, 74.83782958984375, 8.710447311401367, 8.31384563446045, 54.85607147216797, 81.62786865234375, 78.65140533447266, 107.54515075683594, 263.1531066894531, 836.5375366210938, 97.79830169677734, 149.10484313964844, 37.22426986694336, 84.83065032958984, 189.50474548339844, 136.26576232910156, 98.72185516357422, 123.28309631347656, 98.99658966064453, 571.128662109375, 108.55452728271484, 409.6153564453125, 189.5850830078125, 207.2711639404297, 205.53855895996094, 133.3445281982422, 82.4242172241211, 1203.802001953125, 160.2350616455078, 108.14441680908203, 83.89234161376953, 265.3506164550781, 505.8797302246094, 18.141721725463867, 17.493453979492188, 12.902610778808594, 12.480718612670898, 12.343278884887695, 11.54664134979248, 11.010406494140625, 10.035637855529785, 9.499884605407715, 9.110980987548828, 8.141951560974121, 7.8286943435668945, 7.3731279373168945, 5.503603458404541, 3.955678939819336, 25.433670043945312, 3.34511661529541, 3.3432493209838867, 3.320441722869873, 3.121494770050049, 3.1169161796569824, 3.0487470626831055, 23.81745719909668, 9.711941719055176, 173.3022918701172, 829.5938720703125, 56.22626876831055, 214.8912811279297, 185.72288513183594, 63.04389953613281, 33.7306022644043, 118.73274230957031, 223.95350646972656, 59.929195404052734, 571.128662109375, 329.5122985839844, 74.80082702636719, 132.21702575683594, 302.3438415527344, 318.1239318847656, 731.5154418945312, 214.90489196777344, 343.2748718261719, 152.2579803466797, 217.9658660888672, 672.1578979492188, 348.16473388671875, 137.3679656982422, 73.3988037109375, 43.76693344116211, 35.8251838684082, 25.126922607421875, 92.70740509033203, 23.829750061035156, 20.249000549316406, 41.289669036865234, 17.670400619506836, 15.177093505859375, 14.737083435058594, 14.448419570922852, 13.671688079833984, 13.442381858825684, 12.381202697753906, 19.764005661010742, 10.324193954467773, 9.978020668029785, 8.919829368591309, 8.548026084899902, 8.068717002868652, 15.116339683532715, 7.019161701202393, 6.479048728942871, 5.915323257446289, 5.805537223815918, 5.640650272369385, 31.636451721191406, 5.30908203125, 5.1425089836120605, 34.67239761352539, 18.998933792114258, 42.0780029296875, 122.74146270751953, 553.904052734375, 44.56658172607422, 58.46089172363281, 23.426498413085938, 47.24189758300781, 108.829833984375, 173.3022918701172, 111.97724151611328, 94.99970245361328, 502.7723388671875, 284.316162109375, 94.52057647705078, 30.34535789489746, 326.00018310546875, 42.98208999633789, 790.7186889648438, 449.9988098144531, 105.75575256347656, 787.5982055664062, 418.57623291015625, 173.1425018310547, 137.68453979492188, 86.79690551757812, 51.83012771606445, 48.71049499511719, 47.779659271240234, 41.070125579833984, 30.734806060791016, 28.5501651763916, 27.862234115600586, 26.445598602294922, 14.89055347442627, 13.535500526428223, 39.60511779785156, 47.22820281982422, 8.471004486083984, 8.321878433227539, 8.2588529586792, 21.99856948852539, 6.996620178222656, 6.6901750564575195, 21.349193572998047, 6.289956092834473, 5.8929443359375, 5.843162536621094, 45.11282730102539, 5.600671291351318, 5.596729755401611, 5.0284528732299805, 4.724353313446045, 17.548072814941406, 34.799129486083984, 60.72829055786133, 93.83477783203125, 73.23789978027344, 26.503515243530273, 30.68671417236328, 15.268083572387695, 33.61106491088867, 64.11589050292969, 51.01486587524414, 82.66051483154297, 150.03977966308594, 99.60318756103516, 57.606361389160156, 538.7736206054688, 388.85711669921875, 90.86336517333984, 417.5543518066406, 80.16758728027344, 276.75830078125, 363.4006042480469, 791.798583984375, 113.47286987304688, 1203.802001953125, 141.5796661376953, 125.9631118774414, 59.41298294067383, 50.10293197631836, 22.99718475341797, 22.53338050842285, 22.292423248291016, 18.618244171142578, 18.246301651000977, 16.693910598754883, 14.74685287475586, 14.617908477783203, 12.829599380493164, 11.686142921447754, 11.625711441040039, 9.446626663208008, 8.597899436950684, 8.443975448608398, 8.2489013671875, 23.727584838867188, 7.121009349822998, 6.620323181152344, 6.542296886444092, 6.4153571128845215, 6.385152339935303, 6.271328926086426, 6.078488349914551, 5.669081687927246, 6.533614158630371, 68.919677734375, 4.560059547424316, 28.889446258544922, 53.58099365234375, 81.64302825927734, 104.25723266601562, 68.51655578613281, 23.48101234436035, 46.86109924316406, 50.92259979248047, 106.17503356933594, 171.4701385498047, 234.8863067626953, 38.02515411376953, 126.61727905273438, 91.32078552246094, 267.48870849609375, 153.8075714111328, 634.8267211914062, 164.8840789794922, 236.40757751464844, 276.75830078125, 284.316162109375, 538.7736206054688, 290.6427001953125, 237.04762268066406, 313.1392517089844, 106.04417419433594, 363.4006042480469, 55.48628234863281, 25.60717010498047, 23.595529556274414, 23.207927703857422, 20.229137420654297, 15.828084945678711, 15.63090705871582, 14.725049018859863, 13.762970924377441, 13.618109703063965, 12.232735633850098, 11.602455139160156, 11.423738479614258, 11.369227409362793, 11.056665420532227, 20.00836944580078, 10.802845001220703, 10.76962947845459, 10.343036651611328, 10.258587837219238, 9.701909065246582, 9.675885200500488, 9.55996322631836, 9.421000480651855, 9.392882347106934, 9.384735107421875, 8.984875679016113, 8.688460350036621, 8.422966957092285, 25.806060791015625, 15.581101417541504, 40.498592376708984, 26.104135513305664, 273.95501708984375, 159.4096221923828, 160.57484436035156, 23.1561336517334, 72.88983917236328, 108.46054077148438, 118.38499450683594, 71.0783462524414, 42.1348991394043, 34.86738204956055, 116.02623748779297, 149.1370086669922, 67.84272003173828, 237.04762268066406, 158.3174591064453, 449.9988098144531, 70.77488708496094, 731.5154418945312, 204.42210388183594, 137.7497100830078, 171.4701385498047, 66.23130798339844, 33.70657730102539, 33.39054489135742, 31.4421329498291, 26.212385177612305, 17.419153213500977, 16.348535537719727, 15.896275520324707, 15.129408836364746, 12.463767051696777, 11.182319641113281, 10.97237777709961, 10.531050682067871, 8.777509689331055, 8.692848205566406, 7.666247844696045, 7.543549537658691, 7.533268451690674, 7.247379302978516, 7.203269958496094, 6.920574188232422, 6.4284234046936035, 5.801790714263916, 16.25790786743164, 5.775343894958496, 5.74919319152832, 5.523447036743164, 5.468626976013184, 5.355817794799805, 5.0831427574157715, 35.23332595825195, 19.256315231323242, 17.856210708618164, 34.0457878112793, 22.972612380981445, 27.15633201599121, 13.485816955566406, 135.10829162597656, 29.6937198638916, 30.416431427001953, 177.4134979248047, 147.86643981933594, 34.94607162475586, 14.813732147216797, 80.25358581542969, 224.88743591308594, 149.10484313964844, 118.55099487304688, 429.69537353515625, 106.85005950927734, 164.8622589111328, 85.69442749023438, 1113.542236328125, 553.904052734375, 176.65528869628906, 165.96151733398438, 160.57484436035156, 127.473876953125, 161.0181121826172, 181.90492248535156, 211.9998016357422, 246.6241912841797, 69.4403305053711, 483.8645324707031, 218.59950256347656, 50.53590393066406, 29.76523208618164, 27.658283233642578, 26.347904205322266, 25.00969886779785, 21.346853256225586, 20.975065231323242, 19.011249542236328, 17.685070037841797, 40.53258514404297, 14.673891067504883, 11.555200576782227, 11.390596389770508, 10.783477783203125, 10.286346435546875, 10.086760520935059, 6.294806480407715, 4.384509563446045, 3.450275182723999, 3.4297235012054443, 3.4136297702789307, 3.3983848094940186, 3.019012212753296, 15.136394500732422, 23.460439682006836, 2.7473864555358887, 2.6429316997528076, 12.61319637298584, 47.23434829711914, 2.4849421977996826, 87.87806701660156, 82.46759033203125, 19.66554832458496, 62.41627883911133, 20.615503311157227, 17.07536506652832, 57.87751770019531, 124.55328369140625, 95.703857421875, 220.52183532714844, 53.58099365234375, 77.13291931152344, 1203.802001953125, 135.9352569580078, 186.3687286376953, 194.15025329589844, 181.90492248535156, 174.1195526123047, 91.54890441894531, 71.0783462524414, 672.1578979492188, 555.2716064453125, 237.0867462158203, 435.0763854980469, 238.19224548339844, 821.351806640625, 45.50600814819336, 39.514259338378906, 31.141042709350586, 28.70287322998047, 25.861162185668945, 21.81281280517578, 16.95859718322754, 15.309016227722168, 15.278783798217773, 13.960197448730469, 13.859943389892578, 12.171669006347656, 10.491419792175293, 9.763854026794434, 9.64320182800293, 18.256277084350586, 8.883695602416992, 8.228279113769531, 7.788745403289795, 7.749955177307129, 7.638248443603516, 7.477944374084473, 6.486333847045898, 6.356862545013428, 6.011443138122559, 5.609597206115723, 31.067855834960938, 4.779899597167969, 4.571131229400635, 4.477581977844238, 8.423840522766113, 89.64702606201172, 91.54890441894531, 55.09347915649414, 86.54656982421875, 54.004085540771484, 1249.7525634765625, 223.53065490722656, 790.7186889648438, 208.5978240966797, 470.13702392578125, 76.18093872070312, 55.79758071899414, 474.39111328125, 244.10816955566406, 37.63457489013672, 112.27376556396484, 211.9998016357422, 595.9442138671875, 836.5375366210938, 164.8622589111328, 263.4075927734375, 418.57623291015625, 269.0337829589844, 39.09112548828125, 29.70234489440918, 28.390766143798828, 19.126771926879883, 15.045305252075195, 14.25660514831543, 13.901172637939453, 12.767712593078613, 8.19027328491211, 7.858725547790527, 35.54745864868164, 6.501410484313965, 6.0845136642456055, 6.068096160888672, 5.163291931152344, 4.901744842529297, 4.8046698570251465, 4.471064567565918, 79.04685974121094, 4.034823894500732, 3.9053521156311035, 6.8480730056762695, 6.701844215393066, 3.7283124923706055, 3.6582412719726562, 3.5897252559661865, 3.4897310733795166, 2.954667329788208, 2.9545185565948486, 2.8263323307037354, 16.823991775512695, 20.282398223876953, 14.584551811218262, 43.819984436035156, 47.975067138671875, 20.05826187133789, 20.41925048828125, 97.07749938964844, 34.4965934753418, 153.80079650878906, 134.84275817871094, 211.2792205810547, 257.5816650390625, 1755.7191162109375, 596.7257690429688, 263.1531066894531, 91.73906707763672, 62.55215072631836, 767.7434692382812, 226.52134704589844, 237.0867462158203, 1113.542236328125, 267.8910217285156, 461.93487548828125, 418.57623291015625, 515.3666381835938, 313.9021911621094, 397.9609069824219, 195.0207977294922, 66.02131652832031, 28.23301887512207, 26.35826301574707, 25.281736373901367, 23.91330337524414, 22.311973571777344, 20.734039306640625, 16.668846130371094, 16.31315040588379, 11.79887580871582, 11.185774803161621, 10.304746627807617, 9.702802658081055, 9.0244779586792, 8.431674003601074, 7.6053361892700195, 6.92319917678833, 6.171756267547607, 5.849201679229736, 5.072686672210693, 4.971881866455078, 4.888906955718994, 4.60525369644165, 4.592533111572266, 4.540392875671387, 14.334301948547363, 4.512350559234619, 4.477607727050781, 13.399507522583008, 4.408052921295166, 84.37346649169922, 52.02330017089844, 17.72067642211914, 111.20500946044922, 16.54134750366211, 46.96854782104492, 199.2172088623047, 25.919740676879883, 93.15597534179688, 323.7762145996094, 85.81633758544922, 144.2679901123047, 64.88105010986328, 93.4849853515625, 229.6450653076172, 234.7891387939453, 26.03782844543457, 116.74192810058594, 48.382957458496094, 43.41614532470703, 14.415427207946777, 14.249156951904297, 12.3040189743042, 11.906715393066406, 10.609020233154297, 9.958398818969727, 6.752266883850098, 76.98477172851562, 5.0677170753479, 4.812778949737549, 4.672432899475098, 105.75575256347656, 3.687967538833618, 3.5262181758880615, 3.3787882328033447, 3.1172046661376953, 2.9050028324127197, 6.844344615936279, 2.6848597526550293, 2.626558542251587, 2.6136794090270996, 2.613457679748535, 2.4676473140716553, 2.4553451538085938, 2.4016971588134766, 2.238403081893921, 24.350351333618164, 2.0824291706085205, 70.60136413574219, 24.082958221435547, 74.3559799194336, 366.9674377441406, 183.40940856933594, 26.93206214904785, 20.37982749938965, 177.4134979248047, 16.190580368041992, 80.25358581542969, 23.38978385925293, 254.05690002441406, 15.942071914672852, 417.5543518066406, 338.1006774902344, 388.85711669921875, 33.383304595947266, 323.7762145996094, 204.42210388183594, 257.2598876953125, 257.00347900390625, 137.7658233642578, 194.15025329589844, 28.77149200439453, 28.276208877563477, 22.57247543334961, 19.655651092529297, 18.839204788208008, 18.08563995361328, 10.621618270874023, 10.567415237426758, 10.376585960388184, 7.865240573883057, 6.842123985290527, 6.44469690322876, 195.19337463378906, 6.040909290313721, 5.931478977203369, 5.533850193023682, 5.445146083831787, 4.80542516708374, 4.632602691650391, 4.354404926300049, 4.323057651519775, 3.635345458984375, 3.5872082710266113, 3.378355026245117, 108.43862915039062, 3.299442768096924, 3.256864070892334, 3.1666736602783203, 2.8619384765625, 2.7965903282165527, 16.259849548339844, 67.818603515625, 60.14375305175781, 44.92735290527344, 9.676359176635742, 22.495920181274414, 51.31211471557617, 7.8724493980407715, 133.2901153564453, 83.44242095947266, 131.7917022705078, 215.22303771972656, 31.71937370300293, 672.1578979492188, 205.3415069580078, 75.71143341064453, 76.75064849853516, 335.74505615234375, 94.52057647705078, 102.37128448486328, 22.882118225097656, 17.527847290039062, 17.217967987060547, 16.218786239624023, 9.262502670288086, 9.009270668029785, 8.814910888671875, 7.098778247833252, 6.806142330169678, 6.302953720092773, 5.974616527557373, 5.739920139312744, 4.752002716064453, 4.629480361938477, 4.610199451446533, 4.4185099601745605, 4.240087509155273, 21.849882125854492, 3.7824506759643555, 3.571530342102051, 3.2518110275268555, 3.13629150390625, 3.125718593597412, 3.0209646224975586, 16.825557708740234, 2.5229787826538086, 2.5171022415161133, 2.2752065658569336, 2.2305052280426025, 6.436919212341309, 59.31544876098633, 189.5850830078125, 14.18851089477539, 95.95986938476562, 345.6375732421875, 12.246931076049805, 11.002778053283691, 118.38499450683594, 90.85491180419922, 137.68453979492188, 275.0592346191406, 16.903717041015625, 31.723739624023438, 295.8786926269531, 147.06326293945312, 1203.802001953125, 596.7257690429688, 308.46710205078125, 254.05690002441406], \"Category\": [\"Default\", \"Default\", \"Default\", \"Default\", \"Default\", \"Default\", \"Default\", \"Default\", \"Default\", \"Default\", \"Default\", \"Default\", \"Default\", \"Default\", \"Default\", \"Default\", \"Default\", \"Default\", \"Default\", \"Default\", \"Default\", \"Default\", \"Default\", \"Default\", \"Default\", \"Default\", \"Default\", \"Default\", \"Default\", \"Default\", \"Topic1\", \"Topic1\", \"Topic1\", \"Topic1\", \"Topic1\", \"Topic1\", \"Topic1\", \"Topic1\", \"Topic1\", \"Topic1\", \"Topic1\", \"Topic1\", \"Topic1\", \"Topic1\", \"Topic1\", \"Topic1\", \"Topic1\", \"Topic1\", \"Topic1\", \"Topic1\", \"Topic1\", \"Topic1\", \"Topic1\", \"Topic1\", \"Topic1\", \"Topic1\", \"Topic1\", \"Topic1\", \"Topic1\", \"Topic1\", \"Topic1\", \"Topic1\", \"Topic1\", \"Topic1\", \"Topic1\", \"Topic1\", \"Topic1\", \"Topic1\", \"Topic1\", \"Topic1\", \"Topic1\", \"Topic1\", \"Topic1\", \"Topic1\", \"Topic1\", \"Topic1\", \"Topic1\", \"Topic1\", \"Topic1\", \"Topic1\", \"Topic1\", \"Topic1\", \"Topic1\", \"Topic1\", \"Topic1\", \"Topic1\", \"Topic1\", \"Topic1\", \"Topic1\", \"Topic1\", \"Topic1\", \"Topic1\", \"Topic1\", \"Topic1\", \"Topic1\", \"Topic1\", \"Topic1\", \"Topic1\", \"Topic1\", \"Topic2\", \"Topic2\", \"Topic2\", \"Topic2\", \"Topic2\", \"Topic2\", \"Topic2\", \"Topic2\", \"Topic2\", \"Topic2\", \"Topic2\", \"Topic2\", \"Topic2\", \"Topic2\", \"Topic2\", \"Topic2\", \"Topic2\", \"Topic2\", \"Topic2\", \"Topic2\", \"Topic2\", \"Topic2\", \"Topic2\", \"Topic2\", \"Topic2\", \"Topic2\", \"Topic2\", \"Topic2\", \"Topic2\", \"Topic2\", \"Topic2\", \"Topic2\", \"Topic2\", \"Topic2\", \"Topic2\", \"Topic2\", \"Topic2\", \"Topic2\", \"Topic2\", \"Topic2\", \"Topic2\", \"Topic2\", \"Topic2\", \"Topic2\", \"Topic2\", \"Topic2\", \"Topic2\", \"Topic2\", \"Topic2\", \"Topic2\", \"Topic2\", \"Topic2\", \"Topic2\", \"Topic2\", \"Topic3\", \"Topic3\", \"Topic3\", \"Topic3\", \"Topic3\", \"Topic3\", \"Topic3\", \"Topic3\", \"Topic3\", \"Topic3\", \"Topic3\", \"Topic3\", \"Topic3\", \"Topic3\", \"Topic3\", \"Topic3\", \"Topic3\", \"Topic3\", \"Topic3\", \"Topic3\", \"Topic3\", \"Topic3\", \"Topic3\", \"Topic3\", \"Topic3\", \"Topic3\", \"Topic3\", \"Topic3\", \"Topic3\", \"Topic3\", \"Topic3\", \"Topic3\", \"Topic3\", \"Topic3\", \"Topic3\", \"Topic3\", \"Topic3\", \"Topic3\", \"Topic3\", \"Topic3\", \"Topic3\", \"Topic3\", \"Topic3\", \"Topic3\", \"Topic3\", \"Topic3\", \"Topic3\", \"Topic3\", \"Topic3\", \"Topic3\", \"Topic3\", \"Topic3\", \"Topic3\", \"Topic3\", \"Topic3\", \"Topic3\", \"Topic3\", \"Topic3\", \"Topic3\", \"Topic3\", \"Topic3\", \"Topic3\", \"Topic3\", \"Topic3\", \"Topic3\", \"Topic3\", \"Topic3\", \"Topic3\", \"Topic4\", \"Topic4\", \"Topic4\", \"Topic4\", \"Topic4\", \"Topic4\", \"Topic4\", \"Topic4\", \"Topic4\", \"Topic4\", \"Topic4\", \"Topic4\", \"Topic4\", \"Topic4\", \"Topic4\", \"Topic4\", \"Topic4\", \"Topic4\", \"Topic4\", \"Topic4\", \"Topic4\", \"Topic4\", \"Topic4\", \"Topic4\", \"Topic4\", \"Topic4\", \"Topic4\", \"Topic4\", \"Topic4\", \"Topic4\", \"Topic4\", \"Topic4\", \"Topic4\", \"Topic4\", \"Topic4\", \"Topic4\", \"Topic4\", \"Topic4\", \"Topic4\", \"Topic4\", \"Topic4\", \"Topic4\", \"Topic4\", \"Topic4\", \"Topic4\", \"Topic4\", \"Topic4\", \"Topic4\", \"Topic4\", \"Topic4\", \"Topic4\", \"Topic4\", \"Topic4\", \"Topic4\", \"Topic4\", \"Topic4\", \"Topic4\", \"Topic4\", \"Topic4\", \"Topic4\", \"Topic4\", \"Topic5\", \"Topic5\", \"Topic5\", \"Topic5\", \"Topic5\", \"Topic5\", \"Topic5\", \"Topic5\", \"Topic5\", \"Topic5\", \"Topic5\", \"Topic5\", \"Topic5\", \"Topic5\", \"Topic5\", \"Topic5\", \"Topic5\", \"Topic5\", \"Topic5\", \"Topic5\", \"Topic5\", \"Topic5\", \"Topic5\", \"Topic5\", \"Topic5\", \"Topic5\", \"Topic5\", \"Topic5\", \"Topic5\", \"Topic5\", \"Topic5\", \"Topic5\", \"Topic5\", \"Topic5\", \"Topic5\", \"Topic5\", \"Topic5\", \"Topic5\", \"Topic5\", \"Topic5\", \"Topic5\", \"Topic5\", \"Topic5\", \"Topic5\", \"Topic5\", \"Topic5\", \"Topic5\", \"Topic5\", \"Topic5\", \"Topic5\", \"Topic5\", \"Topic5\", \"Topic5\", \"Topic5\", \"Topic5\", \"Topic5\", \"Topic5\", \"Topic5\", \"Topic5\", \"Topic5\", \"Topic5\", \"Topic5\", \"Topic6\", \"Topic6\", \"Topic6\", \"Topic6\", \"Topic6\", \"Topic6\", \"Topic6\", \"Topic6\", \"Topic6\", \"Topic6\", \"Topic6\", \"Topic6\", \"Topic6\", \"Topic6\", \"Topic6\", \"Topic6\", \"Topic6\", \"Topic6\", \"Topic6\", \"Topic6\", \"Topic6\", \"Topic6\", \"Topic6\", \"Topic6\", \"Topic6\", \"Topic6\", \"Topic6\", \"Topic6\", \"Topic6\", \"Topic6\", \"Topic6\", \"Topic6\", \"Topic6\", \"Topic6\", \"Topic6\", \"Topic6\", \"Topic6\", \"Topic6\", \"Topic6\", \"Topic6\", \"Topic6\", \"Topic6\", \"Topic6\", \"Topic6\", \"Topic6\", \"Topic6\", \"Topic6\", \"Topic6\", \"Topic6\", \"Topic6\", \"Topic6\", \"Topic6\", \"Topic6\", \"Topic6\", \"Topic6\", \"Topic6\", \"Topic6\", \"Topic6\", \"Topic6\", \"Topic6\", \"Topic6\", \"Topic7\", \"Topic7\", \"Topic7\", \"Topic7\", \"Topic7\", \"Topic7\", \"Topic7\", \"Topic7\", \"Topic7\", \"Topic7\", \"Topic7\", \"Topic7\", \"Topic7\", \"Topic7\", \"Topic7\", \"Topic7\", \"Topic7\", \"Topic7\", \"Topic7\", \"Topic7\", \"Topic7\", \"Topic7\", \"Topic7\", \"Topic7\", \"Topic7\", \"Topic7\", \"Topic7\", \"Topic7\", \"Topic7\", \"Topic7\", \"Topic7\", \"Topic7\", \"Topic7\", \"Topic7\", \"Topic7\", \"Topic7\", \"Topic7\", \"Topic7\", \"Topic7\", \"Topic7\", \"Topic7\", \"Topic7\", \"Topic7\", \"Topic7\", \"Topic7\", \"Topic7\", \"Topic7\", \"Topic7\", \"Topic7\", \"Topic7\", \"Topic7\", \"Topic7\", \"Topic7\", \"Topic7\", \"Topic7\", \"Topic7\", \"Topic7\", \"Topic7\", \"Topic7\", \"Topic7\", \"Topic7\", \"Topic7\", \"Topic7\", \"Topic7\", \"Topic7\", \"Topic7\", \"Topic7\", \"Topic7\", \"Topic8\", \"Topic8\", \"Topic8\", \"Topic8\", \"Topic8\", \"Topic8\", \"Topic8\", \"Topic8\", \"Topic8\", \"Topic8\", \"Topic8\", \"Topic8\", \"Topic8\", \"Topic8\", \"Topic8\", \"Topic8\", \"Topic8\", \"Topic8\", \"Topic8\", \"Topic8\", \"Topic8\", \"Topic8\", \"Topic8\", \"Topic8\", \"Topic8\", \"Topic8\", \"Topic8\", \"Topic8\", \"Topic8\", \"Topic8\", \"Topic8\", \"Topic8\", \"Topic8\", \"Topic8\", \"Topic8\", \"Topic8\", \"Topic8\", \"Topic8\", \"Topic8\", \"Topic8\", \"Topic8\", \"Topic8\", \"Topic8\", \"Topic8\", \"Topic8\", \"Topic8\", \"Topic8\", \"Topic8\", \"Topic8\", \"Topic8\", \"Topic8\", \"Topic8\", \"Topic8\", \"Topic8\", \"Topic8\", \"Topic8\", \"Topic8\", \"Topic8\", \"Topic8\", \"Topic8\", \"Topic8\", \"Topic9\", \"Topic9\", \"Topic9\", \"Topic9\", \"Topic9\", \"Topic9\", \"Topic9\", \"Topic9\", \"Topic9\", \"Topic9\", \"Topic9\", \"Topic9\", \"Topic9\", \"Topic9\", \"Topic9\", \"Topic9\", \"Topic9\", \"Topic9\", \"Topic9\", \"Topic9\", \"Topic9\", \"Topic9\", \"Topic9\", \"Topic9\", \"Topic9\", \"Topic9\", \"Topic9\", \"Topic9\", \"Topic9\", \"Topic9\", \"Topic9\", \"Topic9\", \"Topic9\", \"Topic9\", \"Topic9\", \"Topic9\", \"Topic9\", \"Topic9\", \"Topic9\", \"Topic9\", \"Topic9\", \"Topic9\", \"Topic9\", \"Topic9\", \"Topic9\", \"Topic9\", \"Topic9\", \"Topic9\", \"Topic9\", \"Topic9\", \"Topic9\", \"Topic9\", \"Topic9\", \"Topic9\", \"Topic9\", \"Topic9\", \"Topic9\", \"Topic9\", \"Topic10\", \"Topic10\", \"Topic10\", \"Topic10\", \"Topic10\", \"Topic10\", \"Topic10\", \"Topic10\", \"Topic10\", \"Topic10\", \"Topic10\", \"Topic10\", \"Topic10\", \"Topic10\", \"Topic10\", \"Topic10\", \"Topic10\", \"Topic10\", \"Topic10\", \"Topic10\", \"Topic10\", \"Topic10\", \"Topic10\", \"Topic10\", \"Topic10\", \"Topic10\", \"Topic10\", \"Topic10\", \"Topic10\", \"Topic10\", \"Topic10\", \"Topic10\", \"Topic10\", \"Topic10\", \"Topic10\", \"Topic10\", \"Topic10\", \"Topic10\", \"Topic10\", \"Topic10\", \"Topic10\", \"Topic10\", \"Topic10\", \"Topic10\", \"Topic10\", \"Topic10\", \"Topic10\", \"Topic10\", \"Topic10\", \"Topic10\", \"Topic10\", \"Topic10\", \"Topic10\", \"Topic10\", \"Topic10\", \"Topic10\", \"Topic10\", \"Topic10\", \"Topic10\", \"Topic10\", \"Topic10\", \"Topic10\", \"Topic11\", \"Topic11\", \"Topic11\", \"Topic11\", \"Topic11\", \"Topic11\", \"Topic11\", \"Topic11\", \"Topic11\", \"Topic11\", \"Topic11\", \"Topic11\", \"Topic11\", \"Topic11\", \"Topic11\", \"Topic11\", \"Topic11\", \"Topic11\", \"Topic11\", \"Topic11\", \"Topic11\", \"Topic11\", \"Topic11\", \"Topic11\", \"Topic11\", \"Topic11\", \"Topic11\", \"Topic11\", \"Topic11\", \"Topic11\", \"Topic11\", \"Topic11\", \"Topic11\", \"Topic11\", \"Topic11\", \"Topic11\", \"Topic11\", \"Topic11\", \"Topic11\", \"Topic11\", \"Topic11\", \"Topic11\", \"Topic11\", \"Topic11\", \"Topic11\", \"Topic11\", \"Topic11\", \"Topic11\", \"Topic11\", \"Topic11\", \"Topic11\", \"Topic11\", \"Topic11\", \"Topic11\", \"Topic11\", \"Topic11\", \"Topic12\", \"Topic12\", \"Topic12\", \"Topic12\", \"Topic12\", \"Topic12\", \"Topic12\", \"Topic12\", \"Topic12\", \"Topic12\", \"Topic12\", \"Topic12\", \"Topic12\", \"Topic12\", \"Topic12\", \"Topic12\", \"Topic12\", \"Topic12\", \"Topic12\", \"Topic12\", \"Topic12\", \"Topic12\", \"Topic12\", \"Topic12\", \"Topic12\", \"Topic12\", \"Topic12\", \"Topic12\", \"Topic12\", \"Topic12\", \"Topic12\", \"Topic12\", \"Topic12\", \"Topic12\", \"Topic12\", \"Topic12\", \"Topic12\", \"Topic12\", \"Topic12\", \"Topic12\", \"Topic12\", \"Topic12\", \"Topic12\", \"Topic12\", \"Topic12\", \"Topic12\", \"Topic12\", \"Topic12\", \"Topic12\", \"Topic12\", \"Topic12\", \"Topic12\", \"Topic12\", \"Topic12\", \"Topic13\", \"Topic13\", \"Topic13\", \"Topic13\", \"Topic13\", \"Topic13\", \"Topic13\", \"Topic13\", \"Topic13\", \"Topic13\", \"Topic13\", \"Topic13\", \"Topic13\", \"Topic13\", \"Topic13\", \"Topic13\", \"Topic13\", \"Topic13\", \"Topic13\", \"Topic13\", \"Topic13\", \"Topic13\", \"Topic13\", \"Topic13\", \"Topic13\", \"Topic13\", \"Topic13\", \"Topic13\", \"Topic13\", \"Topic13\", \"Topic13\", \"Topic13\", \"Topic13\", \"Topic13\", \"Topic13\", \"Topic13\", \"Topic13\", \"Topic13\", \"Topic13\", \"Topic13\", \"Topic13\", \"Topic13\", \"Topic13\", \"Topic13\", \"Topic13\", \"Topic13\", \"Topic13\", \"Topic13\", \"Topic13\", \"Topic13\", \"Topic13\", \"Topic13\", \"Topic13\", \"Topic14\", \"Topic14\", \"Topic14\", \"Topic14\", \"Topic14\", \"Topic14\", \"Topic14\", \"Topic14\", \"Topic14\", \"Topic14\", \"Topic14\", \"Topic14\", \"Topic14\", \"Topic14\", \"Topic14\", \"Topic14\", \"Topic14\", \"Topic14\", \"Topic14\", \"Topic14\", \"Topic14\", \"Topic14\", \"Topic14\", \"Topic14\", \"Topic14\", \"Topic14\", \"Topic14\", \"Topic14\", \"Topic14\", \"Topic14\", \"Topic14\", \"Topic14\", \"Topic14\", \"Topic14\", \"Topic14\", \"Topic14\", \"Topic14\", \"Topic14\", \"Topic14\", \"Topic14\", \"Topic14\", \"Topic14\", \"Topic14\", \"Topic14\", \"Topic14\", \"Topic14\", \"Topic14\", \"Topic14\", \"Topic14\", \"Topic14\", \"Topic14\", \"Topic14\", \"Topic14\", \"Topic14\", \"Topic14\", \"Topic14\", \"Topic15\", \"Topic15\", \"Topic15\", \"Topic15\", \"Topic15\", \"Topic15\", \"Topic15\", \"Topic15\", \"Topic15\", \"Topic15\", \"Topic15\", \"Topic15\", \"Topic15\", \"Topic15\", \"Topic15\", \"Topic15\", \"Topic15\", \"Topic15\", \"Topic15\", \"Topic15\", \"Topic15\", \"Topic15\", \"Topic15\", \"Topic15\", \"Topic15\", \"Topic15\", \"Topic15\", \"Topic15\", \"Topic15\", \"Topic15\", \"Topic15\", \"Topic15\", \"Topic15\", \"Topic15\", \"Topic15\", \"Topic15\", \"Topic15\", \"Topic15\", \"Topic15\", \"Topic15\", \"Topic15\", \"Topic15\", \"Topic15\", \"Topic15\", \"Topic15\", \"Topic15\", \"Topic15\", \"Topic15\", \"Topic15\", \"Topic15\", \"Topic15\", \"Topic15\", \"Topic15\", \"Topic15\", \"Topic16\", \"Topic16\", \"Topic16\", \"Topic16\", \"Topic16\", \"Topic16\", \"Topic16\", \"Topic16\", \"Topic16\", \"Topic16\", \"Topic16\", \"Topic16\", \"Topic16\", \"Topic16\", \"Topic16\", \"Topic16\", \"Topic16\", \"Topic16\", \"Topic16\", \"Topic16\", \"Topic16\", \"Topic16\", \"Topic16\", \"Topic16\", \"Topic16\", \"Topic16\", \"Topic16\", \"Topic16\", \"Topic16\", \"Topic16\", \"Topic16\", \"Topic16\", \"Topic16\", \"Topic16\", \"Topic16\", \"Topic16\", \"Topic16\", \"Topic16\", \"Topic16\", \"Topic16\", \"Topic16\", \"Topic16\", \"Topic16\", \"Topic16\", \"Topic16\", \"Topic16\", \"Topic16\", \"Topic16\", \"Topic16\", \"Topic16\", \"Topic16\", \"Topic16\", \"Topic16\", \"Topic16\", \"Topic16\", \"Topic16\", \"Topic16\", \"Topic17\", \"Topic17\", \"Topic17\", \"Topic17\", \"Topic17\", \"Topic17\", \"Topic17\", \"Topic17\", \"Topic17\", \"Topic17\", \"Topic17\", \"Topic17\", \"Topic17\", \"Topic17\", \"Topic17\", \"Topic17\", \"Topic17\", \"Topic17\", \"Topic17\", \"Topic17\", \"Topic17\", \"Topic17\", \"Topic17\", \"Topic17\", \"Topic17\", \"Topic17\", \"Topic17\", \"Topic17\", \"Topic17\", \"Topic17\", \"Topic17\", \"Topic17\", \"Topic17\", \"Topic17\", \"Topic17\", \"Topic17\", \"Topic17\", \"Topic17\", \"Topic17\", \"Topic17\", \"Topic17\", \"Topic17\", \"Topic17\", \"Topic17\", \"Topic17\", \"Topic17\", \"Topic17\", \"Topic17\", \"Topic17\", \"Topic17\", \"Topic17\", \"Topic17\", \"Topic17\", \"Topic17\", \"Topic18\", \"Topic18\", \"Topic18\", \"Topic18\", \"Topic18\", \"Topic18\", \"Topic18\", \"Topic18\", \"Topic18\", \"Topic18\", \"Topic18\", \"Topic18\", \"Topic18\", \"Topic18\", \"Topic18\", \"Topic18\", \"Topic18\", \"Topic18\", \"Topic18\", \"Topic18\", \"Topic18\", \"Topic18\", \"Topic18\", \"Topic18\", \"Topic18\", \"Topic18\", \"Topic18\", \"Topic18\", \"Topic18\", \"Topic18\", \"Topic18\", \"Topic18\", \"Topic18\", \"Topic18\", \"Topic18\", \"Topic18\", \"Topic18\", \"Topic18\", \"Topic18\", \"Topic18\", \"Topic18\", \"Topic18\", \"Topic18\", \"Topic18\", \"Topic18\", \"Topic18\", \"Topic18\", \"Topic18\", \"Topic18\", \"Topic18\", \"Topic18\", \"Topic18\", \"Topic18\", \"Topic18\", \"Topic18\", \"Topic18\", \"Topic18\", \"Topic18\", \"Topic18\", \"Topic18\", \"Topic18\", \"Topic18\", \"Topic18\", \"Topic18\", \"Topic18\", \"Topic19\", \"Topic19\", \"Topic19\", \"Topic19\", \"Topic19\", \"Topic19\", \"Topic19\", \"Topic19\", \"Topic19\", \"Topic19\", \"Topic19\", \"Topic19\", \"Topic19\", \"Topic19\", \"Topic19\", \"Topic19\", \"Topic19\", \"Topic19\", \"Topic19\", \"Topic19\", \"Topic19\", \"Topic19\", \"Topic19\", \"Topic19\", \"Topic19\", \"Topic19\", \"Topic19\", \"Topic19\", \"Topic19\", \"Topic19\", \"Topic19\", \"Topic19\", \"Topic19\", \"Topic19\", \"Topic19\", \"Topic19\", \"Topic19\", \"Topic19\", \"Topic19\", \"Topic19\", \"Topic19\", \"Topic19\", \"Topic19\", \"Topic19\", \"Topic19\", \"Topic19\", \"Topic19\", \"Topic19\", \"Topic19\", \"Topic19\", \"Topic19\", \"Topic19\", \"Topic19\", \"Topic19\", \"Topic19\", \"Topic19\", \"Topic20\", \"Topic20\", \"Topic20\", \"Topic20\", \"Topic20\", \"Topic20\", \"Topic20\", \"Topic20\", \"Topic20\", \"Topic20\", \"Topic20\", \"Topic20\", \"Topic20\", \"Topic20\", \"Topic20\", \"Topic20\", \"Topic20\", \"Topic20\", \"Topic20\", \"Topic20\", \"Topic20\", \"Topic20\", \"Topic20\", \"Topic20\", \"Topic20\", \"Topic20\", \"Topic20\", \"Topic20\", \"Topic20\", \"Topic20\", \"Topic20\", \"Topic20\", \"Topic20\", \"Topic20\", \"Topic20\", \"Topic20\", \"Topic20\", \"Topic20\", \"Topic20\", \"Topic20\", \"Topic20\", \"Topic20\", \"Topic20\", \"Topic20\", \"Topic20\", \"Topic20\", \"Topic20\", \"Topic20\", \"Topic20\", \"Topic20\", \"Topic20\", \"Topic20\", \"Topic20\", \"Topic20\", \"Topic21\", \"Topic21\", \"Topic21\", \"Topic21\", \"Topic21\", \"Topic21\", \"Topic21\", \"Topic21\", \"Topic21\", \"Topic21\", \"Topic21\", \"Topic21\", \"Topic21\", \"Topic21\", \"Topic21\", \"Topic21\", \"Topic21\", \"Topic21\", \"Topic21\", \"Topic21\", \"Topic21\", \"Topic21\", \"Topic21\", \"Topic21\", \"Topic21\", \"Topic21\", \"Topic21\", \"Topic21\", \"Topic21\", \"Topic21\", \"Topic21\", \"Topic21\", \"Topic21\", \"Topic21\", \"Topic21\", \"Topic21\", \"Topic21\", \"Topic21\", \"Topic21\", \"Topic21\", \"Topic21\", \"Topic21\", \"Topic21\", \"Topic21\", \"Topic21\", \"Topic21\", \"Topic21\", \"Topic21\", \"Topic21\", \"Topic21\", \"Topic21\", \"Topic21\", \"Topic21\", \"Topic21\", \"Topic21\", \"Topic21\", \"Topic21\", \"Topic21\", \"Topic21\", \"Topic22\", \"Topic22\", \"Topic22\", \"Topic22\", \"Topic22\", \"Topic22\", \"Topic22\", \"Topic22\", \"Topic22\", \"Topic22\", \"Topic22\", \"Topic22\", \"Topic22\", \"Topic22\", \"Topic22\", \"Topic22\", \"Topic22\", \"Topic22\", \"Topic22\", \"Topic22\", \"Topic22\", \"Topic22\", \"Topic22\", \"Topic22\", \"Topic22\", \"Topic22\", \"Topic22\", \"Topic22\", \"Topic22\", \"Topic22\", \"Topic22\", \"Topic22\", \"Topic22\", \"Topic22\", \"Topic22\", \"Topic22\", \"Topic22\", \"Topic22\", \"Topic22\", \"Topic22\", \"Topic22\", \"Topic22\", \"Topic22\", \"Topic22\", \"Topic22\", \"Topic22\", \"Topic22\", \"Topic22\", \"Topic23\", \"Topic23\", \"Topic23\", \"Topic23\", \"Topic23\", \"Topic23\", \"Topic23\", \"Topic23\", \"Topic23\", \"Topic23\", \"Topic23\", \"Topic23\", \"Topic23\", \"Topic23\", \"Topic23\", \"Topic23\", \"Topic23\", \"Topic23\", \"Topic23\", \"Topic23\", \"Topic23\", \"Topic23\", \"Topic23\", \"Topic23\", \"Topic23\", \"Topic23\", \"Topic23\", \"Topic23\", \"Topic23\", \"Topic23\", \"Topic23\", \"Topic23\", \"Topic23\", \"Topic23\", \"Topic23\", \"Topic23\", \"Topic23\", \"Topic23\", \"Topic23\", \"Topic23\", \"Topic23\", \"Topic23\", \"Topic23\", \"Topic23\", \"Topic23\", \"Topic23\", \"Topic23\", \"Topic23\", \"Topic23\", \"Topic23\", \"Topic23\", \"Topic23\", \"Topic23\", \"Topic24\", \"Topic24\", \"Topic24\", \"Topic24\", \"Topic24\", \"Topic24\", \"Topic24\", \"Topic24\", \"Topic24\", \"Topic24\", \"Topic24\", \"Topic24\", \"Topic24\", \"Topic24\", \"Topic24\", \"Topic24\", \"Topic24\", \"Topic24\", \"Topic24\", \"Topic24\", \"Topic24\", \"Topic24\", \"Topic24\", \"Topic24\", \"Topic24\", \"Topic24\", \"Topic24\", \"Topic24\", \"Topic24\", \"Topic24\", \"Topic24\", \"Topic24\", \"Topic24\", \"Topic24\", \"Topic24\", \"Topic24\", \"Topic24\", \"Topic24\", \"Topic24\", \"Topic24\", \"Topic24\", \"Topic24\", \"Topic24\", \"Topic24\", \"Topic24\", \"Topic24\", \"Topic24\", \"Topic24\", \"Topic24\", \"Topic25\", \"Topic25\", \"Topic25\", \"Topic25\", \"Topic25\", \"Topic25\", \"Topic25\", \"Topic25\", \"Topic25\", \"Topic25\", \"Topic25\", \"Topic25\", \"Topic25\", \"Topic25\", \"Topic25\", \"Topic25\", \"Topic25\", \"Topic25\", \"Topic25\", \"Topic25\", \"Topic25\", \"Topic25\", \"Topic25\", \"Topic25\", \"Topic25\", \"Topic25\", \"Topic25\", \"Topic25\", \"Topic25\", \"Topic25\", \"Topic25\", \"Topic25\", \"Topic25\", \"Topic25\", \"Topic25\", \"Topic25\", \"Topic25\", \"Topic25\", \"Topic25\", \"Topic25\", \"Topic25\", \"Topic25\", \"Topic25\", \"Topic25\", \"Topic25\", \"Topic25\", \"Topic25\", \"Topic25\", \"Topic25\", \"Topic25\"], \"logprob\": [30.0, 29.0, 28.0, 27.0, 26.0, 25.0, 24.0, 23.0, 22.0, 21.0, 20.0, 19.0, 18.0, 17.0, 16.0, 15.0, 14.0, 13.0, 12.0, 11.0, 10.0, 9.0, 8.0, 7.0, 6.0, 5.0, 4.0, 3.0, 2.0, 1.0, -5.3292999267578125, -5.5960001945495605, -5.808599948883057, -5.7947001457214355, -6.181000232696533, -6.23960018157959, -6.3171000480651855, -6.329800128936768, -6.39769983291626, -6.410099983215332, -6.450099945068359, -6.521999835968018, -6.525000095367432, -6.549099922180176, -6.561800003051758, -6.5858001708984375, -6.586999893188477, -6.626999855041504, -6.6483001708984375, -6.649700164794922, -6.694499969482422, -6.740200042724609, -6.758999824523926, -6.8018999099731445, -6.80709981918335, -6.817999839782715, -6.825300216674805, -6.825799942016602, -6.904399871826172, -6.9120001792907715, -6.366199970245361, -5.307700157165527, -5.041299819946289, -5.395599842071533, -5.901100158691406, -6.598499774932861, -4.14900016784668, -5.17140007019043, -5.269199848175049, -5.508999824523926, -5.7652997970581055, -4.347700119018555, -5.091300010681152, -6.22760009765625, -4.450399875640869, -5.234600067138672, -5.973599910736084, -5.0524001121521, -5.255799770355225, -5.075399875640869, -5.307700157165527, -4.323299884796143, -4.89870023727417, -4.106900215148926, -5.885300159454346, -4.940199851989746, -4.825799942016602, -4.543499946594238, -5.130899906158447, -5.718699932098389, -5.639100074768066, -5.360499858856201, -5.343500137329102, -5.420499801635742, -5.170499801635742, -5.492099761962891, -5.547800064086914, -5.510499954223633, -5.543700218200684, -4.0883002281188965, -4.438300132751465, -4.819499969482422, -5.118899822235107, -5.135200023651123, -5.167900085449219, -5.31820011138916, -5.535900115966797, -5.542600154876709, -3.958199977874756, -5.604499816894531, -5.620200157165527, -5.6356000900268555, -5.715099811553955, -5.731800079345703, -5.96150016784668, -5.97189998626709, -6.0046000480651855, -6.010499954223633, -6.013400077819824, -6.083899974822998, -6.0879998207092285, -6.146900177001953, -6.159299850463867, -6.1819000244140625, -6.189599990844727, -6.249300003051758, -6.258800029754639, -6.262499809265137, -6.297800064086914, -5.163400173187256, -3.733799934387207, -5.193699836730957, -4.509900093078613, -4.880300045013428, -4.192200183868408, -5.195199966430664, -5.581999778747559, -4.521200180053711, -5.4604997634887695, -3.9814000129699707, -5.2210001945495605, -5.6149001121521, -5.321000099182129, -5.365799903869629, -4.994200229644775, -5.274199962615967, -5.331099987030029, -5.162700176239014, -5.1880998611450195, -5.42710018157959, -5.429200172424316, -5.301199913024902, -5.387499809265137, -3.9309000968933105, -4.858399868011475, -5.116099834442139, -5.957399845123291, -5.961699962615967, -5.970300197601318, -4.593900203704834, -6.1645002365112305, -6.215400218963623, -6.230999946594238, -6.237800121307373, -6.256199836730957, -6.268700122833252, -5.0406999588012695, -6.371500015258789, -6.39139986038208, -6.40369987487793, -6.418900012969971, -6.488500118255615, -6.491799831390381, -6.702300071716309, -6.420100212097168, -6.7972002029418945, -6.298699855804443, -6.991700172424316, -7.0493998527526855, -7.082699775695801, -5.323800086975098, -7.115600109100342, -7.1493000984191895, -5.327499866485596, -5.499599933624268, -6.372099876403809, -3.474900007247925, -5.9359002113342285, -4.480400085449219, -4.081900119781494, -4.146999835968018, -4.100500106811523, -5.19789981842041, -5.537199974060059, -5.403900146484375, -4.915900230407715, -5.186999797821045, -5.201499938964844, -4.431000232696533, -4.926300048828125, -4.558300018310547, -4.671899795532227, -4.433499813079834, -5.193999767303467, -3.9321999549865723, -3.676800012588501, -3.5492000579833984, -4.965400218963623, -4.939000129699707, -4.384300231933594, -4.2846999168396, -4.9857001304626465, -4.792900085449219, -4.680500030517578, -4.919000148773193, -4.7519001960754395, -4.7494001388549805, -4.999599933624268, -4.92519998550415, -4.73769998550415, -4.941100120544434, -4.027200222015381, -4.88730001449585, -4.893799781799316, -5.025599956512451, -5.134699821472168, -5.533899784088135, -4.315400123596191, -5.627399921417236, -5.066100120544434, -5.725900173187256, -5.732399940490723, -5.785799980163574, -5.841899871826172, -5.898499965667725, -5.915200233459473, -5.942800045013428, -5.943900108337402, -4.33519983291626, -6.028299808502197, -6.043499946594238, -6.125899791717529, -6.150300025939941, -6.328100204467773, -6.360300064086914, -6.403200149536133, -6.427800178527832, -6.460899829864502, -6.48859977722168, -6.518899917602539, -6.558499813079834, -4.877600193023682, -3.919300079345703, -5.362400054931641, -4.115600109100342, -5.303800106048584, -5.871200084686279, -5.174499988555908, -5.506700038909912, -4.243100166320801, -4.674900054931641, -5.2322998046875, -5.3907999992370605, -3.3287999629974365, -4.702899932861328, -3.9800000190734863, -4.5980000495910645, -4.41480016708374, -3.8980000019073486, -4.366099834442139, -4.888400077819824, -4.500100135803223, -4.826900005340576, -4.849400043487549, -4.217700004577637, -4.896999835968018, -4.928699970245361, -4.705399990081787, -5.085100173950195, -4.997200012207031, -4.943299770355225, -5.041399955749512, -4.148900032043457, -5.117700099945068, -5.235199928283691, -5.131800174713135, -5.545100212097168, -5.569900035858154, -5.542799949645996, -5.693399906158447, -5.759099960327148, -5.939599990844727, -5.968400001525879, -6.00600004196167, -6.029799938201904, -6.046199798583984, -6.083099842071533, -6.106900215148926, -6.117300033569336, -6.155900001525879, -5.294300079345703, -6.24459981918335, -6.278900146484375, -6.338200092315674, -6.417200088500977, -6.481400012969971, -6.242300033569336, -6.691999912261963, -6.69379997253418, -5.796800136566162, -6.801799774169922, -6.486100196838379, -4.884300231933594, -5.79640007019043, -5.101500034332275, -5.202300071716309, -5.198500156402588, -5.573200225830078, -5.938899993896484, -4.680699825286865, -4.935500144958496, -5.218800067901611, -5.035799980163574, -4.696599960327148, -4.782599925994873, -3.9746999740600586, -4.505300045013428, -4.0192999839782715, -5.228400230407715, -4.378200054168701, -4.444200038909912, -4.087299823760986, -4.707099914550781, -4.772299766540527, -4.789999961853027, -4.942399978637695, -4.945099830627441, -5.00029993057251, -4.991099834442139, -5.185800075531006, -5.09060001373291, -4.86329984664917, -4.911799907684326, -5.1844000816345215, -3.6765999794006348, -4.250699996948242, -4.361299991607666, -4.904399871826172, -5.193699836730957, -5.261899948120117, -5.268099784851074, -5.38040018081665, -5.486100196838379, -5.678699970245361, -5.684100151062012, -5.697700023651123, -5.704699993133545, -5.706999778747559, -5.930600166320801, -5.931700229644775, -5.943699836730957, -6.002500057220459, -6.00629997253418, -6.0640997886657715, -6.191299915313721, -6.344299793243408, -6.382199764251709, -6.435800075531006, -6.55079984664917, -6.564599990844727, -6.654200077056885, -6.707200050354004, -6.712900161743164, -6.769100189208984, -5.088900089263916, -3.948699951171875, -3.6349000930786133, -4.921199798583984, -3.4702999591827393, -4.995200157165527, -4.216100215911865, -4.067200183868408, -5.568699836730957, -4.648799896240234, -3.352799892425537, -3.7325000762939453, -4.594600200653076, -4.54010009765625, -4.347300052642822, -4.700300216674805, -4.1184000968933105, -4.817599773406982, -4.693299770355225, -4.915500164031982, -4.605500221252441, -4.837900161743164, -4.706900119781494, -4.888299942016602, -4.291500091552734, -4.451300144195557, -4.5233001708984375, -4.578000068664551, -4.639100074768066, -4.531599998474121, -4.63640022277832, -3.9221999645233154, -4.835299968719482, -4.97730016708374, -5.326200008392334, -5.331900119781494, -5.3607001304626465, -5.4415998458862305, -5.624199867248535, -5.750999927520752, -5.497499942779541, -5.886099815368652, -5.981200218200684, -6.071100234985352, -6.110799789428711, -6.120800018310547, -4.46019983291626, -6.143899917602539, -6.153600215911865, -6.154399871826172, -6.166299819946289, -6.171599864959717, -6.2546000480651855, -6.374899864196777, -6.3755998611450195, -6.386300086975098, -6.4079999923706055, -6.408599853515625, -6.427800178527832, -6.252500057220459, -6.583700180053711, -5.512199878692627, -5.300300121307373, -5.738100051879883, -6.1981000900268555, -5.062900066375732, -5.201000213623047, -5.068600177764893, -5.140500068664551, -4.444200038909912, -4.813799858093262, -5.308300018310547, -4.348999977111816, -5.6828999519348145, -5.540299892425537, -5.394899845123291, -4.532199859619141, -4.966100215911865, -5.297399997711182, -3.7432000637054443, -4.232500076293945, -4.1930999755859375, -4.259799957275391, -4.870100021362305, -3.8796000480651855, -4.979700088500977, -4.594200134277344, -4.688300132751465, -5.0802998542785645, -4.860499858856201, -4.725599765777588, -4.899199962615967, -5.1504998207092285, -4.950699806213379, -5.054599761962891, -4.978499889373779, -4.96560001373291, -5.0609002113342285, -5.07859992980957, -3.259700059890747, -3.615499973297119, -4.634900093078613, -4.775100231170654, -5.144100189208984, -5.149400234222412, -5.184299945831299, -5.206699848175049, -5.252399921417236, -5.344799995422363, -5.4355998039245605, -5.45359992980957, -5.463600158691406, -5.562300205230713, -5.595699787139893, -5.59689998626709, -5.671299934387207, -5.689799785614014, -5.730199813842773, -5.798600196838379, -5.816999912261963, -5.821000099182129, -5.8684000968933105, -5.884200096130371, -5.9506001472473145, -5.990499973297119, -6.020500183105469, -6.0457000732421875, -6.052199840545654, -6.099100112915039, -3.3664000034332275, -4.626999855041504, -5.298900127410889, -4.396200180053711, -5.164999961853027, -4.469200134277344, -5.480199813842773, -4.924799919128418, -4.647799968719482, -5.518700122833252, -3.2572999000549316, -4.188899993896484, -4.542500019073486, -5.239999771118164, -4.924699783325195, -4.452499866485596, -4.239799976348877, -4.96999979019165, -4.893099784851074, -5.205599784851074, -4.492700099945068, -4.376800060272217, -4.510200023651123, -4.450300216674805, -4.237299919128418, -4.785900115966797, -4.626999855041504, -4.747900009155273, -4.723100185394287, -5.101399898529053, -5.0447998046875, -3.3726000785827637, -4.581600189208984, -4.596199989318848, -4.750699996948242, -4.83459997177124, -5.0269999504089355, -5.231400012969971, -5.347700119018555, -5.410399913787842, -5.4116997718811035, -5.423600196838379, -5.502799987792969, -5.509399890899658, -5.512199878692627, -5.585599899291992, -4.889699935913086, -5.624899864196777, -5.636199951171875, -5.71750020980835, -5.777200222015381, -5.795400142669678, -6.002900123596191, -6.038599967956543, -6.097700119018555, -6.182000160217285, -6.321000099182129, -6.353799819946289, -6.368800163269043, -5.150599956512451, -5.19350004196167, -4.878399848937988, -5.133600234985352, -5.338500022888184, -4.543300151824951, -5.521599769592285, -3.8566999435424805, -4.170100212097168, -4.6519999504089355, -4.702000141143799, -4.659900188446045, -4.434599876403809, -3.7255001068115234, -3.904099941253662, -4.581900119781494, -4.567500114440918, -4.479899883270264, -4.969600200653076, -4.804599761962891, -4.861299991607666, -4.85860013961792, -5.124800205230713, -4.660999774932861, -4.708000183105469, -4.798900127410889, -4.31689977645874, -4.642300128936768, -4.702000141143799, -4.8755998611450195, -4.289000034332275, -4.368800163269043, -4.473199844360352, -4.989699840545654, -5.042799949645996, -5.127200126647949, -5.1392998695373535, -5.243000030517578, -4.706600189208984, -5.452300071716309, -5.465199947357178, -5.481900215148926, -5.5416998863220215, -5.58620023727417, -5.6097002029418945, -5.6554999351501465, -5.703000068664551, -5.926599979400635, -5.988800048828125, -6.011199951171875, -6.030300140380859, -6.140100002288818, -6.152400016784668, -6.210899829864502, -6.212399959564209, -6.285299777984619, -6.30210018157959, -6.325300216674805, -6.338799953460693, -6.4359002113342285, -4.208199977874756, -5.001800060272217, -5.1392998695373535, -5.381899833679199, -5.623499870300293, -4.734099864959717, -5.870999813079834, -5.587299823760986, -5.751800060272217, -4.6356000900268555, -4.7881999015808105, -3.8519999980926514, -4.365900039672852, -5.1579999923706055, -4.695199966430664, -4.713500022888184, -4.316100120544434, -3.794800043106079, -4.397600173950195, -4.59060001373291, -5.015600204467773, -4.471700191497803, -4.310299873352051, -5.201099872589111, -5.02869987487793, -4.7677998542785645, -4.769100189208984, -4.530300140380859, -4.848999977111816, -4.821100234985352, -4.955999851226807, -5.0432000160217285, -4.4770002365112305, -4.767099857330322, -4.952400207519531, -5.014100074768066, -5.149799823760986, -5.161499977111816, -5.162700176239014, -5.123199939727783, -5.186500072479248, -5.209099769592285, -5.304299831390381, -5.311999797821045, -5.333799839019775, -5.336100101470947, -5.368500232696533, -5.389100074768066, -5.397900104522705, -5.393499851226807, -5.413300037384033, -5.426700115203857, -5.458399772644043, -5.458899974822998, -5.472099781036377, -5.512599945068359, -5.515900135040283, -5.526599884033203, -5.551799774169922, -5.561800003051758, -5.590099811553955, -3.793600082397461, -4.710700035095215, -3.9165000915527344, -5.047100067138672, -4.778800010681152, -5.192200183868408, -4.712100028991699, -5.232999801635742, -4.591300010681152, -4.938499927520752, -4.266600131988525, -4.919600009918213, -4.160799980163574, -4.434299945831299, -4.121300220489502, -4.70389986038208, -4.697199821472168, -4.691199779510498, -4.828499794006348, -4.7565999031066895, -4.654099941253662, -4.88670015335083, -4.970200061798096, -4.883500099182129, -5.027100086212158, -5.061399936676025, -5.147200107574463, -4.180699825286865, -4.578800201416016, -4.599299907684326, -4.619999885559082, -4.700399875640869, -4.834000110626221, -5.100299835205078, -5.118899822235107, -5.2104997634887695, -5.282100200653076, -5.537399768829346, -5.547900199890137, -5.608799934387207, -5.627999782562256, -5.653200149536133, -5.668900012969971, -5.683499813079834, -5.754499912261963, -5.265200138092041, -5.850800037384033, -5.867199897766113, -4.590099811553955, -6.130300045013428, -6.142199993133545, -6.219299793243408, -6.252900123596191, -6.304900169372559, -4.318999767303467, -6.485599994659424, -6.537700176239014, -4.72130012512207, -4.410999774932861, -4.469200134277344, -4.2052001953125, -3.4186999797821045, -2.4798998832702637, -4.404799938201904, -4.132299900054932, -5.208600044250488, -4.605599880218506, -4.040999889373779, -4.313199996948242, -4.541299819946289, -4.441999912261963, -4.601799964904785, -3.5524001121520996, -4.594399929046631, -3.841900110244751, -4.376100063323975, -4.419400215148926, -4.5858001708984375, -4.721499919891357, -4.909299850463867, -4.495699882507324, -3.0799999237060547, -3.4762001037597656, -3.7321999073028564, -2.58240008354187, -1.9538999795913696, -5.302999973297119, -5.341300010681152, -5.66480016708374, -5.7006001472473145, -5.712500095367432, -5.7845001220703125, -5.836100101470947, -5.937399864196777, -5.997700214385986, -6.043900012969971, -6.169300079345703, -6.213399887084961, -6.281300067901611, -6.621200084686279, -7.0295000076293945, -5.222300052642822, -7.251200199127197, -7.251999855041504, -7.261300086975098, -7.34660005569458, -7.348599910736084, -7.3796000480651855, -5.327400207519531, -6.250999927520752, -3.3828999996185303, -1.9213000535964966, -4.588399887084961, -3.3248000144958496, -3.5427000522613525, -4.543600082397461, -5.177299976348877, -4.137400150299072, -3.807300090789795, -5.128399848937988, -3.759200096130371, -4.126699924468994, -5.029099941253662, -4.873600006103516, -4.5644001960754395, -4.552499771118164, -4.4145002365112305, -4.847799777984619, -4.819699764251709, -5.051300048828125, -4.9822001457214355, -4.889699935913086, -5.154300212860107, -5.225200176239014, -3.617799997329712, -4.1433000564575195, -4.348199844360352, -4.714000225067139, -3.4089999198913574, -4.769100189208984, -4.938899993896484, -4.231200218200684, -5.081999778747559, -5.243000030517578, -5.2743000984191895, -5.295400142669678, -5.354400157928467, -5.372600078582764, -5.460999965667725, -5.0040998458862305, -5.6585001945495605, -5.696000099182129, -5.820000171661377, -5.867499828338623, -5.932199954986572, -5.307700157165527, -6.090700149536133, -6.18310022354126, -6.28980016708374, -6.3119001388549805, -6.346099853515625, -4.623600006103516, -6.418700218200684, -6.457300186157227, -4.632599830627441, -5.230299949645996, -4.497200012207031, -3.512399911880493, -2.4014999866485596, -4.633299827575684, -4.484799861907959, -5.195099830627441, -4.7195000648498535, -4.174099922180176, -3.9030001163482666, -4.223999977111816, -4.440700054168701, -3.587100028991699, -3.888200044631958, -4.491799831390381, -5.064499855041504, -4.39870023727417, -4.987500190734863, -4.316199779510498, -4.458600044250488, -4.805799961090088, -4.501100063323975, -4.657400131225586, -4.838799953460693, -4.909200191497803, -3.426800012588501, -3.9495999813079834, -4.012800216674805, -4.032400131225586, -4.1869001388549805, -4.484399795532227, -4.560400009155273, -4.585599899291992, -4.639599800109863, -5.241799831390381, -5.343699932098389, -4.2947001457214355, -4.136300086975098, -5.856100082397461, -5.875999927520752, -5.884500026702881, -4.926400184631348, -6.072800159454346, -6.1244001388549805, -4.966100215911865, -6.196100234985352, -6.272600173950195, -6.282700061798096, -4.239299774169922, -6.333000183105469, -6.333899974822998, -6.462900161743164, -6.5395002365112305, -5.2378997802734375, -4.571800231933594, -4.121600151062012, -3.758699893951416, -4.072700023651123, -4.996099948883057, -4.88539981842041, -5.485899925231934, -4.874499797821045, -4.382199764251709, -4.57390022277832, -4.216100215911865, -3.84660005569458, -4.193299770355225, -4.595699787139893, -3.2004001140594482, -3.4351999759674072, -4.3480000495910645, -3.624799966812134, -4.47189998626709, -3.922100067138672, -3.8361001014709473, -3.734100103378296, -4.5258002281188965, -4.533400058746338, -4.5833001136779785, -2.9895999431610107, -3.7490999698638916, -3.9223999977111816, -4.722899913787842, -4.744100093841553, -4.755300045013428, -4.94379997253418, -4.965000152587891, -5.058800220489502, -5.190400123596191, -5.199699878692627, -5.339399814605713, -5.440199851989746, -5.445799827575684, -5.672999858856201, -5.777599811553955, -5.797800064086914, -5.823999881744385, -4.7789998054504395, -5.991000175476074, -6.0746002197265625, -6.0883002281188965, -6.111100196838379, -6.116600036621094, -6.137599945068359, -6.174099922180176, -6.256499767303467, -6.154699802398682, -3.8029000759124756, -6.521299839019775, -4.795599937438965, -4.241099834442139, -3.8803999423980713, -3.8025999069213867, -4.173099994659424, -5.058300018310547, -4.560200214385986, -4.497300148010254, -3.932499885559082, -3.585200071334839, -3.537400007247925, -4.801799774169922, -4.009200096130371, -4.33620023727417, -3.7374000549316406, -4.139999866485596, -3.44350004196167, -4.125100135803223, -3.981100082397461, -3.914599895477295, -4.353099822998047, -4.309500217437744, -4.441199779510498, -4.536099910736084, -4.527100086212158, -4.655799865722656, -4.66540002822876, -3.69950008392334, -4.491600036621094, -4.576499938964844, -4.593699932098389, -4.7368998527526855, -4.995100021362305, -5.008399963378906, -5.071800231933594, -5.143899917602539, -5.155200004577637, -5.270400047302246, -5.327499866485596, -5.344299793243408, -5.3495001792907715, -5.379799842834473, -4.788099765777588, -5.405099868774414, -5.408400058746338, -5.452600002288818, -5.46150016784668, -5.522799968719482, -5.525700092315674, -5.539000034332275, -5.555099964141846, -5.5584001541137695, -5.5594000816345215, -5.611100196838379, -5.644899845123291, -5.679500102996826, -4.560100078582764, -5.131999969482422, -4.329999923706055, -4.755300045013428, -3.0806000232696533, -3.5797998905181885, -3.629499912261963, -4.955699920654297, -4.221799850463867, -3.9697999954223633, -4.023900032043457, -4.361000061035156, -4.700200080871582, -4.853400230407715, -4.327000141143799, -4.228400230407715, -4.590099811553955, -4.093800067901611, -4.309800148010254, -4.149899959564209, -4.723100185394287, -4.170000076293945, -4.558599948883057, -4.783299922943115, -4.865799903869629, -3.4897000789642334, -4.178500175476074, -4.188199996948242, -4.25, -4.43779993057251, -4.864500045776367, -4.93149995803833, -4.96120023727417, -5.013599872589111, -5.2210001945495605, -5.338399887084961, -5.359000205993652, -5.403800010681152, -5.604700088500977, -5.615499973297119, -5.756700038909912, -5.775000095367432, -5.776500225067139, -5.8206000328063965, -5.827499866485596, -5.8734002113342285, -5.958600044250488, -6.078800201416016, -5.048999786376953, -6.084199905395508, -6.089600086212158, -6.137199878692627, -6.149099826812744, -6.174099922180176, -6.237199783325195, -4.371200084686279, -4.972499847412109, -5.064599990844727, -4.509200096130371, -4.866000175476074, -4.787499904632568, -5.3719000816345215, -3.4644999504089355, -4.755799770355225, -4.7399001121521, -3.4477999210357666, -3.6626999378204346, -4.701700210571289, -5.354000091552734, -4.346700191497803, -3.798799991607666, -4.0295000076293945, -4.1869001388549805, -3.5201001167297363, -4.344399929046631, -4.180300235748291, -4.468900203704834, -3.4828999042510986, -3.8857998847961426, -4.288700103759766, -4.329699993133545, -4.375500202178955, -4.435800075531006, -4.407400131225586, -4.405799865722656, -4.380799770355225, -4.408999919891357, -4.61899995803833, -4.400100231170654, -4.496799945831299, -3.5813000202178955, -4.123600006103516, -4.199399948120117, -4.249599933624268, -4.303699970245361, -4.468500137329102, -4.4868998527526855, -4.589900016784668, -4.665999889373779, -3.842400074005127, -4.863800048828125, -5.120800018310547, -5.136300086975098, -5.196000099182129, -5.247700214385986, -5.269199848175049, -5.802299976348877, -6.240499973297119, -6.553699970245361, -6.561800003051758, -6.56820011138916, -6.5742998123168945, -6.739699840545654, -5.138199806213379, -4.710599899291992, -6.877600193023682, -6.936200141906738, -5.395999908447266, -4.078400135040283, -7.031799793243408, -3.5109000205993652, -3.6191000938415527, -5.02869987487793, -4.070300102233887, -5.075399875640869, -5.237400054931641, -4.240499973297119, -3.791800022125244, -4.20550012588501, -3.8482000827789307, -4.657100200653076, -4.508800029754639, -3.6445999145507812, -4.447700023651123, -4.39709997177124, -4.400300025939941, -4.42080020904541, -4.439700126647949, -4.673900127410889, -4.746500015258789, -4.315000057220459, -4.433599948883057, -4.551000118255615, -4.517300128936768, -4.567299842834473, -4.595900058746338, -3.5660998821258545, -3.710400104522705, -3.9547998905181885, -4.038899898529053, -4.146699905395508, -4.323599815368652, -4.587800025939941, -4.696199893951416, -4.698299884796143, -4.794400215148926, -4.80210018157959, -4.941699981689453, -5.103099822998047, -5.182000160217285, -5.195700168609619, -4.5625, -5.286600112915039, -5.372300148010254, -5.434100151062012, -5.439799785614014, -5.456200122833252, -5.480299949645996, -5.643700122833252, -5.667200088500977, -5.732600212097168, -5.8144001960754395, -4.127099990844727, -6.008200168609619, -6.063600063323975, -6.089399814605713, -5.506800174713135, -3.812000036239624, -3.9138998985290527, -4.3730998039245605, -4.116000175476074, -4.408599853515625, -2.692199945449829, -3.703700065612793, -3.0671000480651855, -3.7648000717163086, -3.373800039291382, -4.404600143432617, -4.5569000244140625, -3.787899971008301, -4.0817999839782715, -4.752699851989746, -4.490099906921387, -4.369999885559082, -4.159900188446045, -4.181099891662598, -4.53439998626709, -4.503600120544434, -4.506800174713135, -4.568699836730957, -3.5009000301361084, -3.783099889755249, -3.829699993133545, -4.240799903869629, -4.4944000244140625, -4.551799774169922, -4.578800201416016, -4.670000076293945, -5.157700061798096, -5.20419979095459, -3.706399917602539, -5.42140007019043, -5.498899936676025, -5.502099990844727, -5.694799900054932, -5.758200168609619, -5.782800197601318, -5.872200012207031, -3.0048999786376953, -6.002799987792969, -6.045100212097168, -5.484799861907959, -5.517099857330322, -6.105899810791016, -6.13100004196167, -6.156300067901611, -6.194200038909912, -6.426300048828125, -6.426400184631348, -6.491000175476074, -4.763500213623047, -4.594399929046631, -4.92140007019043, -3.922800064086914, -3.8652000427246094, -4.69920015335083, -4.754499912261963, -3.8654000759124756, -4.79449987411499, -4.035600185394287, -4.202499866485596, -4.037099838256836, -3.959199905395508, -3.1285998821258545, -3.7235000133514404, -4.0782999992370605, -4.504000186920166, -4.6880998611450195, -4.021399974822998, -4.343100070953369, -4.3805999755859375, -4.094600200653076, -4.395899772644043, -4.430200099945068, -4.4664998054504395, -4.458199977874756, -4.523600101470947, -4.519800186157227, -4.558000087738037, -2.8733999729156494, -3.7411999702453613, -3.8122000694274902, -3.8554000854492188, -3.9135000705718994, -3.9851999282836914, -4.061699867248535, -4.290800094604492, -4.313600063323975, -4.659800052642822, -4.717599868774414, -4.807000160217285, -4.873000144958496, -4.953000068664551, -5.028600215911865, -5.144599914550781, -5.2515997886657715, -5.384399890899658, -5.447400093078613, -5.617400169372559, -5.6417999267578125, -5.662300109863281, -5.7357001304626465, -5.739200115203857, -5.753300189971924, -4.604899883270264, -5.761000156402588, -5.770599842071533, -4.675000190734863, -5.790200233459473, -3.2741000652313232, -3.8115999698638916, -4.733399868011475, -3.493799924850464, -4.9182000160217285, -4.3333001136779785, -3.648699998855591, -4.786799907684326, -4.1819000244140625, -3.7225000858306885, -4.320700168609619, -4.123000144958496, -4.510700225830078, -4.458099842071533, -4.375999927520752, -4.453400135040283, -4.838200092315674, -4.821800231933594, -3.1352999210357666, -3.245699882507324, -4.391900062561035, -4.404300212860107, -4.561800003051758, -4.597300052642822, -4.722799777984619, -4.792200088500977, -5.2291998863220215, -2.7955000400543213, -5.568900108337402, -5.631999969482422, -5.668600082397461, -2.5987000465393066, -5.97130012512207, -6.031099796295166, -6.088900089263916, -6.2006001472473145, -6.301300048828125, -5.45959997177124, -6.417799949645996, -6.451099872589111, -6.458600044250488, -6.458700180053711, -6.547800064086914, -6.555699825286865, -6.590799808502197, -6.706200122833252, -4.319499969482422, -6.830399990081787, -3.3791000843048096, -4.464300155639648, -3.5315001010894775, -2.2664999961853027, -2.8601999282836914, -4.497000217437744, -4.74429988861084, -3.493799924850464, -5.17609977722168, -4.283199787139893, -5.047800064086914, -3.6919000148773193, -5.287700176239014, -4.021299839019775, -4.247900009155273, -4.392199993133545, -5.089300155639648, -4.520699977874756, -4.6803998947143555, -4.683599948883057, -4.764200210571289, -4.976600170135498, -5.032100200653076, -3.5894999504089355, -3.6073999404907227, -3.8410000801086426, -3.9855000972747803, -4.03000020980835, -4.072999954223633, -4.642499923706055, -4.648099899291992, -4.668099880218506, -4.975900173187256, -5.1346001625061035, -5.203800201416016, -1.7954000234603882, -5.279399871826172, -5.300899982452393, -5.383200168609619, -5.402500152587891, -5.554100036621094, -5.599299907684326, -5.676700115203857, -5.685800075531006, -5.909900188446045, -5.927599906921387, -6.008500099182129, -2.5464000701904297, -6.040800094604492, -6.058700084686279, -6.097599983215332, -6.241799831390381, -6.275599956512451, -4.530900001525879, -3.147200107574463, -3.307300090789795, -3.8945000171661377, -5.201000213623047, -4.697000026702881, -4.372399806976318, -5.46750020980835, -3.86080002784729, -4.29610013961792, -4.229300022125244, -4.289599895477295, -4.958199977874756, -4.775899887084961, -5.030900001525879, -5.1519999504089355, -5.163300037384033, -5.125400066375732, -5.1890997886657715, -2.2662999629974365, -3.795799970626831, -4.074900150299072, -4.093699932098389, -4.156899929046631, -4.7621002197265625, -4.792900085449219, -4.8171000480651855, -5.061500072479248, -5.109799861907959, -5.198800086975098, -5.261499881744385, -5.308800220489502, -5.537099838256836, -5.569399833679199, -5.5746002197265625, -5.627600193023682, -5.679599761962891, -4.059800148010254, -5.826900005340576, -5.9028000831604, -6.030200004577637, -6.08050012588501, -6.085299968719482, -6.133399963378906, -4.4633002281188965, -6.4008002281188965, -6.404399871826172, -6.566299915313721, -6.599299907684326, -5.55709981918335, -3.420799970626831, -2.537100076675415, -4.928999900817871, -3.304800033569336, -2.719099998474121, -5.107100009918213, -5.215799808502197, -3.6731998920440674, -3.973599910736084, -3.7437000274658203, -3.6342999935150146, -5.028500080108643, -4.883399963378906, -4.547100067138672, -4.848700046539307, -4.506999969482422, -4.820899963378906, -5.049300193786621, -5.118000030517578], \"loglift\": [30.0, 29.0, 28.0, 27.0, 26.0, 25.0, 24.0, 23.0, 22.0, 21.0, 20.0, 19.0, 18.0, 17.0, 16.0, 15.0, 14.0, 13.0, 12.0, 11.0, 10.0, 9.0, 8.0, 7.0, 6.0, 5.0, 4.0, 3.0, 2.0, 1.0, 1.448699951171875, 1.4473999738693237, 1.4460999965667725, 1.4457000494003296, 1.4428999423980713, 1.4422999620437622, 1.4414000511169434, 1.4413000345230103, 1.4402999877929688, 1.4402999877929688, 1.4397000074386597, 1.4387999773025513, 1.4386999607086182, 1.4384000301361084, 1.4381999969482422, 1.4378000497817993, 1.4378000497817993, 1.4371999502182007, 1.4368000030517578, 1.4368000030517578, 1.4361000061035156, 1.4352999925613403, 1.4342000484466553, 1.4342000484466553, 1.4341000318527222, 1.433899998664856, 1.4336999654769897, 1.4336999654769897, 1.4321000576019287, 1.4320000410079956, 1.4244999885559082, 1.4013999700546265, 1.3700000047683716, 1.3730000257492065, 1.3890999555587769, 1.423799991607666, 1.2806999683380127, 1.2826999425888062, 1.2235000133514404, 1.2466000318527222, 1.2862999439239502, 1.0326999425888062, 1.1613999605178833, 1.3562999963760376, 0.9718999862670898, 1.1420999765396118, 1.3037999868392944, 1.075600028038025, 1.086400032043457, 0.9828000068664551, 1.0494999885559082, 0.6747000217437744, 0.8700000047683716, 0.5138000249862671, 1.2009999752044678, 0.697700023651123, 0.5925999879837036, 0.4171000123023987, 0.715499997138977, 1.1038999557495117, 0.9442999958992004, 0.4138000011444092, 0.3562999963760376, 0.5087000131607056, -0.09459999948740005, 0.46369999647140503, 0.631600022315979, 0.19059999287128448, 0.36570000648498535, 2.3629000186920166, 2.361599922180176, 2.359499931335449, 2.357300043106079, 2.357100009918213, 2.3568999767303467, 2.3554000854492188, 2.352799892425537, 2.3526999950408936, 2.3522000312805176, 2.351900100708008, 2.3517000675201416, 2.3513998985290527, 2.3501999378204346, 2.3499999046325684, 2.345900058746338, 2.3457000255584717, 2.3450000286102295, 2.344899892807007, 2.3447999954223633, 2.3433001041412354, 2.3431999683380127, 2.3417999744415283, 2.341399908065796, 2.3410000801086426, 2.3408000469207764, 2.3392999172210693, 2.3389999866485596, 2.338900089263916, 2.3380000591278076, 2.281399965286255, 2.204400062561035, 2.2760000228881836, 2.083699941635132, 2.115499973297119, 1.9938000440597534, 2.163100004196167, 2.2360000610351562, 1.9752000570297241, 2.065700054168701, 1.3805999755859375, 1.94760000705719, 2.0929999351501465, 1.858199954032898, 1.8410999774932861, 1.0216000080108643, 1.4700000286102295, 1.4035999774932861, 0.6392999887466431, 0.5045999884605408, 1.3406000137329102, 1.172700047492981, -0.22529999911785126, 0.6406999826431274, 2.551100015640259, 2.548099994659424, 2.545799970626831, 2.5320000648498535, 2.531899929046631, 2.5316998958587646, 2.5271999835968018, 2.5264999866485596, 2.5246999263763428, 2.5244998931884766, 2.5243000984191895, 2.523699998855591, 2.5232999324798584, 2.522700071334839, 2.5197999477386475, 2.5190999507904053, 2.5185999870300293, 2.5181000232696533, 2.515399932861328, 2.515199899673462, 2.5058999061584473, 2.500999927520752, 2.500999927520752, 2.5, 2.489500045776367, 2.485599994659424, 2.483299970626831, 2.482599973678589, 2.4809999465942383, 2.4784998893737793, 2.477299928665161, 2.4600000381469727, 2.4721999168395996, 2.351599931716919, 2.4361000061035156, 2.316499948501587, 2.2627999782562256, 2.191800117492676, 2.1380999088287354, 2.2904999256134033, 2.348299980163574, 2.315000057220459, 2.2035000324249268, 2.2576000690460205, 2.240499973297119, 2.043299913406372, 2.1510000228881836, 2.0306999683380127, 2.0539000034332275, 1.9462000131607056, 2.188800096511841, 1.6485999822616577, 1.2838000059127808, 1.0714999437332153, 1.8380999565124512, 1.8026000261306763, 1.3875000476837158, 1.211400032043457, 1.7984999418258667, 1.5166000127792358, 1.3015999794006348, 1.6827000379562378, 1.3025000095367432, 0.9517999887466431, 1.680299997329712, 1.3497999906539917, 0.2603999972343445, 1.276900053024292, 2.5631000995635986, 2.558199882507324, 2.5580999851226807, 2.5569000244140625, 2.555799961090088, 2.55049991607666, 2.549299955368042, 2.5488998889923096, 2.5473999977111816, 2.547100067138672, 2.5469000339508057, 2.545799970626831, 2.5446999073028564, 2.5434000492095947, 2.5429999828338623, 2.54229998588562, 2.54229998588562, 2.5411999225616455, 2.5401999950408936, 2.539799928665161, 2.5374999046325684, 2.536799907684326, 2.531100034713745, 2.529900074005127, 2.5283000469207764, 2.527400016784668, 2.526099920272827, 2.5250000953674316, 2.523699998855591, 2.5220000743865967, 2.5176000595092773, 2.482100009918213, 2.509500026702881, 2.4045000076293945, 2.46560001373291, 2.496500015258789, 2.4303998947143555, 2.4484000205993652, 2.2590999603271484, 2.2734999656677246, 2.3564999103546143, 2.3907999992370605, 1.7472000122070312, 2.124500036239624, 1.763700008392334, 2.003999948501587, 1.9141000509262085, 1.5498000383377075, 1.6591999530792236, 1.9459999799728394, 1.5565999746322632, 1.7961000204086304, 1.805299997329712, 1.1526000499725342, 1.6584999561309814, 1.5430999994277954, 0.7907999753952026, 1.8198000192642212, 1.3941999673843384, 1.0388000011444092, 1.3777999877929688, 2.5917000770568848, 2.58489990234375, 2.5834999084472656, 2.5790998935699463, 2.5790998935699463, 2.578700065612793, 2.577199935913086, 2.5764000415802, 2.5750999450683594, 2.5710999965667725, 2.5703001022338867, 2.5694000720977783, 2.568700075149536, 2.5683000087738037, 2.5673000812530518, 2.5666000843048096, 2.5662999153137207, 2.565200090408325, 2.563499927520752, 2.5624001026153564, 2.561199903488159, 2.5590999126434326, 2.5562000274658203, 2.5536000728607178, 2.5510001182556152, 2.5439000129699707, 2.543800115585327, 2.5387001037597656, 2.538100004196167, 2.537400007247925, 2.5299999713897705, 2.5346999168395996, 2.520699977874756, 2.5225000381469727, 2.514699935913086, 2.5148000717163086, 2.5316998958587646, 2.4460999965667725, 2.4472999572753906, 2.471299886703491, 2.396199941635132, 2.2941999435424805, 2.2946999073028564, 2.041100025177002, 2.1712000370025635, 2.0285000801086426, 2.268699884414673, 1.9155000448226929, 1.8653000593185425, 1.6054999828338623, 1.9250999689102173, 1.8569999933242798, 1.8115999698638916, 1.9045000076293945, 1.82260000705719, 1.8624999523162842, 1.8188999891281128, 1.986199975013733, 1.8072999715805054, 1.2127000093460083, 0.16419999301433563, 0.8723999857902527, 2.8257999420166016, 2.823199987411499, 2.822499990463257, 2.8178000450134277, 2.8141000270843506, 2.812999963760376, 2.8129000663757324, 2.811000108718872, 2.809000015258789, 2.804800033569336, 2.8046000003814697, 2.80430006980896, 2.8041000366210938, 2.8041000366210938, 2.7978999614715576, 2.7978999614715576, 2.797499895095825, 2.795599937438965, 2.7955000400543213, 2.7934999465942383, 2.788800001144409, 2.7822999954223633, 2.7804999351501465, 2.777899980545044, 2.7718000411987305, 2.7709999084472656, 2.7657999992370605, 2.762399911880493, 2.7620999813079834, 2.7583000659942627, 2.7546000480651855, 2.677999973297119, 2.656100034713745, 2.555500030517578, 2.3705999851226807, 2.561800003051758, 2.4165000915527344, 2.3775999546051025, 2.6203999519348145, 2.4007999897003174, 2.064199924468994, 2.1386001110076904, 2.377700090408325, 2.3589000701904297, 2.163100004196167, 2.2857000827789307, 1.9865000247955322, 2.163800001144409, 2.0643999576568604, 2.1782000064849854, 1.9157999753952026, 2.0922000408172607, 1.906499981880188, 2.08270001411438, 1.1306999921798706, 1.249899983406067, 1.2453999519348145, 1.1217999458312988, 1.270400047302246, 0.08910000324249268, 0.36160001158714294, 2.832200050354004, 2.8257999420166016, 2.824199914932251, 2.8190999031066895, 2.819000005722046, 2.81850004196167, 2.816999912261963, 2.8131000995635986, 2.809999942779541, 2.8096001148223877, 2.8062000274658203, 2.8032000064849854, 2.8001999855041504, 2.7987000942230225, 2.79830002784729, 2.7980000972747803, 2.797499895095825, 2.797100067138672, 2.797100067138672, 2.796600103378296, 2.7964000701904297, 2.7929999828338623, 2.787600040435791, 2.7874999046325684, 2.7869999408721924, 2.7860000133514404, 2.785900115966797, 2.7850000858306885, 2.780900001525879, 2.7764999866485596, 2.7674999237060547, 2.678800106048584, 2.7040998935699463, 2.759000062942505, 2.5613999366760254, 2.579900026321411, 2.549999952316284, 2.503700017929077, 2.3213999271392822, 2.402100086212158, 2.540600061416626, 2.2300000190734863, 2.6245999336242676, 2.525599956512451, 2.4560000896453857, 2.0058999061584473, 2.172300100326538, 2.354300022125244, 1.2173999547958374, 1.5694999694824219, 1.3876999616622925, 1.378100037574768, 1.9010000228881836, 0.7409999966621399, 1.9701000452041626, 1.1777000427246094, 1.0128999948501587, 1.8394999504089355, 1.1963000297546387, 0.6927000284194946, 0.9472000002861023, 1.9444999694824219, 1.0313999652862549, 1.4630000591278076, 1.0497000217437744, 0.7342000007629395, 0.8683000206947327, 0.9781000018119812, 2.9472999572753906, 2.946199893951416, 2.940000057220459, 2.938499927520752, 2.9335999488830566, 2.933500051498413, 2.933000087738037, 2.9326000213623047, 2.93179988861084, 2.9300999641418457, 2.9282000064849854, 2.927799940109253, 2.9275999069213867, 2.925299882888794, 2.924499988555908, 2.924299955368042, 2.922600030899048, 2.922100067138672, 2.9209001064300537, 2.9189000129699707, 2.9184000492095947, 2.918299913406372, 2.916800022125244, 2.9161999225616455, 2.9140000343322754, 2.9124999046325684, 2.911400079727173, 2.9105000495910645, 2.9102001190185547, 2.908400058746338, 2.7402000427246094, 2.819000005722046, 2.8608999252319336, 2.7909998893737793, 2.8322999477386475, 2.738100051879883, 2.861599922180176, 2.748199939727783, 2.6115000247955322, 2.8385000228881836, 2.1596999168395996, 2.269399881362915, 2.3657000064849854, 2.6143999099731445, 2.357800006866455, 1.9271999597549438, 1.715999960899353, 2.3036999702453613, 2.2005999088287354, 2.537899971008301, 1.3481999635696411, 1.0455000400543213, 1.2616000175476074, 1.0458999872207642, 0.38339999318122864, 1.573699951171875, 0.8026999831199646, 1.0985000133514404, 0.857699990272522, 2.127500057220459, 0.6550999879837036, 3.2469000816345215, 3.2381999492645264, 3.23799991607666, 3.2358999252319336, 3.234600067138672, 3.2311999797821045, 3.226900100708008, 3.2239999771118164, 3.2223000526428223, 3.2223000526428223, 3.22189998626709, 3.219599962234497, 3.219399929046631, 3.2193000316619873, 3.2170000076293945, 3.2167000770568848, 3.2156999111175537, 3.2153000831604004, 3.2123000621795654, 3.2100000381469727, 3.2093000411987305, 3.200000047683716, 3.198199987411499, 3.1951000690460205, 3.1902999877929688, 3.1816999912261963, 3.1793999671936035, 3.1784000396728516, 3.1730000972747803, 3.1714000701904297, 3.099600076675415, 3.072999954223633, 3.031899929046631, 2.838900089263916, 3.0394999980926514, 2.5625, 2.583400011062622, 2.528700113296509, 2.5309998989105225, 2.4962000846862793, 2.322999954223633, 1.6548000574111938, 1.788699984550476, 2.346400022506714, 2.250699996948242, 2.138400077819824, 2.6045000553131104, 2.325000047683716, 2.323899984359741, 2.2637999057769775, 2.7074999809265137, 1.698699951171875, 1.7599999904632568, 1.9392000436782837, 0.3037000000476837, 1.313599944114685, 0.296099990606308, 0.97079998254776, 3.2583000659942627, 3.257499933242798, 3.2564001083374023, 3.248800039291382, 3.2476999759674072, 3.246000051498413, 3.245800018310547, 3.240799903869629, 3.23799991607666, 3.237799882888794, 3.2374000549316406, 3.236799955368042, 3.235100030899048, 3.233599901199341, 3.232800006866455, 3.2311999797821045, 3.2295000553131104, 3.220099925994873, 3.217099905014038, 3.2160000801086426, 3.2149999141693115, 3.2091000080108643, 3.208400011062622, 3.204900026321411, 3.204900026321411, 3.2002999782562256, 3.199199914932251, 3.1975998878479004, 3.196700096130371, 3.18969988822937, 3.1665000915527344, 3.1475000381469727, 3.128999948501587, 3.1310999393463135, 3.1475000381469727, 3.0383999347686768, 3.1647000312805176, 3.123300075531006, 3.1389000415802, 2.881700038909912, 2.8970999717712402, 2.645400047302246, 2.767400026321411, 2.9751999378204346, 2.8157999515533447, 2.703700065612793, 2.4965999126434326, 2.1147000789642334, 2.420599937438965, 2.4927000999450684, 2.751499891281128, 2.0690999031066895, 1.8690999746322632, 2.785099983215332, 2.4735000133514404, 1.8869999647140503, 1.4488999843597412, 0.4677000045776367, 1.5049999952316284, 0.9506999850273132, 1.8280999660491943, 2.2304999828338623, 3.4823999404907227, 3.47760009765625, 3.47379994392395, 3.4723000526428223, 3.4688000679016113, 3.4684998989105225, 3.4684998989105225, 3.4677999019622803, 3.4677999019622803, 3.4672000408172607, 3.464200019836426, 3.4639999866485596, 3.4632999897003174, 3.463200092315674, 3.462100028991699, 3.461400032043457, 3.4611001014709473, 3.4609999656677246, 3.460599899291992, 3.460099935531616, 3.458899974822998, 3.458899974822998, 3.4583001136779785, 3.456899881362915, 3.456700086593628, 3.4563000202178955, 3.4553000926971436, 3.454900026321411, 3.453700065612793, 3.4504001140594482, 3.4361000061035156, 3.4077000617980957, 3.3361001014709473, 3.1923000812530518, 3.3208999633789062, 3.0817999839782715, 3.3178000450134277, 2.5390000343322754, 2.897599935531616, 2.09060001373291, 2.8134000301361084, 1.7684999704360962, 2.0302000045776367, 1.2970000505447388, 2.234100103378296, 2.0374999046325684, 1.9318000078201294, 2.0371999740600586, 1.7657999992370605, 1.1723999977111816, 2.0255000591278076, 1.8941999673843384, 1.2214000225067139, 1.4736000299453735, 0.3089999854564667, 1.4850000143051147, 3.5383999347686768, 3.532900094985962, 3.5325000286102295, 3.5322000980377197, 3.5306999683380127, 3.5280001163482666, 3.5215001106262207, 3.520900011062622, 3.518199920654297, 3.515899896621704, 3.5062999725341797, 3.5058000087738037, 3.5030999183654785, 3.50219988822937, 3.5011000633239746, 3.5002999305725098, 3.4995999336242676, 3.496000051498413, 3.495500087738037, 3.4907000064849854, 3.489799976348877, 3.480799913406372, 3.472399950027466, 3.4714999198913574, 3.4655001163482666, 3.4626998901367188, 3.4583001136779785, 3.456899881362915, 3.4410998821258545, 3.435699939727783, 3.365299940109253, 3.27810001373291, 3.2571001052856445, 3.208199977874756, 3.0998001098632812, 2.8821001052856445, 3.1034998893737793, 2.954400062561035, 3.265700101852417, 3.0450000762939453, 2.8059000968933105, 2.8635001182556152, 2.95770001411438, 2.8348000049591064, 2.894399881362915, 2.1912999153137207, 2.8097000122070312, 2.234100103378296, 2.4702999591827393, 2.3378000259399414, 2.179800033569336, 2.476900100708008, 2.7701001167297363, 0.5023000240325928, 3.9346001148223877, 3.9316000938415527, 3.929500102996826, 3.927799940109253, 3.911099910736084, 3.8901000022888184, 3.888200044631958, 3.86899995803833, 3.866499900817871, 3.8657000064849854, 3.860300064086914, 3.856300115585327, 3.8478000164031982, 3.8422999382019043, 3.837899923324585, 3.825000047683716, 3.8201000690460205, 3.8122000694274902, 3.764699935913086, 3.6867001056671143, 3.6328999996185303, 3.6326000690460205, 3.6324000358581543, 3.6298999786376953, 3.6064000129699707, 3.605799913406372, 3.59689998626709, 3.5934998989105225, 3.566999912261963, 3.553299903869629, 3.4489998817443848, 3.4735000133514404, 3.3963000774383545, 3.3243000507354736, 3.403899908065796, 3.3956000804901123, 3.177000045776367, 2.872499942779541, 2.8696999549865723, 1.9845000505447388, 2.1670000553131104, 2.747299909591675, 2.3333001136779785, 1.8154000043869019, 1.7762999534606934, 1.0816999673843384, 1.8732999563217163, 1.4329999685287476, 2.014400005340576, 1.7246999740600586, 0.691100001335144, 1.0843000411987305, 1.94350004196167, 4.177599906921387, 4.169099807739258, 4.164400100708008, 4.153299808502197, 4.1528000831604, 4.151299953460693, 4.1442999839782715, 4.139500141143799, 4.137400150299072, 4.128499984741211, 4.1265997886657715, 4.12529993057251, 4.121500015258789, 4.120299816131592, 4.114099979400635, 4.103300094604492, 4.098299980163574, 4.094900131225586, 4.083000183105469, 4.078100204467773, 4.071000099182129, 4.067800045013428, 4.052000045776367, 4.039599895477295, 4.02400016784668, 4.020599842071533, 4.015100002288818, 4.013400077819824, 4.0030999183654785, 3.996500015258789, 3.9128000736236572, 3.916599988937378, 3.854599952697754, 3.7688000202178955, 3.37280011177063, 3.6610000133514404, 3.5381999015808105, 3.742300033569336, 3.5164999961853027, 3.227400064468384, 3.0332000255584717, 3.1489999294281006, 3.0966999530792236, 2.2839999198913574, 2.552999973297119, 3.0506999492645264, 3.6142001152038574, 1.9056999683380127, 3.3429999351501465, 1.1022000312805176, 1.5233999490737915, 2.6243999004364014, 0.9211999773979187, 1.3969999551773071, 2.098299980163574, 2.257200002670288, 4.200900077819824, 4.193699836730957, 4.192599773406982, 4.192200183868408, 4.1890997886657715, 4.18149995803833, 4.179200172424316, 4.178400039672852, 4.176599979400635, 4.14870023727417, 4.142199993133545, 4.117599964141846, 4.099999904632568, 4.098499774932861, 4.096399784088135, 4.0954999923706055, 4.07390022277832, 4.072999954223633, 4.066199779510498, 4.064199924468994, 4.05620002746582, 4.044899940490723, 4.043300151824951, 4.042799949645996, 4.035399913787842, 4.035200119018555, 4.013199806213379, 3.999000072479248, 3.9885001182556152, 3.969899892807007, 3.8631999492645264, 3.7909998893737793, 3.724900007247925, 3.8178999423980713, 3.7820000648498535, 3.8796000480651855, 3.7019999027252197, 3.5483999252319336, 3.5852999687194824, 3.4605000019073486, 3.2337000370025635, 3.296799898147583, 3.4419000148773193, 2.601599931716919, 2.6928999423980713, 3.2339999675750732, 2.4321000576019287, 3.2351999282836914, 2.5460000038146973, 2.3596999645233154, 1.6828999519348145, 2.833899974822998, 0.46459999680519104, 2.5550999641418457, 4.265699863433838, 4.257699966430664, 4.254799842834473, 4.232999801635742, 4.232100009918213, 4.2316999435424805, 4.223299980163574, 4.222300052642822, 4.217400074005127, 4.20989990234375, 4.2093000411987305, 4.200099945068359, 4.192699909210205, 4.192200183868408, 4.172599792480469, 4.162199974060059, 4.159999847412109, 4.157199859619141, 4.145599842071533, 4.137199878692627, 4.126500129699707, 4.12470006942749, 4.121500015258789, 4.120699882507324, 4.117700099945068, 4.112400054931641, 4.099699974060059, 4.059599876403809, 4.0553998947143555, 4.052599906921387, 3.9321999549865723, 3.86899995803833, 3.8085999488830566, 3.6417999267578125, 3.6910998821258545, 3.876800060272217, 3.6839001178741455, 3.6637001037597656, 3.4937000274658203, 3.3617000579833984, 3.0947999954223633, 3.65120005607605, 3.2409000396728516, 3.2407000064849854, 2.7648000717163086, 2.915600061416626, 2.1944000720977783, 2.8610000610351562, 2.6445999145507812, 2.553499937057495, 2.088099956512451, 1.4924999475479126, 1.9780000448226929, 2.086899995803833, 1.8174999952316284, 2.7716000080108643, 1.530400037765503, 4.375699996948242, 4.356800079345703, 4.353700160980225, 4.353099822998047, 4.3471999168396, 4.334400177001953, 4.333600044250488, 4.329899787902832, 4.325399875640869, 4.324699878692627, 4.316800117492676, 4.3125, 4.311200141906738, 4.310800075531006, 4.3084001541137695, 4.307000160217285, 4.306399822235107, 4.306099891662598, 4.3024001121521, 4.301599979400635, 4.296199798583984, 4.295899868011475, 4.2947001457214355, 4.2932000160217285, 4.292900085449219, 4.292799949645996, 4.2846999168396, 4.28439998626709, 4.280799865722656, 4.280600070953369, 4.213200092315674, 4.059999942779541, 4.07390022277832, 3.397700071334839, 3.440000057220459, 3.3831000328063965, 3.993299961090088, 3.5804998874664307, 3.4351000785827637, 3.2934999465942383, 3.4665000438690186, 3.6501998901367188, 3.686300039291382, 3.010499954223633, 2.8580000400543213, 3.2839999198913574, 2.5292000770568848, 2.716900110244751, 1.8321000337600708, 3.108599901199341, 1.326200008392334, 2.2125000953674316, 2.382499933242798, 2.0810999870300293, 4.408400058746338, 4.395100116729736, 4.394800186157227, 4.393099784851074, 4.38730001449585, 4.369200229644775, 4.365699768066406, 4.363999843597412, 4.361000061035156, 4.347400188446045, 4.338500022888184, 4.336900234222412, 4.333099842071533, 4.3144001960754395, 4.313300132751465, 4.297800064086914, 4.295599937438965, 4.295400142669678, 4.29010009765625, 4.2891998291015625, 4.283400058746338, 4.271999835968018, 4.254300117492676, 4.253699779510498, 4.253499984741211, 4.252600193023682, 4.245100021362305, 4.243100166320801, 4.238999843597412, 4.2281999588012695, 4.158100128173828, 4.160999774932861, 4.1442999839782715, 4.0543999671936035, 4.091000080108643, 4.002099990844727, 4.117700099945068, 3.7207000255584717, 3.9446001052856445, 3.9363999366760254, 3.4649999141693115, 3.432300090789795, 3.8357999324798584, 4.0416998863220215, 3.3594000339508057, 2.876800060272217, 3.0571999549865723, 3.128999948501587, 2.50819993019104, 3.0754001140594482, 2.8059000968933105, 3.171600103378296, 1.5930999517440796, 1.8884999752044678, 2.6284000873565674, 2.6498000621795654, 2.63700008392334, 2.8076000213623047, 2.602400064468384, 2.4818999767303467, 2.3538999557495117, 2.174499988555908, 3.231800079345703, 1.5092999935150146, 2.207200050354004, 4.587299823760986, 4.574399948120117, 4.572000026702881, 4.570300102233887, 4.568399906158447, 4.5619001388549805, 4.561100006103516, 4.556399822235107, 4.552599906921387, 4.546800136566162, 4.541399955749512, 4.523399829864502, 4.52209997177124, 4.517199993133545, 4.512800216674805, 4.510900020599365, 4.44920015335083, 4.372700214385986, 4.299200057983398, 4.296999931335449, 4.295300006866455, 4.293700218200684, 4.246600151062012, 4.236000061035156, 4.225299835205078, 4.203000068664551, 4.183199882507324, 4.1605000495910645, 4.157700061798096, 4.1493000984191895, 4.104400157928467, 4.059800148010254, 4.083700180053711, 3.8870999813079834, 3.9899001121520996, 4.016300201416016, 3.7925000190734863, 3.4746999740600586, 3.32450008392334, 2.847100019454956, 3.453000068664551, 3.236999988555908, 1.3533999919891357, 2.7314000129699707, 2.4665000438690186, 2.4223999977111816, 2.4670000076293945, 2.4918999671936035, 2.900599956512451, 3.0810000896453857, 1.2657999992370605, 1.3381999731063843, 2.0717999935150146, 1.4984999895095825, 2.0508999824523926, 0.784500002861023, 4.707300186157227, 4.70419979095459, 4.69789981842041, 4.695400238037109, 4.69189977645874, 4.685100078582764, 4.672699928283691, 4.6666998863220215, 4.666600227355957, 4.660600185394287, 4.660099983215332, 4.650400161743164, 4.637599945068359, 4.6305999755859375, 4.629300117492676, 4.624199867248535, 4.6203999519348145, 4.611400127410889, 4.604499816894531, 4.603799819946289, 4.601900100708008, 4.598999977111816, 4.577899932861328, 4.5746002197265625, 4.565100193023682, 4.5524001121521, 4.5279998779296875, 4.518599987030029, 4.507999897003174, 4.502799987792969, 4.453400135040283, 3.783400058746338, 3.6605000495910645, 3.709199905395508, 3.5144999027252197, 3.693700075149536, 2.268399953842163, 2.9779999256134033, 2.351300001144409, 2.9860999584198, 2.564500093460083, 3.353600025177002, 3.5125999450683594, 2.141400098800659, 2.511899948120117, 3.710599899291992, 2.8803000450134277, 2.3647000789642334, 1.541200041770935, 1.180899977684021, 2.45169997215271, 2.0139999389648438, 1.5476000308990479, 1.9278000593185425, 4.924499988555908, 4.916999816894531, 4.915500164031982, 4.899400234222412, 4.885799884796143, 4.882299900054932, 4.880499839782715, 4.874300003051758, 4.830699920654297, 4.825399875640869, 4.814000129699707, 4.797800064086914, 4.7866997718811035, 4.786200046539307, 4.754899978637695, 4.743500232696533, 4.738900184631348, 4.721399784088135, 4.716300010681152, 4.69350004196167, 4.683899879455566, 4.682499885559082, 4.671800136566162, 4.669400215148926, 4.663300037384033, 4.656899929046631, 4.647200107574463, 4.581600189208984, 4.581600189208984, 4.561299800872803, 4.505000114440918, 4.487100124359131, 4.4899001121521, 4.388400077819824, 4.355400085449219, 4.393499851226807, 4.320300102233887, 3.6503000259399414, 3.7558999061584473, 3.0199999809265137, 2.9846999645233154, 2.7009999752044678, 2.580699920654297, 1.4919999837875366, 1.9763000011444092, 2.4402999877929688, 3.0683000087738037, 3.267199993133545, 1.4263999462127686, 2.3252999782562256, 2.2421998977661133, 0.9814000129699707, 2.10479998588562, 1.5255999565124512, 1.5880000591278076, 1.388200044631958, 1.818600058555603, 1.5851999521255493, 2.260200023651123, 5.027900218963623, 5.0096001625061035, 5.007299900054932, 5.005799770355225, 5.003399848937988, 5.000899791717529, 4.997799873352051, 4.9868998527526855, 4.9857001304626465, 4.963500022888184, 4.959099769592285, 4.951700210571289, 4.945899963378906, 4.938300132751465, 4.930699825286865, 4.917900085449219, 4.904799938201904, 4.886899948120117, 4.877600193023682, 4.849999904632568, 4.845699787139893, 4.8420000076293945, 4.828400135040283, 4.827700138092041, 4.824999809265137, 4.823699951171875, 4.823500156402588, 4.821599960327148, 4.821100234985352, 4.817699909210205, 4.381899833679199, 4.328000068664551, 4.483099937438965, 3.8861000537872314, 4.367199897766113, 3.9084999561309814, 3.148200035095215, 4.0493998527526855, 3.3750998973846436, 2.58870005607605, 3.3183999061584473, 2.9965999126434326, 3.408099889755249, 3.095400094985962, 2.278700113296509, 2.1791999340057373, 3.9935998916625977, 2.509500026702881, 5.076900005340576, 5.074699878692627, 5.031000137329102, 5.030300140380859, 5.019499778747559, 5.016900062561035, 5.006800174713135, 5.000699996948242, 4.952199935913086, 4.952199935913086, 4.899499893188477, 4.888000011444092, 4.88100004196167, 4.831399917602539, 4.815000057220459, 4.800000190734863, 4.784800052642822, 4.753799915313721, 4.723499774932861, 4.7083001136779785, 4.6859002113342285, 4.674600124359131, 4.671999931335449, 4.671899795532227, 4.640200138092041, 4.63730001449585, 4.624300003051758, 4.5792999267578125, 4.57919979095459, 4.527400016784668, 4.455100059509277, 4.445499897003174, 4.250999927520752, 3.9195001125335693, 4.019400119781494, 4.301000118255615, 4.332399845123291, 3.4189000129699707, 4.130799770355225, 3.4228999614715576, 3.891200065612793, 2.8619000911712646, 4.034599781036377, 2.0355000495910645, 2.0201001167297363, 1.73580002784729, 3.4939000606536865, 1.7905000448226929, 2.0906999111175537, 1.8575999736785889, 1.777999997138977, 2.1891000270843506, 1.7905999422073364, 5.142399787902832, 5.1417999267578125, 5.133500099182129, 5.127399921417236, 5.12529993057251, 5.123199939727783, 5.0858001708984375, 5.085400104522705, 5.083700180053711, 5.052999973297119, 5.0335001945495605, 5.024199962615967, 5.021900177001953, 5.013299942016602, 5.0100998878479, 4.997200012207031, 4.99399995803833, 4.967400074005127, 4.958799839019775, 4.943399906158447, 4.941500186920166, 4.890699863433838, 4.886300086975098, 4.8653998374938965, 4.858699798583984, 4.856800079345703, 4.851900100708008, 4.841000080108643, 4.797999858856201, 4.787199974060059, 4.771599769592285, 4.72730016708374, 4.68720006942749, 4.3917999267578125, 4.62060022354126, 4.281000137329102, 3.7809998989105225, 4.560500144958496, 3.3380000591278076, 3.371000051498413, 2.980799913406372, 2.430000066757202, 3.676100015640259, 0.8048999905586243, 1.73580002784729, 2.612299919128418, 2.587399959564209, 1.1495000123977661, 2.3533999919891357, 5.196400165557861, 5.16510009765625, 5.152599811553955, 5.151599884033203, 5.148200035095215, 5.1031999588012695, 5.100200176239014, 5.097700119018555, 5.069900035858154, 5.063600063323975, 5.051400184631348, 5.042200088500977, 5.034999847412109, 4.99560022354126, 4.989500045776367, 4.988500118255615, 4.97790002822876, 4.967100143432617, 4.947199821472168, 4.934000015258789, 4.915500164031982, 4.881899833679199, 4.867700099945068, 4.866300106048584, 4.85230016708374, 4.804999828338623, 4.764999866485596, 4.763700008392334, 4.702899932861328, 4.689799785614014, 4.672100067138672, 4.587699890136719, 4.309299945831299, 4.509799957275391, 4.222499847412109, 3.5267999172210693, 4.478899955749512, 4.477399826049805, 3.6440999507904053, 3.6084001064300537, 3.422600030899048, 2.839900016784668, 4.235199928283691, 3.7507998943328857, 1.8543000221252441, 2.251699924468994, 0.491100013256073, 0.8788999915122986, 1.3104000091552734, 1.4357000589370728]}, \"token.table\": {\"Topic\": [9, 15, 6, 9, 10, 4, 5, 7, 9, 11, 24, 1, 8, 22, 1, 7, 8, 19, 1, 2, 5, 12, 25, 3, 4, 5, 8, 12, 1, 20, 1, 5, 7, 21, 25, 1, 7, 11, 13, 16, 1, 3, 6, 8, 9, 10, 22, 2, 7, 12, 12, 3, 25, 6, 12, 23, 1, 2, 4, 8, 18, 23, 1, 2, 3, 4, 5, 6, 7, 8, 10, 12, 19, 21, 2, 18, 22, 3, 18, 4, 6, 9, 21, 7, 9, 1, 3, 19, 3, 5, 15, 25, 10, 4, 14, 25, 12, 4, 5, 1, 3, 4, 6, 7, 8, 9, 10, 12, 19, 23, 1, 3, 1, 3, 4, 8, 13, 25, 9, 15, 1, 2, 6, 8, 11, 22, 24, 24, 6, 8, 9, 18, 4, 5, 9, 14, 3, 4, 17, 11, 5, 7, 1, 2, 5, 18, 1, 6, 1, 6, 22, 1, 2, 4, 7, 8, 11, 14, 15, 16, 23, 17, 2, 3, 11, 22, 1, 3, 6, 8, 19, 1, 3, 5, 9, 25, 6, 1, 6, 10, 18, 19, 23, 2, 2, 12, 2, 20, 2, 6, 6, 20, 2, 9, 11, 1, 8, 18, 1, 3, 4, 5, 8, 10, 17, 23, 22, 7, 2, 3, 4, 5, 12, 13, 15, 5, 22, 10, 1, 14, 1, 2, 3, 11, 13, 19, 11, 11, 7, 6, 20, 25, 1, 2, 3, 4, 5, 6, 7, 9, 10, 11, 21, 13, 4, 3, 2, 6, 13, 15, 6, 6, 8, 1, 6, 8, 24, 5, 9, 12, 15, 1, 6, 7, 8, 12, 8, 3, 8, 1, 2, 7, 17, 25, 11, 20, 7, 12, 11, 13, 25, 14, 22, 1, 4, 19, 2, 22, 13, 1, 2, 3, 4, 8, 10, 11, 14, 17, 14, 17, 8, 14, 4, 7, 8, 18, 21, 10, 10, 17, 22, 1, 5, 7, 23, 5, 7, 23, 12, 19, 7, 17, 10, 24, 20, 1, 4, 5, 6, 8, 10, 12, 14, 15, 17, 5, 1, 15, 21, 2, 17, 21, 11, 21, 9, 2, 3, 5, 7, 18, 1, 24, 4, 16, 22, 4, 1, 3, 6, 10, 16, 13, 3, 24, 8, 1, 6, 8, 21, 15, 3, 23, 1, 2, 5, 10, 12, 19, 1, 15, 8, 3, 20, 9, 1, 2, 4, 7, 9, 12, 15, 6, 13, 15, 23, 9, 11, 21, 17, 11, 8, 15, 1, 6, 8, 14, 21, 23, 8, 10, 16, 10, 1, 5, 15, 22, 1, 6, 18, 1, 7, 20, 16, 2, 19, 9, 3, 4, 9, 25, 19, 14, 22, 19, 4, 13, 12, 3, 11, 1, 2, 3, 4, 6, 7, 8, 11, 14, 2, 2, 5, 7, 13, 18, 5, 9, 20, 1, 2, 5, 18, 12, 4, 1, 3, 4, 6, 12, 15, 19, 2, 4, 6, 9, 9, 24, 18, 13, 15, 16, 4, 5, 11, 16, 16, 8, 6, 16, 22, 5, 9, 16, 9, 11, 15, 24, 2, 5, 6, 7, 10, 19, 24, 2, 3, 5, 23, 8, 10, 22, 2, 15, 17, 6, 2, 4, 5, 9, 5, 25, 5, 13, 14, 22, 24, 13, 14, 5, 19, 1, 2, 6, 10, 13, 17, 22, 17, 9, 25, 2, 19, 19, 3, 5, 7, 12, 23, 1, 3, 4, 6, 7, 8, 9, 10, 20, 5, 1, 7, 11, 1, 6, 10, 11, 12, 18, 21, 1, 7, 17, 8, 1, 22, 24, 9, 20, 17, 20, 18, 20, 20, 15, 22, 19, 9, 14, 7, 18, 20, 1, 7, 4, 15, 9, 9, 2, 4, 5, 19, 17, 10, 9, 1, 2, 3, 8, 15, 16, 23, 1, 1, 8, 24, 7, 23, 10, 17, 1, 6, 12, 1, 15, 9, 13, 7, 4, 6, 9, 10, 6, 9, 10, 16, 1, 2, 23, 6, 9, 12, 21, 9, 18, 21, 23, 24, 25, 2, 5, 7, 9, 3, 15, 25, 19, 9, 19, 16, 24, 2, 5, 7, 11, 23, 1, 5, 13, 1, 3, 4, 6, 8, 9, 10, 15, 25, 4, 5, 24, 1, 2, 4, 6, 8, 9, 13, 22, 12, 13, 3, 6, 9, 21, 24, 1, 3, 5, 6, 10, 18, 20, 25, 1, 16, 4, 17, 2, 24, 10, 2, 5, 19, 8, 5, 16, 8, 10, 19, 7, 25, 1, 7, 21, 9, 18, 7, 17, 5, 5, 9, 10, 12, 4, 8, 13, 10, 18, 20, 4, 22, 21, 1, 2, 5, 9, 17, 19, 2, 3, 5, 16, 11, 14, 22, 22, 1, 2, 15, 21, 1, 2, 7, 8, 16, 20, 1, 4, 10, 20, 1, 7, 10, 18, 1, 11, 14, 13, 20, 21, 1, 5, 24, 12, 15, 20, 1, 3, 4, 10, 16, 18, 19, 13, 1, 21, 3, 4, 5, 17, 19, 5, 14, 12, 20, 2, 5, 19, 5, 7, 12, 18, 10, 3, 19, 5, 1, 4, 6, 24, 10, 16, 10, 16, 10, 12, 4, 10, 17, 14, 19, 1, 5, 21, 1, 3, 4, 5, 7, 11, 12, 5, 1, 4, 6, 7, 8, 9, 11, 13, 19, 20, 21, 3, 4, 6, 8, 9, 1, 7, 8, 22, 1, 6, 19, 1, 10, 1, 5, 6, 7, 9, 10, 13, 19, 2, 6, 10, 11, 14, 24, 3, 3, 14, 10, 4, 25, 1, 6, 7, 10, 11, 15, 20, 2, 4, 22, 5, 18, 20, 18, 3, 7, 10, 12, 10, 7, 18, 6, 7, 6, 8, 15, 6, 6, 1, 15, 2, 3, 1, 2, 3, 4, 7, 8, 9, 10, 19, 18, 4, 4, 7, 3, 1, 25, 20, 5, 1, 14, 1, 2, 10, 12, 17, 21, 4, 13, 4, 1, 3, 4, 8, 10, 11, 13, 1, 2, 1, 2, 3, 6, 7, 10, 11, 12, 15, 18, 20, 21, 23, 8, 1, 11, 12, 21, 2, 12, 18, 22, 24, 18, 21, 3, 23, 17, 6, 1, 2, 3, 5, 6, 8, 12, 15, 16, 1, 14, 20, 1, 6, 7, 9, 12, 2, 13, 10, 20, 3, 11, 23, 25, 6, 8, 10, 12, 22, 11, 6, 9, 17, 9, 1, 22, 4, 5, 13, 2, 8, 1, 4, 5, 7, 16, 4, 5, 6, 16, 7, 12, 9, 16, 8, 14, 19, 19, 19, 8, 16, 1, 4, 5, 6, 7, 9, 12, 14, 24, 17, 2, 21, 17, 21, 1, 3, 4, 7, 8, 11, 13, 14, 19, 24, 12, 13, 1, 1, 2, 3, 4, 10, 11, 21, 15, 21, 9, 23, 6, 8, 15, 18, 1, 3, 4, 7, 10, 11, 14, 15, 18, 19, 8, 18, 4, 5, 25, 2, 2, 19, 1, 2, 7, 8, 9, 3, 25, 10, 5, 21, 1, 3, 25, 12, 20, 1, 7, 7, 10, 19, 1, 15, 20, 1, 10, 9, 10, 11, 17, 1, 16, 19, 24, 23, 11, 3, 1, 8, 11, 1, 3, 4, 13, 10, 22, 3, 25, 14, 1, 2, 6, 16, 18, 19, 8, 15, 14, 15, 1, 3, 4, 7, 8, 9, 23, 7, 11, 1, 2, 13, 12, 8, 17, 1, 6, 9, 11, 21, 9, 22, 25, 25, 11, 16, 1, 3, 4, 6, 7, 13, 20, 15, 10, 2, 4, 5, 11, 13, 3, 8, 9, 20, 14, 14, 3, 25, 18, 18, 5, 18, 1, 2, 4, 5, 6, 10, 12, 17, 22, 2, 9, 11, 18, 10, 16, 4, 6, 8, 10, 15, 1, 1, 2, 3, 6, 8, 19, 22, 17, 25, 10, 14, 20, 7, 2, 3, 5, 13, 16, 10, 7, 2, 5, 12, 2, 16, 2, 3, 4, 5, 16, 21, 6, 4, 5, 11, 17, 3, 8, 10, 10, 7, 7, 3, 18, 1, 3, 9, 18, 21, 17, 5, 1, 24, 16, 21, 15, 1, 2, 3, 5, 8, 11, 17, 8, 1, 8, 15, 8, 22, 11, 6, 10, 12, 9, 25, 14, 1, 8, 15, 17, 10, 7, 12, 19, 1, 8, 9, 12, 2, 8, 9, 6, 25, 3, 9, 11, 3, 1, 9, 1, 4, 6, 11, 13, 14, 25, 1, 15, 22, 1, 7, 8, 1, 3, 4, 6, 7, 8, 9, 13, 17, 19, 1, 5, 6, 14, 8, 24, 5, 11, 2, 7, 9, 12, 15, 21, 12, 24, 1, 2, 7, 11, 13, 14, 18, 19, 20, 22, 10, 18, 21, 1, 2, 7, 8, 11, 12, 15, 17, 23, 1, 1, 11, 15, 4, 11, 2, 23, 2, 23, 1, 8, 9, 13, 1, 14, 17, 16, 25, 1, 3, 4, 7, 9, 10, 10, 1, 2, 4, 11, 1, 8, 18, 1, 2, 15, 17, 19, 20, 13, 1, 3, 4, 6, 7, 11, 14, 19, 20, 25, 1, 3, 4, 7, 10, 11, 22, 18, 16, 2, 2, 3, 5, 11, 17, 1, 7, 8, 11, 1, 5, 19, 2, 16, 5, 6, 22, 1, 2, 3, 4, 7, 8, 10, 11, 13, 1, 3, 4, 7, 8, 11, 21, 23, 25, 8, 9, 20, 8, 2, 7, 8, 9, 23, 23, 8, 3, 2, 25, 1, 2, 6, 7, 8, 9, 10, 15, 23, 25, 3, 2, 25, 1, 3, 4, 5, 6, 7, 8, 11, 14, 16, 21, 22, 25, 5, 7, 12, 1, 3, 4, 5, 6, 8, 13, 8, 1, 2, 4, 13, 2, 12, 16, 8, 21, 2, 2, 5, 1, 2, 20, 16, 8, 15, 12, 5, 1, 4, 6, 9, 10, 14, 15, 22, 2, 10, 16, 7, 19, 20, 1, 8, 9, 15, 4, 13, 1, 2, 20, 3, 8, 11, 21, 15, 14, 3, 16, 2, 21, 20, 1, 3, 6, 7, 8, 9, 16, 19, 20, 2, 17, 2, 21, 14, 7, 18, 24, 7, 1, 2, 17, 1, 11, 23, 2, 2, 4, 2, 4, 5, 6, 18, 5, 2, 9, 2, 7, 20, 23, 21, 9, 8, 12, 15, 1, 15, 11, 18, 15, 18, 11, 3, 19, 21, 1, 3, 4, 6, 7, 13, 14, 18, 20, 21, 4, 1, 1, 3, 6, 9, 10, 12, 8, 1, 3, 4, 6, 7, 8, 9, 10, 11, 14, 21, 2, 5, 12, 21, 1, 2, 5, 8, 12, 1, 6, 9, 16, 12, 17, 3, 5, 16, 17, 25, 2, 3, 4, 6, 7, 10, 12, 14, 17, 18, 19, 20, 23, 9, 19, 1, 2, 3, 4, 5, 7, 12, 15, 23, 3, 5, 11, 15, 3, 25, 5, 3, 19, 2, 3, 5, 7, 8, 1, 3, 4, 21, 1, 9, 20, 18, 17, 25, 1, 2, 10, 16, 18, 5, 10, 14, 1, 2, 3, 5, 7, 10, 13, 19, 1, 6, 8, 10, 14, 3, 9, 10, 15, 17, 24, 21, 20, 2, 4, 6, 9, 16, 18, 2, 6, 9, 20, 25, 2, 1, 8, 14, 16, 14, 24, 1, 5, 11, 12, 1, 3, 7, 15, 17, 19, 1, 2, 3, 4, 6, 7, 8, 9, 10, 12, 15, 16, 19, 21, 25, 5, 2, 4, 5, 4, 5, 18, 2, 16, 20, 1, 2, 5, 10, 14, 1, 3, 5, 9, 21, 4, 17, 5, 4, 2, 23, 1, 2, 4, 17, 10, 20, 18, 8, 13, 6, 4, 13, 5, 14, 23, 1, 2, 5, 7, 11, 12, 17, 18, 11, 14, 16, 21, 11, 2, 12, 18, 23, 17, 13, 24, 1, 3, 6, 7, 8, 9, 6, 10, 1, 14, 1, 13, 21, 24, 5, 1, 24, 1, 3, 6, 8, 9, 17, 25, 8, 19, 15, 5, 18, 10, 1, 6, 10, 12, 19, 11, 19, 12, 6, 4, 24, 1, 2, 3, 5, 8, 19, 20, 1, 11, 10, 12, 19, 2, 16, 2, 5, 13, 16, 6, 1, 3, 5, 16, 17, 1, 3, 6, 10, 11, 17, 18, 7, 20, 4, 25, 1, 19, 24, 3, 7, 17, 1, 2, 3, 6, 10, 16, 1, 3, 6, 11, 25, 4, 4, 16, 4, 1, 2, 5, 18, 19, 15, 21, 1, 8, 6, 17, 8, 12, 11, 11, 15, 1, 1, 7, 8, 12, 4, 20, 1, 3, 7, 11, 19, 23, 2, 1, 2, 3, 4, 7, 10, 24, 1, 2, 4, 5, 11, 12, 5, 6, 7, 14, 16, 17, 16, 18, 1, 18, 4, 5, 7, 10, 12, 13, 2, 5, 7, 11, 18, 20, 6, 8, 15, 23, 1, 5, 7, 12, 25, 6, 2, 23, 7, 2, 4, 5, 6, 7, 9, 22, 1, 1, 2, 3, 5, 1, 24, 7, 17, 24, 11, 19, 1, 3, 6, 10, 19, 4, 1, 4, 8, 11, 17, 1, 3, 8, 11, 15, 17, 22, 24, 12, 10, 11, 19, 12, 7, 14, 24, 24, 6, 11, 16, 18, 22, 16, 19, 13, 4, 4, 10, 1, 2, 3, 4, 6, 8, 11, 13, 17, 25, 1, 3, 4, 6, 8, 9, 21, 6, 9, 11, 1, 3, 6, 8, 11, 14, 20, 1, 3, 6, 19, 24, 7, 14, 20, 13, 8, 15, 1, 5, 22, 16, 4, 1, 2, 4, 5, 6, 10, 11, 15, 16, 11, 17, 2, 9, 10, 17, 19, 1, 6, 1, 6, 9, 14, 1, 5, 4, 17, 22, 3, 10, 14, 15, 5, 1, 4, 5, 6, 7, 12, 18, 1, 2, 5, 12, 21, 13, 5, 11, 1, 8, 9, 15, 19, 3, 22, 1, 3, 5, 22, 12, 1, 2, 4, 7, 9, 10, 21, 25, 1, 15, 3, 4, 8, 1, 3, 7, 8, 10, 11, 19, 9, 5, 8, 22, 2, 12, 18, 23, 18, 19, 14, 14, 3, 7, 22, 16, 6, 7, 8, 9, 17, 18, 21, 21, 2, 4, 11, 16, 17, 22, 3, 9, 12, 13, 17, 11, 18, 21, 1, 6, 15, 23, 2, 23, 2, 2, 14, 7, 11, 8, 2, 5, 3, 8, 13, 11, 15, 1, 3, 6, 8, 10, 14, 4, 13, 13, 20, 8, 6, 10, 23, 15, 17, 16, 22, 4, 13, 17, 22, 23, 2, 6, 25, 20, 1, 2, 4, 9, 11, 15, 17, 20, 23, 1, 3, 6, 7, 8, 10, 19, 22, 1, 4, 8, 9, 11, 24, 2, 3, 5, 13, 11, 1, 5, 6, 8, 14, 10, 2, 4, 1, 2, 4, 5, 7, 8, 9, 11, 13, 15, 1, 2, 3, 5, 7, 24, 1, 14, 23, 14, 21, 8, 9, 10, 19, 12, 17, 1, 2, 7, 10, 16, 19, 21, 2, 12, 11, 10, 1, 2, 4, 6, 9, 10, 12, 21, 22, 7, 14, 10, 14, 1, 2, 4, 7, 8, 10, 11, 20, 22, 23, 1, 22, 1, 2, 4, 14, 18, 2, 17, 14, 22, 1, 2, 5, 7, 18, 2, 18, 7, 25, 9, 12, 1, 2, 5, 9, 4, 5, 16, 2, 11, 12, 16, 1, 3, 6, 7, 9, 11, 14, 19, 21, 1, 15, 16, 8, 11, 14, 1, 4, 11, 1, 5, 6, 7, 20, 22, 2, 3, 4, 5, 10, 14, 19, 2, 23, 2, 5, 7, 12, 20, 2, 18, 2, 3, 10, 13, 18, 25, 7, 10, 3, 7, 20, 16, 24, 3, 25, 10, 12, 20, 12, 5, 7, 12, 23, 2, 19, 1, 2, 7, 11, 19, 1, 5, 6, 12, 6, 2, 7, 12, 21, 5, 7, 3, 16, 23, 1, 2, 4, 7, 9, 11, 17, 1, 8, 22, 19, 23, 7, 24, 1, 2, 5, 18, 20, 15, 12, 3, 4, 11, 14, 17, 11, 1, 2, 6, 10, 12, 3, 6, 7, 13, 14, 19, 2, 4, 16, 17, 24, 25, 16, 16, 20, 1, 4, 5, 6, 7, 12, 1, 7, 9, 11, 13, 20, 1, 21, 1, 14, 23, 15, 1, 2, 4, 5, 7, 9, 22, 1, 3, 6, 7, 8, 9, 10, 22, 23, 22, 2, 5, 18, 20, 21, 1, 5, 8, 14, 24, 2, 9, 20, 2, 5, 6, 5, 7, 12, 11, 17, 5, 2, 7, 1, 3, 4, 7, 8, 1, 2, 6, 7, 10, 11, 14, 5, 12, 25, 12, 4, 5, 10, 15, 13, 3, 4, 7, 13, 6, 21, 10, 1, 9, 17, 19, 1, 6, 8, 1, 3, 4, 6, 7, 8, 9, 11, 19, 21, 1, 3, 4, 8, 9, 16, 19, 21, 22, 25, 23, 1, 19, 1, 2, 7, 10, 11, 17, 1, 2, 3, 4, 5, 7, 8, 16, 17, 18, 25, 2, 1, 5, 9, 12, 22, 23, 11, 25, 17, 19, 1, 2, 10, 22, 23, 3, 2, 14, 2, 1, 14, 15, 24, 5, 24, 10, 15, 24, 1, 3, 4, 8, 13, 24, 16, 7, 13, 23, 1, 6, 9, 10, 13, 14, 21, 6, 6, 8, 23, 1, 2, 3, 4, 8, 22, 1, 2, 3, 5, 6, 7, 8, 10, 11, 19, 1, 5, 12, 18, 6, 14, 22, 22, 1, 2, 3, 8, 10, 11, 13, 1, 5, 6, 10, 11, 12, 16, 17, 19, 3, 4, 7, 2, 16, 23, 1, 2, 3, 4, 5, 6, 7, 10, 12, 13, 18, 20, 21, 4, 5, 5, 13, 7, 6, 10, 4, 9, 10, 21, 9, 1, 16, 25, 16, 14, 2, 7, 7, 2, 8, 15, 24, 1, 3, 4, 6, 7, 4, 4, 6, 4, 1, 4, 6, 10, 24, 3, 7, 8, 9, 9, 6, 5, 11, 3, 12, 3, 2, 10, 8, 11, 22, 1, 10, 11, 18, 25, 1, 3, 4, 6, 7, 8, 10, 25, 16, 6, 6, 18, 8, 1, 3, 4, 7, 9, 10, 11, 14, 20, 1, 1, 6, 10, 14, 1, 7, 8, 14, 1, 4, 13, 25, 6, 6, 1, 2, 4, 7, 17, 18, 19, 1, 3, 4, 6, 10, 24, 1, 1, 4, 7, 16, 24, 1, 5, 6, 10, 14, 15, 9, 1, 2, 3, 4, 5, 7, 11, 12, 21, 13, 1, 2, 4, 5, 8, 15, 21, 1, 1, 3, 4, 6, 7, 8, 19, 20, 3, 4, 6, 8, 11, 13, 15, 1, 6, 10, 19, 13, 21, 12, 12, 18, 1, 2, 7, 12, 14, 15, 16, 18, 19, 16, 5, 21, 23], \"Freq\": [0.9781970977783203, 0.8411562442779541, 0.10276765376329422, 0.8426947593688965, 0.04110706225037575, 0.07077446579933167, 0.7178552746772766, 0.1921021193265915, 0.9294849038124084, 0.31003397703170776, 0.6200679540634155, 0.11574190109968185, 0.5015482306480408, 0.3858063220977783, 0.7961816191673279, 0.003703170455992222, 0.15553316473960876, 0.04443804547190666, 0.12107215821743011, 0.15409183502197266, 0.4952951669692993, 0.03301968052983284, 0.19811807572841644, 0.47084230184555054, 0.277549147605896, 0.17842444777488708, 0.06443104892969131, 0.004956234712153673, 0.9830288887023926, 0.966700553894043, 0.9804467558860779, 0.044224370270967484, 0.9287117719650269, 0.8325234055519104, 0.7927137613296509, 0.5648308396339417, 0.15762721002101898, 0.02627120167016983, 0.14449159801006317, 0.09851700067520142, 0.20629525184631348, 0.014735374599695206, 0.06630918383598328, 0.13261836767196655, 0.4862673878669739, 0.03683843836188316, 0.05894149839878082, 0.03675215318799019, 0.196011483669281, 0.7595444917678833, 0.9846325516700745, 0.9077567458152771, 0.9248534440994263, 0.9666468501091003, 0.6840593218803406, 0.2992759644985199, 0.43063119053840637, 0.07270396500825882, 0.4753721058368683, 0.005592613015323877, 0.011185226030647755, 0.4467470645904541, 0.1667223572731018, 0.089873768389225, 0.10680650919675827, 0.36210012435913086, 0.06121836602687836, 0.03256295993924141, 0.023445330560207367, 0.04558814316987991, 0.020840294659137726, 0.04949570074677467, 0.013025184161961079, 0.029957924038171768, 0.29372209310531616, 0.7049330472946167, 0.8045243620872498, 0.9895018339157104, 0.8657492995262146, 0.06846191734075546, 0.25102701783180237, 0.09128255397081375, 0.5705159306526184, 0.9142546653747559, 0.04353593662381172, 0.9928197860717773, 0.9670795202255249, 0.8922587037086487, 0.06517478823661804, 0.22811174392700195, 0.6517478227615356, 0.6620401740074158, 0.9894306659698486, 0.3340354561805725, 0.6599236726760864, 0.6398528814315796, 0.9740557074546814, 0.06347673386335373, 0.9267603158950806, 0.5169869065284729, 0.02720983885228634, 0.19824311137199402, 0.015548478811979294, 0.015548478811979294, 0.015548478811979294, 0.04664543643593788, 0.04664543643593788, 0.038871198892593384, 0.04275831580162048, 0.038871198892593384, 0.5103352665901184, 0.490123987197876, 0.026459939777851105, 0.5424287915229797, 0.18521958589553833, 0.11576224118471146, 0.11906973272562027, 0.006614984944462776, 0.9213393926620483, 0.7954732775688171, 0.23533190786838531, 0.3209071457386017, 0.05348452553153038, 0.19254428148269653, 0.021393809467554092, 0.13905976712703705, 0.03209071606397629, 0.6315775513648987, 0.05181029066443443, 0.04440882056951523, 0.39227792620658875, 0.4958985149860382, 0.08637704700231552, 0.737527072429657, 0.07308827340602875, 0.0930214375257492, 0.8051443696022034, 0.17892096936702728, 0.9546111822128296, 0.9591180682182312, 0.940001368522644, 0.05584166198968887, 0.5321097373962402, 0.06792890280485153, 0.23209041357040405, 0.16416151821613312, 0.16158001124858856, 0.807900071144104, 0.2768441438674927, 0.6601668000221252, 0.055368829518556595, 0.18641220033168793, 0.06330980360507965, 0.20399825274944305, 0.017586056143045425, 0.0984819158911705, 0.08793028444051743, 0.19344662129878998, 0.03517211228609085, 0.1125507578253746, 0.8134561777114868, 0.9762890338897705, 0.005019646603614092, 0.7880845069885254, 0.05521611496806145, 0.15058940649032593, 0.2664922773838043, 0.6031140685081482, 0.051428332924842834, 0.02337651513516903, 0.04675303027033806, 0.25217708945274353, 0.06304427236318588, 0.2206549495458603, 0.2206549495458603, 0.2206549495458603, 0.9909605979919434, 0.19611860811710358, 0.3137897849082947, 0.1176711693406105, 0.19611860811710358, 0.1255159080028534, 0.039223723113536835, 0.9727118015289307, 0.05383509024977684, 0.9331415891647339, 0.735092043876648, 0.24940621852874756, 0.9923027157783508, 0.9933053255081177, 0.9984113574028015, 0.8750569224357605, 0.9937577843666077, 0.13963383436203003, 0.8378030061721802, 0.14307759702205658, 0.28615519404411316, 0.5436948537826538, 0.3049008250236511, 0.07985498011112213, 0.036297716200351715, 0.3266794681549072, 0.07259543240070343, 0.04355726018548012, 0.13067178428173065, 0.7449178695678711, 0.8101421594619751, 0.9628854990005493, 0.07283491641283035, 0.012139152735471725, 0.18208728730678558, 0.5068095922470093, 0.045521821826696396, 0.16994813084602356, 0.006069576367735863, 0.9412523508071899, 0.8939926028251648, 0.9763514995574951, 0.4656883180141449, 0.5080236196517944, 0.5092540383338928, 0.11469686031341553, 0.15139985084533691, 0.06423024088144302, 0.11010898649692535, 0.04587874189019203, 0.9495673775672913, 0.9622448682785034, 0.9859455823898315, 0.9698526263237, 0.29716697335243225, 0.6537673473358154, 0.04414594918489456, 0.29136326909065247, 0.04414594918489456, 0.16775460541248322, 0.039731353521347046, 0.14568163454532623, 0.039731353521347046, 0.08829189836978912, 0.06180432811379433, 0.0044145951978862286, 0.07063352316617966, 0.9717921018600464, 0.9725983738899231, 0.9512864947319031, 0.17851264774799347, 0.11900842934846878, 0.05950421467423439, 0.5950421690940857, 0.9412096738815308, 0.859512209892273, 0.13548961281776428, 0.16403543949127197, 0.6329838037490845, 0.20070217549800873, 0.889991819858551, 0.08789607137441635, 0.8203633427619934, 0.08789607137441635, 0.8466767072677612, 0.3269944190979004, 0.028258776292204857, 0.5449907183647156, 0.036332715302705765, 0.06055452302098274, 0.9959046840667725, 0.07058816403150558, 0.9176461696624756, 0.27875155210494995, 0.016894033178687096, 0.1520462930202484, 0.3294336497783661, 0.21117541193962097, 0.9792166352272034, 0.916303277015686, 0.4747638404369354, 0.5151692628860474, 0.9822000861167908, 0.5982204079627991, 0.9075531363487244, 0.976966381072998, 0.9618077278137207, 0.109133780002594, 0.30314940214157104, 0.5820468068122864, 0.6144905686378479, 0.34565094113349915, 0.9526579976081848, 0.18981218338012695, 0.04015257582068443, 0.018251171335577965, 0.16426053643226624, 0.029201874509453773, 0.11315726488828659, 0.032852109521627426, 0.04015257582068443, 0.3686736524105072, 0.8864226341247559, 0.9629071950912476, 0.9852902889251709, 0.9499844312667847, 0.9358671307563782, 0.7144627571105957, 0.2693876028060913, 0.8611193895339966, 0.12301705777645111, 0.9705039858818054, 0.9344608187675476, 0.9414262175559998, 0.8864559531211853, 0.3653029501438141, 0.14721164107322693, 0.14175935089588165, 0.34349381923675537, 0.1558043509721756, 0.3116087019443512, 0.5240691900253296, 0.991860568523407, 0.8779171705245972, 0.9887173175811768, 0.9479519128799438, 0.9002270698547363, 0.9182490110397339, 0.9755120873451233, 0.2791409492492676, 0.23312869668006897, 0.1687115579843521, 0.030674830079078674, 0.02453986369073391, 0.015337415039539337, 0.0828220397233963, 0.10122693330049515, 0.027607345953583717, 0.03680979460477829, 0.9575473666191101, 0.25576871633529663, 0.6607358455657959, 0.08525623381137848, 0.9660391807556152, 0.8992264866828918, 0.8546723127365112, 0.9381856918334961, 0.7435268759727478, 0.9772270321846008, 0.13102473318576813, 0.10294800251722336, 0.42115092277526855, 0.06551236659288406, 0.26204946637153625, 0.30750590562820435, 0.6765130162239075, 0.9416860342025757, 0.04829159006476402, 0.9484691619873047, 0.9953635931015015, 0.4526081681251526, 0.1988091915845871, 0.008459965698421001, 0.1438194215297699, 0.19457921385765076, 0.6407186985015869, 0.9289476871490479, 0.03715790808200836, 0.9843757152557373, 0.6944838166236877, 0.19114233553409576, 0.07008552551269531, 0.044599879533052444, 0.9854139089584351, 0.9845625162124634, 0.8940168023109436, 0.20745770633220673, 0.07719356566667557, 0.27982667088508606, 0.0820181593298912, 0.299125075340271, 0.057895172387361526, 0.611219584941864, 0.37421607971191406, 0.9764249324798584, 0.6810331344604492, 0.3046727180480957, 0.9739624857902527, 0.28445300459861755, 0.14724627137184143, 0.3112250566482544, 0.03346506133675575, 0.11712770909070969, 0.08700915426015854, 0.016732530668377876, 0.32611337304115295, 0.5929333567619324, 0.05929333716630936, 0.9714164137840271, 0.9914145469665527, 0.9666744470596313, 0.9228766560554504, 0.9392392635345459, 0.9648441672325134, 0.8197396993637085, 0.1687699407339096, 0.07047703117132187, 0.08054517954587936, 0.8104858994483948, 0.035238515585660934, 0.9351729154586792, 0.4802083969116211, 0.9945305585861206, 0.432028204202652, 0.5498540997505188, 0.9711702466011047, 0.17299941182136536, 0.26911017298698425, 0.05766646936535835, 0.48055389523506165, 0.36003178358078003, 0.635350227355957, 0.9114202260971069, 0.9744111895561218, 0.0170949324965477, 0.916440486907959, 0.9566388130187988, 0.4365646541118622, 0.5335789918899536, 0.9422363042831421, 0.1343376487493515, 0.7476181983947754, 0.09929303824901581, 0.017522301524877548, 0.7567353844642639, 0.14925920963287354, 0.8209257125854492, 0.951952338218689, 0.4576711058616638, 0.5384365916252136, 0.9844522476196289, 0.9334225654602051, 0.038892604410648346, 0.20505762100219727, 0.019844286143779755, 0.026459047570824623, 0.08268452435731888, 0.18852071464061737, 0.03968857228755951, 0.36050453782081604, 0.06284023821353912, 0.013229523785412312, 0.9738762378692627, 0.6551746129989624, 0.050958022475242615, 0.1091957613825798, 0.1383146345615387, 0.03639858961105347, 0.974204957485199, 0.11871069669723511, 0.7122641801834106, 0.5899957418441772, 0.006210481282323599, 0.24220877885818481, 0.16147251427173615, 0.9277764558792114, 0.9559065103530884, 0.17998488247394562, 0.17998488247394562, 0.1349886655807495, 0.05249559134244919, 0.34497103095054626, 0.0074993702583014965, 0.09749181568622589, 0.14137022197246552, 0.15550725162029266, 0.11309618502855301, 0.5796179175376892, 0.5341957211494446, 0.4674212634563446, 0.9436172842979431, 0.9614831209182739, 0.8636925220489502, 0.0909150019288063, 0.04257378727197647, 0.51088547706604, 0.13197875022888184, 0.30653128027915955, 0.9493551254272461, 0.9592795968055725, 0.6409035921096802, 0.16313910484313965, 0.17479188740253448, 0.9901835918426514, 0.9743931889533997, 0.9763293266296387, 0.25482767820358276, 0.19602128863334656, 0.5292574763298035, 0.8769207000732422, 0.07817523181438446, 0.10423364490270615, 0.16937968134880066, 0.3648177683353424, 0.11726285517215729, 0.0912044420838356, 0.07817523181438446, 0.08377158641815186, 0.04886675998568535, 0.8586587905883789, 0.9425941109657288, 0.1896330714225769, 0.28444960713386536, 0.5214909315109253, 0.17095895111560822, 0.7978084087371826, 0.9476825594902039, 0.9535230398178101, 0.25023141503334045, 0.02085261605679989, 0.35449448227882385, 0.3753471076488495, 0.18306735157966614, 0.7780362367630005, 0.04758588969707489, 0.5868926048278809, 0.2537914216518402, 0.031723927706480026, 0.07930981367826462, 0.6808911561965942, 0.31736451387405396, 0.9733569025993347, 0.9540755152702332, 0.1896122843027115, 0.08618739992380142, 0.17237479984760284, 0.1896122843027115, 0.0775686651468277, 0.24994346499443054, 0.03447496145963669, 0.9445635080337524, 0.40826553106307983, 0.48991864919662476, 0.3559524416923523, 0.6102042198181152, 0.946807861328125, 0.043787404894828796, 0.09244007617235184, 0.5984278321266174, 0.2529938817024231, 0.009730534628033638, 0.2835835814476013, 0.20136113464832306, 0.04362824559211731, 0.20639516413211823, 0.16108889877796173, 0.035238198935985565, 0.025170141831040382, 0.003356018802151084, 0.04195023700594902, 0.9835225939750671, 0.27208462357521057, 0.054416920989751816, 0.6666073203086853, 0.3888389468193054, 0.329369455575943, 0.03659660741686821, 0.0640440583229065, 0.013723727315664291, 0.10978981852531433, 0.054894909262657166, 0.9787548780441284, 0.9523915648460388, 0.9581723213195801, 0.9618526697158813, 0.40007254481315613, 0.17781001329421997, 0.40007254481315613, 0.9853543043136597, 0.9032310247421265, 0.9044318199157715, 0.9144937992095947, 0.9130933880805969, 0.925021767616272, 0.8507246375083923, 0.8968375325202942, 0.8864778876304626, 0.8694958686828613, 0.9463568925857544, 0.9551507830619812, 0.2577667832374573, 0.6628288626670837, 0.0368238240480423, 0.10406000167131424, 0.8845099806785583, 0.9781214594841003, 0.9604373574256897, 0.9698902368545532, 0.9588468670845032, 0.259724497795105, 0.11951924115419388, 0.5746117234230042, 0.043670494109392166, 0.870150625705719, 0.9604731202125549, 0.9701894521713257, 0.3649393618106842, 0.24208849668502808, 0.014453044161200523, 0.007226522080600262, 0.18788957595825195, 0.18066304922103882, 0.7893100380897522, 0.9904681444168091, 0.7396504878997803, 0.17170457541942596, 0.07924827188253403, 0.5198265314102173, 0.4455655813217163, 0.8506200909614563, 0.10207441449165344, 0.9905519485473633, 0.9292090535163879, 0.05718209594488144, 0.13299986720085144, 0.8423324823379517, 0.2519160509109497, 0.7137621641159058, 0.966824471950531, 0.11946927011013031, 0.1405520886182785, 0.13352447748184204, 0.6043739318847656, 0.43450990319252014, 0.10027151554822922, 0.4612489938735962, 0.9923540353775024, 0.9933418035507202, 0.7788324356079102, 0.20968565344810486, 0.22749662399291992, 0.23483522236347198, 0.5063634514808655, 0.022015802562236786, 0.9232165217399597, 0.14921265840530396, 0.7460632920265198, 0.9904149770736694, 0.9746383428573608, 0.9614494442939758, 0.3607771396636963, 0.46315982937812805, 0.04387829825282097, 0.1316349059343338, 0.3523977994918823, 0.14095911383628845, 0.4933569133281708, 0.8749462366104126, 0.976915717124939, 0.9612628221511841, 0.9527210593223572, 0.8363049626350403, 0.07120528817176819, 0.6541985869407654, 0.22251653671264648, 0.02225165255367756, 0.02670198306441307, 0.023382557556033134, 0.9353023171424866, 0.8941465616226196, 0.23724272847175598, 0.2054174840450287, 0.11283495277166367, 0.08100970834493637, 0.01735922321677208, 0.03761165216565132, 0.10704854875802994, 0.01446602027863264, 0.1880582571029663, 0.9026873111724854, 0.07964888215065002, 0.6140876412391663, 0.017131805419921875, 0.2998065948486328, 0.33407020568847656, 0.0685272216796875, 0.07709312438964844, 0.05996131896972656, 0.05996131896972656, 0.07709312438964844, 0.9591335654258728, 0.9894176721572876, 0.20291858911514282, 0.20291858911514282, 0.28988370299339294, 0.28988370299339294, 0.8276899456977844, 0.09640789031982422, 0.42178452014923096, 0.04820394515991211, 0.10243338346481323, 0.14461183547973633, 0.16871380805969238, 0.006025493144989014, 0.012050986289978027, 0.9831247329711914, 0.9577293395996094, 0.9830678105354309, 0.010743910446763039, 0.3538852035999298, 0.6340442895889282, 0.9656150341033936, 0.2890329360961914, 0.37734854221343994, 0.32114771008491516, 0.9863873720169067, 0.9741347432136536, 0.9171090722084045, 0.9218512177467346, 0.05884156748652458, 0.6624683141708374, 0.9915028214454651, 0.8417503833770752, 0.6241840124130249, 0.22756709158420563, 0.1430421769618988, 0.9564828872680664, 0.8329550623893738, 0.9727708697319031, 0.9497841000556946, 0.9801905155181885, 0.12714330852031708, 0.08900031447410583, 0.025428662076592445, 0.7501455545425415, 0.8089174628257751, 0.14405380189418793, 0.04432424530386925, 0.9600943922996521, 0.16093803942203522, 0.8046902418136597, 0.9413175582885742, 0.044124260544776917, 0.9720876216888428, 0.0184398852288723, 0.0645396038889885, 0.0921994298696518, 0.3411378860473633, 0.3872376084327698, 0.1014193743467331, 0.9816113114356995, 0.7271688580513, 0.10524812340736389, 0.15308818221092224, 0.30227282643318176, 0.18136370182037354, 0.4836365282535553, 0.9275670647621155, 0.3037465512752533, 0.19183993339538574, 0.3037465512752533, 0.19183993339538574, 0.018585026264190674, 0.6764949560165405, 0.11894416809082031, 0.05203807353973389, 0.07062309980392456, 0.059472084045410156, 0.1666540652513504, 0.3147909939289093, 0.1481369435787201, 0.3518252372741699, 0.13150787353515625, 0.19726179540157318, 0.03287696838378906, 0.6246623396873474, 0.19012309610843658, 0.07129616290330887, 0.7129616141319275, 0.7207621335983276, 0.20593203604221344, 0.9763538837432861, 0.22132334113121033, 0.04610902816057205, 0.7285226583480835, 0.9656809568405151, 0.7949181199073792, 0.9379547834396362, 0.3078531324863434, 0.35732951760292053, 0.01099475473165512, 0.054973773658275604, 0.00549737736582756, 0.14293180406093597, 0.11544492095708847, 0.8968039751052856, 0.34512683749198914, 0.6409498453140259, 0.6644602417945862, 0.02657840959727764, 0.3056517243385315, 0.40994730591773987, 0.5270751118659973, 0.12643642723560333, 0.8534458875656128, 0.9132974147796631, 0.8987326622009277, 0.4492245316505432, 0.08638933300971985, 0.4492245316505432, 0.15425387024879456, 0.033533450216054916, 0.5499485731124878, 0.2548542320728302, 0.964259684085846, 0.26426371932029724, 0.6606593132019043, 0.9304466843605042, 0.215717613697052, 0.04793724790215492, 0.5632626414299011, 0.16778036952018738, 0.44707247614860535, 0.5259675979614258, 0.8947783708572388, 0.047093600034713745, 0.9738513827323914, 0.9234550595283508, 0.06658107042312622, 0.7989728450775146, 0.1198459267616272, 0.9651800990104675, 0.7279645800590515, 0.9042360782623291, 0.08821815252304077, 0.8217583894729614, 0.10681544989347458, 0.16403800249099731, 0.1449638158082962, 0.1907418668270111, 0.16022317111492157, 0.17548252642154694, 0.05722256004810333, 0.9749938249588013, 0.3723468482494354, 0.00432961480692029, 0.03680172562599182, 0.043296147137880325, 0.29224899411201477, 0.14504209160804749, 0.012988843955099583, 0.03680172562599182, 0.023812880739569664, 0.002164807403460145, 0.03247211128473282, 0.12421577423810959, 0.17079667747020721, 0.19408714771270752, 0.015526971779763699, 0.4890995919704437, 0.8140087127685547, 0.13968196511268616, 0.0048166196793317795, 0.03371633589267731, 0.30510634183883667, 0.6341425776481628, 0.053842294961214066, 0.1116943433880806, 0.8656311631202698, 0.12952394783496857, 0.03760372847318649, 0.39692825078964233, 0.1963750272989273, 0.0793856531381607, 0.10445480048656464, 0.020890960469841957, 0.03342553600668907, 0.1375361829996109, 0.06347823888063431, 0.11637677997350693, 0.29623180627822876, 0.31739121675491333, 0.06347823888063431, 0.9580010175704956, 0.2105381339788437, 0.7368834614753723, 0.966687023639679, 0.4544306993484497, 0.4544306993484497, 0.006053631659597158, 0.841454803943634, 0.09685810655355453, 0.006053631659597158, 0.024214526638388634, 0.024214526638388634, 0.7865515351295471, 0.16929376125335693, 0.22572502493858337, 0.5643125176429749, 0.9311490654945374, 0.023278726264834404, 0.023278726264834404, 0.9292115569114685, 0.2790442109107971, 0.06066178157925606, 0.18198534846305847, 0.4610295593738556, 0.9769230484962463, 0.67684006690979, 0.30241790413856506, 0.18189723789691925, 0.8185375928878784, 0.6527330875396729, 0.2649708688259125, 0.08401515334844589, 0.988095223903656, 0.9919283390045166, 0.09368035197257996, 0.843123197555542, 0.02082429639995098, 0.9718005657196045, 0.18378177285194397, 0.04020226374268532, 0.08040452748537064, 0.022972721606492996, 0.06891816109418869, 0.18952494859695435, 0.223984032869339, 0.06317498534917831, 0.12060678750276566, 0.9202967286109924, 0.9937279224395752, 0.23976978659629822, 0.7535621523857117, 0.9558615684509277, 0.5915858745574951, 0.35495153069496155, 0.9217671751976013, 0.9933755397796631, 0.4618472158908844, 0.5131635665893555, 0.20701384544372559, 0.09409720450639725, 0.0690046176314354, 0.24465273320674896, 0.3889351189136505, 0.9398707747459412, 0.027674561366438866, 0.9705864191055298, 0.9740388989448547, 0.29824039340019226, 0.2785452902317047, 0.10128919780254364, 0.10691637545824051, 0.1631881445646286, 0.014067944139242172, 0.03939024358987808, 0.9371932148933411, 0.0575469508767128, 0.24435916543006897, 0.17919671535491943, 0.027926761656999588, 0.025599531829357147, 0.16756056249141693, 0.06516244262456894, 0.011636150069534779, 0.046544600278139114, 0.053526293486356735, 0.14661549031734467, 0.006981690414249897, 0.011636150069534779, 0.013963380828499794, 0.9807662963867188, 0.9805130958557129, 0.9610969424247742, 0.29719462990760803, 0.6538282036781311, 0.4145382046699524, 0.47902193665504456, 0.10133156180381775, 0.38107579946517944, 0.5081010460853577, 0.9495728611946106, 0.8596650958061218, 0.9666958451271057, 0.814549446105957, 0.9301474690437317, 0.9459257125854492, 0.2834337651729584, 0.0027517841663211584, 0.18161775171756744, 0.07429817318916321, 0.03852497786283493, 0.09631244093179703, 0.10456779599189758, 0.15685169398784637, 0.063291035592556, 0.2306777834892273, 0.5602174997329712, 0.16476984322071075, 0.1703396588563919, 0.08111412078142166, 0.032445646822452545, 0.21900813281536102, 0.48668473958969116, 0.007537197321653366, 0.987372875213623, 0.91995769739151, 0.8317470550537109, 0.08213433623313904, 0.16426867246627808, 0.6160075664520264, 0.12320150434970856, 0.05468856915831566, 0.07291808724403381, 0.03645904362201691, 0.83855801820755, 0.9411986470222473, 0.9627218842506409, 0.08604030311107635, 0.40152138471603394, 0.4875617027282715, 0.9756872653961182, 0.9751905798912048, 0.8181787729263306, 0.2094082236289978, 0.20475469529628754, 0.5816894769668579, 0.9961575865745544, 0.9688605666160583, 0.20720502734184265, 0.20720502734184265, 0.047092050313949585, 0.0659288689494133, 0.4615021049976349, 0.3475039005279541, 0.0947737917304039, 0.19744540750980377, 0.3554017245769501, 0.7789236307144165, 0.2148754745721817, 0.9150003790855408, 0.048157915472984314, 0.3414936363697052, 0.6403005719184875, 0.9369062185287476, 0.9488420486450195, 0.9596276879310608, 0.9774690270423889, 0.9316956400871277, 0.29295775294303894, 0.014647888019680977, 0.2514554262161255, 0.0707981288433075, 0.09765259176492691, 0.002441314747557044, 0.26854461431503296, 0.7778304219245911, 0.8323925137519836, 0.9596372246742249, 0.11252562701702118, 0.8720735907554626, 0.27426278591156006, 0.6170912981033325, 0.08480150252580643, 0.4031790792942047, 0.032730404287576675, 0.2350638210773468, 0.12348289042711258, 0.016365202143788338, 0.03868138790130615, 0.017852947115898132, 0.035705894231796265, 0.013389711268246174, 0.9732506275177002, 0.9922921657562256, 0.9737692475318909, 0.4740733802318573, 0.02239716798067093, 0.12318442016839981, 0.1605130285024643, 0.026130028069019318, 0.13065014779567719, 0.05972578004002571, 0.9831503629684448, 0.8946415185928345, 0.924136757850647, 0.04620683565735817, 0.46476465463638306, 0.4533981382846832, 0.07956568896770477, 0.9143062829971313, 0.35385188460350037, 0.04332880303263664, 0.009026833809912205, 0.00541610037907958, 0.016248300671577454, 0.019859034568071365, 0.44231486320495605, 0.012637567706406116, 0.07943613827228546, 0.01805366761982441, 0.9888396263122559, 0.9790374040603638, 0.9192956686019897, 0.04393692687153816, 0.03379763662815094, 0.9901190400123596, 0.9779593348503113, 0.5885148644447327, 0.32920190691947937, 0.05675894767045975, 0.36893317103385925, 0.04540716111660004, 0.19298042356967926, 0.9812524914741516, 0.6150419116020203, 0.9950429797172546, 0.9610568284988403, 0.8239816427230835, 0.30538877844810486, 0.5998708009719849, 0.09452509135007858, 0.05477568134665489, 0.8764109015464783, 0.13097354769706726, 0.8513280153274536, 0.08147929608821869, 0.8962723016738892, 0.9761993885040283, 0.7402650713920593, 0.2555676996707916, 0.986985445022583, 0.8483232855796814, 0.1489422619342804, 0.18306691944599152, 0.6956543326377869, 0.024408923462033272, 0.09763569384813309, 0.6891728639602661, 0.2600652277469635, 0.04551141336560249, 0.9666431546211243, 0.7652696967124939, 0.9697323441505432, 0.961056113243103, 0.11520479619503021, 0.3584149181842804, 0.49922075867652893, 0.22017043828964233, 0.5911983847618103, 0.16716644167900085, 0.02038615196943283, 0.13952545821666718, 0.8371527194976807, 0.31070762872695923, 0.6214152574539185, 0.9383178949356079, 0.33355340361595154, 0.033355340361595154, 0.6226330399513245, 0.7652732133865356, 0.9052318334579468, 0.9893955588340759, 0.2011544555425644, 0.7758814692497253, 0.9824768900871277, 0.9760920405387878, 0.08710433542728424, 0.39922818541526794, 0.04355216771364212, 0.13791519403457642, 0.050810858607292175, 0.21776083111763, 0.05806955322623253, 0.9523834586143494, 0.9783211946487427, 0.5748599767684937, 0.10695069283246994, 0.3074832260608673, 0.8773208260536194, 0.07750117033720016, 0.891263484954834, 0.1013614609837532, 0.46336668729782104, 0.3957923650741577, 0.03378715366125107, 0.7076308727264404, 0.9014624953269958, 0.9645974040031433, 0.8676414489746094, 0.9052825570106506, 0.8583463430404663, 0.12262090295553207, 0.09498925507068634, 0.47019681334495544, 0.14723335206508636, 0.08549033105373383, 0.13773442804813385, 0.014248388819396496, 0.04749462753534317, 0.9836822152137756, 0.9492328763008118, 0.03977850079536438, 0.24349263310432434, 0.06268127262592316, 0.040983907878398895, 0.6123478412628174, 0.7825480103492737, 0.12621742486953735, 0.01262174267321825, 0.06310871243476868, 0.9689640998840332, 0.845262348651886, 0.9659030437469482, 0.8368737697601318, 0.9537476301193237, 0.9627907872200012, 0.9310638308525085, 0.05476846173405647, 0.2041105031967163, 0.01661364547908306, 0.07120133936405182, 0.5672373175621033, 0.047467559576034546, 0.028480535373091698, 0.06170782819390297, 0.002373378025367856, 0.9598744511604309, 0.225323885679245, 0.6669586896896362, 0.08111659437417984, 0.01802591048181057, 0.9472387433052063, 0.8225729465484619, 0.028903169557452202, 0.13006426393985748, 0.7081276774406433, 0.07225792109966278, 0.028903169557452202, 0.9916806817054749, 0.2981865704059601, 0.20743413269519806, 0.10371706634759903, 0.03889390081167221, 0.10371706634759903, 0.2592926621437073, 0.9195035696029663, 0.9276524782180786, 0.7945644855499268, 0.05059703066945076, 0.9107465744018555, 0.9312189221382141, 0.9384666085243225, 0.05857701972126961, 0.35454511642456055, 0.48094815015792847, 0.046245016157627106, 0.05857701972126961, 0.9696033000946045, 0.9516695737838745, 0.06274757534265518, 0.9161145687103271, 0.012549514882266521, 0.08429007977247238, 0.8850458264350891, 0.015967337414622307, 0.7440779209136963, 0.006386934779584408, 0.10219095647335052, 0.08622361719608307, 0.04151507467031479, 0.9811641573905945, 0.03679036349058151, 0.8829687237739563, 0.07358072698116302, 0.9256820678710938, 0.11321040242910385, 0.5256197452545166, 0.3558041453361511, 0.9788592457771301, 0.9557454586029053, 0.9688476324081421, 0.33677154779434204, 0.6061887741088867, 0.15451572835445404, 0.1133115291595459, 0.32963353395462036, 0.13391362130641937, 0.2781282961368561, 0.974760890007019, 0.9842247366905212, 0.13832436501979828, 0.8606849312782288, 0.14602647721767426, 0.7301324009895325, 0.8933788537979126, 0.06948065012693405, 0.16422699391841888, 0.18317626416683197, 0.06948065012693405, 0.23370763659477234, 0.08842992037534714, 0.18949268758296967, 0.9961949586868286, 0.15623274445533752, 0.364543080329895, 0.4686982333660126, 0.9862349629402161, 0.984530508518219, 0.9620764851570129, 0.01581711508333683, 0.9648439884185791, 0.9688032269477844, 0.974428117275238, 0.9292618036270142, 0.98094242811203, 0.3233778476715088, 0.659690797328949, 0.857556939125061, 0.9207615256309509, 0.9761055111885071, 0.9958358407020569, 0.9184373617172241, 0.6842270493507385, 0.06541641056537628, 0.06541641056537628, 0.8667674660682678, 0.9827334880828857, 0.980700671672821, 0.1694926619529724, 0.7990368008613586, 0.9789300560951233, 0.7932788729667664, 0.9608310461044312, 0.991163432598114, 0.9821957349777222, 0.9605101346969604, 0.8602781295776367, 0.12985330820083618, 0.3558860123157501, 0.058103837072849274, 0.12347064912319183, 0.08715575188398361, 0.05084085837006569, 0.14525958895683289, 0.16704852879047394, 0.08469515293836594, 0.8892991542816162, 0.8709790110588074, 0.9892916083335876, 0.9622478485107422, 0.9678022265434265, 0.17361219227313995, 0.2611018121242523, 0.1695111244916916, 0.04921290650963783, 0.024606453254818916, 0.1490057408809662, 0.057415056973695755, 0.057415056973695755, 0.04647885635495186, 0.012303226627409458, 0.2105269730091095, 0.16842158138751984, 0.2842114269733429, 0.3368431627750397, 0.9918696880340576, 0.6889575123786926, 0.9682384133338928, 0.9730686545372009, 0.15995757281780243, 0.20661187171936035, 0.20661187171936035, 0.03998939320445061, 0.373234361410141, 0.006664899177849293, 0.9494039416313171, 0.8429600596427917, 0.4003342092037201, 0.06065669655799866, 0.024262677878141403, 0.006065669469535351, 0.09705071151256561, 0.024262677878141403, 0.20016710460186005, 0.06672236323356628, 0.10311638563871384, 0.012131338939070702, 0.1305902898311615, 0.6964815258979797, 0.1305902898311615, 0.13207964599132538, 0.09783677756786346, 0.39134711027145386, 0.01467551663517952, 0.10272862017154694, 0.07826942205429077, 0.01467551663517952, 0.11251229792833328, 0.04891838878393173, 0.9734621047973633, 0.5172601938247681, 0.09904982149600983, 0.37418821454048157, 0.439924418926239, 0.553453266620636, 0.6894344687461853, 0.30792921781539917, 0.45675450563430786, 0.5398008227348328, 0.19638796150684357, 0.555497407913208, 0.24127665162086487, 0.6416598558425903, 0.9839333891868591, 0.12836062908172607, 0.8343440890312195, 0.9779866933822632, 0.4483289122581482, 0.18474283814430237, 0.07977531850337982, 0.15115323662757874, 0.22253115475177765, 0.3274986743927002, 0.029390906915068626, 0.9315521121025085, 0.9763025641441345, 0.03652435541152954, 0.9496333003044128, 0.9788597822189331, 0.9216879606246948, 0.07851415872573853, 0.8669800758361816, 0.10923123359680176, 0.09830811619758606, 0.16384685039520264, 0.09830811619758606, 0.18569310009479523, 0.34953996539115906, 0.9084956645965576, 0.4224005341529846, 0.08599771559238434, 0.10496779531240463, 0.003794016782194376, 0.11761452257633209, 0.11129116266965866, 0.04552820324897766, 0.01011737808585167, 0.09232107549905777, 0.003794016782194376, 0.021772729232907295, 0.15676365792751312, 0.46593642234802246, 0.021772729232907295, 0.2525636553764343, 0.017418183386325836, 0.060963645577430725, 0.9759372472763062, 0.9304597973823547, 0.9787220358848572, 0.08671791851520538, 0.4170719087123871, 0.45836615562438965, 0.016517698764801025, 0.020647123456001282, 0.3797607719898224, 0.4340123236179352, 0.15887950360774994, 0.023250659927725792, 0.6252976655960083, 0.22069329023361206, 0.1544853150844574, 0.18862538039684296, 0.798030436038971, 0.03220405429601669, 0.7621626257896423, 0.19322432577610016, 0.12211272865533829, 0.011971835978329182, 0.20352120697498322, 0.36394381523132324, 0.1556338667869568, 0.059859178960323334, 0.023943671956658363, 0.028732405975461006, 0.028732405975461006, 0.08265864849090576, 0.2597843110561371, 0.1456366628408432, 0.11808378249406815, 0.18499793112277985, 0.027552882209420204, 0.04723351448774338, 0.10627540200948715, 0.02361675724387169, 0.7093986868858337, 0.26303547620773315, 0.015941543504595757, 0.9530724287033081, 0.7390357255935669, 0.1977701187133789, 0.02081790752708912, 0.031226860359311104, 0.8311206698417664, 0.641600489616394, 0.96147620677948, 0.9596866965293884, 0.9968401193618774, 0.7931365966796875, 0.42295095324516296, 0.059153977781534195, 0.15971574187278748, 0.0680270716547966, 0.03253468871116638, 0.07985787093639374, 0.1271810531616211, 0.0029576988890767097, 0.047323182225227356, 0.8710922598838806, 0.9818686246871948, 0.9870376586914062, 0.7075325846672058, 0.33348652720451355, 0.033516231924295425, 0.0888180211186409, 0.003351623425260186, 0.1809876561164856, 0.12233424931764603, 0.10054869949817657, 0.03686785697937012, 0.005027434788644314, 0.023461362347006798, 0.051950160413980484, 0.005027434788644314, 0.013406493701040745, 0.18881869316101074, 0.6136607527732849, 0.17701752483844757, 0.5583669543266296, 0.035907842218875885, 0.0017953921342268586, 0.1256774514913559, 0.20467470586299896, 0.03770323470234871, 0.03231705725193024, 0.9792890548706055, 0.9768053293228149, 0.5899391770362854, 0.20420970022678375, 0.20420970022678375, 0.8184797763824463, 0.16721630096435547, 0.008800857700407505, 0.8528451919555664, 0.14090485870838165, 0.9722625017166138, 0.026763034984469414, 0.9367061853408813, 0.07676290720701218, 0.9211548566818237, 0.9332999587059021, 0.7830666899681091, 0.3686615824699402, 0.6144359707832336, 0.9907646179199219, 0.9808017611503601, 0.43855711817741394, 0.0027071426156908274, 0.18949998915195465, 0.06767857074737549, 0.2463499903678894, 0.027071427553892136, 0.018949998542666435, 0.005414285231381655, 0.24938318133354187, 0.21101653575897217, 0.5275413393974304, 0.024671507999300957, 0.9375172853469849, 0.9037380218505859, 0.19356279075145721, 0.2903441786766052, 0.03629302233457565, 0.4718092978000641, 0.9585850238800049, 0.9473799467086792, 0.4356232285499573, 0.19966065883636475, 0.3630193769931793, 0.7386928200721741, 0.13430778682231903, 0.10552754253149033, 0.009593413211405277, 0.9401934146881104, 0.8968781232833862, 0.9184773564338684, 0.9352558255195618, 0.4407605528831482, 0.5387073159217834, 0.936086118221283, 0.18981988728046417, 0.27713704109191895, 0.07213155925273895, 0.2543586492538452, 0.022778386250138283, 0.06074236333370209, 0.026574784889817238, 0.026574784889817238, 0.06453876197338104, 0.22984863817691803, 0.7278540134429932, 0.18976086378097534, 0.7969955801963806, 0.950870156288147, 0.7578515410423279, 0.22965198755264282, 0.863445520401001, 0.9121244549751282, 0.5601190328598022, 0.10317982733249664, 0.32427945733070374, 0.1881813108921051, 0.3763626217842102, 0.3763626217842102, 0.998263418674469, 0.1126098707318306, 0.8670960068702698, 0.04690483957529068, 0.5367998480796814, 0.34396883845329285, 0.015634946525096893, 0.05211648717522621, 0.9781067371368408, 0.9871635437011719, 0.9686874747276306, 0.7537642121315002, 0.12289633601903915, 0.11060670018196106, 0.012289633974432945, 0.6768951416015625, 0.9963348507881165, 0.9757295250892639, 0.9013588428497314, 0.8484722971916199, 0.3018467426300049, 0.679155170917511, 0.9661113619804382, 0.9253501296043396, 0.980729877948761, 0.9113794565200806, 0.9862452745437622, 0.9859214425086975, 0.8788299560546875, 0.83571857213974, 0.31535473465919495, 0.28429707884788513, 0.08600583672523499, 0.021501459181308746, 0.12423065304756165, 0.011945255100727081, 0.06211532652378082, 0.01911240816116333, 0.040613867342472076, 0.035835765302181244, 0.9760311841964722, 0.9955695867538452, 0.13210223615169525, 0.20980943739414215, 0.2020387202501297, 0.1243315190076828, 0.30305808782577515, 0.027197521179914474, 0.9801069498062134, 0.3907230794429779, 0.2266877442598343, 0.0205044187605381, 0.0643610954284668, 0.12302651256322861, 0.07689157128334045, 0.05240018293261528, 0.002278268802911043, 0.006265238858759403, 0.005126104690134525, 0.03132619708776474, 0.19760359823703766, 0.07980145514011383, 0.6384116411209106, 0.07980145514011383, 0.12772244215011597, 0.26099804043769836, 0.45535826683044434, 0.12772244215011597, 0.027765747159719467, 0.07277840375900269, 0.5822272300720215, 0.09703787416219711, 0.2425946742296219, 0.9700626134872437, 0.8773137331008911, 0.1280379742383957, 0.19205695390701294, 0.5548312067985535, 0.0853586494922638, 0.0426793247461319, 0.0022222280967980623, 0.284445196390152, 0.21777835488319397, 0.03111119382083416, 0.16444487869739532, 0.00888891238719225, 0.06222238764166832, 0.0688890740275383, 0.07777798175811768, 0.04444456100463867, 0.0177778247743845, 0.013333369046449661, 0.0022222280967980623, 0.9425609111785889, 0.9742910861968994, 0.16045814752578735, 0.04550305753946304, 0.011974489316344261, 0.16524794697761536, 0.17961733043193817, 0.19398672878742218, 0.026343876495957375, 0.16764284670352936, 0.047897957265377045, 0.43940335512161255, 0.1746346652507782, 0.2309684157371521, 0.14646777510643005, 0.9229853749275208, 0.0551036074757576, 0.9734941124916077, 0.9364927411079407, 0.8048477172851562, 0.06869597733020782, 0.21372081339359283, 0.015265773050487041, 0.6487953066825867, 0.05343020334839821, 0.0721512883901596, 0.6944561004638672, 0.22547276318073273, 0.7681765556335449, 0.4782836139202118, 0.1328565627336502, 0.3719983696937561, 0.8278854489326477, 0.8903851509094238, 0.8452158570289612, 0.016487155109643936, 0.06594862043857574, 0.6100247502326965, 0.21433301270008087, 0.06594862043857574, 0.21189454197883606, 0.5959534049034119, 0.18540771305561066, 0.43274956941604614, 0.0651450976729393, 0.04653221368789673, 0.18147562444210052, 0.013959663920104504, 0.07910475879907608, 0.1256369799375534, 0.05118543282151222, 0.2776942253112793, 0.5131306052207947, 0.07847880572080612, 0.030184155330061913, 0.09658929705619812, 0.20578999817371368, 0.09603533148765564, 0.04115799814462662, 0.20578999817371368, 0.4390186667442322, 0.6988270282745361, 0.9305227994918823, 0.9531598687171936, 0.07569431513547897, 0.30621790885925293, 0.01376260258257389, 0.5023350119590759, 0.09977886825799942, 0.9333547949790955, 0.6032881140708923, 0.33842992782592773, 0.044143036007881165, 0.007357172667980194, 0.007357172667980194, 0.9875521659851074, 0.42435145378112793, 0.23575080931186676, 0.1131603866815567, 0.2263207733631134, 0.9260618686676025, 0.9309980273246765, 0.027895260602235794, 0.17666998505592346, 0.07438736408948898, 0.7066799402236938, 0.09888425469398499, 0.11301057785749435, 0.5156107544898987, 0.190705344080925, 0.021189482882618904, 0.05650528892874718, 0.45937788486480713, 0.0033228055108338594, 0.10051486641168594, 0.048180680721998215, 0.08473154157400131, 0.016614027321338654, 0.042365770787000656, 0.05233418941497803, 0.060641203075647354, 0.04734997823834419, 0.023259639739990234, 0.008307013660669327, 0.039042964577674866, 0.004153506830334663, 0.009137715213000774, 0.9580709338188171, 0.2315710037946701, 0.02437589503824711, 0.7373707890510559, 0.05728985369205475, 0.9280956387519836, 0.861802875995636, 0.8508157730102539, 0.03190559148788452, 0.11486013233661652, 0.4212340712547302, 0.16353793442249298, 0.15362654626369476, 0.2378733605146408, 0.019822780042886734, 0.26916638016700745, 0.16822898387908936, 0.04325888305902481, 0.5143000483512878, 0.7746995687484741, 0.9884386658668518, 0.9553125500679016, 0.9807876348495483, 0.9962389469146729, 0.555878758430481, 0.3705858588218689, 0.3108447194099426, 0.05651722103357315, 0.35323262214660645, 0.28258609771728516, 0.9835772514343262, 0.8933393359184265, 0.894268810749054, 0.9569348096847534, 0.6023294925689697, 0.9800584316253662, 0.9843182563781738, 0.7584033012390137, 0.9609143733978271, 0.8884435892105103, 0.7614526748657227, 0.6001033186912537, 0.028383266180753708, 0.08514979481697083, 0.04865702614188194, 0.004054752178490162, 0.060821283608675, 0.060821283608675, 0.10542356222867966, 0.8409788012504578, 0.14499634504318237, 0.9412857890129089, 0.8200662136077881, 0.9807151556015015, 0.24921004474163055, 0.2118285447359085, 0.34889405965805054, 0.18690752983093262, 0.9507608413696289, 0.891173243522644, 0.954866349697113, 0.841661274433136, 0.019186807796359062, 0.011512084864079952, 0.005116481799632311, 0.11639996618032455, 0.003837361466139555, 0.22919929027557373, 0.744897723197937, 0.2307310849428177, 0.7498760223388672, 0.9222641587257385, 0.009759409353137016, 0.06343615800142288, 0.693953275680542, 0.9853306412696838, 0.984873354434967, 0.9399722814559937, 0.3695693910121918, 0.03566020354628563, 0.0940132662653923, 0.2528632581233978, 0.21071939170360565, 0.012967347167432308, 0.019451020285487175, 0.9765982627868652, 0.9273446202278137, 0.944398045539856, 0.9221052527427673, 0.981408953666687, 0.981447696685791, 0.15673349797725677, 0.16718240082263947, 0.07314229756593704, 0.32391589879989624, 0.2821202874183655, 0.31712818145751953, 0.6342563629150391, 0.9899804592132568, 0.9682403206825256, 0.9822388887405396, 0.8252310752868652, 0.40268877148628235, 0.1102600172162056, 0.1198478490114212, 0.12464176118373871, 0.009587828069925308, 0.052733052521944046, 0.17737480998039246, 0.03872455656528473, 0.94875168800354, 0.6809198260307312, 0.18570540845394135, 0.13412056863307953, 0.35520485043525696, 0.6246706247329712, 0.9890562295913696, 0.3064952790737152, 0.13135510683059692, 0.5546104907989502, 0.9877618551254272, 0.0036637638695538044, 0.9965437650680542, 0.8147473335266113, 0.15158089995384216, 0.01894761249423027, 0.3368711471557617, 0.05993413180112839, 0.2108028084039688, 0.3162042200565338, 0.00826677680015564, 0.01240016520023346, 0.05373404920101166, 0.9772744178771973, 0.9627369046211243, 0.9771034121513367, 0.43952053785324097, 0.25405240058898926, 0.6351310014724731, 0.08468413352966309, 0.9676198959350586, 0.3022957146167755, 0.6909616589546204, 0.09175342321395874, 0.2637910842895508, 0.005734588950872421, 0.4759708642959595, 0.028672944754362106, 0.12616094946861267, 0.06657528132200241, 0.8141205906867981, 0.017119357362389565, 0.09700969606637955, 0.001902150921523571, 0.9473748207092285, 0.9783216714859009, 0.8771815299987793, 0.9673376679420471, 0.4857264757156372, 0.4095340669155121, 0.019048096612095833, 0.033334169536828995, 0.05238226428627968, 0.847575306892395, 0.951013445854187, 0.9763579368591309, 0.013560527004301548, 0.976002037525177, 0.9285370707511902, 0.21491354703903198, 0.7521974444389343, 0.9749292731285095, 0.0757477879524231, 0.9089734554290771, 0.993229866027832, 0.11142416298389435, 0.07090628147125244, 0.2532367408275604, 0.5571208000183105, 0.9484430551528931, 0.9633588790893555, 0.7056390643119812, 0.08241040259599686, 0.046355850994586945, 0.015451950021088123, 0.11331430077552795, 0.03605455160140991, 0.9874171018600464, 0.4527244567871094, 0.13998717069625854, 0.2978450357913971, 0.032762955874204636, 0.026806052774190903, 0.026806052774190903, 0.017870701849460602, 0.11697348952293396, 0.08137286454439163, 0.2949766218662262, 0.45772236585617065, 0.040686432272195816, 0.005085804034024477, 0.08930385857820511, 0.0357215441763401, 0.39293697476387024, 0.35721543431282043, 0.0714430883526802, 0.044651929289102554, 0.20772406458854675, 0.7789652347564697, 0.2700197398662567, 0.6750493049621582, 0.44823524355888367, 0.08229319006204605, 0.05953124538064003, 0.008754595182836056, 0.2573850750923157, 0.14182443916797638, 0.38207581639289856, 0.07075478136539459, 0.08962272852659225, 0.23113229870796204, 0.12735861539840698, 0.09433971345424652, 0.97323077917099, 0.9847992062568665, 0.9908187389373779, 0.7652047872543335, 0.39599886536598206, 0.13547329604625702, 0.020842045545578003, 0.06252613663673401, 0.37515681982040405, 0.9799704551696777, 0.9915366768836975, 0.9238483905792236, 0.9588775634765625, 0.08489787578582764, 0.191020205616951, 0.47967296838760376, 0.055183615535497665, 0.13159170746803284, 0.0466938316822052, 0.012734680436551571, 0.9843521118164062, 0.08034997433423996, 0.10226359963417053, 0.2702680826187134, 0.5405361652374268, 0.3657902777194977, 0.615192711353302, 0.6935824155807495, 0.03152647241950035, 0.22068531811237335, 0.9728942513465881, 0.9535131454467773, 0.08254718035459518, 0.6953012943267822, 0.16509436070919037, 0.025399133563041687, 0.028574025258421898, 0.9638175964355469, 0.6571139097213745, 0.1005786582827568, 0.006705243606120348, 0.02011573128402233, 0.21456779539585114, 0.09891640394926071, 0.2338024228811264, 0.17085561156272888, 0.05395440384745598, 0.08093160390853882, 0.05395440384745598, 0.31473401188850403, 0.9731855392456055, 0.9543832540512085, 0.8745562434196472, 0.0874556303024292, 0.0218639075756073, 0.9590557217597961, 0.9531463980674744, 0.8599965572357178, 0.06615357846021652, 0.9035300612449646, 0.9566136002540588, 0.9703847765922546, 0.14830395579338074, 0.7415197491645813, 0.07415197789669037, 0.6718800663948059, 0.3172766864299774, 0.9300443530082703, 0.9889843463897705, 0.9882532358169556, 0.929279625415802, 0.06893288344144821, 0.008616610430181026, 0.6577346324920654, 0.034466441720724106, 0.017233220860362053, 0.12063255161046982, 0.014361018314957619, 0.057444073259830475, 0.01148881483823061, 0.01148881483823061, 0.2792513072490692, 0.03313151001930237, 0.21298828721046448, 0.07099609822034836, 0.028398439288139343, 0.26978516578674316, 0.10412760823965073, 0.01701025292277336, 0.05953588709235191, 0.9185537099838257, 0.42842593789100647, 0.025201525539159775, 0.20521242916584015, 0.046802833676338196, 0.23041395843029022, 0.05040305107831955, 0.0072004362009465694, 0.3886651396751404, 0.15622813999652863, 0.40009647607803345, 0.030483540147542953, 0.015241770073771477, 0.46531009674072266, 0.41877907514572144, 0.09306202083826065, 0.6560071706771851, 0.9803537726402283, 0.8927501440048218, 0.5535619258880615, 0.10645421594381332, 0.3193626403808594, 0.9063001871109009, 0.9419469237327576, 0.11728834360837936, 0.21417871117591858, 0.050994932651519775, 0.06119392067193985, 0.06629341095685959, 0.4640538990497589, 0.025497466325759888, 0.005099493078887463, 0.946178674697876, 0.2716143727302551, 0.7160742878913879, 0.196965754032135, 0.14068982005119324, 0.04220694676041603, 0.39393150806427, 0.21103473007678986, 0.519766092300415, 0.4719715118408203, 0.30630165338516235, 0.5012208819389343, 0.04176840931177139, 0.14917288720607758, 0.9863081574440002, 0.9842849969863892, 0.9767931699752808, 0.01135805994272232, 0.907430112361908, 0.7617863416671753, 0.220517098903656, 0.9224427342414856, 0.8557009696960449, 0.989165186882019, 0.01334000751376152, 0.1334000676870346, 0.0667000338435173, 0.1334000676870346, 0.26235347986221313, 0.17342008650302887, 0.21344012022018433, 0.2037489265203476, 0.09651265293359756, 0.4825632572174072, 0.16621623933315277, 0.04825632646679878, 0.5978865027427673, 0.9716429114341736, 0.014502132311463356, 0.351394385099411, 0.09035855531692505, 0.05019919574260712, 0.40159356594085693, 0.10039839148521423, 0.9151273965835571, 0.08027432858943939, 0.27726179361343384, 0.4990712106227875, 0.09011007845401764, 0.1316993534564972, 0.9295738339424133, 0.3671889007091522, 0.10199692100286484, 0.12919609248638153, 0.03399897366762161, 0.10199692100286484, 0.14279568195343018, 0.0611981526017189, 0.05439835786819458, 0.19648832082748413, 0.720457136631012, 0.9813356399536133, 0.9776616096496582, 0.9799973964691162, 0.8444283604621887, 0.02494092285633087, 0.042755868285894394, 0.03206690028309822, 0.014251955784857273, 0.0035629889462143183, 0.035629887133836746, 0.9639909863471985, 0.4315589964389801, 0.3544948697090149, 0.20036667585372925, 0.24800819158554077, 0.17473304271697998, 0.38328537344932556, 0.18600614368915558, 0.9859381914138794, 0.7943056225776672, 0.8548029065132141, 0.8612467646598816, 0.2443503737449646, 0.7474246621131897, 0.9563270807266235, 0.8819770812988281, 0.20129580795764923, 0.13659358024597168, 0.043134815990924835, 0.4672938585281372, 0.05032395198941231, 0.0071891359984874725, 0.0790804997086525, 0.8907296657562256, 0.03796705603599548, 0.4640417695045471, 0.2109280824661255, 0.11390116065740585, 0.1560867726802826, 0.02109280787408352, 0.9672366380691528, 0.1501772254705429, 0.45053166151046753, 0.3504135012626648, 0.03337271511554718, 0.14956431090831757, 0.24927383661270142, 0.5982572436332703, 0.6866275072097778, 0.05914768949151039, 0.21858929097652435, 0.03600294142961502, 0.9762035608291626, 0.41637223958969116, 0.963702917098999, 0.03235987573862076, 0.9600096344947815, 0.9837968349456787, 0.9734674096107483, 0.9902731776237488, 0.9874837398529053, 0.012343546375632286, 0.0673782154917717, 0.454802930355072, 0.46322521567344666, 0.27993541955947876, 0.7080719470977783, 0.6183356046676636, 0.0025393657851964235, 0.18283434212207794, 0.14855290949344635, 0.008887780830264091, 0.03809048980474472, 0.23590774834156036, 0.7470412254333496, 0.9370664954185486, 0.943474292755127, 0.9524818062782288, 0.9240868091583252, 0.1461060345172882, 0.7305301427841187, 0.9739439487457275, 0.8524481654167175, 0.9353370666503906, 0.9488033056259155, 0.8950561881065369, 0.06393259018659592, 0.03196629509329796, 0.8685731887817383, 0.9711817502975464, 0.30346226692199707, 0.13487210869789124, 0.5394884347915649, 0.836837649345398, 0.1603223979473114, 0.33845841884613037, 0.11578840017318726, 0.035627201199531555, 0.11578840017318726, 0.035627201199531555, 0.008906800299882889, 0.1603223979473114, 0.017813600599765778, 0.11165706813335419, 0.3115592300891876, 0.055828534066677094, 0.19089756906032562, 0.1854948103427887, 0.0990506261587143, 0.037819329649209976, 0.009004602208733559, 0.6694431304931641, 0.01617012359201908, 0.02587219886481762, 0.0420423224568367, 0.2457858920097351, 0.8673372864723206, 0.01786085031926632, 0.415264755487442, 0.21879541873931885, 0.34382137656211853, 0.9645196795463562, 0.3292085826396942, 0.3465353548526764, 0.13861414790153503, 0.05198030546307564, 0.12128737568855286, 0.9665787220001221, 0.14781276881694794, 0.8331264853477478, 0.22476260364055634, 0.11829610913991928, 0.40220677852630615, 0.051261644810438156, 0.035488832741975784, 0.03154562786221504, 0.0552048496901989, 0.019716016948223114, 0.02760242484509945, 0.03154562786221504, 0.15792123973369598, 0.12867656350135803, 0.222259521484375, 0.052640415728092194, 0.42112332582473755, 0.011697869747877121, 0.01891150139272213, 0.20802651345729828, 0.7659158110618591, 0.9019824862480164, 0.9410892724990845, 0.8840683698654175, 0.09557496011257172, 0.29837462306022644, 0.681999146938324, 0.9300845861434937, 0.03577248379588127, 0.6031547784805298, 0.012653596699237823, 0.1223180964589119, 0.050614386796951294, 0.06326798349618912, 0.08013944327831268, 0.06748584657907486, 0.7778197526931763, 0.21435977518558502, 0.9472306370735168, 0.982758104801178, 0.21800963580608368, 0.1962086707353592, 0.15260674059391022, 0.15260674059391022, 0.03270144388079643, 0.03270144388079643, 0.03270144388079643, 0.15260674059391022, 0.021800963208079338, 0.9633108973503113, 0.9670904874801636, 0.9035220742225647, 0.08945763111114502, 0.3929907977581024, 0.003890997963026166, 0.18287689983844757, 0.11672993749380112, 0.18287689983844757, 0.031127983704209328, 0.035018980503082275, 0.007781995926052332, 0.011672994121909142, 0.035018980503082275, 0.990547776222229, 0.8548175096511841, 0.045437879860401154, 0.3015422821044922, 0.5700388550758362, 0.06609146296977997, 0.012392149306833744, 0.49839919805526733, 0.47466591000556946, 0.8675481081008911, 0.9493018984794617, 0.08791717886924744, 0.08791717886924744, 0.03381429985165596, 0.4125344455242157, 0.37195730209350586, 0.16800877451896667, 0.7840409278869629, 0.9799171090126038, 0.8399760723114014, 0.9669098854064941, 0.018594421446323395, 0.38354554772377014, 0.04007192328572273, 0.1660122573375702, 0.4064438045024872, 0.7364796996116638, 0.04112323001027107, 0.22057005763053894, 0.9901021718978882, 0.7308744788169861, 0.24362482130527496, 0.9930489659309387, 0.23117849230766296, 0.017589667811989784, 0.4296904504299164, 0.08040990680456161, 0.050256192684173584, 0.10302519798278809, 0.03015371598303318, 0.020102476701140404, 0.03517933562397957, 0.4051651656627655, 0.22995859384536743, 0.3613635003566742, 0.8836313486099243, 0.08336144685745239, 0.016672290861606598, 0.7776922583580017, 0.2011273056268692, 0.02011273056268692, 0.4506244361400604, 0.09243578463792801, 0.011554473079741001, 0.046217892318964005, 0.3004162907600403, 0.09243578463792801, 0.2222002148628235, 0.21313081681728363, 0.2222002148628235, 0.040812283754348755, 0.12243685871362686, 0.004534698557108641, 0.17231853306293488, 0.9812124967575073, 0.5919281840324402, 0.372965931892395, 0.05140235647559166, 0.033471301198005676, 0.5128281712532043, 0.028689686208963394, 0.9930959939956665, 0.9279451370239258, 0.1349630206823349, 0.19400933384895325, 0.31210198998451233, 0.07591670006513596, 0.2783612310886383, 0.8636974692344666, 0.9869494438171387, 0.988596498966217, 0.9311723709106445, 0.7321231365203857, 0.2499932497739792, 0.9420241117477417, 0.9414761066436768, 0.8972326517105103, 0.09699812531471252, 0.41272979974746704, 0.1896326094865799, 0.3904200792312622, 0.9654057621955872, 0.9964406490325928, 0.9427875876426697, 0.11690624058246613, 0.8703019618988037, 0.3868997395038605, 0.6031084060668945, 0.5161920785903931, 0.15593302249908447, 0.03226200491189957, 0.23121103644371033, 0.05914701148867607, 0.7320524454116821, 0.04616547003388405, 0.20114955306053162, 0.019785201177001, 0.9904688000679016, 0.013362226076424122, 0.04008667916059494, 0.9086313843727112, 0.026724452152848244, 0.03185044974088669, 0.9634760618209839, 0.29440876841545105, 0.19627252221107483, 0.44161316752433777, 0.513015866279602, 0.032515089958906174, 0.08670690655708313, 0.1408987194299698, 0.22399283945560455, 0.003612787928432226, 0.9480751752853394, 0.18158960342407227, 0.8095870018005371, 0.8809810280799866, 0.8747060894966125, 0.6884675025939941, 0.9682763814926147, 0.606162965297699, 0.21004866063594818, 0.023338740691542625, 0.3034036159515381, 0.2917342483997345, 0.17504055798053741, 0.9690536856651306, 0.8419689536094666, 0.2662288248538971, 0.30826494097709656, 0.3853311836719513, 0.028024086728692055, 0.007006021682173014, 0.9614368081092834, 0.058940961956977844, 0.047152768820524216, 0.07072915136814117, 0.21218745410442352, 0.6011977791786194, 0.6999933123588562, 0.07623689621686935, 0.020791880786418915, 0.05544501543045044, 0.06930626928806305, 0.06930626928806305, 0.2274448573589325, 0.2449406087398529, 0.40240243077278137, 0.09914262592792511, 0.023327676579356194, 0.887974202632904, 0.9584333300590515, 0.9667936563491821, 0.8913295865058899, 0.25024375319480896, 0.3590453565120697, 0.20309637486934662, 0.050774093717336655, 0.025387046858668327, 0.10880162566900253, 0.3713137209415436, 0.11631514132022858, 0.1968410164117813, 0.10736782103776932, 0.03131561353802681, 0.17447271943092346, 0.9747636318206787, 0.8160359263420105, 0.38145172595977783, 0.5833967924118042, 0.8507698178291321, 0.9839836955070496, 0.9810888171195984, 0.15475301444530487, 0.13478489220142365, 0.3710744380950928, 0.10483269393444061, 0.23129752278327942, 0.9322922229766846, 0.2995896339416504, 0.15751619637012482, 0.015442765317857265, 0.18222463130950928, 0.058682508766651154, 0.09883369505405426, 0.06485961377620697, 0.08647948503494263, 0.0370626375079155, 0.9204064011573792, 0.9654600620269775, 0.9627241492271423, 0.9583551287651062, 0.9888803958892822, 0.676929235458374, 0.3451118767261505, 0.0375121608376503, 0.35261428356170654, 0.09753161668777466, 0.15755106508731842, 0.4695854187011719, 0.5241883397102356, 0.9005261063575745, 0.11723746359348297, 0.8657535910606384, 0.018036533147096634, 0.5013067126274109, 0.02110765129327774, 0.47492215037345886, 0.9727602005004883, 0.8795672655105591, 0.9891459941864014, 0.7614840269088745, 0.2247002124786377, 0.3220083713531494, 0.09302463382482529, 0.028622964397072792, 0.04651231691241264, 0.5080576539039612, 0.9950816035270691, 0.07350925356149673, 0.07350925356149673, 0.018377313390374184, 0.2205277681350708, 0.2205277681350708, 0.3859235942363739, 0.2479097992181778, 0.33757930994033813, 0.40615010261535645, 0.9651154279708862, 0.153778076171875, 0.18453368544578552, 0.6356160044670105, 0.02050374262034893, 0.9893632531166077, 0.28605204820632935, 0.5218092203140259, 0.07544229924678802, 0.11630687117576599, 0.975407600402832, 0.8046535849571228, 0.9487578868865967, 0.27236485481262207, 0.12817169725894928, 0.09612876921892166, 0.4806438386440277, 0.1783144623041153, 0.7627896666526794, 0.059438154101371765, 0.4773300886154175, 0.009701831266283989, 0.013582563027739525, 0.03686695918440819, 0.1513485610485077, 0.1571696549654007, 0.1028394103050232, 0.0058210985735058784, 0.01746329478919506, 0.029105491936206818, 0.6562352180480957, 0.004870020318776369, 0.03896016255021095, 0.021915091201663017, 0.2033233493566513, 0.024350101128220558, 0.021915091201663017, 0.015827566385269165, 0.007305030710995197, 0.004870020318776369, 0.912334680557251, 0.9517372846603394, 0.045977648347616196, 0.08400924503803253, 0.19602157175540924, 0.06534052640199661, 0.5693960189819336, 0.07467488199472427, 0.9912359714508057, 0.4694194197654724, 0.058283619582653046, 0.02835419401526451, 0.03307989239692688, 0.03307989239692688, 0.23313447833061218, 0.015752330422401428, 0.1244434043765068, 0.0031504658982157707, 0.74685138463974, 0.9698852300643921, 0.9775839447975159, 0.4130970239639282, 0.02100493386387825, 0.39909371733665466, 0.09802301973104477, 0.028006577864289284, 0.0420098677277565, 0.9742130041122437, 0.8640278577804565, 0.8996235132217407, 0.049979086965322495, 0.16138580441474915, 0.08069290220737457, 0.2824251651763916, 0.040346451103687286, 0.43036216497421265, 0.9783388376235962, 0.024219132959842682, 0.9445462226867676, 0.9777945876121521, 0.2027578502893448, 0.26514488458633423, 0.514693021774292, 0.715156614780426, 0.9603826999664307, 0.592004120349884, 0.9035894870758057, 0.07228715717792511, 0.9554543495178223, 0.745758056640625, 0.14274275302886963, 0.014565587043762207, 0.011652469635009766, 0.08156728744506836, 0.9463052153587341, 0.7972791790962219, 0.9547889232635498, 0.8137658834457397, 0.8885904550552368, 0.15453720092773438, 0.5126112103462219, 0.06407640129327774, 0.146998792886734, 0.03392279893159866, 0.03769199922680855, 0.04523039981722832, 0.9624664783477783, 0.5200568437576294, 0.47277891635894775, 0.8560850620269775, 0.16316722333431244, 0.05710852891206741, 0.15500885248184204, 0.06526688486337662, 0.5547685623168945, 0.8733839392662048, 0.12249357998371124, 0.20630498230457306, 0.13538764417171478, 0.003223515348508954, 0.03868218511343002, 0.12571710348129272, 0.12571710348129272, 0.17084631323814392, 0.025788122788071632, 0.045129213482141495, 0.25562816858291626, 0.09202613681554794, 0.6441829800605774, 0.8696872591972351, 0.9449014663696289, 0.7534258961677551, 0.893334150314331, 0.8666513562202454, 0.3352632224559784, 0.03468240052461624, 0.10982760787010193, 0.21387481689453125, 0.023121600970625877, 0.28323960304260254, 0.8597447276115417, 0.13014698028564453, 0.24350078403949738, 0.14694012701511383, 0.09656065702438354, 0.06297434121370316, 0.13434526324272156, 0.0881640762090683, 0.016793157905340195, 0.07976750284433365, 0.988141655921936, 0.9772802591323853, 0.9379215836524963, 0.2981131970882416, 0.6814016103744507, 0.9037597179412842, 0.21283431351184845, 0.07453691214323044, 0.0035921402741223574, 0.4409352242946625, 0.08800743520259857, 0.035023368895053864, 0.02514498308300972, 0.01706266589462757, 0.004490175284445286, 0.011674456298351288, 0.05927031487226486, 0.008082315325737, 0.018858736380934715, 0.6417009234428406, 0.35190051794052124, 0.3557056188583374, 0.6224848628044128, 0.9640651345252991, 0.9771562218666077, 0.9126388430595398, 0.13331910967826843, 0.36919137835502625, 0.43072327971458435, 0.06665955483913422, 0.9896876215934753, 0.2423030138015747, 0.7269090414047241, 0.8815566301345825, 0.9474210143089294, 0.9358885884284973, 0.9148387908935547, 0.07869581133127213, 0.9742690324783325, 0.9796618223190308, 0.5651686787605286, 0.15590859949588776, 0.25335147976875305, 0.05709194019436836, 0.06851033121347427, 0.8487668633460999, 0.019030647352337837, 0.9397188425064087, 0.9736615419387817, 0.9786861538887024, 0.949895441532135, 0.9910597205162048, 0.4431641697883606, 0.3506353795528412, 0.15583795309066772, 0.0146098081022501, 0.034089550375938416, 0.9214049577713013, 0.06876156479120255, 0.8741680383682251, 0.11527490615844727, 0.9793234467506409, 0.9690741300582886, 0.03924708440899849, 0.9576289057731628, 0.9722667932510376, 0.021605929359793663, 0.9557174444198608, 0.877978503704071, 0.11148933321237564, 0.94867342710495, 0.9738863110542297, 0.788536787033081, 0.019410360604524612, 0.8928765654563904, 0.07764144241809845, 0.7869147658348083, 0.637695848941803, 0.6259142756462097, 0.08873114734888077, 0.026379529386758804, 0.14388833940029144, 0.009592556394636631, 0.014388835057616234, 0.0863330066204071, 0.007194417528808117, 0.8485978245735168, 0.9709237217903137, 0.19867554306983948, 0.7663199305534363, 0.9629435539245605, 0.38997358083724976, 0.01686372235417366, 0.08853454142808914, 0.13912570476531982, 0.09907437115907669, 0.00843186117708683, 0.17706908285617828, 0.0021079652942717075, 0.07588674873113632, 0.9870691299438477, 0.3252158761024475, 0.22358591854572296, 0.4471718370914459, 0.962060809135437, 0.3634076416492462, 0.1933019459247589, 0.44072842597961426, 0.8717387318611145, 0.9834980368614197, 0.9728522896766663, 0.021739715710282326, 0.9866048097610474, 0.9822547435760498, 0.9655736684799194, 0.0747315064072609, 0.16814589500427246, 0.14323538541793823, 0.006227625533938408, 0.3674299120903015, 0.16814589500427246, 0.06850387901067734, 0.3856464624404907, 0.32059764862060547, 0.09757319837808609, 0.08363416790962219, 0.041817083954811096, 0.06504879891872406, 0.985123872756958, 0.3869742751121521, 0.21245646476745605, 0.26557058095932007, 0.022763192653656006, 0.11381596326828003, 0.2418273687362671, 0.02604294754564762, 0.08556968718767166, 0.5357406735420227, 0.03348379209637642, 0.07440842688083649, 0.9728488326072693, 0.34808453917503357, 0.0348084531724453, 0.05105239897966385, 0.4037780463695526, 0.032487887889146805, 0.05801408737897873, 0.002320563420653343, 0.04641127213835716, 0.020885072648525238, 0.9082316756248474, 0.5745750665664673, 0.042704902589321136, 0.120350182056427, 0.062116220593452454, 0.02329358272254467, 0.07376301288604736, 0.09317433089017868, 0.9883327484130859, 0.3544701635837555, 0.280055433511734, 0.059211719781160355, 0.007201425731182098, 0.19843928515911102, 0.0032006334513425827, 0.01120221707969904, 0.08561694622039795, 0.33834004402160645, 0.257782906293869, 0.02148190699517727, 0.14500287175178528, 0.19870764017105103, 0.005370476748794317, 0.026852384209632874, 0.6116905808448792, 0.23072540760040283, 0.032194241881370544, 0.11804555356502533, 0.8780612945556641, 0.9118580222129822, 0.93404221534729, 0.9317327737808228, 0.917513370513916, 0.18375064432621002, 0.1781824380159378, 0.2821221947669983, 0.06681841611862183, 0.009280335158109665, 0.20045524835586548, 0.06125021353363991, 0.009280335158109665, 0.009280335158109665, 0.8425771594047546, 0.4377273619174957, 0.5627923607826233, 0.8104885816574097], \"Term\": [\"abort\", \"abraham\", \"absolut\", \"absolut\", \"absolut\", \"access\", \"access\", \"access\", \"accid\", \"accompani\", \"accompani\", \"accus\", \"accus\", \"accus\", \"actual\", \"actual\", \"actual\", \"actual\", \"addit\", \"addit\", \"addit\", \"addit\", \"addit\", \"address\", \"address\", \"address\", \"address\", \"address\", \"admit\", \"advertis\", \"affect\", \"afford\", \"afford\", \"afraid\", \"aggress\", \"ago\", \"ago\", \"ago\", \"ago\", \"ago\", \"agre\", \"agre\", \"agre\", \"agre\", \"agre\", \"agre\", \"agre\", \"air\", \"air\", \"air\", \"aircraft\", \"airport\", \"alexandria\", \"allah\", \"allen\", \"allen\", \"allow\", \"allow\", \"allow\", \"allow\", \"allow\", \"aloud\", \"also\", \"also\", \"also\", \"also\", \"also\", \"also\", \"also\", \"also\", \"also\", \"also\", \"also\", \"also\", \"amateur\", \"amateur\", \"ambigu\", \"amiga\", \"amorc\", \"analog\", \"analog\", \"analog\", \"analog\", \"analys\", \"analys\", \"ancient\", \"and/or\", \"andromeda\", \"angel\", \"angel\", \"angel\", \"anger\", \"angl\", \"anim\", \"anim\", \"ann\", \"annual\", \"anonym\", \"anonym\", \"anoth\", \"anoth\", \"anoth\", \"anoth\", \"anoth\", \"anoth\", \"anoth\", \"anoth\", \"anoth\", \"anoth\", \"anoth\", \"answer\", \"answer\", \"anyon\", \"anyon\", \"anyon\", \"anyon\", \"anyon\", \"anyon\", \"anywher\", \"apostl\", \"appear\", \"appear\", \"appear\", \"appear\", \"appear\", \"appear\", \"appear\", \"appendix\", \"appli\", \"appli\", \"appli\", \"appli\", \"applic\", \"applic\", \"applic\", \"applic\", \"appreci\", \"appreci\", \"archer\", \"archi\", \"archiv\", \"archiv\", \"area\", \"area\", \"area\", \"area\", \"argu\", \"argu\", \"argument\", \"argument\", \"argument\", \"around\", \"around\", \"around\", \"around\", \"around\", \"around\", \"around\", \"around\", \"around\", \"arromde\", \"arrow\", \"articl\", \"articl\", \"articl\", \"articl\", \"ask\", \"ask\", \"ask\", \"ask\", \"ask\", \"aspect\", \"aspect\", \"aspect\", \"aspect\", \"aspect\", \"assert\", \"assum\", \"assum\", \"assum\", \"assum\", \"assum\", \"assum\", \"asteroid\", \"astronaut\", \"astronaut\", \"astronom\", \"astronom\", \"astronomi\", \"atheism\", \"atheist\", \"atlanta\", \"atmospher\", \"atom\", \"atom\", \"attribut\", \"attribut\", \"attribut\", \"author\", \"author\", \"author\", \"author\", \"author\", \"author\", \"author\", \"auto\", \"autocad\", \"auxiliari\", \"avail\", \"avail\", \"avail\", \"avail\", \"avail\", \"avail\", \"avail\", \"avenu\", \"axe\", \"axi\", \"babi\", \"babi\", \"back\", \"back\", \"back\", \"back\", \"back\", \"back\", \"ball\", \"ballist\", \"baltimor\", \"baptist\", \"bar\", \"bar\", \"base\", \"base\", \"base\", \"base\", \"base\", \"base\", \"base\", \"base\", \"base\", \"base\", \"base\", \"batf\", \"bay\", \"beauti\", \"becam\", \"becam\", \"becam\", \"becam\", \"behaviour\", \"belief\", \"belief\", \"believ\", \"believ\", \"believ\", \"belt\", \"benefit\", \"benefit\", \"benefit\", \"bethlehem\", \"better\", \"better\", \"better\", \"better\", \"better\", \"bibl\", \"biblic\", \"biblic\", \"big\", \"big\", \"big\", \"big\", \"big\", \"bill\", \"billboard\", \"billion\", \"billion\", \"binari\", \"bingo\", \"bird\", \"birthday\", \"bitmap\", \"black\", \"black\", \"black\", \"block\", \"block\", \"bmp\", \"book\", \"book\", \"book\", \"book\", \"book\", \"book\", \"book\", \"book\", \"book\", \"bookstor\", \"border\", \"bought\", \"brand\", \"brass\", \"bring\", \"bring\", \"broadcast\", \"broadcast\", \"broken.\", \"bruce\", \"bsa\", \"buddi\", \"build\", \"build\", \"build\", \"build\", \"built\", \"built\", \"built\", \"bull\", \"burst\", \"burster\", \"byte\", \"c++\", \"c.o.egalon\", \"calib\", \"call\", \"call\", \"call\", \"call\", \"call\", \"call\", \"call\", \"call\", \"call\", \"call\", \"cambridg\", \"came\", \"came\", \"came\", \"camera\", \"camp\", \"campaign\", \"canada\", \"cancel\", \"candid\", \"capabl\", \"capabl\", \"capabl\", \"capabl\", \"capabl\", \"capit\", \"capit\", \"captur\", \"captur\", \"car\", \"card\", \"case\", \"case\", \"case\", \"case\", \"case\", \"catch\", \"categori\", \"categori\", \"cathol\", \"caus\", \"caus\", \"caus\", \"caus\", \"celebr\", \"cent\", \"centaur\", \"center\", \"center\", \"center\", \"center\", \"center\", \"center\", \"centuri\", \"centuri\", \"ceremoni\", \"challeng\", \"challeng\", \"chanc\", \"chang\", \"chang\", \"chang\", \"chang\", \"chang\", \"chang\", \"chang\", \"charact\", \"charact\", \"charact\", \"cheaper\", \"cheer\", \"chicago\", \"china\", \"chosen\", \"chri\", \"christ\", \"christ\", \"christian\", \"christian\", \"christian\", \"christian\", \"christma\", \"chuckl\", \"church\", \"circl\", \"circl\", \"circular\", \"citi\", \"citi\", \"citi\", \"citi\", \"claim\", \"claim\", \"classif\", \"clear\", \"clear\", \"click\", \"closer\", \"cloud\", \"cloud\", \"clown\", \"code\", \"code\", \"code\", \"code\", \"codifi\", \"cold\", \"cold\", \"collis\", \"color\", \"color\", \"colorado\", \"colour\", \"colour\", \"come\", \"come\", \"come\", \"come\", \"come\", \"come\", \"come\", \"come\", \"come\", \"comet\", \"commerci\", \"commerci\", \"commerci\", \"commerci\", \"commerci\", \"committe\", \"commonli\", \"commonli\", \"commun\", \"commun\", \"commun\", \"commun\", \"communist\", \"compat\", \"complet\", \"complet\", \"complet\", \"complet\", \"complet\", \"complet\", \"complet\", \"complex\", \"complex\", \"complex\", \"complex\", \"complic\", \"complic\", \"composit\", \"compound\", \"comprehens\", \"comprehens\", \"comput\", \"comput\", \"comput\", \"comput\", \"conceal\", \"conceiv\", \"conclus\", \"conclus\", \"conclus\", \"confer\", \"confid\", \"confirm\", \"confus\", \"confus\", \"confus\", \"conscienc\", \"consist\", \"consist\", \"consist\", \"consist\", \"consist\", \"consist\", \"consist\", \"contact\", \"contact\", \"contact\", \"contest\", \"context\", \"context\", \"context\", \"contin\", \"contin\", \"contour\", \"contradictori\", \"control\", \"control\", \"control\", \"control\", \"conveni\", \"conveni\", \"convers\", \"convers\", \"convers\", \"convers\", \"convers\", \"convert\", \"convert\", \"coordin\", \"corp.\", \"correct\", \"correct\", \"correct\", \"correct\", \"correct\", \"correct\", \"correct\", \"correspond\", \"corrupt\", \"corrupt\", \"cosmic\", \"cosmic\", \"cosmolog\", \"cost\", \"cost\", \"cost\", \"cost\", \"cost\", \"could\", \"could\", \"could\", \"could\", \"could\", \"could\", \"could\", \"could\", \"could\", \"counti\", \"coupl\", \"coupl\", \"coupl\", \"cours\", \"cours\", \"cours\", \"cours\", \"cours\", \"cours\", \"cours\", \"craig\", \"crash\", \"creationist\", \"cri\", \"crime\", \"crime\", \"crime\", \"crimin\", \"criteria\", \"crop\", \"crowd\", \"crowley\", \"crucifi\", \"cruel\", \"crystal\", \"cube\", \"cubic\", \"cult\", \"cultur\", \"custom\", \"custom\", \"custom\", \"cut\", \"cut\", \"cview\", \"cyru\", \"danc\", \"danger\", \"data\", \"data\", \"data\", \"data\", \"daughter\", \"dave\", \"davidian\", \"day\", \"day\", \"day\", \"day\", \"day\", \"day\", \"dc-i\", \"dead\", \"death\", \"death\", \"death\", \"decad\", \"decad\", \"decenso\", \"decenso\", \"decis\", \"dedic\", \"dedic\", \"deed\", \"deed\", \"default\", \"default\", \"defi\", \"defin\", \"defin\", \"defin\", \"defin\", \"definit\", \"definit\", \"definit\", \"degre\", \"delet\", \"delta\", \"delta\", \"demonstr\", \"demonstr\", \"demonstr\", \"demonstr\", \"denni\", \"denot\", \"denot\", \"depress\", \"depth\", \"descend\", \"design\", \"design\", \"design\", \"design\", \"despit\", \"despit\", \"despit\", \"destabil\", \"destruct\", \"detect\", \"detector\", \"deterr\", \"develop\", \"develop\", \"develop\", \"develop\", \"develop\", \"devic\", \"devic\", \"diamond\", \"differ\", \"differ\", \"differ\", \"differ\", \"differ\", \"differ\", \"differ\", \"differ\", \"differ\", \"digit\", \"digit\", \"dimension\", \"direct\", \"direct\", \"direct\", \"direct\", \"direct\", \"direct\", \"direct\", \"direct\", \"director\", \"directori\", \"disagre\", \"disagre\", \"disagre\", \"disagre\", \"disbelief\", \"discuss\", \"discuss\", \"discuss\", \"discuss\", \"discuss\", \"discuss\", \"discuss\", \"discuss\", \"diseas\", \"dispers\", \"display\", \"display\", \"distanc\", \"distanc\", \"distinguish\", \"distribut\", \"distribut\", \"distribut\", \"divin\", \"divis\", \"dock\", \"doctrin\", \"doctrin\", \"dogma\", \"dollar\", \"dolphin\", \"done\", \"done\", \"done\", \"door\", \"dot\", \"doubl\", \"doug\", \"dougla\", \"dr.\", \"dr.\", \"dr.\", \"dr.\", \"draw\", \"draw\", \"draw\", \"drawn\", \"dri\", \"dri\", \"driver\", \"driver\", \"dryden\", \"due\", \"due\", \"due\", \"due\", \"due\", \"due\", \"durat\", \"e-mail\", \"e-mail\", \"e-mail\", \"e.g\", \"e.g\", \"e.g\", \"ear\", \"earli\", \"earli\", \"earli\", \"earli\", \"earth\", \"earth\", \"earth\", \"earth\", \"earth\", \"earth\", \"easi\", \"easi\", \"easi\", \"easi\", \"easier\", \"easier\", \"easier\", \"easier\", \"eat\", \"eat\", \"eat\", \"echo\", \"echo\", \"econom\", \"edg\", \"edg\", \"edg\", \"edward\", \"egypt\", \"einstein\", \"either\", \"either\", \"either\", \"either\", \"either\", \"either\", \"either\", \"elect\", \"elimin\", \"elimin\", \"email\", \"email\", \"email\", \"embarrass\", \"embarrass\", \"emphasi\", \"emphasi\", \"employe\", \"enemi\", \"energi\", \"energi\", \"energi\", \"engin\", \"engin\", \"engin\", \"engin\", \"england\", \"enorm\", \"enorm\", \"entri\", \"equal\", \"equal\", \"equal\", \"equal\", \"equat\", \"equat\", \"equival\", \"equival\", \"ergo\", \"eric\", \"error\", \"error\", \"error\", \"escap\", \"esoter\", \"especi\", \"especi\", \"essenc\", \"etc\", \"etc\", \"etc\", \"etc\", \"etc\", \"etc\", \"etc\", \"europ\", \"even\", \"even\", \"even\", \"even\", \"even\", \"even\", \"even\", \"even\", \"even\", \"even\", \"even\", \"event\", \"event\", \"event\", \"event\", \"event\", \"everi\", \"everi\", \"everi\", \"everi\", \"evid\", \"evid\", \"evid\", \"exact\", \"exact\", \"exampl\", \"exampl\", \"exampl\", \"exampl\", \"exampl\", \"exampl\", \"exampl\", \"exampl\", \"except\", \"except\", \"except\", \"except\", \"except\", \"except\", \"exchang\", \"exclus\", \"exclus\", \"exercis\", \"exhibit\", \"exhibit\", \"exist\", \"exist\", \"exist\", \"exist\", \"exist\", \"exist\", \"explod\", \"export\", \"export\", \"export\", \"extens\", \"extens\", \"extens\", \"faa\", \"fail\", \"fail\", \"fail\", \"fail\", \"failur\", \"fair\", \"fair\", \"fairli\", \"fairli\", \"faith\", \"faith\", \"faith\", \"fallaci\", \"fals\", \"famou\", \"famou\", \"faq\", \"faq\", \"far\", \"far\", \"far\", \"far\", \"far\", \"far\", \"far\", \"far\", \"far\", \"fashion\", \"fast\", \"faster\", \"faster\", \"fatwa\", \"favor\", \"favor\", \"favorit\", \"fax\", \"fear\", \"fear\", \"field\", \"field\", \"field\", \"field\", \"field\", \"fighter\", \"file\", \"file\", \"filter\", \"find\", \"find\", \"find\", \"find\", \"find\", \"find\", \"find\", \"fire\", \"fire\", \"first\", \"first\", \"first\", \"first\", \"first\", \"first\", \"first\", \"first\", \"first\", \"first\", \"first\", \"first\", \"first\", \"fix\", \"flame\", \"flavor\", \"flew\", \"flew\", \"flight\", \"flight\", \"flight\", \"flip\", \"flip\", \"float\", \"flood\", \"floor\", \"florida\", \"fluid\", \"fold\", \"follow\", \"follow\", \"follow\", \"follow\", \"follow\", \"follow\", \"follow\", \"follow\", \"follow\", \"food\", \"food\", \"food\", \"forc\", \"forc\", \"forc\", \"forc\", \"forc\", \"format\", \"format\", \"forth\", \"fortun\", \"forum\", \"forum\", \"forum\", \"forum\", \"foundat\", \"foundat\", \"foundat\", \"foundat\", \"fractal\", \"fraction\", \"frank\", \"frank\", \"frank\", \"freedom\", \"fruit\", \"frustrat\", \"ftp\", \"ftp\", \"ftp\", \"fuel\", \"fulfil\", \"full\", \"full\", \"full\", \"full\", \"full\", \"function\", \"function\", \"function\", \"function\", \"fund\", \"fund\", \"fundament\", \"fundament\", \"fundamentalist\", \"fundamentalist\", \"galact\", \"galaxi\", \"gamma\", \"gay\", \"gee\", \"gener\", \"gener\", \"gener\", \"gener\", \"gener\", \"gener\", \"gener\", \"genesi\", \"geocentr\", \"geometri\", \"german\", \"german\", \"germani\", \"germani\", \"get\", \"get\", \"get\", \"get\", \"get\", \"get\", \"get\", \"get\", \"get\", \"get\", \"giant\", \"gif\", \"gift\", \"give\", \"give\", \"give\", \"give\", \"give\", \"give\", \"give\", \"glass\", \"gnp\", \"goal\", \"goal\", \"god\", \"god\", \"god\", \"goldin\", \"good\", \"good\", \"good\", \"good\", \"good\", \"good\", \"good\", \"good\", \"good\", \"good\", \"gospel\", \"graph\", \"graphic\", \"graphic\", \"graphic\", \"gravit\", \"graviti\", \"grb\", \"great\", \"great\", \"great\", \"great\", \"great\", \"greatli\", \"greed\", \"greek\", \"green\", \"griffin\", \"group\", \"group\", \"group\", \"guest\", \"guest\", \"gun\", \"gun\", \"hair\", \"hair\", \"halo\", \"hand\", \"hand\", \"hang\", \"happen\", \"happen\", \"happi\", \"happi\", \"happi\", \"happi\", \"hard\", \"hard\", \"hard\", \"harsh\", \"hasti\", \"he'\", \"header\", \"hear\", \"hear\", \"hear\", \"help\", \"help\", \"help\", \"help\", \"her\", \"her\", \"hga\", \"hga\", \"hidden\", \"histori\", \"histori\", \"histori\", \"hmm\", \"hobbi\", \"hole\", \"holi\", \"holi\", \"homosexu\", \"honor\", \"hope\", \"hope\", \"hope\", \"hope\", \"hope\", \"hope\", \"hope\", \"horizont\", \"host\", \"hous\", \"hous\", \"hous\", \"houston\", \"hudson\", \"hudson\", \"human\", \"human\", \"human\", \"human\", \"humor\", \"hurt\", \"hypocrit\", \"i/o\", \"iapetu\", \"ibm\", \"ibm\", \"idea\", \"idea\", \"idea\", \"idea\", \"idea\", \"idea\", \"idea\", \"ident\", \"illinoi\", \"imag\", \"imag\", \"imag\", \"imag\", \"imag\", \"imagin\", \"imagin\", \"imagin\", \"imagin\", \"immigr\", \"implic\", \"impress\", \"imprison\", \"impuls\", \"inc\", \"inc.\", \"inc.\", \"includ\", \"includ\", \"includ\", \"includ\", \"includ\", \"includ\", \"includ\", \"includ\", \"incorrect\", \"increas\", \"increas\", \"increas\", \"increas\", \"incred\", \"increment\", \"inde\", \"inde\", \"inde\", \"inde\", \"inde\", \"india\", \"indic\", \"indic\", \"indic\", \"indic\", \"indic\", \"indic\", \"induct\", \"inerr\", \"inertia\", \"infer\", \"infer\", \"inflat\", \"influenc\", \"inform\", \"inform\", \"inform\", \"inform\", \"inform\", \"iniqu\", \"instal\", \"institut\", \"institut\", \"institut\", \"intens\", \"intens\", \"interest\", \"interest\", \"interest\", \"interest\", \"interest\", \"interest\", \"interfer\", \"internet\", \"internet\", \"internet\", \"interpol\", \"interpret\", \"interpret\", \"interpret\", \"intersect\", \"intrigu\", \"introduc\", \"invest\", \"invest\", \"involv\", \"involv\", \"involv\", \"involv\", \"involv\", \"irregular\", \"isbn\", \"islam\", \"islam\", \"island\", \"island\", \"israelit\", \"issu\", \"issu\", \"issu\", \"issu\", \"issu\", \"issu\", \"issu\", \"jesu\", \"jew\", \"jew\", \"jew\", \"jewish\", \"jim\", \"joe\", \"join\", \"join\", \"joint\", \"joke\", \"jone\", \"jose\", \"joseph\", \"joseph\", \"josephu\", \"josh\", \"joy\", \"jpeg\", \"jsc\", \"judah\", \"judg\", \"judg\", \"judg\", \"june\", \"jupit\", \"justic\", \"justic\", \"justif\", \"karl\", \"ken\", \"kent\", \"khomeini\", \"khoro\", \"kill\", \"kill\", \"kind\", \"kind\", \"kind\", \"kind\", \"kind\", \"kind\", \"kind\", \"king\", \"king\", \"kiss\", \"knew\", \"knight\", \"knock\", \"know\", \"know\", \"know\", \"know\", \"know\", \"know\", \"know\", \"know\", \"know\", \"know\", \"knowledg\", \"knowledg\", \"knowledg\", \"knowledg\", \"koresh\", \"kuiper\", \"l.a.\", \"lab\", \"land\", \"land\", \"land\", \"land\", \"land\", \"land\", \"langley\", \"larc.nasa.gov\", \"larg\", \"larg\", \"larg\", \"larg\", \"larg\", \"larg\", \"larg\", \"larg\", \"larg\", \"larg\", \"larger\", \"larger\", \"larger\", \"last\", \"last\", \"last\", \"last\", \"last\", \"last\", \"last\", \"last\", \"last\", \"late\", \"later\", \"later\", \"later\", \"latest\", \"latest\", \"launch\", \"launch\", \"launcher\", \"launcher\", \"law\", \"law\", \"law\", \"lawson\", \"leader\", \"legisl\", \"legisl\", \"length\", \"lest\", \"let\", \"let\", \"let\", \"let\", \"let\", \"let\", \"lexicon\", \"liar\", \"librari\", \"librari\", \"licens\", \"life\", \"life\", \"liftoff\", \"light\", \"light\", \"light\", \"light\", \"light\", \"light\", \"lighter\", \"like\", \"like\", \"like\", \"like\", \"like\", \"like\", \"like\", \"like\", \"like\", \"like\", \"line\", \"line\", \"line\", \"line\", \"line\", \"line\", \"line\", \"link\", \"linux\", \"liquid\", \"list\", \"list\", \"list\", \"list\", \"list\", \"littl\", \"littl\", \"littl\", \"littl\", \"local\", \"local\", \"local\", \"locat\", \"locat\", \"logic\", \"logic\", \"logic\", \"look\", \"look\", \"look\", \"look\", \"look\", \"look\", \"look\", \"look\", \"look\", \"lot\", \"lot\", \"lot\", \"lot\", \"lot\", \"lot\", \"lot\", \"lot\", \"lot\", \"love\", \"love\", \"love\", \"lover\", \"low\", \"low\", \"low\", \"low\", \"low-cost\", \"lox\", \"lucif\", \"lucki\", \"lunar\", \"lust\", \"made\", \"made\", \"made\", \"made\", \"made\", \"made\", \"made\", \"made\", \"made\", \"mag\", \"magazin\", \"magellan\", \"magnetomet\", \"make\", \"make\", \"make\", \"make\", \"make\", \"make\", \"make\", \"make\", \"make\", \"make\", \"make\", \"make\", \"make\", \"manag\", \"manag\", \"manag\", \"mani\", \"mani\", \"mani\", \"mani\", \"mani\", \"mani\", \"mani\", \"mankind\", \"manner\", \"map\", \"map\", \"map\", \"mar\", \"mar\", \"mar\", \"mari\", \"mari\", \"martian\", \"maryland\", \"maryland\", \"mass\", \"mass\", \"mat\", \"mate\", \"matthew\", \"matthew\", \"max\", \"mcdonnel\", \"mean\", \"mean\", \"mean\", \"mean\", \"mean\", \"mean\", \"mean\", \"mean\", \"measur\", \"measur\", \"measur\", \"mechan\", \"mechan\", \"medic\", \"men\", \"men\", \"men\", \"men\", \"menu\", \"merced\", \"mercuri\", \"mercuri\", \"mercuri\", \"messag\", \"messag\", \"messag\", \"messag\", \"messiah\", \"metaphys\", \"mexico\", \"mhz\", \"microwav\", \"microwav\", \"mid\", \"might\", \"might\", \"might\", \"might\", \"might\", \"might\", \"might\", \"might\", \"might\", \"mile\", \"mile\", \"militari\", \"militari\", \"milk\", \"million\", \"million\", \"min\", \"miner\", \"minor\", \"minor\", \"minor\", \"missil\", \"missil\", \"missil\", \"mission\", \"mode\", \"mode\", \"model\", \"model\", \"model\", \"model\", \"model\", \"modem\", \"modul\", \"monday\", \"moon\", \"moon\", \"moon\", \"moon\", \"moonbas\", \"moral\", \"mormon\", \"moscow\", \"mose\", \"mother\", \"mother\", \"motion\", \"motor\", \"mount\", \"mous\", \"movi\", \"mr.\", \"ms.\", \"msb\", \"much\", \"much\", \"much\", \"much\", \"much\", \"much\", \"much\", \"much\", \"much\", \"much\", \"multimedia\", \"muslim\", \"must\", \"must\", \"must\", \"must\", \"must\", \"must\", \"myth\", \"n't\", \"n't\", \"n't\", \"n't\", \"n't\", \"n't\", \"n't\", \"n't\", \"n't\", \"n't\", \"n't\", \"nasa\", \"nasa\", \"nasa\", \"nasa\", \"nation\", \"nation\", \"nation\", \"nation\", \"nation\", \"natur\", \"natur\", \"natur\", \"natur\", \"navi\", \"ncsa\", \"near\", \"near\", \"near\", \"near\", \"near\", \"need\", \"need\", \"need\", \"need\", \"need\", \"need\", \"need\", \"need\", \"need\", \"need\", \"need\", \"need\", \"need\", \"negoti\", \"neutron\", \"new\", \"new\", \"new\", \"new\", \"new\", \"new\", \"new\", \"new\", \"new\", \"news\", \"news\", \"news\", \"news\", \"newsgroup\", \"newsgroup\", \"newslett\", \"newspap\", \"newton\", \"next\", \"next\", \"next\", \"next\", \"next\", \"nice\", \"nice\", \"nice\", \"nicknam\", \"night\", \"night\", \"night\", \"node\", \"non\", \"nope\", \"normal\", \"normal\", \"normal\", \"normal\", \"normal\", \"north\", \"north\", \"north\", \"note\", \"note\", \"note\", \"note\", \"note\", \"note\", \"note\", \"note\", \"noth\", \"noth\", \"noth\", \"noth\", \"noth\", \"notic\", \"notic\", \"notic\", \"notic\", \"notic\", \"nth\", \"nut\", \"obey\", \"object\", \"object\", \"object\", \"object\", \"object\", \"oblig\", \"observ\", \"observ\", \"observ\", \"observ\", \"observ\", \"observatori\", \"occur\", \"occur\", \"occur\", \"occur\", \"offend\", \"offens\", \"offic\", \"offic\", \"offic\", \"offic\", \"old\", \"old\", \"old\", \"old\", \"old\", \"old\", \"one\", \"one\", \"one\", \"one\", \"one\", \"one\", \"one\", \"one\", \"one\", \"one\", \"one\", \"one\", \"one\", \"one\", \"one\", \"onlin\", \"oper\", \"oper\", \"oper\", \"option\", \"option\", \"orang\", \"orbit\", \"orbit\", \"orbit\", \"order\", \"order\", \"order\", \"order\", \"order\", \"other\", \"other\", \"other\", \"other\", \"ought\", \"output\", \"outward\", \"p.o\", \"packag\", \"pad\", \"pad\", \"page\", \"page\", \"page\", \"page\", \"pain\", \"painless\", \"palett\", \"panic\", \"parad\", \"paradis\", \"paramet\", \"paranoid\", \"pari\", \"park\", \"parodi\", \"part\", \"part\", \"part\", \"part\", \"part\", \"part\", \"part\", \"part\", \"parti\", \"parti\", \"pascal\", \"passov\", \"pat\", \"payload\", \"payload\", \"payload\", \"payload\", \"pbmplu\", \"pcx\", \"penalti\", \"peopl\", \"peopl\", \"peopl\", \"peopl\", \"peopl\", \"peopl\", \"percent\", \"percent\", \"perfectli\", \"perfectli\", \"perhap\", \"perhap\", \"perhap\", \"perihelion\", \"permiss\", \"persecut\", \"persist\", \"person\", \"person\", \"person\", \"person\", \"person\", \"person\", \"person\", \"persuad\", \"pet\", \"pharise\", \"phig\", \"phil\", \"phobo\", \"physic\", \"physic\", \"physic\", \"physic\", \"physic\", \"physicist\", \"physicist\", \"pilot\", \"pink\", \"pixel\", \"pixmap\", \"place\", \"place\", \"place\", \"place\", \"place\", \"place\", \"place\", \"plain\", \"plain\", \"plane\", \"plane\", \"plane\", \"planet\", \"planet\", \"planetari\", \"platform\", \"platform\", \"platform\", \"plausibl\", \"pleas\", \"pleas\", \"plot\", \"plot\", \"plot\", \"point\", \"point\", \"point\", \"point\", \"point\", \"point\", \"point\", \"pole\", \"pollut\", \"polygon\", \"pool\", \"popul\", \"popul\", \"popul\", \"port\", \"portion\", \"portion\", \"posit\", \"posit\", \"posit\", \"posit\", \"posit\", \"posit\", \"post\", \"post\", \"post\", \"post\", \"post\", \"poster\", \"postscript\", \"postul\", \"pov\", \"power\", \"power\", \"power\", \"power\", \"power\", \"prais\", \"prayer\", \"preach\", \"preach\", \"premis\", \"preserv\", \"presid\", \"presid\", \"pride\", \"priest\", \"priest\", \"prime\", \"principl\", \"principl\", \"principl\", \"principl\", \"printer\", \"prize\", \"probabl\", \"probabl\", \"probabl\", \"probabl\", \"probabl\", \"probabl\", \"probe\", \"problem\", \"problem\", \"problem\", \"problem\", \"problem\", \"problem\", \"problem\", \"process\", \"process\", \"process\", \"process\", \"process\", \"process\", \"produc\", \"produc\", \"produc\", \"produc\", \"produc\", \"produc\", \"profession\", \"profession\", \"profit\", \"profit\", \"program\", \"program\", \"program\", \"program\", \"program\", \"program\", \"project\", \"project\", \"project\", \"project\", \"project\", \"project\", \"proof\", \"propheci\", \"prophet\", \"propog\", \"propos\", \"propos\", \"propos\", \"propos\", \"propos\", \"proposit\", \"propuls\", \"proton\", \"proud\", \"provid\", \"provid\", \"provid\", \"provid\", \"provid\", \"provid\", \"provid\", \"psycholog\", \"public\", \"public\", \"public\", \"public\", \"punish\", \"punish\", \"push\", \"push\", \"push\", \"quantiz\", \"quantum\", \"question\", \"question\", \"question\", \"question\", \"question\", \"quicktim\", \"quit\", \"quit\", \"quit\", \"quit\", \"quit\", \"quot\", \"quot\", \"quot\", \"quot\", \"quot\", \"quot\", \"quot\", \"qur'an\", \"radar\", \"radiu\", \"radiu\", \"radiu\", \"ran\", \"rapid\", \"raster\", \"raster\", \"rat\", \"ration\", \"rave\", \"raw\", \"raw\", \"raw\", \"ray\", \"ray\", \"ray-trac\", \"rayshad\", \"raytrac\", \"reaction\", \"read\", \"read\", \"read\", \"read\", \"read\", \"read\", \"read\", \"read\", \"read\", \"read\", \"real\", \"real\", \"real\", \"real\", \"real\", \"real\", \"real\", \"realiti\", \"realiti\", \"realiti\", \"realli\", \"realli\", \"realli\", \"realli\", \"realli\", \"realli\", \"realli\", \"reason\", \"reason\", \"reason\", \"reason\", \"reason\", \"recal\", \"recal\", \"recal\", \"reciev\", \"reckon\", \"reconstruct\", \"red\", \"red\", \"red\", \"reduct\", \"redund\", \"refer\", \"refer\", \"refer\", \"refer\", \"refer\", \"refer\", \"refer\", \"refer\", \"regist\", \"regular\", \"regular\", \"rel\", \"rel\", \"rel\", \"rel\", \"rel\", \"religi\", \"religi\", \"religion\", \"religion\", \"religion\", \"religion\", \"remind\", \"remot\", \"render\", \"render\", \"renounc\", \"repli\", \"repli\", \"reproduc\", \"reput\", \"request\", \"requir\", \"requir\", \"requir\", \"requir\", \"requir\", \"requir\", \"requir\", \"research\", \"research\", \"research\", \"research\", \"research\", \"reson\", \"resourc\", \"resourc\", \"respect\", \"respect\", \"respect\", \"respect\", \"respect\", \"respond\", \"respond\", \"respons\", \"respons\", \"respons\", \"respons\", \"reston\", \"result\", \"result\", \"result\", \"result\", \"result\", \"result\", \"result\", \"result\", \"reveal\", \"reveal\", \"reward\", \"richard\", \"ridicul\", \"right\", \"right\", \"right\", \"right\", \"right\", \"right\", \"right\", \"risk\", \"robert\", \"robert\", \"robert\", \"rocket\", \"rocket\", \"rocket\", \"rocket\", \"rocketri\", \"ron\", \"rose\", \"rosicrucian\", \"routin\", \"routin\", \"row\", \"rs6000\", \"rule\", \"rule\", \"rule\", \"rule\", \"rule\", \"rule\", \"rule\", \"rumor\", \"run\", \"run\", \"run\", \"run\", \"run\", \"run\", \"rushdi\", \"russian\", \"russian\", \"russian\", \"russian\", \"safeti\", \"safeti\", \"safeti\", \"said\", \"said\", \"said\", \"said\", \"sail\", \"salyut\", \"sampl\", \"san\", \"san\", \"sand\", \"sat\", \"satan\", \"satellit\", \"satellit\", \"save\", \"save\", \"save\", \"saw\", \"saw\", \"say\", \"say\", \"say\", \"say\", \"say\", \"say\", \"scan\", \"scan\", \"scanner\", \"scari\", \"scenario\", \"sceptic\", \"scheme\", \"scheme\", \"scholar\", \"scholarli\", \"sci.astro\", \"scodal\", \"screen\", \"screen\", \"screen\", \"scum\", \"sdio\", \"search\", \"search\", \"search\", \"sec\", \"second\", \"second\", \"second\", \"second\", \"second\", \"second\", \"second\", \"second\", \"second\", \"see\", \"see\", \"see\", \"see\", \"see\", \"see\", \"see\", \"see\", \"seem\", \"seem\", \"seem\", \"seem\", \"seem\", \"segment\", \"send\", \"send\", \"send\", \"send\", \"senior\", \"sens\", \"sens\", \"sens\", \"sens\", \"sens\", \"servant\", \"server\", \"server\", \"set\", \"set\", \"set\", \"set\", \"set\", \"set\", \"set\", \"set\", \"set\", \"set\", \"sever\", \"sever\", \"sever\", \"sever\", \"sever\", \"sever\", \"sex\", \"sex\", \"sex\", \"shade\", \"shafer\", \"shall\", \"shall\", \"shape\", \"shape\", \"sheet\", \"sheet\", \"show\", \"show\", \"show\", \"show\", \"show\", \"show\", \"show\", \"shuttl\", \"shuttl\", \"siggraph\", \"silli\", \"similar\", \"similar\", \"similar\", \"similar\", \"similar\", \"similar\", \"similar\", \"similar\", \"similar\", \"simpler\", \"simplist\", \"sin\", \"sin\", \"sinc\", \"sinc\", \"sinc\", \"sinc\", \"sinc\", \"sinc\", \"sinc\", \"sinc\", \"sinc\", \"sinc\", \"sincer\", \"sink\", \"site\", \"site\", \"site\", \"site\", \"site\", \"sky\", \"sky\", \"sleep\", \"slope\", \"small\", \"small\", \"small\", \"small\", \"small\", \"smaller\", \"smaller\", \"smooth\", \"soc.religion.islam\", \"social\", \"social\", \"societi\", \"societi\", \"societi\", \"societi\", \"softwar\", \"softwar\", \"softwar\", \"solar\", \"sole\", \"sole\", \"solut\", \"someth\", \"someth\", \"someth\", \"someth\", \"someth\", \"someth\", \"someth\", \"someth\", \"someth\", \"sometim\", \"sometim\", \"sometim\", \"son\", \"son\", \"son\", \"sort\", \"sort\", \"sort\", \"sound\", \"sound\", \"sound\", \"sound\", \"sound\", \"sound\", \"sourc\", \"sourc\", \"sourc\", \"sourc\", \"sourc\", \"sourc\", \"sourc\", \"south\", \"soyuz\", \"space\", \"space\", \"space\", \"space\", \"space\", \"spacecraft\", \"spaceflight\", \"specif\", \"specif\", \"specif\", \"specif\", \"specif\", \"spectromet\", \"spectrum\", \"speech\", \"spencer\", \"spend\", \"spend\", \"spin\", \"spline\", \"split\", \"split\", \"spring\", \"spring\", \"spring\", \"ssf\", \"ssrt\", \"stabl\", \"stage\", \"stage\", \"star\", \"star\", \"start\", \"start\", \"start\", \"start\", \"start\", \"state\", \"state\", \"state\", \"state\", \"statement\", \"station\", \"station\", \"station\", \"station\", \"step\", \"step\", \"stephen\", \"stephen\", \"stephen\", \"still\", \"still\", \"still\", \"still\", \"still\", \"still\", \"storag\", \"stori\", \"stori\", \"storm\", \"straightforward\", \"stress\", \"string\", \"stroke\", \"structur\", \"structur\", \"structur\", \"structur\", \"structur\", \"struggl\", \"stuck\", \"stuff\", \"stuff\", \"stuff\", \"stuff\", \"stuff\", \"subscrib\", \"success\", \"success\", \"success\", \"success\", \"success\", \"suggest\", \"suggest\", \"suggest\", \"suggest\", \"suggest\", \"suggest\", \"sun\", \"sun\", \"sun\", \"sun\", \"sun\", \"sunlight\", \"sunris\", \"sunset\", \"superhuman\", \"support\", \"support\", \"support\", \"support\", \"support\", \"support\", \"sure\", \"sure\", \"sure\", \"sure\", \"sure\", \"sure\", \"surpris\", \"surrend\", \"surviv\", \"surviv\", \"sutherland\", \"sweep\", \"symbol\", \"system\", \"system\", \"system\", \"system\", \"system\", \"t.r.m\", \"take\", \"take\", \"take\", \"take\", \"take\", \"take\", \"take\", \"take\", \"take\", \"talk.religion.misc\", \"tank\", \"tape\", \"target\", \"tast\", \"tea\", \"teach\", \"teach\", \"teach\", \"teach\", \"teach\", \"team\", \"team\", \"tech\", \"technic\", \"technic\", \"technic\", \"technolog\", \"technolog\", \"technolog\", \"tel\", \"telepathi\", \"telephon\", \"telescop\", \"telescop\", \"tell\", \"tell\", \"tell\", \"tell\", \"tell\", \"templ\", \"term\", \"term\", \"term\", \"term\", \"term\", \"term\", \"test\", \"test\", \"test\", \"testb\", \"text\", \"text\", \"text\", \"text\", \"textur\", \"thank\", \"thank\", \"thank\", \"thank\", \"theist\", \"theme\", \"theolog\", \"theori\", \"theori\", \"theori\", \"theori\", \"therefor\", \"therefor\", \"therefor\", \"thing\", \"thing\", \"thing\", \"thing\", \"thing\", \"thing\", \"thing\", \"thing\", \"thing\", \"thing\", \"think\", \"think\", \"think\", \"think\", \"think\", \"think\", \"think\", \"think\", \"think\", \"think\", \"thor\", \"thought\", \"thought\", \"thu\", \"thu\", \"thu\", \"thu\", \"thu\", \"tiff\", \"time\", \"time\", \"time\", \"time\", \"time\", \"time\", \"time\", \"time\", \"time\", \"tio2\", \"tip\", \"titan\", \"today\", \"today\", \"today\", \"today\", \"today\", \"today\", \"tom\", \"tonga\", \"toni\", \"toni\", \"took\", \"took\", \"took\", \"took\", \"took\", \"toolkit\", \"trace\", \"trace\", \"tracer\", \"tradit\", \"tradit\", \"tradit\", \"tragic\", \"transfer\", \"treason\", \"tree\", \"tree\", \"trend\", \"tri\", \"tri\", \"tri\", \"tri\", \"tri\", \"triangl\", \"triangul\", \"tribe\", \"trident\", \"trim\", \"true\", \"true\", \"true\", \"true\", \"true\", \"true\", \"true\", \"trust\", \"truth\", \"truth\", \"tuesday\", \"turn\", \"turn\", \"turn\", \"turn\", \"turn\", \"twice\", \"two\", \"two\", \"two\", \"two\", \"two\", \"two\", \"two\", \"two\", \"two\", \"two\", \"u.s.\", \"u.s.\", \"u.s.\", \"ultra\", \"unabl\", \"unbeliev\", \"uncount\", \"underli\", \"understand\", \"understand\", \"understand\", \"understand\", \"understand\", \"understand\", \"undesir\", \"univers\", \"univers\", \"univers\", \"univers\", \"univers\", \"univers\", \"univers\", \"univers\", \"univers\", \"unix\", \"unlimit\", \"upgrad\", \"uranu\", \"uranu\", \"usaf\", \"use\", \"use\", \"use\", \"use\", \"use\", \"use\", \"use\", \"use\", \"use\", \"use\", \"use\", \"use\", \"use\", \"user\", \"user\", \"util\", \"util\", \"vagu\", \"valid\", \"valley\", \"valu\", \"valu\", \"valu\", \"valu\", \"van\", \"vari\", \"vari\", \"variat\", \"vast\", \"vector\", \"vehicl\", \"vehicl\", \"ventur\", \"venu\", \"vers\", \"vers\", \"vers\", \"version\", \"version\", \"version\", \"version\", \"versu\", \"vesa\", \"vga\", \"vice.ico.tek.com\", \"video\", \"view\", \"view\", \"view\", \"view\", \"view\", \"viewer\", \"viewer\", \"violat\", \"violat\", \"violent\", \"virtu\", \"virtual\", \"virtual\", \"visual\", \"visual\", \"voic\", \"volum\", \"volum\", \"von\", \"vs.\", \"wade\", \"wait\", \"wait\", \"wait\", \"waiver\", \"wate\", \"way\", \"way\", \"way\", \"way\", \"way\", \"way\", \"way\", \"way\", \"wayn\", \"weak\", \"weight\", \"weight\", \"weiss\", \"well\", \"well\", \"well\", \"well\", \"well\", \"well\", \"well\", \"well\", \"well\", \"western\", \"whatev\", \"whatev\", \"whatev\", \"whenev\", \"whole\", \"whole\", \"whole\", \"widget\", \"win\", \"window\", \"window\", \"wing\", \"wire\", \"wisdom\", \"within\", \"within\", \"within\", \"within\", \"within\", \"within\", \"within\", \"without\", \"without\", \"without\", \"without\", \"without\", \"without\", \"women\", \"wonder\", \"wonder\", \"wonder\", \"wonder\", \"wonder\", \"word\", \"word\", \"word\", \"word\", \"word\", \"word\", \"worden\", \"work\", \"work\", \"work\", \"work\", \"work\", \"work\", \"work\", \"work\", \"work\", \"workshop\", \"world\", \"world\", \"world\", \"world\", \"world\", \"world\", \"world\", \"worship\", \"would\", \"would\", \"would\", \"would\", \"would\", \"would\", \"would\", \"would\", \"write\", \"write\", \"write\", \"write\", \"write\", \"write\", \"write\", \"wrong\", \"wrong\", \"wrong\", \"wrong\", \"wuarchiv\", \"wwii\", \"x-1\", \"x-15\", \"x11\", \"year\", \"year\", \"year\", \"year\", \"year\", \"year\", \"year\", \"year\", \"year\", \"yee\", \"york\", \"york\", \"youngster\"]}, \"R\": 30, \"lambda.step\": 0.01, \"plot.opts\": {\"xlab\": \"PC1\", \"ylab\": \"PC2\"}, \"topic.order\": [1, 22, 2, 17, 10, 11, 15, 14, 9, 7, 24, 21, 3, 20, 12, 4, 18, 25, 19, 13, 16, 6, 23, 5, 8]};\n",
       "\n",
       "function LDAvis_load_lib(url, callback){\n",
       "  var s = document.createElement('script');\n",
       "  s.src = url;\n",
       "  s.async = true;\n",
       "  s.onreadystatechange = s.onload = callback;\n",
       "  s.onerror = function(){console.warn(\"failed to load library \" + url);};\n",
       "  document.getElementsByTagName(\"head\")[0].appendChild(s);\n",
       "}\n",
       "\n",
       "if(typeof(LDAvis) !== \"undefined\"){\n",
       "   // already loaded: just create the visualization\n",
       "   !function(LDAvis){\n",
       "       new LDAvis(\"#\" + \"ldavis_el1610418680596769605746510013\", ldavis_el1610418680596769605746510013_data);\n",
       "   }(LDAvis);\n",
       "}else if(typeof define === \"function\" && define.amd){\n",
       "   // require.js is available: use it to load d3/LDAvis\n",
       "   require.config({paths: {d3: \"https://cdnjs.cloudflare.com/ajax/libs/d3/3.5.5/d3.min\"}});\n",
       "   require([\"d3\"], function(d3){\n",
       "      window.d3 = d3;\n",
       "      LDAvis_load_lib(\"https://cdn.rawgit.com/bmabey/pyLDAvis/files/ldavis.v1.0.0.js\", function(){\n",
       "        new LDAvis(\"#\" + \"ldavis_el1610418680596769605746510013\", ldavis_el1610418680596769605746510013_data);\n",
       "      });\n",
       "    });\n",
       "}else{\n",
       "    // require.js not available: dynamically load d3 & LDAvis\n",
       "    LDAvis_load_lib(\"https://cdnjs.cloudflare.com/ajax/libs/d3/3.5.5/d3.min.js\", function(){\n",
       "         LDAvis_load_lib(\"https://cdn.rawgit.com/bmabey/pyLDAvis/files/ldavis.v1.0.0.js\", function(){\n",
       "                 new LDAvis(\"#\" + \"ldavis_el1610418680596769605746510013\", ldavis_el1610418680596769605746510013_data);\n",
       "            })\n",
       "         });\n",
       "}\n",
       "</script>"
      ],
      "text/plain": [
       "PreparedData(topic_coordinates=              x         y  topics  cluster       Freq\n",
       "topic                                                \n",
       "0     -0.198075 -0.001323       1        1  23.384157\n",
       "21     0.109999  0.178197       2        1   9.385572\n",
       "1     -0.174746  0.068731       3        1   7.759138\n",
       "16    -0.077386  0.196044       4        1   7.678355\n",
       "9      0.055853  0.263980       5        1   7.458118\n",
       "10    -0.223813 -0.072990       6        1   5.906413\n",
       "14    -0.081298  0.108896       7        1   5.862879\n",
       "13    -0.231886 -0.094073       8        1   5.235446\n",
       "8     -0.127231 -0.035978       9        1   3.874956\n",
       "6     -0.070233 -0.019433      10        1   3.809468\n",
       "23     0.001288 -0.042243      11        1   3.029643\n",
       "20     0.113840  0.176973      12        1   2.873147\n",
       "2      0.037669  0.075067      13        1   1.944516\n",
       "19     0.016936 -0.087585      14        1   1.514659\n",
       "11     0.018267 -0.088189      15        1   1.482655\n",
       "3      0.058471 -0.034581      16        1   1.394021\n",
       "17     0.123101 -0.071080      17        1   1.237556\n",
       "24     0.156888  0.027013      18        1   1.200988\n",
       "18    -0.034620 -0.007216      19        1   0.999738\n",
       "12     0.093832  0.005730      20        1   0.885049\n",
       "15    -0.055353 -0.046506      21        1   0.709795\n",
       "5      0.094704 -0.155796      22        1   0.646503\n",
       "22     0.169817 -0.082728      23        1   0.612293\n",
       "4      0.137372 -0.156006      24        1   0.566138\n",
       "7      0.086603 -0.104907      25        1   0.548797, topic_info=       Term         Freq        Total Category  logprob  loglift\n",
       "130   would  1249.000000  1249.000000  Default  30.0000  30.0000\n",
       "284    imag   829.000000   829.000000  Default  29.0000  29.0000\n",
       "60      n't  1755.000000  1755.000000  Default  28.0000  28.0000\n",
       "214   space   836.000000   836.000000  Default  27.0000  27.0000\n",
       "6      file   505.000000   505.000000  Default  26.0000  26.0000\n",
       "..      ...          ...          ...      ...      ...      ...\n",
       "169  result     7.670681   147.063263  Topic25  -4.8487   2.2517\n",
       "102     one    10.795227  1203.802002  Topic25  -4.5070   0.4911\n",
       "516    make     7.886805   596.725769  Topic25  -4.8209   0.8789\n",
       "209  person     6.276376   308.467102  Topic25  -5.0493   1.3104\n",
       "742     lot     5.859458   254.056900  Topic25  -5.1180   1.4357\n",
       "\n",
       "[1472 rows x 6 columns], token_table=      Topic      Freq       Term\n",
       "term                            \n",
       "4374      9  0.978197      abort\n",
       "1965     15  0.841156    abraham\n",
       "399       6  0.102768    absolut\n",
       "399       9  0.842695    absolut\n",
       "399      10  0.041107    absolut\n",
       "...     ...       ...        ...\n",
       "618      19  0.009280       year\n",
       "3725     16  0.842577        yee\n",
       "790       5  0.437727       york\n",
       "790      21  0.562792       york\n",
       "3239     23  0.810489  youngster\n",
       "\n",
       "[3002 rows x 3 columns], R=30, lambda_step=0.01, plot_opts={'xlab': 'PC1', 'ylab': 'PC2'}, topic_order=[1, 22, 2, 17, 10, 11, 15, 14, 9, 7, 24, 21, 3, 20, 12, 4, 18, 25, 19, 13, 16, 6, 23, 5, 8])"
      ]
     },
     "execution_count": 31,
     "metadata": {},
     "output_type": "execute_result"
    }
   ],
   "source": [
    "pyLDAvis.gensim.prepare(model, corpus, dictionary)"
   ]
  },
  {
   "cell_type": "markdown",
   "metadata": {},
   "source": [
    "----\n",
    "\n",
    "# 03. Pandas_Topic Model\n",
    "* '\\# 01. Topic Model Korean'과 csv 데이터를 불러오는 코드만 다름\n",
    "* 해당 코드로 리뷰 수가 14967개로 더 많이 출력되기 때문에 뒷쪽의 결과들도 다르게 나옴\n",
    "\n",
    "## 다음 영화 리뷰로 text classification 진행\n",
    "\n",
    "### 1) 다음무비에서 추출한 영화 리뷰 불러오기"
   ]
  },
  {
   "cell_type": "code",
   "execution_count": 32,
   "metadata": {},
   "outputs": [
    {
     "name": "stdout",
     "output_type": "stream",
     "text": [
      "리뷰 수: 14967\n",
      "리뷰영화: {'택시운전사', '코코', '곤지암', '인피니티 워', '범죄도시', '라라랜드', '신과함께'}\n"
     ]
    }
   ],
   "source": [
    "import pandas as pd\n",
    "\n",
    "movie = pd.read_csv('movie_data_new.csv', header = None) # header를 None으로 설정해 header가 없음을 알림\n",
    "\n",
    "print('리뷰 수:', len(movie))\n",
    "print('리뷰영화:', set(movie.iloc[:,2])) #전체행에 대해 3번째 열만 인덱싱\n",
    "# pandas dataframe에 접근하기 위해서는 ix를 사용.(x) -> ix는 없어짐. 위치와 값 둘다 접근 가능한 iloc 사용."
   ]
  },
  {
   "cell_type": "code",
   "execution_count": 33,
   "metadata": {},
   "outputs": [
    {
     "data": {
      "text/html": [
       "<div>\n",
       "<style scoped>\n",
       "    .dataframe tbody tr th:only-of-type {\n",
       "        vertical-align: middle;\n",
       "    }\n",
       "\n",
       "    .dataframe tbody tr th {\n",
       "        vertical-align: top;\n",
       "    }\n",
       "\n",
       "    .dataframe thead th {\n",
       "        text-align: right;\n",
       "    }\n",
       "</style>\n",
       "<table border=\"1\" class=\"dataframe\">\n",
       "  <thead>\n",
       "    <tr style=\"text-align: right;\">\n",
       "      <th></th>\n",
       "      <th>0</th>\n",
       "      <th>1</th>\n",
       "      <th>2</th>\n",
       "    </tr>\n",
       "  </thead>\n",
       "  <tbody>\n",
       "    <tr>\n",
       "      <th>0</th>\n",
       "      <td>헐..다 죽었어....나중에 앤트맨 보다가도 깜놀...</td>\n",
       "      <td>10</td>\n",
       "      <td>인피니티 워</td>\n",
       "    </tr>\n",
       "    <tr>\n",
       "      <th>1</th>\n",
       "      <td>충격 결말</td>\n",
       "      <td>9</td>\n",
       "      <td>인피니티 워</td>\n",
       "    </tr>\n",
       "    <tr>\n",
       "      <th>2</th>\n",
       "      <td>응집력</td>\n",
       "      <td>8</td>\n",
       "      <td>인피니티 워</td>\n",
       "    </tr>\n",
       "    <tr>\n",
       "      <th>3</th>\n",
       "      <td>개연성은 무시해라 액션을 즐겨라 스타로드가 이끌어준다 각각의 영웅들을 즐겨라 그리고...</td>\n",
       "      <td>8</td>\n",
       "      <td>인피니티 워</td>\n",
       "    </tr>\n",
       "    <tr>\n",
       "      <th>4</th>\n",
       "      <td>내가졸라이상하네</td>\n",
       "      <td>4</td>\n",
       "      <td>인피니티 워</td>\n",
       "    </tr>\n",
       "    <tr>\n",
       "      <th>5</th>\n",
       "      <td>대박</td>\n",
       "      <td>10</td>\n",
       "      <td>인피니티 워</td>\n",
       "    </tr>\n",
       "    <tr>\n",
       "      <th>6</th>\n",
       "      <td>정말 지루할틈없이 넘잘만들었다 역시 대단하다</td>\n",
       "      <td>9</td>\n",
       "      <td>인피니티 워</td>\n",
       "    </tr>\n",
       "    <tr>\n",
       "      <th>7</th>\n",
       "      <td>역시 어벤져스!!</td>\n",
       "      <td>9</td>\n",
       "      <td>인피니티 워</td>\n",
       "    </tr>\n",
       "    <tr>\n",
       "      <th>8</th>\n",
       "      <td>마지막에 누구한테 연락한거지? 궁금</td>\n",
       "      <td>9</td>\n",
       "      <td>인피니티 워</td>\n",
       "    </tr>\n",
       "    <tr>\n",
       "      <th>9</th>\n",
       "      <td>다음 편이 궁굼해지네요^^</td>\n",
       "      <td>10</td>\n",
       "      <td>인피니티 워</td>\n",
       "    </tr>\n",
       "  </tbody>\n",
       "</table>\n",
       "</div>"
      ],
      "text/plain": [
       "                                                   0   1       2\n",
       "0                     헐..다 죽었어....나중에 앤트맨 보다가도 깜놀...  10  인피니티 워\n",
       "1                                              충격 결말   9  인피니티 워\n",
       "2                                                응집력   8  인피니티 워\n",
       "3  개연성은 무시해라 액션을 즐겨라 스타로드가 이끌어준다 각각의 영웅들을 즐겨라 그리고...   8  인피니티 워\n",
       "4                                           내가졸라이상하네   4  인피니티 워\n",
       "5                                                 대박  10  인피니티 워\n",
       "6                           정말 지루할틈없이 넘잘만들었다 역시 대단하다   9  인피니티 워\n",
       "7                                          역시 어벤져스!!   9  인피니티 워\n",
       "8                                마지막에 누구한테 연락한거지? 궁금   9  인피니티 워\n",
       "9                                     다음 편이 궁굼해지네요^^  10  인피니티 워"
      ]
     },
     "execution_count": 33,
     "metadata": {},
     "output_type": "execute_result"
    }
   ],
   "source": [
    "movie[:10]"
   ]
  },
  {
   "cell_type": "code",
   "execution_count": 34,
   "metadata": {},
   "outputs": [
    {
     "data": {
      "text/plain": [
       "0                       헐..다 죽었어....나중에 앤트맨 보다가도 깜놀...\n",
       "1                                                충격 결말\n",
       "2                                                  응집력\n",
       "3    개연성은 무시해라 액션을 즐겨라 스타로드가 이끌어준다 각각의 영웅들을 즐겨라 그리고...\n",
       "4                                             내가졸라이상하네\n",
       "5                                                   대박\n",
       "6                             정말 지루할틈없이 넘잘만들었다 역시 대단하다\n",
       "7                                            역시 어벤져스!!\n",
       "8                                  마지막에 누구한테 연락한거지? 궁금\n",
       "9                                       다음 편이 궁굼해지네요^^\n",
       "Name: 0, dtype: object"
      ]
     },
     "execution_count": 34,
     "metadata": {},
     "output_type": "execute_result"
    }
   ],
   "source": [
    "# 전체행에 대해 1번째 열만 인덱싱 - 리뷰들만 가져옴\n",
    "text = movie.iloc[:,0]\n",
    "text[:10]"
   ]
  },
  {
   "cell_type": "markdown",
   "metadata": {},
   "source": [
    "### 2) 한글 처리를 위해서는 konlpy가 필요"
   ]
  },
  {
   "cell_type": "code",
   "execution_count": 35,
   "metadata": {},
   "outputs": [],
   "source": [
    "from konlpy.tag import Okt #konlpy에서 Twitter 형태소 분석기를 import\n",
    "twitter_tag = Okt()\n",
    "\n",
    "from sklearn.feature_extraction.text import CountVectorizer\n",
    "\n",
    "vec = CountVectorizer(tokenizer=twitter_tag.nouns, #우선은 명사만 사용\n",
    "                      decode_error ='ignore', \n",
    "                      max_df=0.5, #너무 자주 나타나는 단어는 제외, 책에서는 0.15를 사용\n",
    "                      #min_df = 3, #3개 미만의 문서에서 나타난 단어는 제외, 여기서는 max_features를 1000으로 제한하므로 별 필요 없음\n",
    "                      max_features = 1000) #적당한 대상 단어 수를 선택\n",
    "review_cv = vec.fit_transform(text)"
   ]
  },
  {
   "cell_type": "code",
   "execution_count": 36,
   "metadata": {},
   "outputs": [
    {
     "data": {
      "text/plain": [
       "(14967, 1000)"
      ]
     },
     "execution_count": 36,
     "metadata": {},
     "output_type": "execute_result"
    }
   ],
   "source": [
    "review_cv.shape"
   ]
  },
  {
   "cell_type": "markdown",
   "metadata": {},
   "source": [
    "### 3) LDA로 Topic Modeling 수행\n",
    "\n",
    "#### 10개의 topic으로 진행"
   ]
  },
  {
   "cell_type": "code",
   "execution_count": 39,
   "metadata": {},
   "outputs": [],
   "source": [
    "from sklearn.decomposition import LatentDirichletAllocation\n",
    "\n",
    "lda = LatentDirichletAllocation(n_components = 10, #추출할 topic의 수를 지정\n",
    "                                max_iter=25, #max_iter는 최종 모형에서는 5,000~10,000번 시도한다고 알려져 있음\n",
    "                                topic_word_prior= 0.1, doc_topic_prior=1.0,\n",
    "                                #topic_word_prior: beta, doc_topic_prior: alpha\n",
    "                                #일반적으로 beta는 0.1로 고정하고 alpha를 50/topic의 수 근처의 값을 시도\n",
    "                                #alpha와 beta는 낮은 값을 사용할수록 특정 토픽들이 두드러지도록 하는 효과가 있다고 합\n",
    "                                learning_method='batch', #'batch'는 'online'에 비해 더 성능이 좋고 느림, 현재는 default\n",
    "                                n_jobs= -1, #사용 processor 수, None이면 1, -1이면 모두 사용\n",
    "                                random_state=0)\n",
    "\n",
    "review_topics = lda.fit_transform(review_cv)"
   ]
  },
  {
   "cell_type": "code",
   "execution_count": 40,
   "metadata": {},
   "outputs": [
    {
     "name": "stdout",
     "output_type": "stream",
     "text": [
      "topic-word distribution dimension: (10, 1000)\n",
      "document-topic distribution dimenstion (14967, 10)\n"
     ]
    }
   ],
   "source": [
    "print('topic-word distribution dimension:', lda.components_.shape)\n",
    "print('document-topic distribution dimenstion', review_topics.shape)"
   ]
  },
  {
   "cell_type": "markdown",
   "metadata": {},
   "source": [
    "#### topic을 보기 쉽게 출력하는 함수를 작성"
   ]
  },
  {
   "cell_type": "code",
   "execution_count": 41,
   "metadata": {},
   "outputs": [],
   "source": [
    "def print_top_words(model, feature_names, n_top_words):\n",
    "    for topic_idx, topic in enumerate(model.components_):\n",
    "        print(\"Topic #%d: \" % topic_idx, end='')\n",
    "        print(\", \".join([feature_names[i] for i in topic.argsort()[:-n_top_words - 1:-1]]))\n",
    "        #print(\", \".join([feature_names[i]+'('+str(topic[i])+')' for i in topic.argsort()[:-n_top_words - 1:-1]]))\n",
    "        # 위 slicing에서 맨 뒤 -1은 역순을 의미, 역순으로 했을 때 처음부터 n_top_words까지\n",
    "    print()"
   ]
  },
  {
   "cell_type": "code",
   "execution_count": 42,
   "metadata": {},
   "outputs": [
    {
     "name": "stdout",
     "output_type": "stream",
     "text": [
      "Topic #0: 영화, 것, 돈, 중간, 감독, 처음, 끝, 소재, 이건, 연출\n",
      "Topic #1: 스토리, 그냥, 내용, 볼, 좀, 느낌, 부분, 임, 함, 도\n",
      "Topic #2: 감동, 사람, 눈물, 원작, 왜, 가족, 저, 웹툰, 나, 생각\n",
      "Topic #3: 광주, 그, 꼭, 다시, 역사, 수, 가슴, 우리, 송강호, 한번\n",
      "Topic #4: 영화, 생각, 더, 때, 만, 한국영, 이상, 이, 우리나라, 영화로\n",
      "Topic #5: 정말, 최고, 재미, 시간, 안, 하나, 별로, 역시, 추천, 중\n",
      "Topic #6: 연기, 진짜, 배우, 마동석, 윤계상, 신파, 액션, 완전, 대박, 굿\n",
      "Topic #7: 보고, 기대, 편, 마블, 또, 노스, 다음, 개, 결말, 캐릭터\n",
      "Topic #8: 점, 정도, 이, 평점, 내, 한국, 뭐, 공포영화, 영화, 수준\n",
      "Topic #9: 마지막, 장면, 음악, 인생, 사랑, 영화, 이야기, 번, 현실, 눈\n",
      "\n"
     ]
    }
   ],
   "source": [
    "print_top_words(lda,vec.get_feature_names(), 10)"
   ]
  },
  {
   "cell_type": "markdown",
   "metadata": {},
   "source": [
    "#### 한 글자로 구성된 명사들은 의미파악이 어려우므로 삭제"
   ]
  },
  {
   "cell_type": "code",
   "execution_count": 45,
   "metadata": {},
   "outputs": [
    {
     "data": {
      "text/plain": [
       "['충격', '결말']"
      ]
     },
     "execution_count": 45,
     "metadata": {},
     "output_type": "execute_result"
    }
   ],
   "source": [
    "twitter_tag.nouns(text[1])"
   ]
  },
  {
   "cell_type": "code",
   "execution_count": 46,
   "metadata": {},
   "outputs": [],
   "source": [
    "def tokenizer(str):\n",
    "    return [token for token in twitter_tag.nouns(str) if len(token) > 1]"
   ]
  },
  {
   "cell_type": "code",
   "execution_count": 47,
   "metadata": {},
   "outputs": [
    {
     "data": {
      "text/plain": [
       "['충격', '결말']"
      ]
     },
     "execution_count": 47,
     "metadata": {},
     "output_type": "execute_result"
    }
   ],
   "source": [
    "tokenizer(text[1])"
   ]
  },
  {
   "cell_type": "code",
   "execution_count": 48,
   "metadata": {},
   "outputs": [],
   "source": [
    "#count vector 새로 생성\n",
    "vec = CountVectorizer(tokenizer=tokenizer, decode_error ='ignore', \n",
    "                      max_df=0.5, max_features = 1000) #너무 자주 나타나는 단어는 제외\n",
    "review_cv = vec.fit_transform(text)"
   ]
  },
  {
   "cell_type": "markdown",
   "metadata": {},
   "source": [
    "### 4) Topic 수 다양화\n",
    "\n",
    "#### 50개의 topic들을 대상으로 clustering을 수행해서 topic들을 잘 묶을 수 있는지 확인"
   ]
  },
  {
   "cell_type": "code",
   "execution_count": 49,
   "metadata": {},
   "outputs": [
    {
     "name": "stdout",
     "output_type": "stream",
     "text": [
      "Topic #0: 영화, 상영, 느낌, 자극, 갈수록, 스크린, 취향, 노력, 분위기, 감동\n",
      "Topic #1: 마블, 노스, 이상, 히어로, 그래픽, 얘기, 영화, 인피니티, 점도, 폭력\n",
      "Topic #2: 송강호, 위해, 국민, 대한민국, 가슴, 엔딩, 희생, 영웅, 보시, 추격\n",
      "Topic #3: 영화, 지금, 추천, 쓰레기, 누구, 더욱, 시도, 정말, 강력, 블레어\n",
      "Topic #4: 영화, 관객, 뮤지컬, 강추, 사람, 출연, 해도, 그게, 재즈, 테러\n",
      "Topic #5: 진짜, 영화, 발전, 점수, 역시, 눈물, 각색, 최고, 간만, 처럼\n",
      "Topic #6: 한국, 사실, 대사, 중국, 차라리, 상황, 시나리오, 가지, 스케일, 영화\n",
      "Topic #7: 영화, 완전, 조폭, 경찰, 다가, 눈물, 처음, 코미디, 감동, 사람\n",
      "Topic #8: 액션, 웃음, 긴장감, 영화, 영화인, 형사, 스릴, 코믹, 연기, 과거\n",
      "Topic #9: 오늘, 범죄, 도시, 완성, 연기자, 꿀잼, 배우, 반성, 박수, 연기\n",
      "Topic #10: 평점, 반전, 얼마나, 영화, 등장, 리얼, 짜증, 감동, 훌쩍, 현재\n",
      "Topic #11: 영화, 최고, 최악, 아들, 올해, 도대체, 심장, 정말, 깡패, 불구\n",
      "Topic #12: 눈물, 영화, 설정, 무슨, 저승, 신파극, 효과, 나중, 애니, 감상\n",
      "Topic #13: 대한, 영화로, 인간, 영화, 이해, 오락, 요즘, 반드시, 감동, 감탄\n",
      "Topic #14: 장면, 스토리, 전개, 집중, 약간, 영화, 내용, 한국영, 시간, 세계관\n",
      "Topic #15: 정도, 영화, 여운, 시간, 실화, 현실, 처음, 감동, 관객수, 바탕\n",
      "Topic #16: 가족, 이야기, 기억, 보기, 노래, 디즈니, 코코, 픽사, 겨울왕국, 전형\n",
      "Topic #17: 영화, 가장, 의미, 사람, 누가, 다소, 살짝, 타임, 라라, 랜드\n",
      "Topic #18: 원작, 웹툰, 수준, 이제, 김동욱, 댓글, 진심, 기술, 인정, 신파\n",
      "Topic #19: 영화, 판타지, 마블리, 요소, 코드, 언제, 실감, 유머, 시간, 설명\n",
      "Topic #20: 모든, 실제, 제대로, 우리, 개연, 세상, 거의, 영화, 인물, 나이\n",
      "Topic #21: 감동, 만화, 혼자, 기대, 영화, 그냥, 장르, 그닥, 얼굴, 연기\n",
      "Topic #22: 생각, 영화, 예고편, 펑펑, 부모님, 우리나라, 매우, 이승, 어디, 가족영화\n",
      "Topic #23: 공포영화, 공포, 개봉, 곤지암, 세계, 정신, 화보, 화가, 그것, 잘만\n",
      "Topic #24: 영화, 그냥, 전두환, 주연, 기도, 무서움, 스포, 정말, 무조건, 배우\n",
      "Topic #25: 대박, 강철, 영화, 이번, 명작, 머리, 악당, 간다, 자기, 포인트\n",
      "Topic #26: 배우, 연기력, 영화, 영화관, 시작, 아픔, 정말, 슬픔, 처음, 어제\n",
      "Topic #27: 보고, 이건, 초반, 후반, 전혀, 영화, 여기, 생각, 재미, 학년\n",
      "Topic #28: 중간, 소재, 귀신, 한국영, 영화, 공감, 나라, 캐스팅, 남편, 웃기\n",
      "Topic #29: 신파, 몰입, 지옥, 마지막, 오히려, 영화, 분노, 눈물, 잔치, 필요\n",
      "Topic #30: 나름, 느낌, 보지, 지루함, 볼거리, 친구, 영화, 역할, 이하, 최근\n",
      "Topic #31: 조금, 재미, 영화, 중반, 이후, 무엇, 번역, 개인, 상미, 호불호\n",
      "Topic #32: 연출, 계속, 기대, 편이, 기분, 역대, 감성, 영화, 마지막, 예상\n",
      "Topic #33: 하나, 결말, 영화, 시대, 남자, 구성, 여자, 존재, 어찌, 관객\n",
      "Topic #34: 광주, 역사, 택시, 우리, 시민, 가슴, 표현, 민주화, 운전사, 기자\n",
      "Topic #35: 영화, 생각, 안보, 그냥, 현실, 사람, 비교, 감동, 전반, 내용\n",
      "Topic #36: 모두, 정말, 별로, 감정, 영화, 자신, 어른, 촬영, 갑자기, 역시\n",
      "Topic #37: 마동석, 윤계상, 연기, 조연, 조선족, 몰입도, 토르, 악역, 상상, 수도\n",
      "Topic #38: 부분, 다음, 영상, 아주, 라면, 제일, 편도, 오역, 내용, 만큼\n",
      "Topic #39: 캐릭터, 마음, 다만, 스톤, 영화, 마무리, 문제, 선택, 라이언, 슬링\n",
      "Topic #40: 음악, 사랑, 주인공, 모습, 매력, 배경, 다른, 초딩, 피아노, 정말\n",
      "Topic #41: 아이, 영화, 소리, 감동, 정말, 순간, 또한, 그날, 생각, 잔인함\n",
      "Topic #42: 작품, 다시, 사람, 천만, 이영화, 절대, 영화, 제발, 충격, 그때\n",
      "Topic #43: 영화, 억지, 자체, 내용, 한번, 드라마, 화면, 동안, 그대로, 유치\n",
      "Topic #44: 어벤져스, 관람, 영화, 후회, 생각, 시리즈, 재미, 대해, 전체, 거기\n",
      "Topic #45: 내내, 감동, 때문, 알바, 엄마, 뭔가, 진실, 영화, 마음, 좀더\n",
      "Topic #46: 감독, 영화, 극장, 흥행, 노잼, 외국, 아무, 카메라, 성공, 추천\n",
      "Topic #47: 연기, 차태현, 하정우, 이유, 어머니, 주지훈, 일단, 이정재, 동생, 김향기\n",
      "Topic #48: 영화, 아쉬움, 눈물, 교훈, 다큐, 실망, 죽음, 만점, 억지로, 거리\n",
      "Topic #49: 영화, 인생, 이해, 사람, 평가, 원래, 참고, 평론가, 가면, 크게\n",
      "\n"
     ]
    }
   ],
   "source": [
    "#topic modeling 수행\n",
    "lda = LatentDirichletAllocation(n_components = 50, max_iter=25, \n",
    "                                topic_word_prior= 0.1, doc_topic_prior=1.0,\n",
    "                                learning_method='batch',\n",
    "                                n_jobs= -1,\n",
    "                                random_state=0)\n",
    "review_topics = lda.fit_transform(review_cv)\n",
    "print_top_words(lda,vec.get_feature_names(), 10)"
   ]
  },
  {
   "cell_type": "code",
   "execution_count": 50,
   "metadata": {},
   "outputs": [
    {
     "name": "stdout",
     "output_type": "stream",
     "text": [
      "topic-word distribution dimension: (50, 1000)\n",
      "Cluster label: [0 2 2 4 0 2 2 4 2 2 0 4 0 0 2 0 2 4 2 2 2 0 0 2 0 2 2 2 2 2 2 2 2 2 1 4 0\n",
      " 3 2 2 2 0 2 0 0 0 2 2 0 4]\n"
     ]
    }
   ],
   "source": [
    "from sklearn.cluster import KMeans\n",
    "\n",
    "kmeans = KMeans(n_clusters=5) #5개 클러스터로 분류\n",
    "kmeans.fit(lda.components_)\n",
    "\n",
    "print('topic-word distribution dimension:', lda.components_.shape)\n",
    "print('Cluster label:', kmeans.labels_)"
   ]
  },
  {
   "cell_type": "markdown",
   "metadata": {},
   "source": [
    "#### T-SNE를 이용하여 각 topic들 간의 관계를 시각화"
   ]
  },
  {
   "cell_type": "code",
   "execution_count": 51,
   "metadata": {},
   "outputs": [
    {
     "name": "stdout",
     "output_type": "stream",
     "text": [
      "TSNE dimension: (50, 2)\n"
     ]
    },
    {
     "data": {
      "text/plain": [
       "array([-26.228304 ,  -9.995025 ,  46.649403 ,  -1.6325508, -27.5668   ,\n",
       "        81.689156 , -35.28797  ,   2.6156175, -11.304313 ,   4.0795746,\n",
       "       -55.775806 ,  21.656673 , -19.19056  ,  23.783792 , -67.14459  ,\n",
       "       -86.62832  , -99.21543  , -13.120061 , -67.16767  ,  -2.9208426,\n",
       "         6.628545 ,  12.393151 , -27.701046 ,  56.70328  ,  -7.2939367,\n",
       "       -27.095646 ,  16.027466 , -55.12867  , -78.64096  ,  55.112484 ,\n",
       "        25.607193 ,  48.402256 ,  29.979427 , -47.492447 , -45.201675 ,\n",
       "       -18.965967 ,  28.500086 ,  89.17913  ,  73.051025 , -37.71155  ,\n",
       "        44.51035  ,  -8.994303 , -10.97403  ,   7.922424 , -11.326307 ,\n",
       "        29.982994 , -32.869816 , -64.008064 ,   9.55746  , -36.275063 ],\n",
       "      dtype=float32)"
      ]
     },
     "execution_count": 51,
     "metadata": {},
     "output_type": "execute_result"
    }
   ],
   "source": [
    "from sklearn.manifold import TSNE\n",
    "tsne = TSNE(n_components=2, random_state=42)\n",
    "tsne_review = tsne.fit_transform(lda.components_)\n",
    "print('TSNE dimension:', tsne_review.shape)\n",
    "tsne_review[:,0]"
   ]
  },
  {
   "cell_type": "code",
   "execution_count": 52,
   "metadata": {},
   "outputs": [],
   "source": [
    "%matplotlib inline\n",
    "import matplotlib.pyplot as plt\n",
    "from matplotlib import font_manager, rc\n",
    "font_name = font_manager.FontProperties(fname=\"c:/Windows/Fonts/malgun.ttf\").get_name()\n",
    "rc('font', family=font_name)\n",
    "import matplotlib as mpl\n",
    "\n",
    "# 그래프에서 마이너스 폰트 깨지는 문제에 대한 대처\n",
    "mpl.rcParams['axes.unicode_minus'] = False"
   ]
  },
  {
   "cell_type": "code",
   "execution_count": 53,
   "metadata": {},
   "outputs": [
    {
     "data": {
      "image/png": "[encoded data removed]",
      "text/plain": [
       "<Figure size 432x288 with 1 Axes>"
      ]
     },
     "metadata": {
      "needs_background": "light"
     },
     "output_type": "display_data"
    },
    {
     "data": {
      "image/png": "[encoded data removed]",
      "text/plain": [
       "<Figure size 1080x720 with 1 Axes>"
      ]
     },
     "metadata": {
      "needs_background": "light"
     },
     "output_type": "display_data"
    }
   ],
   "source": [
    "colors = {0:'blue', 1:'yellow', 2:'red', 3:'green', 4:'purple'}\n",
    "x1 = tsne_review[:,0]\n",
    "x2 = tsne_review[:,1]\n",
    "plt.scatter(x1, x2)\n",
    "\n",
    "plt.figure(figsize=(15,10))\n",
    "plt.xlim(min(x1), max(x1))\n",
    "plt.ylim(min(x2), max(x2))\n",
    "for i in range(len(x1)):\n",
    "#    plt.text(X1_lsi[i], X2_lsi[i], sample_label[i],\n",
    "#            color = colors[sample_label[i]])\n",
    "    plt.text(x1[i], x2[i], kmeans.labels_[i],\n",
    "            color = colors[kmeans.labels_[i]])\n",
    "\n",
    "#for word, pos in df.iterrows():\n",
    "#    ax.annotate(word, pos, fontsize=30)\n",
    "plt.show()\n",
    "\n",
    "#아래 결과를 보면 각 topic들이 고르게 분포하고 있어, 클러스터링이 별로 의미 없음을 알 수 있음"
   ]
  },
  {
   "cell_type": "markdown",
   "metadata": {},
   "source": [
    "\n",
    "### 5) 최적의 결과를 찾기 위한 방법\n",
    "* perplexity가 낮을수록 좋은 모형이나, 사람의 판단과 일치하지 않을 수 있음"
   ]
  },
  {
   "cell_type": "code",
   "execution_count": 54,
   "metadata": {},
   "outputs": [
    {
     "data": {
      "text/plain": [
       "579.2360029969906"
      ]
     },
     "execution_count": 54,
     "metadata": {},
     "output_type": "execute_result"
    }
   ],
   "source": [
    "# 50개의 topic으로 topic modeling 수행한 결과\n",
    "lda.perplexity(review_cv)"
   ]
  },
  {
   "cell_type": "code",
   "execution_count": 55,
   "metadata": {},
   "outputs": [
    {
     "name": "stdout",
     "output_type": "stream",
     "text": [
      "Topic #0: 영화, 아주, 자체, 감동, 노잼, 감성, 자극, 갈수록, 취향, 어른\n",
      "Topic #1: 마블, 노스, 다음, 영화, 어벤져스, 히어로, 시리즈, 토르, 스톤, 인상\n",
      "Topic #2: 광주, 택시, 송강호, 시민, 기자, 운전사, 대한민국, 희생, 아픔, 영화\n",
      "Topic #3: 영화, 음악, 쓰레기, 정말, 누구, 스토리, 뮤지컬, 여운, 마음, 연기\n",
      "Topic #4: 영화, 관객, 느낌, 사람, 스토리, 진짜, 다만, 해도, 감동, 뮤지컬\n",
      "Topic #5: 영화, 진짜, 감동, 지루함, 눈물, 연기, 최고, 점수, 캐스팅, 역시\n",
      "Topic #6: 영화, 한국, 신파, 장면, 중국, 차라리, 상황, 가지, 시나리오, 극장\n",
      "Topic #7: 영화, 중간, 완전, 대사, 조폭, 경찰, 사람, 결말, 보고, 형사\n",
      "Topic #8: 영화, 조선족, 긴장감, 정말, 연기, 눈물, 다큐, 스릴, 동생, 분노\n",
      "Topic #9: 윤계상, 연기, 배우, 영화, 오늘, 범죄, 마동석, 도시, 연기자, 꿀잼\n",
      "Topic #10: 평점, 영화, 수준, 알바, 생각, 강철, 대해, 초반, 감동, 영화관\n",
      "Topic #11: 영화, 사랑, 인생, 최악, 최고, 올해, 악역, 자신, 마동석, 윤계상\n",
      "Topic #12: 영화, 설정, 감동, 무슨, 신파극, 눈물, 순간, 지옥, 개연, 모두\n",
      "Topic #13: 영화, 소리, 정도, 연기, 이해, 감동, 인간, 안보, 출연, 기대\n",
      "Topic #14: 영화, 집중, 약간, 생각, 엄마, 스토리, 감동, 한국영, 추천, 초딩\n",
      "Topic #15: 영화, 실화, 라면, 사람, 남자, 정도, 시간, 현실, 감동, 매력\n",
      "Topic #16: 가족, 기억, 영화, 영상, 노래, 디즈니, 명작, 코코, 역대, 이야기\n",
      "Topic #17: 영화, 가장, 사람, 의미, 다소, 생각, 충격, 선택, 내용, 사랑\n",
      "Topic #18: 영화, 연기, 차태현, 원작, 웹툰, 하정우, 김동욱, 신파, 주지훈, 배우\n",
      "Topic #19: 영화, 판타지, 감동, 마블리, 혼자, 코드, 상영, 유머, 시간, 교훈\n",
      "Topic #20: 영화, 제대로, 세상, 공감, 전혀, 번역, 실제, 보고, 모든, 후회\n",
      "Topic #21: 영화, 연기, 배우, 감동, 생각, 다른, 마동석, 재미, 정말, 그닥\n",
      "Topic #22: 영화, 생각, 예고편, 펑펑, 매우, 부모님, 화가, 감동, 보고, 재미\n",
      "Topic #23: 공포영화, 공포, 캐릭터, 만화, 어머니, 세계, 곤지암, 개봉, 정신, 저승\n",
      "Topic #24: 영화, 역사, 광주, 전두환, 민주화, 진실, 시대, 우리, 기도, 운동\n",
      "\n"
     ]
    },
    {
     "data": {
      "text/plain": [
       "553.3722509176054"
      ]
     },
     "execution_count": 55,
     "metadata": {},
     "output_type": "execute_result"
    }
   ],
   "source": [
    "# 25개의 topic으로 topic modeling 수행\n",
    "lda = LatentDirichletAllocation(n_components = 25, max_iter=25, \n",
    "                                topic_word_prior= 0.1, doc_topic_prior=2.0,\n",
    "                                learning_method='batch',\n",
    "                                n_jobs= -1,\n",
    "                                random_state=0)\n",
    "review_topics = lda.fit_transform(review_cv)\n",
    "print_top_words(lda,vec.get_feature_names(), 10)\n",
    "lda.perplexity(review_cv)"
   ]
  },
  {
   "cell_type": "code",
   "execution_count": 56,
   "metadata": {},
   "outputs": [
    {
     "name": "stdout",
     "output_type": "stream",
     "text": [
      "Topic #0: 감동, 재미, 기대, 가족, 스토리, 내용, 별로, 웹툰, 추천, 억지\n",
      "Topic #1: 마블, 사랑, 스토리, 작품, 노스, 이야기, 다음, 모두, 결말, 영상\n",
      "Topic #2: 광주, 역사, 가슴, 우리, 송강호, 택시, 기억, 지금, 사실, 시민\n",
      "Topic #3: 영화, 원작, 음악, 스토리, 여운, 영화로, 마음, 뮤지컬, 상영, 쓰레기\n",
      "Topic #4: 생각, 사람, 그냥, 평점, 보고, 관객, 천만, 이영화, 알바, 지옥\n",
      "Topic #5: 진짜, 최고, 처음, 역시, 부분, 조금, 내용, 한국영, 이건, 영화\n",
      "Topic #6: 장면, 정도, 신파, 한국, 감독, 공포영화, 공포, 때문, 연출, 수준\n",
      "Topic #7: 시간, 보고, 중간, 영화, 다시, 한번, 인생, 완전, 이해, 최악\n",
      "Topic #8: 정말, 눈물, 마지막, 차태현, 대박, 아이, 하정우, 엄마, 초반, 계속\n",
      "Topic #9: 연기, 배우, 마동석, 윤계상, 액션, 연기력, 조연, 김동욱, 이제, 오늘\n",
      "\n"
     ]
    },
    {
     "data": {
      "text/plain": [
       "409.1952388313528"
      ]
     },
     "execution_count": 56,
     "metadata": {},
     "output_type": "execute_result"
    }
   ],
   "source": [
    "# 10개의 topic으로 topic modeling 수행\n",
    "lda = LatentDirichletAllocation(n_components = 10, max_iter=25, \n",
    "                                topic_word_prior= 0.1, doc_topic_prior=1.0,\n",
    "                                learning_method='batch',\n",
    "                                n_jobs= -1,\n",
    "                                random_state=0)\n",
    "review_topics = lda.fit_transform(review_cv)\n",
    "print_top_words(lda,vec.get_feature_names(), 10)\n",
    "lda.perplexity(review_cv)"
   ]
  },
  {
   "cell_type": "code",
   "execution_count": null,
   "metadata": {},
   "outputs": [],
   "source": []
  }
 ],
 "metadata": {
  "kernelspec": {
   "display_name": "Python 3",
   "language": "python",
   "name": "python3"
  },
  "language_info": {
   "codemirror_mode": {
    "name": "ipython",
    "version": 3
   },
   "file_extension": ".py",
   "mimetype": "text/x-python",
   "name": "python",
   "nbconvert_exporter": "python",
   "pygments_lexer": "ipython3",
   "version": "3.8.3"
  }
 },
 "nbformat": 4,
 "nbformat_minor": 4
}
