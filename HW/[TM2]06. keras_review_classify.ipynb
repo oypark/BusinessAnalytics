{
 "cells": [
  {
   "cell_type": "markdown",
   "metadata": {},
   "source": [
    "# keras embedding을 이용한 문서 분류\n",
    "### 영화리뷰 데이터 대상"
   ]
  },
  {
   "cell_type": "code",
   "execution_count": 1,
   "metadata": {
    "scrolled": true
   },
   "outputs": [
    {
     "name": "stdout",
     "output_type": "stream",
     "text": [
      "Reviews count: 2000\n",
      "Length of the first review: 4043\n",
      "Labels: {'neg', 'pos'}\n"
     ]
    }
   ],
   "source": [
    "from nltk.corpus import movie_reviews\n",
    "fileids = movie_reviews.fileids() #movie review data에서 file id를 가져옴\n",
    "reviews = [movie_reviews.raw(fileid) for fileid in fileids] #file id를 이용해 raw text file을 가져옴\n",
    "categories = [movie_reviews.categories(fileid)[0] for fileid in fileids] \n",
    "#file id를 이용해 label로 사용할 category 즉 positive와 negative 정보를 순서대로 가져옴\n",
    "\n",
    "print('Reviews count:', len(reviews))\n",
    "print('Length of the first review:', len(reviews[0]))\n",
    "print('Labels:', set(categories))"
   ]
  },
  {
   "cell_type": "code",
   "execution_count": 2,
   "metadata": {},
   "outputs": [
    {
     "name": "stderr",
     "output_type": "stream",
     "text": [
      "Using TensorFlow backend.\n"
     ]
    },
    {
     "name": "stdout",
     "output_type": "stream",
     "text": [
      "num of tokens: 43296\n"
     ]
    }
   ],
   "source": [
    "from keras.preprocessing.text import Tokenizer\n",
    "\n",
    "max_words = 10000\n",
    "\n",
    "tokenizer = Tokenizer(num_words=max_words)\n",
    "tokenizer.fit_on_texts(reviews)\n",
    "\n",
    "X = tokenizer.texts_to_sequences(reviews)\n",
    "# 일반적으로 0이면 unknown, 즉 전체단어의 수가 10000개 - num_words가 넘을 경우, index가 10000-1(for unknown)을 넘어가는 단어는 0으로 처리함\n",
    "#onehot_train = tokenizer.texts_to_matrix(X_train, mode='binary')\n",
    "\n",
    "print('num of tokens:', len(tokenizer.word_index))"
   ]
  },
  {
   "cell_type": "code",
   "execution_count": 3,
   "metadata": {},
   "outputs": [
    {
     "data": {
      "text/plain": [
       "(2000, 10000)"
      ]
     },
     "execution_count": 3,
     "metadata": {},
     "output_type": "execute_result"
    }
   ],
   "source": [
    "bow = tokenizer.texts_to_matrix(reviews, mode='binary')\n",
    "bow.shape"
   ]
  },
  {
   "cell_type": "code",
   "execution_count": 4,
   "metadata": {},
   "outputs": [
    {
     "name": "stdout",
     "output_type": "stream",
     "text": [
      "[  38    1  328   52   20  769   52   20   52   20    2    4  910  114\n",
      "   52   20 5277    4 1386  171    8  632    3   63    4    9    6  321\n",
      "   25 1957  143   18 2926  120  301  254    5 9489    2   15  150  143\n",
      "    3  102   16   44   35    9   91    6  256  103    1  164 2851  100\n",
      "    3  100  208   18   72  259    4 4077   42   82    2   94   45    6\n",
      "   14  247  954  353   37  613  294   14  133  801    5 3146   16    9\n",
      "  138    5  257    5 3146    9  308  313   64  369  493  226    3   75\n",
      "   36   86  171  439 2795   46   56 1747    7    1 5675   25   92    1\n",
      " 1280  204    6    8    1 4078    3   18  158 5676   19 1711   38   14\n",
      "   39   62  175 4079   63    4    9   40   21    1  268   84  212   39\n",
      "   35    4    1   82    8  197  442    5   86    2   98  251    4  261\n",
      "   16    9  137  248    1   86    1   15   35    8   43  439   18  618\n",
      "    1 1486  311   11  121   38   14    6    8   34  167  245   86  276\n",
      "    8    1  161    6   55    9   56  141   36   20  284    1  801    5\n",
      " 2016  169  145    4 2329   18  570  963 7840  426  221   28 3863   12\n",
      "   41 1430  226  457    1   26    6   50 1684 3592 1123   62   72    9\n",
      "   52   20  101 3024   33    3   62  120  118   27   36   20   75   62\n",
      "   92  437    5   83    9  100    3  100  208   96   41  665  132  316\n",
      "  114 3288 1044 2440   55   35    4    1  159  149    7    1   26  682\n",
      "    1  929  874   14   15  221   28   64  123    3    9   42  491    3\n",
      "    9  336   52 8856   69    2  271  875  948  301 6461   26    7  128\n",
      " 1102   16   18  618    1 2852 1325    8 1729    9   55    2  289  431\n",
      "   11   98 1326   68   86   43  261    1  209   20  271   61   12    1\n",
      "   63  204  187 2594   50  675    5   22  388    1 2109  164   74    8\n",
      "   17  197    7  258 1034   57    7    2  113 5278   16  106  954 5279\n",
      "  130   40    5   27 1543   33  181  457    1  339   15    3  175   32\n",
      "   34  621   33 1526  898    1   15  116 1993   85    9  116 2476   37\n",
      " 1471    9 1358    3    9  648  271 7098   12   63    4   64  400    2\n",
      "  271  690  324    3 1994    5   35    4    1    8  770  141    9  657\n",
      "    3   21    1   84   14    6   25    2  295   46  948 1649  731   37\n",
      "   50    5  177    8   84   85  371    6  682 6792    8    1  521    6\n",
      "  137 1132   11    1  440    9   71 3210  460   76  174  714    3   32\n",
      "   69 1487   19    1 7443  193  194 1045 2853    9 3980 4204  504   28\n",
      "    2 2214    4 7099 1003  640 1211  302 1446 1315  314 1211  302    1\n",
      " 2518 1853  302    1 2518 7100  749  302  341 4203  302  302 8855  302\n",
      "  302    1  485 1853  302 4341    4 3864 1022  302]\n"
     ]
    }
   ],
   "source": [
    "from keras import preprocessing\n",
    "\n",
    "maxlen = 500\n",
    "\n",
    "X = preprocessing.sequence.pad_sequences(X, maxlen=maxlen, truncating='pre')\n",
    "print(X[0])"
   ]
  },
  {
   "cell_type": "code",
   "execution_count": 5,
   "metadata": {},
   "outputs": [
    {
     "name": "stdout",
     "output_type": "stream",
     "text": [
      "[1, 1, 1, 1, 1, 1, 1, 1, 1, 1]\n"
     ]
    }
   ],
   "source": [
    "label_dict = {'pos':0, 'neg':1}\n",
    "y = [label_dict[c] for c in categories]\n",
    "print(y[:10])"
   ]
  },
  {
   "cell_type": "code",
   "execution_count": 6,
   "metadata": {},
   "outputs": [
    {
     "name": "stdout",
     "output_type": "stream",
     "text": [
      "Train set count: 1600\n",
      "Test set count: 400\n",
      "Test samples: [1, 0, 0, 1, 0, 0, 1, 1, 1, 1, 0, 0, 1, 1, 0, 1, 1, 0, 0, 0]\n"
     ]
    }
   ],
   "source": [
    "from sklearn.model_selection import train_test_split #sklearn에서 제공하는 split 함수를 사용\n",
    "X_train, X_test, y_train, y_test = train_test_split(X, y, test_size=0.2, random_state=10)\n",
    "# sklearn의 train_test_split 함수는 먼저 data set을 shuffle하고 주어진 비율에 따라 train set과 test set을 나눠 줌\n",
    "# 위에서는 reviews를 X_train과 X_test로 8:2의 비율로 나누고, categories를 y_train과 y_test로 나눔\n",
    "# 이 때 X와 y의 순서는 동일하게 유지해서 각 입력값과 label이 정확하게 match되도록 함\n",
    "# random_state는 shuffle에서의 seed 값으로, 지정한 경우 항상 동일한 결과로 shuffle이 됨\n",
    "\n",
    "print('Train set count:', len(X_train))\n",
    "print('Test set count:', len(X_test))\n",
    "print('Test samples:', y_test[:20])"
   ]
  },
  {
   "cell_type": "code",
   "execution_count": 7,
   "metadata": {},
   "outputs": [
    {
     "name": "stdout",
     "output_type": "stream",
     "text": [
      "_________________________________________________________________\n",
      "Layer (type)                 Output Shape              Param #   \n",
      "=================================================================\n",
      "embedding_1 (Embedding)      (None, 500, 32)           320000    \n",
      "_________________________________________________________________\n",
      "flatten_1 (Flatten)          (None, 16000)             0         \n",
      "_________________________________________________________________\n",
      "dense_1 (Dense)              (None, 1)                 16001     \n",
      "=================================================================\n",
      "Total params: 336,001\n",
      "Trainable params: 336,001\n",
      "Non-trainable params: 0\n",
      "_________________________________________________________________\n",
      "Train on 1280 samples, validate on 320 samples\n",
      "Epoch 1/30\n",
      "1280/1280 [==============================] - 1s 601us/step - loss: 0.6922 - acc: 0.5320 - val_loss: 0.6920 - val_acc: 0.5281\n",
      "Epoch 2/30\n",
      "1280/1280 [==============================] - 0s 168us/step - loss: 0.6398 - acc: 0.8820 - val_loss: 0.6901 - val_acc: 0.5469\n",
      "Epoch 3/30\n",
      "1280/1280 [==============================] - 0s 212us/step - loss: 0.5960 - acc: 0.9500 - val_loss: 0.6874 - val_acc: 0.5625\n",
      "Epoch 4/30\n",
      "1280/1280 [==============================] - 0s 265us/step - loss: 0.5501 - acc: 0.9688 - val_loss: 0.6839 - val_acc: 0.5625\n",
      "Epoch 5/30\n",
      "1280/1280 [==============================] - 0s 178us/step - loss: 0.5009 - acc: 0.9758 - val_loss: 0.6790 - val_acc: 0.5750\n",
      "Epoch 6/30\n",
      "1280/1280 [==============================] - 0s 181us/step - loss: 0.4484 - acc: 0.9930 - val_loss: 0.6729 - val_acc: 0.6094\n",
      "Epoch 7/30\n",
      "1280/1280 [==============================] - 0s 214us/step - loss: 0.3957 - acc: 0.9914 - val_loss: 0.6655 - val_acc: 0.6125\n",
      "Epoch 8/30\n",
      "1280/1280 [==============================] - 0s 197us/step - loss: 0.3439 - acc: 0.9914 - val_loss: 0.6572 - val_acc: 0.6281\n",
      "Epoch 9/30\n",
      "1280/1280 [==============================] - 0s 214us/step - loss: 0.2946 - acc: 0.9977 - val_loss: 0.6479 - val_acc: 0.6375\n",
      "Epoch 10/30\n",
      "1280/1280 [==============================] - 0s 199us/step - loss: 0.2497 - acc: 0.9977 - val_loss: 0.6381 - val_acc: 0.6531\n",
      "Epoch 11/30\n",
      "1280/1280 [==============================] - 0s 210us/step - loss: 0.2095 - acc: 0.9977 - val_loss: 0.6289 - val_acc: 0.6594\n",
      "Epoch 12/30\n",
      "1280/1280 [==============================] - ETA: 0s - loss: 0.1773 - acc: 0.998 - 0s 181us/step - loss: 0.1740 - acc: 0.9977 - val_loss: 0.6189 - val_acc: 0.6781\n",
      "Epoch 13/30\n",
      "1280/1280 [==============================] - 0s 179us/step - loss: 0.1438 - acc: 0.9984 - val_loss: 0.6092 - val_acc: 0.6875\n",
      "Epoch 14/30\n",
      "1280/1280 [==============================] - 0s 232us/step - loss: 0.1177 - acc: 0.9992 - val_loss: 0.6003 - val_acc: 0.6875\n",
      "Epoch 15/30\n",
      "1280/1280 [==============================] - 0s 208us/step - loss: 0.0962 - acc: 0.9992 - val_loss: 0.5903 - val_acc: 0.7031\n",
      "Epoch 16/30\n",
      "1280/1280 [==============================] - 0s 199us/step - loss: 0.0780 - acc: 1.0000 - val_loss: 0.5821 - val_acc: 0.7063\n",
      "Epoch 17/30\n",
      "1280/1280 [==============================] - 0s 215us/step - loss: 0.0633 - acc: 1.0000 - val_loss: 0.5747 - val_acc: 0.7063\n",
      "Epoch 18/30\n",
      "1280/1280 [==============================] - 0s 192us/step - loss: 0.0513 - acc: 1.0000 - val_loss: 0.5691 - val_acc: 0.7094\n",
      "Epoch 19/30\n",
      "1280/1280 [==============================] - 0s 185us/step - loss: 0.0410 - acc: 1.0000 - val_loss: 0.5616 - val_acc: 0.7312\n",
      "Epoch 20/30\n",
      "1280/1280 [==============================] - 0s 192us/step - loss: 0.0330 - acc: 1.0000 - val_loss: 0.5534 - val_acc: 0.7250\n",
      "Epoch 21/30\n",
      "1280/1280 [==============================] - 0s 179us/step - loss: 0.0263 - acc: 1.0000 - val_loss: 0.5486 - val_acc: 0.7281\n",
      "Epoch 22/30\n",
      "1280/1280 [==============================] - 0s 183us/step - loss: 0.0211 - acc: 1.0000 - val_loss: 0.5422 - val_acc: 0.7281\n",
      "Epoch 23/30\n",
      "1280/1280 [==============================] - 0s 197us/step - loss: 0.0168 - acc: 1.0000 - val_loss: 0.5365 - val_acc: 0.7438\n",
      "Epoch 24/30\n",
      "1280/1280 [==============================] - 0s 190us/step - loss: 0.0134 - acc: 1.0000 - val_loss: 0.5323 - val_acc: 0.7469\n",
      "Epoch 25/30\n",
      "1280/1280 [==============================] - 0s 196us/step - loss: 0.0106 - acc: 1.0000 - val_loss: 0.5280 - val_acc: 0.7438\n",
      "Epoch 26/30\n",
      "1280/1280 [==============================] - 0s 193us/step - loss: 0.0084 - acc: 1.0000 - val_loss: 0.5234 - val_acc: 0.7438\n",
      "Epoch 27/30\n",
      "1280/1280 [==============================] - 0s 187us/step - loss: 0.0067 - acc: 1.0000 - val_loss: 0.5208 - val_acc: 0.7438\n",
      "Epoch 28/30\n",
      "1280/1280 [==============================] - 0s 188us/step - loss: 0.0053 - acc: 1.0000 - val_loss: 0.5183 - val_acc: 0.7469\n",
      "Epoch 29/30\n",
      "1280/1280 [==============================] - 0s 180us/step - loss: 0.0042 - acc: 1.0000 - val_loss: 0.5151 - val_acc: 0.7406\n",
      "Epoch 30/30\n",
      "1280/1280 [==============================] - 0s 171us/step - loss: 0.0033 - acc: 1.0000 - val_loss: 0.5114 - val_acc: 0.7562\n"
     ]
    }
   ],
   "source": [
    "from keras.models import Sequential\n",
    "from keras.layers import Flatten, Dense, Embedding\n",
    "\n",
    "model = Sequential()\n",
    "model.add(Embedding(max_words, 32, input_length=maxlen))\n",
    "model.add(Flatten())\n",
    "model.add(Dense(1, activation='sigmoid'))\n",
    "model.compile(optimizer='rmsprop', loss='binary_crossentropy', metrics=['acc'])\n",
    "model.summary()\n",
    "\n",
    "history = model.fit(X_train, y_train, \n",
    "                    epochs=30,\n",
    "                    batch_size=256,\n",
    "                    validation_split=0.2)"
   ]
  },
  {
   "cell_type": "code",
   "execution_count": 8,
   "metadata": {},
   "outputs": [
    {
     "data": {
      "image/png": "[encoded data removed]",
      "text/plain": [
       "<Figure size 432x288 with 1 Axes>"
      ]
     },
     "metadata": {
      "needs_background": "light"
     },
     "output_type": "display_data"
    }
   ],
   "source": [
    "%matplotlib inline\n",
    "import matplotlib.pyplot as plt\n",
    "\n",
    "history_dict = history.history\n",
    "loss = history_dict['loss']\n",
    "val_loss = history_dict['val_loss']\n",
    "\n",
    "epochs = range(1, len(loss) + 1)\n",
    "\n",
    "plt.plot(epochs, loss, 'bo', label='Training loss')\n",
    "plt.plot(epochs, val_loss, 'r', label='Validation loss')\n",
    "plt.title('Training and validation loss')\n",
    "plt.xlabel('Epochs')\n",
    "plt.ylabel('Loss')\n",
    "plt.legend()\n",
    "\n",
    "plt.show()"
   ]
  },
  {
   "cell_type": "code",
   "execution_count": 9,
   "metadata": {},
   "outputs": [
    {
     "name": "stdout",
     "output_type": "stream",
     "text": [
      "400/400 [==============================] - 0s 95us/step\n",
      "[0.5425681495666503, 0.73]\n"
     ]
    }
   ],
   "source": [
    "score = model.evaluate(X_test, y_test)\n",
    "print(score)"
   ]
  },
  {
   "cell_type": "code",
   "execution_count": 10,
   "metadata": {},
   "outputs": [
    {
     "name": "stdout",
     "output_type": "stream",
     "text": [
      "_________________________________________________________________\n",
      "Layer (type)                 Output Shape              Param #   \n",
      "=================================================================\n",
      "embedding_2 (Embedding)      (None, None, 32)          320000    \n",
      "_________________________________________________________________\n",
      "lstm_1 (LSTM)                (None, 32)                8320      \n",
      "_________________________________________________________________\n",
      "dense_2 (Dense)              (None, 1)                 33        \n",
      "=================================================================\n",
      "Total params: 328,353\n",
      "Trainable params: 328,353\n",
      "Non-trainable params: 0\n",
      "_________________________________________________________________\n"
     ]
    }
   ],
   "source": [
    "from keras.layers import SimpleRNN, LSTM\n",
    "\n",
    "model = Sequential()\n",
    "model.add(Embedding(max_words, 32))\n",
    "#model.add(SimpleRNN(32))\n",
    "model.add(LSTM(32))\n",
    "model.add(Dense(1, activation='sigmoid'))\n",
    "model.summary()"
   ]
  },
  {
   "cell_type": "code",
   "execution_count": 11,
   "metadata": {},
   "outputs": [
    {
     "name": "stdout",
     "output_type": "stream",
     "text": [
      "Train on 1280 samples, validate on 320 samples\n",
      "Epoch 1/30\n",
      "1280/1280 [==============================] - 8s 6ms/step - loss: 0.6934 - acc: 0.4891 - val_loss: 0.6926 - val_acc: 0.5469\n",
      "Epoch 2/30\n",
      "1280/1280 [==============================] - 6s 4ms/step - loss: 0.6898 - acc: 0.6969 - val_loss: 0.6912 - val_acc: 0.5656\n",
      "Epoch 3/30\n",
      "1280/1280 [==============================] - 6s 4ms/step - loss: 0.6814 - acc: 0.7836 - val_loss: 0.6864 - val_acc: 0.5969\n",
      "Epoch 4/30\n",
      "1280/1280 [==============================] - 6s 5ms/step - loss: 0.6473 - acc: 0.8000 - val_loss: 0.6561 - val_acc: 0.5594\n",
      "Epoch 5/30\n",
      "1280/1280 [==============================] - 6s 5ms/step - loss: 0.6851 - acc: 0.6711 - val_loss: 0.6585 - val_acc: 0.6156\n",
      "Epoch 6/30\n",
      "1280/1280 [==============================] - 7s 5ms/step - loss: 0.5711 - acc: 0.8500 - val_loss: 0.6014 - val_acc: 0.7438\n",
      "Epoch 7/30\n",
      "1280/1280 [==============================] - 6s 5ms/step - loss: 0.4958 - acc: 0.8187 - val_loss: 0.5478 - val_acc: 0.7812\n",
      "Epoch 8/30\n",
      "1280/1280 [==============================] - 6s 5ms/step - loss: 0.4698 - acc: 0.8133 - val_loss: 0.5970 - val_acc: 0.7031\n",
      "Epoch 9/30\n",
      "1280/1280 [==============================] - 6s 5ms/step - loss: 0.3754 - acc: 0.9172 - val_loss: 0.5569 - val_acc: 0.7750\n",
      "Epoch 10/30\n",
      "1280/1280 [==============================] - 6s 5ms/step - loss: 0.3228 - acc: 0.9391 - val_loss: 0.5074 - val_acc: 0.8000\n",
      "Epoch 11/30\n",
      "1280/1280 [==============================] - 7s 5ms/step - loss: 0.2849 - acc: 0.9414 - val_loss: 0.5139 - val_acc: 0.8125\n",
      "Epoch 12/30\n",
      "1280/1280 [==============================] - 6s 5ms/step - loss: 0.2514 - acc: 0.9602 - val_loss: 0.6321 - val_acc: 0.6406\n",
      "Epoch 13/30\n",
      "1280/1280 [==============================] - 6s 5ms/step - loss: 0.2836 - acc: 0.9469 - val_loss: 0.4673 - val_acc: 0.7937\n",
      "Epoch 14/30\n",
      "1280/1280 [==============================] - 6s 5ms/step - loss: 0.2093 - acc: 0.9734 - val_loss: 0.4515 - val_acc: 0.8094\n",
      "Epoch 15/30\n",
      "1280/1280 [==============================] - 6s 5ms/step - loss: 0.1810 - acc: 0.9695 - val_loss: 0.4725 - val_acc: 0.8031\n",
      "Epoch 16/30\n",
      "1280/1280 [==============================] - 7s 5ms/step - loss: 0.1511 - acc: 0.9906 - val_loss: 0.7627 - val_acc: 0.6375\n",
      "Epoch 17/30\n",
      "1280/1280 [==============================] - 8s 6ms/step - loss: 0.2448 - acc: 0.9414 - val_loss: 0.4402 - val_acc: 0.8125\n",
      "Epoch 18/30\n",
      "1280/1280 [==============================] - 8s 6ms/step - loss: 0.1143 - acc: 0.9922 - val_loss: 0.4937 - val_acc: 0.7875\n",
      "Epoch 19/30\n",
      "1280/1280 [==============================] - 6s 5ms/step - loss: 0.1081 - acc: 0.9938 - val_loss: 0.4901 - val_acc: 0.7781\n",
      "Epoch 20/30\n",
      "1280/1280 [==============================] - 7s 5ms/step - loss: 0.0991 - acc: 0.9852 - val_loss: 0.5150 - val_acc: 0.7719\n",
      "Epoch 21/30\n",
      "1280/1280 [==============================] - 7s 5ms/step - loss: 0.0850 - acc: 0.9914 - val_loss: 0.5851 - val_acc: 0.7000\n",
      "Epoch 22/30\n",
      "1280/1280 [==============================] - 6s 5ms/step - loss: 0.1087 - acc: 0.9852 - val_loss: 0.5236 - val_acc: 0.7812\n",
      "Epoch 23/30\n",
      "1280/1280 [==============================] - 6s 5ms/step - loss: 0.1142 - acc: 0.9828 - val_loss: 0.4712 - val_acc: 0.8000\n",
      "Epoch 24/30\n",
      "1280/1280 [==============================] - 6s 5ms/step - loss: 0.0764 - acc: 0.9984 - val_loss: 0.5407 - val_acc: 0.7812\n",
      "Epoch 25/30\n",
      "1280/1280 [==============================] - 6s 5ms/step - loss: 0.0488 - acc: 0.9984 - val_loss: 0.5225 - val_acc: 0.7906\n",
      "Epoch 26/30\n",
      "1280/1280 [==============================] - 6s 5ms/step - loss: 0.0440 - acc: 0.9992 - val_loss: 0.5654 - val_acc: 0.7688\n",
      "Epoch 27/30\n",
      "1280/1280 [==============================] - 6s 5ms/step - loss: 0.0548 - acc: 0.9945 - val_loss: 0.4927 - val_acc: 0.7875\n",
      "Epoch 28/30\n",
      "1280/1280 [==============================] - 6s 5ms/step - loss: 0.0446 - acc: 0.9984 - val_loss: 0.5752 - val_acc: 0.7812\n",
      "Epoch 29/30\n",
      "1280/1280 [==============================] - 6s 5ms/step - loss: 0.0478 - acc: 0.9969 - val_loss: 0.4990 - val_acc: 0.8063\n",
      "Epoch 30/30\n",
      "1280/1280 [==============================] - 6s 5ms/step - loss: 0.0296 - acc: 0.9992 - val_loss: 0.5947 - val_acc: 0.7719\n"
     ]
    }
   ],
   "source": [
    "model.compile(optimizer='rmsprop', loss='binary_crossentropy', metrics=['acc'])\n",
    "\n",
    "history = model.fit(X_train, y_train, \n",
    "                    epochs=30,\n",
    "                    batch_size=256,\n",
    "                    validation_split=0.2)"
   ]
  },
  {
   "cell_type": "code",
   "execution_count": 12,
   "metadata": {},
   "outputs": [
    {
     "data": {
      "image/png": "[encoded data removed]",
      "text/plain": [
       "<Figure size 432x288 with 1 Axes>"
      ]
     },
     "metadata": {
      "needs_background": "light"
     },
     "output_type": "display_data"
    }
   ],
   "source": [
    "history_dict = history.history\n",
    "loss = history_dict['loss']\n",
    "val_loss = history_dict['val_loss']\n",
    "\n",
    "epochs = range(1, len(loss) + 1)\n",
    "\n",
    "plt.plot(epochs, loss, 'bo', label='Training loss')\n",
    "plt.plot(epochs, val_loss, 'r', label='Validation loss')\n",
    "plt.title('Training and validation loss')\n",
    "plt.xlabel('Epochs')\n",
    "plt.ylabel('Loss')\n",
    "plt.legend()\n",
    "\n",
    "plt.show()"
   ]
  },
  {
   "cell_type": "code",
   "execution_count": 13,
   "metadata": {},
   "outputs": [
    {
     "data": {
      "image/png": "[encoded data removed]",
      "text/plain": [
       "<Figure size 432x288 with 1 Axes>"
      ]
     },
     "metadata": {
      "needs_background": "light"
     },
     "output_type": "display_data"
    }
   ],
   "source": [
    "history_dict = history.history\n",
    "acc = history_dict['acc']\n",
    "val_acc = history_dict['val_acc']\n",
    "\n",
    "epochs = range(1, len(acc) + 1)\n",
    "\n",
    "plt.plot(epochs, acc, 'bo', label='Training acc')\n",
    "plt.plot(epochs, val_acc, 'r', label='Validation acc')\n",
    "plt.title('Training and validation acc')\n",
    "plt.xlabel('Epochs')\n",
    "plt.ylabel('Accuracy')\n",
    "plt.legend()\n",
    "\n",
    "plt.show()"
   ]
  },
  {
   "cell_type": "code",
   "execution_count": 14,
   "metadata": {},
   "outputs": [
    {
     "name": "stdout",
     "output_type": "stream",
     "text": [
      "400/400 [==============================] - 1s 2ms/step\n",
      "[0.5971889805793762, 0.78]\n"
     ]
    }
   ],
   "source": [
    "score = model.evaluate(X_test, y_test)\n",
    "print(score)"
   ]
  },
  {
   "cell_type": "markdown",
   "metadata": {},
   "source": [
    "#### 문제점: train set의 크기가 너무 작다\n",
    "해결방안: train set을 충분히 늘리거나, pre-trained embedding vector를 사용"
   ]
  },
  {
   "cell_type": "markdown",
   "metadata": {},
   "source": [
    "## pre-trained embedding을 사용\n",
    "GloVe: https://nlp.stanford.edu/projects/glove <br>\n",
    "다운 받아서 datasets 폴더 안에 압축을 풀고 그 중에서 glove.6B.100d.txt를 사용<br>\n",
    "\n",
    "파일 안의 모양: 단어 + 단어의 100차원 vector 집합으로 이루어져 있음<br>\n",
    "\n",
    "예) the -0.038194 -0.24487 0.72812 -0.39961 0.083172 0.043953 -0.39141 0.3344 -0.57545 0.087459 0.28787 -0.06731 0.30906 -0.26384 -0.13231 -0.20757 0.33395 -0.33848 -0.31743 -0.48336 0.1464 -0.37304 0.34577 0.052041 0.44946 -0.46971 0.02628 -0.54155 -0.15518 -0.14107 -0.039722 0.28277 0.14393 0.23464 -0.31021 0.086173 0.20397 0.52624 0.17164 -0.082378 -0.71787 -0.41531 0.20335 -0.12763 0.41367 0.55187 0.57908 -0.33477 -0.36559 -0.54857 -0.062892 0.26584 0.30205 0.99775 -0.80481 -3.0243 0.01254 -0.36942 2.2167 0.72201 -0.24978 0.92136 0.034514 0.46745 1.1079 -0.19358 -0.074575 0.23353 -0.052062 -0.22044 0.057162 -0.15806 -0.30798 -0.41625 0.37972 0.15006 -0.53212 -0.2055 -1.2526 0.071624 0.70565 0.49744 -0.42063 0.26148 -1.538 -0.30223 -0.073438 -0.28312 0.37104 -0.25217 0.016215 -0.017099 -0.38984 0.87424 -0.72569 -0.51058 -0.52028 -0.1459 0.8278 0.27062\n",
    "\n",
    "한 라인은 하나의 단어와 그 단어의 vector로 이루어져 있으므로, 각 라인에 대해 첫 token을 word로, 나머지 100 token을 vector로 변환하면 됨 "
   ]
  },
  {
   "cell_type": "code",
   "execution_count": 15,
   "metadata": {},
   "outputs": [
    {
     "name": "stdout",
     "output_type": "stream",
     "text": [
      "Num of word vectors: 400000\n"
     ]
    }
   ],
   "source": [
    "glove_dir = './datasets/'\n",
    "import os\n",
    "import numpy as np\n",
    "\n",
    "embeddings_index = {}\n",
    "f = open(os.path.join(glove_dir, 'glove.6B.100d.txt'), encoding='utf8')\n",
    "for line in f:\n",
    "    values = line.split()\n",
    "    word = values[0]\n",
    "    coefs = np.asarray(values[1:], dtype='float32')\n",
    "    embeddings_index[word] = coefs\n",
    "f.close()\n",
    "\n",
    "print('Num of word vectors:', len(embeddings_index))"
   ]
  },
  {
   "cell_type": "code",
   "execution_count": 16,
   "metadata": {},
   "outputs": [
    {
     "data": {
      "text/plain": [
       "43296"
      ]
     },
     "execution_count": 16,
     "metadata": {},
     "output_type": "execute_result"
    }
   ],
   "source": [
    "# 처음 데이터를 생성할 때 사용한 tokenizer에서 word_index를 추출\n",
    "# 이 word_index에 맞게 glove로부터 해당하는 word vector를 가져옴\n",
    "word_index = tokenizer.word_index\n",
    "len(word_index)"
   ]
  },
  {
   "cell_type": "code",
   "execution_count": 17,
   "metadata": {},
   "outputs": [],
   "source": [
    "#embedding matrix를 생성: word_index에서 max_words 만큼의 단어에 대해 glove의 embeddings_index를 추출하여 matrix 생성\n",
    "#추출한 matrix는 embedding 층의 weight로 고정해서 사용함\n",
    "\n",
    "embedding_dim = 100 # glove의 vector dimension\n",
    "embedding_matrix = np.zeros((max_words, embedding_dim))\n",
    "for word, i in word_index.items():\n",
    "    if i < max_words:\n",
    "        embedding_vector = embeddings_index.get(word)\n",
    "        if embedding_vector is not None:\n",
    "            embedding_matrix[i] = embedding_vector"
   ]
  },
  {
   "cell_type": "code",
   "execution_count": 45,
   "metadata": {},
   "outputs": [],
   "source": [
    "from keras.models import Sequential\n",
    "from keras.layers import Flatten, Dense, Embedding\n",
    "from keras.layers import SimpleRNN, LSTM\n",
    "\n",
    "model = Sequential()\n",
    "model.add(Embedding(max_words, embedding_dim))\n",
    "#model.add(SimpleRNN(32))\n",
    "model.add(LSTM(32))\n",
    "model.add(Dense(1, activation='sigmoid'))"
   ]
  },
  {
   "cell_type": "code",
   "execution_count": 46,
   "metadata": {},
   "outputs": [
    {
     "name": "stdout",
     "output_type": "stream",
     "text": [
      "_________________________________________________________________\n",
      "Layer (type)                 Output Shape              Param #   \n",
      "=================================================================\n",
      "embedding_10 (Embedding)     (None, None, 100)         1000000   \n",
      "_________________________________________________________________\n",
      "lstm_9 (LSTM)                (None, 32)                17024     \n",
      "_________________________________________________________________\n",
      "dense_11 (Dense)             (None, 1)                 33        \n",
      "=================================================================\n",
      "Total params: 1,017,057\n",
      "Trainable params: 17,057\n",
      "Non-trainable params: 1,000,000\n",
      "_________________________________________________________________\n"
     ]
    }
   ],
   "source": [
    "model.layers[0].set_weights([embedding_matrix])\n",
    "model.layers[0].trainable = False #값을 고정\n",
    "model.summary()"
   ]
  },
  {
   "cell_type": "code",
   "execution_count": 39,
   "metadata": {},
   "outputs": [
    {
     "name": "stdout",
     "output_type": "stream",
     "text": [
      "Train on 1280 samples, validate on 320 samples\n",
      "Epoch 1/30\n",
      "1280/1280 [==============================] - 21s 16ms/step - loss: 0.7081 - acc: 0.5094 - val_loss: 0.6762 - val_acc: 0.5969\n",
      "Epoch 2/30\n",
      "1280/1280 [==============================] - 17s 13ms/step - loss: 0.6763 - acc: 0.5867 - val_loss: 0.6706 - val_acc: 0.6031\n",
      "Epoch 3/30\n",
      "1280/1280 [==============================] - 16s 12ms/step - loss: 0.6639 - acc: 0.6141 - val_loss: 0.6627 - val_acc: 0.6094\n",
      "Epoch 4/30\n",
      "1280/1280 [==============================] - 16s 12ms/step - loss: 0.6474 - acc: 0.6328 - val_loss: 0.6516 - val_acc: 0.6125\n",
      "Epoch 5/30\n",
      "1280/1280 [==============================] - 16s 13ms/step - loss: 0.6200 - acc: 0.6617 - val_loss: 0.6263 - val_acc: 0.6250\n",
      "Epoch 6/30\n",
      "1280/1280 [==============================] - 16s 12ms/step - loss: 0.5899 - acc: 0.6953 - val_loss: 0.5867 - val_acc: 0.7031\n",
      "Epoch 7/30\n",
      "1280/1280 [==============================] - 15s 12ms/step - loss: 0.6062 - acc: 0.6703 - val_loss: 0.6382 - val_acc: 0.6344\n",
      "Epoch 8/30\n",
      "1280/1280 [==============================] - 16s 12ms/step - loss: 0.5880 - acc: 0.6984 - val_loss: 0.6191 - val_acc: 0.6656\n",
      "Epoch 9/30\n",
      "1280/1280 [==============================] - 20s 16ms/step - loss: 0.5815 - acc: 0.7078 - val_loss: 0.5991 - val_acc: 0.6937\n",
      "Epoch 10/30\n",
      "1280/1280 [==============================] - 16s 12ms/step - loss: 0.5409 - acc: 0.7398 - val_loss: 0.5631 - val_acc: 0.7250\n",
      "Epoch 11/30\n",
      "1280/1280 [==============================] - 16s 13ms/step - loss: 0.5260 - acc: 0.7406 - val_loss: 0.5686 - val_acc: 0.7156\n",
      "Epoch 12/30\n",
      "1280/1280 [==============================] - 17s 13ms/step - loss: 0.5069 - acc: 0.7578 - val_loss: 0.5743 - val_acc: 0.7156\n",
      "Epoch 13/30\n",
      "1280/1280 [==============================] - 16s 13ms/step - loss: 0.5027 - acc: 0.7586 - val_loss: 0.5427 - val_acc: 0.7531\n",
      "Epoch 14/30\n",
      "1280/1280 [==============================] - 16s 13ms/step - loss: 0.4664 - acc: 0.7992 - val_loss: 0.5718 - val_acc: 0.7125\n",
      "Epoch 15/30\n",
      "1280/1280 [==============================] - 18s 14ms/step - loss: 0.4429 - acc: 0.8078 - val_loss: 0.5592 - val_acc: 0.7469\n",
      "Epoch 16/30\n",
      "1280/1280 [==============================] - 21s 17ms/step - loss: 0.4370 - acc: 0.7977 - val_loss: 0.5124 - val_acc: 0.7625\n",
      "Epoch 17/30\n",
      "1280/1280 [==============================] - 17s 13ms/step - loss: 0.4248 - acc: 0.8133 - val_loss: 0.5461 - val_acc: 0.7312\n",
      "Epoch 18/30\n",
      "1280/1280 [==============================] - 18s 14ms/step - loss: 0.3992 - acc: 0.8242 - val_loss: 0.5093 - val_acc: 0.7750\n",
      "Epoch 19/30\n",
      "1280/1280 [==============================] - 20s 15ms/step - loss: 0.3561 - acc: 0.8516 - val_loss: 0.5055 - val_acc: 0.7594\n",
      "Epoch 20/30\n",
      "1280/1280 [==============================] - 17s 14ms/step - loss: 0.3397 - acc: 0.8516 - val_loss: 0.5190 - val_acc: 0.7688\n",
      "Epoch 21/30\n",
      "1280/1280 [==============================] - 17s 14ms/step - loss: 0.3041 - acc: 0.8734 - val_loss: 0.5068 - val_acc: 0.7750\n",
      "Epoch 22/30\n",
      "1280/1280 [==============================] - 21s 16ms/step - loss: 0.2938 - acc: 0.8820 - val_loss: 0.5297 - val_acc: 0.7438\n",
      "Epoch 23/30\n",
      "1280/1280 [==============================] - 18s 14ms/step - loss: 0.2670 - acc: 0.8969 - val_loss: 0.5718 - val_acc: 0.7594\n",
      "Epoch 24/30\n",
      "1280/1280 [==============================] - 19s 15ms/step - loss: 0.2438 - acc: 0.8984 - val_loss: 0.5376 - val_acc: 0.7469\n",
      "Epoch 25/30\n",
      "1280/1280 [==============================] - 18s 14ms/step - loss: 0.2350 - acc: 0.9016 - val_loss: 0.5329 - val_acc: 0.7750\n",
      "Epoch 26/30\n",
      "1280/1280 [==============================] - 18s 14ms/step - loss: 0.1855 - acc: 0.9242 - val_loss: 0.5661 - val_acc: 0.7656\n",
      "Epoch 27/30\n",
      "1280/1280 [==============================] - 18s 14ms/step - loss: 0.1601 - acc: 0.9422 - val_loss: 0.5903 - val_acc: 0.7844\n",
      "Epoch 28/30\n",
      "1280/1280 [==============================] - 17s 13ms/step - loss: 0.1402 - acc: 0.9516 - val_loss: 0.6143 - val_acc: 0.7750\n",
      "Epoch 29/30\n",
      "1280/1280 [==============================] - 21s 17ms/step - loss: 0.1062 - acc: 0.9664 - val_loss: 0.6841 - val_acc: 0.7719\n",
      "Epoch 30/30\n",
      "1280/1280 [==============================] - 19s 14ms/step - loss: 0.0890 - acc: 0.9680 - val_loss: 0.6332 - val_acc: 0.7688\n"
     ]
    }
   ],
   "source": [
    "from keras import optimizers\n",
    "#rmsprop = optimizers.RMSprop(lr=0.0001, rho=0.9, epsilon=None, decay=0.0) #default lr은 0.001\n",
    "#rmsprop = optimizers.RMSprop(lr=0.005) #default lr은 0.001\n",
    "adam = optimizers.Adam(lr=0.005) #default lr은 0.001\n",
    "\n",
    "# pre-train이 되어 있으므로 적은 수의 test set으로도 학습이 가능\n",
    "model.compile(optimizer=adam, loss='binary_crossentropy', metrics=['acc'])\n",
    "\n",
    "history = model.fit(X_train, y_train, \n",
    "                    epochs=30,\n",
    "                    batch_size=256,\n",
    "                    validation_split=0.2) \n",
    "#model.save_weights('pre_trained_glove_model.h5')"
   ]
  },
  {
   "cell_type": "code",
   "execution_count": 40,
   "metadata": {},
   "outputs": [
    {
     "data": {
      "image/png": "[encoded data removed]",
      "text/plain": [
       "<Figure size 432x288 with 1 Axes>"
      ]
     },
     "metadata": {
      "needs_background": "light"
     },
     "output_type": "display_data"
    }
   ],
   "source": [
    "history_dict = history.history\n",
    "acc = history_dict['acc']\n",
    "val_acc = history_dict['val_acc']\n",
    "\n",
    "epochs = range(1, len(acc) + 1)\n",
    "\n",
    "plt.plot(epochs, acc, 'bo', label='Training acc')\n",
    "plt.plot(epochs, val_acc, 'r', label='Validation acc')\n",
    "plt.title('Training and validation acc')\n",
    "plt.xlabel('Epochs')\n",
    "plt.ylabel('Accuracy')\n",
    "plt.legend()\n",
    "\n",
    "plt.show()"
   ]
  },
  {
   "cell_type": "code",
   "execution_count": 41,
   "metadata": {},
   "outputs": [
    {
     "name": "stdout",
     "output_type": "stream",
     "text": [
      "400/400 [==============================] - 1s 3ms/step\n",
      "[0.6689890551567078, 0.75]\n"
     ]
    }
   ],
   "source": [
    "score = model.evaluate(X_test, y_test)\n",
    "print(score)"
   ]
  },
  {
   "cell_type": "markdown",
   "metadata": {},
   "source": [
    "### glove를 사용하지 않으면서 좀 더 정교한 모형을 사용하여 학습\n",
    "optimizer를 정교하게 조정하고, regularizer를 추가"
   ]
  },
  {
   "cell_type": "code",
   "execution_count": 55,
   "metadata": {},
   "outputs": [
    {
     "name": "stdout",
     "output_type": "stream",
     "text": [
      "_________________________________________________________________\n",
      "Layer (type)                 Output Shape              Param #   \n",
      "=================================================================\n",
      "embedding_14 (Embedding)     (None, None, 32)          320000    \n",
      "_________________________________________________________________\n",
      "lstm_13 (LSTM)               (None, 32)                8320      \n",
      "_________________________________________________________________\n",
      "dense_15 (Dense)             (None, 1)                 33        \n",
      "=================================================================\n",
      "Total params: 328,353\n",
      "Trainable params: 328,353\n",
      "Non-trainable params: 0\n",
      "_________________________________________________________________\n"
     ]
    }
   ],
   "source": [
    "from keras.layers import SimpleRNN, LSTM\n",
    "from keras import regularizers\n",
    "\n",
    "model = Sequential()\n",
    "model.add(Embedding(max_words, 32))\n",
    "#model.add(SimpleRNN(32))\n",
    "model.add(LSTM(32))\n",
    "#model.add(Dense(32, kernel_regularizer=regularizers.l2(0.01)))\n",
    "model.add(Dense(1, activation='sigmoid', kernel_regularizer=regularizers.l2(0.1))) #0.01을 먼저 시도했음\n",
    "\n",
    "model.summary()"
   ]
  },
  {
   "cell_type": "code",
   "execution_count": null,
   "metadata": {},
   "outputs": [
    {
     "name": "stdout",
     "output_type": "stream",
     "text": [
      "Train on 1280 samples, validate on 320 samples\n",
      "Epoch 1/30\n",
      "1280/1280 [==============================] - 21s 16ms/step - loss: 0.8390 - acc: 0.5266 - val_loss: 0.8264 - val_acc: 0.5531\n",
      "Epoch 2/30\n",
      "1280/1280 [==============================] - 14s 11ms/step - loss: 0.7396 - acc: 0.6773 - val_loss: 0.7496 - val_acc: 0.6281\n",
      "Epoch 3/30\n",
      "1280/1280 [==============================] - 14s 11ms/step - loss: 0.7657 - acc: 0.7156 - val_loss: 0.6928 - val_acc: 0.6813\n",
      "Epoch 4/30\n",
      "1280/1280 [==============================] - 14s 11ms/step - loss: 0.5105 - acc: 0.8625 - val_loss: 0.6900 - val_acc: 0.6687\n",
      "Epoch 5/30\n",
      "1280/1280 [==============================] - 14s 11ms/step - loss: 0.3859 - acc: 0.9453 - val_loss: 0.8243 - val_acc: 0.6281\n",
      "Epoch 6/30\n",
      "1280/1280 [==============================] - 14s 11ms/step - loss: 0.3817 - acc: 0.9258 - val_loss: 0.6514 - val_acc: 0.7250\n",
      "Epoch 7/30\n",
      "1280/1280 [==============================] - 14s 11ms/step - loss: 0.2979 - acc: 0.9609 - val_loss: 0.6715 - val_acc: 0.7188\n",
      "Epoch 8/30\n",
      "1280/1280 [==============================] - 14s 11ms/step - loss: 0.3887 - acc: 0.8898 - val_loss: 0.7032 - val_acc: 0.6750\n",
      "Epoch 9/30\n",
      "1280/1280 [==============================] - 19s 15ms/step - loss: 0.3081 - acc: 0.9398 - val_loss: 0.7429 - val_acc: 0.6375\n",
      "Epoch 10/30\n",
      "1280/1280 [==============================] - 19s 15ms/step - loss: 0.2906 - acc: 0.9727 - val_loss: 0.7038 - val_acc: 0.6906\n",
      "Epoch 11/30\n",
      "1280/1280 [==============================] - 15s 12ms/step - loss: 0.2074 - acc: 0.9945 - val_loss: 0.7063 - val_acc: 0.7219\n",
      "Epoch 12/30\n",
      "1280/1280 [==============================] - 14s 11ms/step - loss: 0.1820 - acc: 0.9977 - val_loss: 0.7057 - val_acc: 0.7438\n",
      "Epoch 13/30\n",
      "1280/1280 [==============================] - 15s 11ms/step - loss: 0.1833 - acc: 0.9914 - val_loss: 0.7243 - val_acc: 0.7156\n",
      "Epoch 14/30\n",
      "1280/1280 [==============================] - 14s 11ms/step - loss: 0.1584 - acc: 0.9992 - val_loss: 0.8004 - val_acc: 0.6813\n",
      "Epoch 15/30\n",
      "1280/1280 [==============================] - 14s 11ms/step - loss: 0.2362 - acc: 0.9547 - val_loss: 0.7476 - val_acc: 0.6500\n",
      "Epoch 16/30\n",
      "1280/1280 [==============================] - 16s 13ms/step - loss: 0.2171 - acc: 0.9820 - val_loss: 0.7330 - val_acc: 0.7063\n",
      "Epoch 17/30\n",
      "1280/1280 [==============================] - 17s 13ms/step - loss: 0.1783 - acc: 0.9914 - val_loss: 0.7331 - val_acc: 0.7031\n",
      "Epoch 18/30\n",
      "1280/1280 [==============================] - 15s 11ms/step - loss: 0.1458 - acc: 1.0000 - val_loss: 0.7632 - val_acc: 0.7094\n",
      "Epoch 19/30\n",
      "1280/1280 [==============================] - 15s 11ms/step - loss: 0.1387 - acc: 1.0000 - val_loss: 0.8009 - val_acc: 0.6969\n",
      "Epoch 20/30\n",
      "1280/1280 [==============================] - 14s 11ms/step - loss: 0.1316 - acc: 1.0000 - val_loss: 0.7646 - val_acc: 0.7219\n",
      "Epoch 21/30\n",
      "1280/1280 [==============================] - 14s 11ms/step - loss: 0.1251 - acc: 1.0000 - val_loss: 0.7980 - val_acc: 0.7219\n",
      "Epoch 22/30\n",
      "1280/1280 [==============================] - 14s 11ms/step - loss: 0.1968 - acc: 0.9742 - val_loss: 0.7325 - val_acc: 0.7063\n",
      "Epoch 23/30\n",
      "1280/1280 [==============================] - 14s 11ms/step - loss: 0.2572 - acc: 0.9398 - val_loss: 0.8632 - val_acc: 0.6312\n",
      "Epoch 24/30\n",
      "1024/1280 [=======================>......] - ETA: 2s - loss: 0.2412 - acc: 0.9531"
     ]
    }
   ],
   "source": [
    "from keras import optimizers\n",
    "#adam = optimizers.Adam(lr=0.005) #default lr은 0.001\n",
    "rmsprop = optimizers.RMSprop(lr=0.005) #default lr은 0.001\n",
    "\n",
    "model.compile(optimizer=rmsprop, loss='binary_crossentropy', metrics=['acc']) \n",
    "#lr 조절 없고 l2=0.01일 때 test 0.775 나옴\n",
    "\n",
    "history = model.fit(X_train, y_train, \n",
    "                    epochs=30,\n",
    "                    batch_size=256,\n",
    "                    validation_split=0.2) "
   ]
  },
  {
   "cell_type": "code",
   "execution_count": 54,
   "metadata": {},
   "outputs": [
    {
     "name": "stdout",
     "output_type": "stream",
     "text": [
      "400/400 [==============================] - 1s 2ms/step\n",
      "[0.5831045365333557, 0.775]\n"
     ]
    }
   ],
   "source": [
    "score = model.evaluate(X_test, y_test)\n",
    "print(score)"
   ]
  },
  {
   "cell_type": "code",
   "execution_count": null,
   "metadata": {},
   "outputs": [],
   "source": []
  }
 ],
 "metadata": {
  "kernelspec": {
   "display_name": "Python 3",
   "language": "python",
   "name": "python3"
  },
  "language_info": {
   "codemirror_mode": {
    "name": "ipython",
    "version": 3
   },
   "file_extension": ".py",
   "mimetype": "text/x-python",
   "name": "python",
   "nbconvert_exporter": "python",
   "pygments_lexer": "ipython3",
   "version": "3.6.5"
  }
 },
 "nbformat": 4,
 "nbformat_minor": 2
}
